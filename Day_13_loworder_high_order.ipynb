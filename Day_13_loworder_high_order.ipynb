{
 "cells": [
  {
   "cell_type": "code",
   "execution_count": 1,
   "id": "8baee1fb-60d5-441e-92d9-0557dea7016d",
   "metadata": {},
   "outputs": [],
   "source": [
    "#  # 1 first class vs High order function \n",
    "\n",
    "# 1.  frist-class functions \n",
    "# A  first-class function means that functions in python are treated as first-class citizens ,meaning:\n",
    "\n",
    "\n",
    "# functions can be passed as aarguments to other funtion \n",
    "# function can returned from other functions\n",
    "# function scan be assigned to variables \n",
    "# fucntions can be stored in data structure (like lists ,dictionary ,ect..)\n"
   ]
  },
  {
   "cell_type": "code",
   "execution_count": 3,
   "id": "ca6ba620-9e21-47a2-b3a1-5829c6b27cf9",
   "metadata": {},
   "outputs": [
    {
     "name": "stdout",
     "output_type": "stream",
     "text": [
      "Hello ,Deepak!\n"
     ]
    }
   ],
   "source": [
    "# Assigning a function sto a variable \n",
    "\n",
    "def greet(name):\n",
    "    return f\"Hello ,{name}!\"\n",
    "\n",
    "var = greet    # functuons assign to a variable \n",
    "print(var(\"Deepak\"))"
   ]
  },
  {
   "cell_type": "code",
   "execution_count": 9,
   "id": "bdbc2418-fa04-4ac4-b726-e818a5f154d4",
   "metadata": {},
   "outputs": [
    {
     "name": "stdout",
     "output_type": "stream",
     "text": [
      "Hello ,Ankit!\n"
     ]
    }
   ],
   "source": [
    "# passing a function as an argumnet to another function \n",
    "\n",
    "def call_function(func,name):\n",
    "    return func(name)\n",
    "\n",
    "print(call_function(greet,\"Ankit\"))"
   ]
  },
  {
   "cell_type": "code",
   "execution_count": 14,
   "id": "b7016486-7038-4b0b-a1c3-81b10525b4b9",
   "metadata": {},
   "outputs": [
    {
     "name": "stdout",
     "output_type": "stream",
     "text": [
      "I'm the inner function !\n"
     ]
    }
   ],
   "source": [
    "# Returning a function from another function s\n",
    "\n",
    "def outer_function():\n",
    "    def inner_function():\n",
    "        return \"I'm the inner function !\"\n",
    "\n",
    "    return inner_function\n",
    "\n",
    "inner =  outer_function()  # outer_function return inner function\n",
    "print(inner())  # output : I'm the inner function !\n",
    "    "
   ]
  },
  {
   "cell_type": "code",
   "execution_count": 16,
   "id": "81baebfd-b501-45ef-a30e-9b7153714b5a",
   "metadata": {},
   "outputs": [
    {
     "name": "stdout",
     "output_type": "stream",
     "text": [
      "12\n"
     ]
    }
   ],
   "source": [
    "# Higher-order function that takes  a functions as an arguments \n",
    "\n",
    "\n",
    "def  apply_twice(func, value):\n",
    "    return func(func(value))\n",
    "\n",
    "\n",
    "def double(x):\n",
    "    return x*2\n",
    "\n",
    "print(apply_twice(double,3))"
   ]
  },
  {
   "cell_type": "code",
   "execution_count": 18,
   "id": "1053497c-ddc2-4d56-aa64-9eeb334f88bb",
   "metadata": {},
   "outputs": [
    {
     "name": "stdout",
     "output_type": "stream",
     "text": [
      "15\n"
     ]
    }
   ],
   "source": [
    "# Higher -order functions that return another function \n",
    "\n",
    "def create_multiplier(n):\n",
    "    def multiplier(x):\n",
    "        return x*n\n",
    "    return multiplier\n",
    "\n",
    "times = create_multiplier(3)\n",
    "print(times(5))"
   ]
  },
  {
   "cell_type": "code",
   "execution_count": null,
   "id": "36820e81-f8fc-4da6-a426-8501fdff495a",
   "metadata": {},
   "outputs": [],
   "source": []
  }
 ],
 "metadata": {
  "kernelspec": {
   "display_name": "Python 3 (ipykernel)",
   "language": "python",
   "name": "python3"
  },
  "language_info": {
   "codemirror_mode": {
    "name": "ipython",
    "version": 3
   },
   "file_extension": ".py",
   "mimetype": "text/x-python",
   "name": "python",
   "nbconvert_exporter": "python",
   "pygments_lexer": "ipython3",
   "version": "3.12.4"
  }
 },
 "nbformat": 4,
 "nbformat_minor": 5
}
