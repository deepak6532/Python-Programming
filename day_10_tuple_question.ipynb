{
 "cells": [
  {
   "cell_type": "markdown",
   "id": "a149bbb8-a691-41fd-978d-a98854ff98a7",
   "metadata": {},
   "source": [
    "# Tuple Question"
   ]
  },
  {
   "cell_type": "code",
   "execution_count": 5,
   "id": "6ccd499d-2ac2-4aa6-a86c-5f068e3c77ba",
   "metadata": {},
   "outputs": [
    {
     "name": "stdout",
     "output_type": "stream",
     "text": [
      "(1, 2, 3, 4)\n"
     ]
    }
   ],
   "source": [
    "# Q 1  write a python program to convert a list into a tuple \n",
    "\n",
    "def  list_to_tuple(list):\n",
    "    return tuple(list)\n",
    "\n",
    "print(list_to_tuple([1,2,3,4]))"
   ]
  },
  {
   "cell_type": "code",
   "execution_count": 6,
   "id": "1c02e750-d052-4e6e-8a81-fd64cf0d328b",
   "metadata": {},
   "outputs": [
    {
     "name": "stdout",
     "output_type": "stream",
     "text": [
      "6\n"
     ]
    }
   ],
   "source": [
    "# Q 2  write a python function to find the length of a tuple\n",
    "\n",
    "def tuple_length(tup):\n",
    "    return len(tup)\n",
    "\n",
    "print(tuple_length((1,2,3,4,5,6)))"
   ]
  },
  {
   "cell_type": "code",
   "execution_count": 7,
   "id": "b6cbe4fe-c0e7-48aa-8992-07baefc84bb4",
   "metadata": {},
   "outputs": [
    {
     "name": "stdout",
     "output_type": "stream",
     "text": [
      "(25, 5)\n"
     ]
    }
   ],
   "source": [
    "# Q 3 write a python program to find the maximum and minimum elements in a tuple\n",
    "\n",
    "def  max_min(tup):\n",
    "    return max(tup),min(tup)\n",
    "\n",
    "print(max_min((5,10,24,15,25,25)))"
   ]
  },
  {
   "cell_type": "code",
   "execution_count": 8,
   "id": "afa9f1fa-eba4-4857-b70b-1af93acdc2d4",
   "metadata": {},
   "outputs": [
    {
     "name": "stdout",
     "output_type": "stream",
     "text": [
      "(1, 2, 3, 4, 5, 6)\n"
     ]
    }
   ],
   "source": [
    "# Q 4 write a python function to concatenate two tuples\n",
    "\n",
    "def conc(tup1,tup2):\n",
    "    return tup1 +tup2\n",
    "\n",
    "print(conc((1,2,3),(4,5,6)))"
   ]
  },
  {
   "cell_type": "code",
   "execution_count": 12,
   "id": "a9f61fad-3721-4333-a4d4-5286264bade5",
   "metadata": {},
   "outputs": [
    {
     "name": "stdout",
     "output_type": "stream",
     "text": [
      "True\n"
     ]
    }
   ],
   "source": [
    "# Q 5 write a python program to check if a specific element exists in a tuple \n",
    "\n",
    "\n",
    "def element_exists(tup,element):\n",
    "    return element in tup\n",
    "\n",
    "print(element_exists((1,2,3,4,5), 4))"
   ]
  },
  {
   "cell_type": "code",
   "execution_count": null,
   "id": "889bee58-875c-4be3-abef-c9fb7ee99ba4",
   "metadata": {},
   "outputs": [
    {
     "name": "stdout",
     "output_type": "stream",
     "text": [
      "3\n"
     ]
    }
   ],
   "source": [
    "# Q 6 write a python program to  find the index of a specific element in tuple\n",
    "\n",
    "def element_index(tup,element):\n",
    "    return tup.index(element)\n",
    "\n",
    "print(element_index((10,20,30,40,50),40))"
   ]
  },
  {
   "cell_type": "code",
   "execution_count": 17,
   "id": "072663a4-7f4d-4800-aa78-b3e491cbfecd",
   "metadata": {},
   "outputs": [
    {
     "name": "stdout",
     "output_type": "stream",
     "text": [
      "DEEPAK\n"
     ]
    }
   ],
   "source": [
    "# Q 7  write a python program to convert tuple of a charcter into a string\n",
    "\n",
    "def tuple_to_string(tup):\n",
    "    return ''.join(tup)\n",
    "\n",
    "print(tuple_to_string(('D','E','E','P','A','K')))"
   ]
  },
  {
   "cell_type": "code",
   "execution_count": 3,
   "id": "ea0c0f06-71f3-446b-bd46-e227e2e1a1ac",
   "metadata": {},
   "outputs": [
    {
     "name": "stdout",
     "output_type": "stream",
     "text": [
      "(1, 2, 3, 5)\n"
     ]
    }
   ],
   "source": [
    "# Q 8 write a python program to remove an element from a tuple (by converting it ti a list,) then back to a tuple\n",
    "\n",
    "def remove_element(tup,element):\n",
    "    listn = list(tup)\n",
    "    if element in listn:\n",
    "        listn.remove(element)\n",
    "    return tuple(listn)\n",
    "\n",
    "a  = (1,2,3,4,5)\n",
    "print(remove_element(a,4))"
   ]
  },
  {
   "cell_type": "code",
   "execution_count": 2,
   "id": "e51efdbe-7067-4bb6-89cd-ea210ce371d1",
   "metadata": {},
   "outputs": [
    {
     "name": "stdout",
     "output_type": "stream",
     "text": [
      "3\n"
     ]
    }
   ],
   "source": [
    "# Q 9  write a python function to count the number of times a specific element appears in a tuple\n",
    "\n",
    "def count_occurance(tup,element):\n",
    "    return tup.count(element)\n",
    "\n",
    "print(count_occurance((1,2,3,4,2,3,2),2))"
   ]
  },
  {
   "cell_type": "code",
   "execution_count": null,
   "id": "c657a853-f17f-4686-86d6-96259ec78fa7",
   "metadata": {},
   "outputs": [
    {
     "name": "stdout",
     "output_type": "stream",
     "text": [
      "10 20 30 40\n"
     ]
    }
   ],
   "source": [
    "# Q 10  write a python program to unpack the element of a tuple into separate variables\n",
    "\n",
    "def unpack_tuple(tup):\n",
    "    a,b,c,d = tup\n",
    "    return a,b,c,d\n",
    "\n",
    "a,b,c,d = unpack_tuple((10,20,30,40))\n",
    "\n",
    "print(a,b,c,d)"
   ]
  },
  {
   "cell_type": "code",
   "execution_count": null,
   "id": "46a89932-44a4-40f3-8f59-07e61afe4d22",
   "metadata": {},
   "outputs": [],
   "source": []
  }
 ],
 "metadata": {
  "kernelspec": {
   "display_name": "Python 3 (ipykernel)",
   "language": "python",
   "name": "python3"
  },
  "language_info": {
   "codemirror_mode": {
    "name": "ipython",
    "version": 3
   },
   "file_extension": ".py",
   "mimetype": "text/x-python",
   "name": "python",
   "nbconvert_exporter": "python",
   "pygments_lexer": "ipython3",
   "version": "3.12.4"
  }
 },
 "nbformat": 4,
 "nbformat_minor": 5
}
