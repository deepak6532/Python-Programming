{
 "cells": [
  {
   "cell_type": "markdown",
   "id": "312f0800-afb5-4fc5-83ae-b2decf103e3c",
   "metadata": {},
   "source": [
    "# Learn Assignment "
   ]
  },
  {
   "cell_type": "code",
   "execution_count": null,
   "id": "8f08cf73-f80d-4f29-bd33-464638464568",
   "metadata": {},
   "outputs": [],
   "source": [
    "Q1: diffrence between python2 vs python 3\n",
    "\n",
    "Q2: operator\n",
    "\n",
    "Q3: call by value vs call by reference \n",
    "\n",
    "Q4:  what is name space and identifier in python \n",
    "\n",
    "Q5:  what is pep 8 "
   ]
  },
  {
   "cell_type": "markdown",
   "id": "de84e86a-3a84-4911-ba8d-1d157c0e9ecc",
   "metadata": {},
   "source": [
    "# datatype"
   ]
  },
  {
   "cell_type": "code",
   "execution_count": null,
   "id": "83d0b27e-8798-4997-a0a4-4fcb525d9634",
   "metadata": {},
   "outputs": [],
   "source": [
    "Q1: What is data type Explain ?\n",
    "\n",
    "Q2: what is list,tuple,dictionary and set ?\n",
    "\n",
    "Q3: diffrence between list and tuple ?\n",
    "\n",
    "Q4: diffrence between dictionary and set ?\n",
    "\n",
    "Q5: \n"
   ]
  },
  {
   "cell_type": "markdown",
   "id": "cd411d79-15ef-4623-af00-cb36ff6c136c",
   "metadata": {},
   "source": [
    "# 28/11 learn assignment"
   ]
  },
  {
   "cell_type": "code",
   "execution_count": null,
   "id": "e96309ec-3c4c-455a-82f7-284770e31e3b",
   "metadata": {},
   "outputs": [],
   "source": [
    "1: diffrence method implement \n",
    "\n",
    "2: intersection update \n",
    "\n",
    "3: issuper set \n",
    "\n",
    "4 :symatric diffrence "
   ]
  },
  {
   "cell_type": "markdown",
   "id": "0f204e17-f4ba-4a2f-b9c7-cd1d3b046ab9",
   "metadata": {},
   "source": [
    "# 3/12 learn assignment"
   ]
  },
  {
   "cell_type": "code",
   "execution_count": null,
   "id": "261c0a4b-15e2-4151-a9c6-2479a4e03ad9",
   "metadata": {},
   "outputs": [],
   "source": [
    "1: what is doc string python\n",
    "\n",
    "2: datatypes in python \n",
    "\n",
    "3: pep 8,namespace\n",
    "\n",
    "4: what is interpreted programming language \n",
    "\n",
    "5: scopes of variable (global ,local)\n",
    "\n",
    "6: function Vs lambda function \n",
    "\n",
    "7: type of argument\n",
    "\n",
    "8: diffrence between python 2 and python 3\n"
   ]
  }
 ],
 "metadata": {
  "kernelspec": {
   "display_name": "Python 3 (ipykernel)",
   "language": "python",
   "name": "python3"
  },
  "language_info": {
   "codemirror_mode": {
    "name": "ipython",
    "version": 3
   },
   "file_extension": ".py",
   "mimetype": "text/x-python",
   "name": "python",
   "nbconvert_exporter": "python",
   "pygments_lexer": "ipython3",
   "version": "3.12.4"
  }
 },
 "nbformat": 4,
 "nbformat_minor": 5
}
