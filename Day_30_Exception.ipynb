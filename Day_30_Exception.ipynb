{
 "cells": [
  {
   "cell_type": "markdown",
   "id": "3fd7c8ce-49ec-40aa-8e4d-fda39ca06f20",
   "metadata": {},
   "source": [
    "# Exception handling "
   ]
  },
  {
   "cell_type": "code",
   "execution_count": 3,
   "id": "40bd160f-3be2-4ee2-965b-b9d835a6254d",
   "metadata": {},
   "outputs": [
    {
     "name": "stdout",
     "output_type": "stream",
     "text": [
      "hello\n",
      "Error occured \n"
     ]
    }
   ],
   "source": [
    "try:\n",
    "    print(\"hello\")\n",
    "    nume233\n",
    "    print(\"hey\")\n",
    "\n",
    "except:\n",
    "    print(\"Error occured \")"
   ]
  },
  {
   "cell_type": "code",
   "execution_count": 6,
   "id": "021c29df-61df-4846-91c7-0f98f883d42b",
   "metadata": {},
   "outputs": [
    {
     "name": "stdout",
     "output_type": "stream",
     "text": [
      "hello\n",
      "Error occured  as:   name 'nume233' is not defined\n"
     ]
    }
   ],
   "source": [
    "try: \n",
    "    print(\"hello\")\n",
    "    nume233\n",
    "    print(\"hey\")\n",
    "\n",
    "except Exception as e:\n",
    "    print(\"Error occured  as:  \",e)"
   ]
  },
  {
   "cell_type": "code",
   "execution_count": 13,
   "id": "e1ad62cd-15d7-4cb9-9302-454b99d82334",
   "metadata": {},
   "outputs": [
    {
     "name": "stdout",
     "output_type": "stream",
     "text": [
      "hello\n",
      "All error are handled:  integer division or modulo by zero\n"
     ]
    }
   ],
   "source": [
    "try: \n",
    "    print(\"hello\")\n",
    "    num = \"f\"\n",
    "    10//0\n",
    "    print(\"hey\")\n",
    "\n",
    "except (NameError ,TypeError) as e:\n",
    "    print(\"Error occured  as:  \",e)\n",
    "\n",
    "except Exception as e:\n",
    "    print(\"All error are handled: \",e)\n",
    "    "
   ]
  },
  {
   "cell_type": "code",
   "execution_count": 15,
   "id": "3ce5ca39-f64e-4913-b656-76e36f3b06f7",
   "metadata": {},
   "outputs": [
    {
     "name": "stdout",
     "output_type": "stream",
     "text": [
      "hello\n",
      "ZeroDivisionError occured\n",
      "Hey\n"
     ]
    }
   ],
   "source": [
    "# nested try except\n",
    "\n",
    "try:\n",
    "    print(\"hello\")\n",
    "    try:\n",
    "        num=10\n",
    "        x = num//0\n",
    "    except:\n",
    "        print(\"ZeroDivisionError occured\")\n",
    "\n",
    "    print(\"Hey\" )\n",
    "    \n",
    "except:\n",
    "    print(\"Error occured\")"
   ]
  },
  {
   "cell_type": "code",
   "execution_count": 17,
   "id": "0e817e70-9ef3-4dc0-97d6-2a4738aa28d0",
   "metadata": {},
   "outputs": [
    {
     "name": "stdout",
     "output_type": "stream",
     "text": [
      "hello\n",
      "Error occured  as:   name 'nume233' is not defined\n",
      "done\n"
     ]
    }
   ],
   "source": [
    "try: \n",
    "    print(\"hello\")\n",
    "    nume233\n",
    "    print(\"hey\")\n",
    "\n",
    "except Exception as e:\n",
    "    print(\"Error occured  as:  \",e)\n",
    "finally:                                 # finally  block always execute if error occur or not \n",
    "    print(\"done\")"
   ]
  },
  {
   "cell_type": "code",
   "execution_count": null,
   "id": "7f7c4277-dfb6-425c-97d7-bf640284b297",
   "metadata": {},
   "outputs": [],
   "source": []
  }
 ],
 "metadata": {
  "kernelspec": {
   "display_name": "Python 3 (ipykernel)",
   "language": "python",
   "name": "python3"
  },
  "language_info": {
   "codemirror_mode": {
    "name": "ipython",
    "version": 3
   },
   "file_extension": ".py",
   "mimetype": "text/x-python",
   "name": "python",
   "nbconvert_exporter": "python",
   "pygments_lexer": "ipython3",
   "version": "3.12.4"
  }
 },
 "nbformat": 4,
 "nbformat_minor": 5
}
