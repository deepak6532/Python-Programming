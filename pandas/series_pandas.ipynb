{
 "cells": [
  {
   "cell_type": "code",
   "execution_count": 4,
   "id": "8a928b50-134f-44f5-b4d7-8e65250f69da",
   "metadata": {},
   "outputs": [
    {
     "name": "stdout",
     "output_type": "stream",
     "text": [
      "0    10\n",
      "1    20\n",
      "2    30\n",
      "3    40\n",
      "4    50\n",
      "dtype: int64\n"
     ]
    }
   ],
   "source": [
    "# A pandas series is like a column in a table. it is 1D array which holds data of any type\n",
    "# here we will create a simple pandas series \n",
    "\n",
    "import pandas as pd\n",
    "\n",
    "data = [10,20,30,40,50]\n",
    "\n",
    "new_data = pd.Series(data)\n",
    "print(new_data)\n",
    "\n",
    "\n"
   ]
  },
  {
   "cell_type": "code",
   "execution_count": 8,
   "id": "12f3262b-75f0-4156-9dc0-bf5bdc106ddc",
   "metadata": {},
   "outputs": [
    {
     "name": "stdout",
     "output_type": "stream",
     "text": [
      "0    10\n",
      "1    20\n",
      "2    30\n",
      "dtype: int64\n",
      "20\n"
     ]
    }
   ],
   "source": [
    "# labeling :- label can be use to access a  specified values\n",
    "\n",
    "data = [10,20,30]\n",
    "\n",
    "n = pd.Series(data)\n",
    "print(n)\n",
    "\n",
    "print(n[1])                     # 1 is th index value 20 "
   ]
  },
  {
   "cell_type": "code",
   "execution_count": 9,
   "id": "6eae6aa6-12a3-4d3c-9dcb-f547ad4e84c3",
   "metadata": {},
   "outputs": [
    {
     "name": "stdout",
     "output_type": "stream",
     "text": [
      "x    10\n",
      "y    20\n",
      "z    30\n",
      "dtype: int64\n"
     ]
    }
   ],
   "source": [
    "# with createa label you can create your own name labels:\n",
    "\n",
    "data = [10,20,30]\n",
    "\n",
    "n = pd.Series(data,index=[\"x\",\"y\",\"z\"])\n",
    "print(n)"
   ]
  },
  {
   "cell_type": "code",
   "execution_count": 10,
   "id": "301af208-b0e9-47a0-a74e-8097aeb66000",
   "metadata": {},
   "outputs": [
    {
     "name": "stdout",
     "output_type": "stream",
     "text": [
      "20\n"
     ]
    }
   ],
   "source": [
    "print(n[\"y\"])"
   ]
  },
  {
   "cell_type": "code",
   "execution_count": 12,
   "id": "0c78a452-232f-4935-8243-a71a600a4287",
   "metadata": {},
   "outputs": [
    {
     "name": "stdout",
     "output_type": "stream",
     "text": [
      "name      deepka\n",
      "Age           20\n",
      "Course       Bca\n",
      "dtype: object\n"
     ]
    }
   ],
   "source": [
    "# youcan alsi use a key or value object like a dictionary ,when creating a series .\n",
    "# here we will create a simple pandas series from a dictionary \n",
    "\n",
    "data = { \"name\" :\"deepka\",\"Age\":20,\"Course\":\"Bca\"}\n",
    "\n",
    "n = pd.Series(data)\n",
    "print(n)"
   ]
  },
  {
   "cell_type": "markdown",
   "id": "ab266fac-54cf-49e4-bd4a-d0dae4b07f3e",
   "metadata": {},
   "source": [
    "# DataFrame"
   ]
  },
  {
   "cell_type": "code",
   "execution_count": 14,
   "id": "48fccffc-1e49-439b-a8fd-dd6258c0f92b",
   "metadata": {},
   "outputs": [
    {
     "name": "stdout",
     "output_type": "stream",
     "text": [
      "  subject  marks\n",
      "0  python     85\n",
      "1    java     75\n",
      "2     Aws     68\n"
     ]
    }
   ],
   "source": [
    "data = { \"subject\":[\"python\",\"java\",\"Aws\"],\"marks\":[85,75,68]}\n",
    "\n",
    "n = pd.DataFrame(data)\n",
    "print(n)"
   ]
  },
  {
   "cell_type": "code",
   "execution_count": null,
   "id": "6c7105a7-5068-45fe-8f5e-6d8f1357db6d",
   "metadata": {},
   "outputs": [],
   "source": []
  }
 ],
 "metadata": {
  "kernelspec": {
   "display_name": "Python 3 (ipykernel)",
   "language": "python",
   "name": "python3"
  },
  "language_info": {
   "codemirror_mode": {
    "name": "ipython",
    "version": 3
   },
   "file_extension": ".py",
   "mimetype": "text/x-python",
   "name": "python",
   "nbconvert_exporter": "python",
   "pygments_lexer": "ipython3",
   "version": "3.12.4"
  }
 },
 "nbformat": 4,
 "nbformat_minor": 5
}
