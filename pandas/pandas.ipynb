{
 "cells": [
  {
   "cell_type": "markdown",
   "id": "7d488f7c-a028-42ad-803a-e5e2ac78434c",
   "metadata": {},
   "source": [
    "# DataFrame"
   ]
  },
  {
   "cell_type": "code",
   "execution_count": 1,
   "id": "f9d31146-d9bb-4286-9c4e-99d3a3f8fa08",
   "metadata": {},
   "outputs": [],
   "source": [
    "import pandas as pd "
   ]
  },
  {
   "cell_type": "code",
   "execution_count": 2,
   "id": "bd055df5-23fb-4a6c-abb3-e3bc57db5651",
   "metadata": {},
   "outputs": [
    {
     "name": "stdout",
     "output_type": "stream",
     "text": [
      "     Name  age  salary\n",
      "0  Deepak   20   30000\n",
      "1   Ankit   23   25000\n",
      "2   Rahul   25   24000\n"
     ]
    }
   ],
   "source": [
    "import pandas as pd \n",
    "\n",
    "data = {\n",
    "    \"Name\":[\"Deepak\",\"Ankit\",\"Rahul\"],\n",
    "    \"age\" :[20,23,25],\n",
    "    \"salary\" :[30000,25000,24000]\n",
    "}\n",
    "\n",
    "d = pd.DataFrame(data)\n",
    "\n",
    "print(d)"
   ]
  },
  {
   "cell_type": "code",
   "execution_count": 3,
   "id": "c22176d9-7471-4871-8ae0-0c2f88ab9517",
   "metadata": {},
   "outputs": [
    {
     "name": "stdout",
     "output_type": "stream",
     "text": [
      "     Name  age  salary experience\n",
      "0  Deepak   20   30000          2\n",
      "1   Ankit   23   25000          4\n",
      "2   Rahul   25   24000    fresher\n"
     ]
    }
   ],
   "source": [
    "import pandas as pd \n",
    "\n",
    "data = {\n",
    "    \"Name\":[\"Deepak\",\"Ankit\",\"Rahul\"],\n",
    "    \"age\" :[20,23,25],\n",
    "    \"salary\" :[30000,25000,24000]\n",
    "}\n",
    "\n",
    "d = pd.DataFrame(data)\n",
    "\n",
    "data.update({\"experience\" :[2,4,\"fresher\"]})\n",
    "d = pd.DataFrame(data)\n",
    "\n",
    "print(d)"
   ]
  },
  {
   "cell_type": "markdown",
   "id": "7fc146aa-300d-4c27-9b12-536be82b8617",
   "metadata": {},
   "source": [
    "<!-- install openpyxl - read excel file -->"
   ]
  },
  {
   "cell_type": "markdown",
   "id": "040cb83b-9de2-47dd-bef1-90db3fbcb18b",
   "metadata": {},
   "source": [
    "# Read Excel file:   .read_excel(\"File.xlsx\")"
   ]
  },
  {
   "cell_type": "code",
   "execution_count": 4,
   "id": "5f782ef2-2f0f-447a-b589-474f48dc6eb2",
   "metadata": {},
   "outputs": [
    {
     "name": "stdout",
     "output_type": "stream",
     "text": [
      "     ID    Name   Age Course\n",
      "0   101  Deepak    19    Bca\n",
      "1   102    Ankit   23    Bca\n",
      "2   103    Rahul   24    Bca\n",
      "3   104     Yash   21    Bca\n",
      "4   105  Elvish    22  Bcom \n",
      "5   106  Lakshay   16  Btech\n",
      "6   107    Rajat   20    Bsc\n",
      "7   108   Naveen   23  Btech\n",
      "8   109    Mohit   22     Ba\n",
      "9   110    Shyam   20    Bca\n",
      "10  105  Elvish    22  Bcom \n"
     ]
    }
   ],
   "source": [
    "data = pd.read_excel(\"student.xlsx\")            #Read excel file using .read_excel(\"File_name.extension\")\n",
    "\n",
    "print(data)"
   ]
  },
  {
   "cell_type": "markdown",
   "id": "e984f710-6272-4519-b674-53804581d22a",
   "metadata": {},
   "source": [
    "# data.info() = show all  information of the data "
   ]
  },
  {
   "cell_type": "code",
   "execution_count": 5,
   "id": "1e494415-e2ae-4405-a4d0-9e3bfeaf89b8",
   "metadata": {},
   "outputs": [
    {
     "name": "stdout",
     "output_type": "stream",
     "text": [
      "<class 'pandas.core.frame.DataFrame'>\n",
      "RangeIndex: 11 entries, 0 to 10\n",
      "Data columns (total 4 columns):\n",
      " #   Column  Non-Null Count  Dtype \n",
      "---  ------  --------------  ----- \n",
      " 0   ID      11 non-null     int64 \n",
      " 1   Name    11 non-null     object\n",
      " 2   Age     11 non-null     int64 \n",
      " 3   Course  11 non-null     object\n",
      "dtypes: int64(2), object(2)\n",
      "memory usage: 484.0+ bytes\n",
      "None\n"
     ]
    }
   ],
   "source": [
    "print(data.info())"
   ]
  },
  {
   "cell_type": "markdown",
   "id": "c48c3a9f-0edf-46b5-bc06-529f42bef0fc",
   "metadata": {},
   "source": [
    "# data.describe()"
   ]
  },
  {
   "cell_type": "code",
   "execution_count": 6,
   "id": "753f3312-c7d7-4594-81ea-65144d18b8dc",
   "metadata": {},
   "outputs": [
    {
     "data": {
      "text/html": [
       "<div>\n",
       "<style scoped>\n",
       "    .dataframe tbody tr th:only-of-type {\n",
       "        vertical-align: middle;\n",
       "    }\n",
       "\n",
       "    .dataframe tbody tr th {\n",
       "        vertical-align: top;\n",
       "    }\n",
       "\n",
       "    .dataframe thead th {\n",
       "        text-align: right;\n",
       "    }\n",
       "</style>\n",
       "<table border=\"1\" class=\"dataframe\">\n",
       "  <thead>\n",
       "    <tr style=\"text-align: right;\">\n",
       "      <th></th>\n",
       "      <th>ID</th>\n",
       "      <th>Age</th>\n",
       "    </tr>\n",
       "  </thead>\n",
       "  <tbody>\n",
       "    <tr>\n",
       "      <th>count</th>\n",
       "      <td>11.000000</td>\n",
       "      <td>11.000000</td>\n",
       "    </tr>\n",
       "    <tr>\n",
       "      <th>mean</th>\n",
       "      <td>105.454545</td>\n",
       "      <td>21.090909</td>\n",
       "    </tr>\n",
       "    <tr>\n",
       "      <th>std</th>\n",
       "      <td>2.876235</td>\n",
       "      <td>2.256304</td>\n",
       "    </tr>\n",
       "    <tr>\n",
       "      <th>min</th>\n",
       "      <td>101.000000</td>\n",
       "      <td>16.000000</td>\n",
       "    </tr>\n",
       "    <tr>\n",
       "      <th>25%</th>\n",
       "      <td>103.500000</td>\n",
       "      <td>20.000000</td>\n",
       "    </tr>\n",
       "    <tr>\n",
       "      <th>50%</th>\n",
       "      <td>105.000000</td>\n",
       "      <td>22.000000</td>\n",
       "    </tr>\n",
       "    <tr>\n",
       "      <th>75%</th>\n",
       "      <td>107.500000</td>\n",
       "      <td>22.500000</td>\n",
       "    </tr>\n",
       "    <tr>\n",
       "      <th>max</th>\n",
       "      <td>110.000000</td>\n",
       "      <td>24.000000</td>\n",
       "    </tr>\n",
       "  </tbody>\n",
       "</table>\n",
       "</div>"
      ],
      "text/plain": [
       "               ID        Age\n",
       "count   11.000000  11.000000\n",
       "mean   105.454545  21.090909\n",
       "std      2.876235   2.256304\n",
       "min    101.000000  16.000000\n",
       "25%    103.500000  20.000000\n",
       "50%    105.000000  22.000000\n",
       "75%    107.500000  22.500000\n",
       "max    110.000000  24.000000"
      ]
     },
     "execution_count": 6,
     "metadata": {},
     "output_type": "execute_result"
    }
   ],
   "source": [
    "data.describe()"
   ]
  },
  {
   "cell_type": "code",
   "execution_count": 7,
   "id": "48f61ab7-ee99-4027-9dd8-d18fed022219",
   "metadata": {},
   "outputs": [],
   "source": [
    "# if excel file is long 100 1nd 1000  row the python has show the 5 starting row1,row2,row3.........row997,ro998,row999\n",
    "\n",
    "# python ny default show 5 row of data \n",
    "\n",
    "# if you read abobe 5 row to use -- \n",
    "# data.head(10)\n",
    "# data.head(8)\n",
    "\n",
    "# if you read 990 to 1000 number of row to use :-\n",
    "\n",
    "# data.tail(10)\n",
    "\n",
    "\n"
   ]
  },
  {
   "cell_type": "code",
   "execution_count": 8,
   "id": "d2e0b6e5-cbba-4c8a-8ad4-42805f6b9c26",
   "metadata": {},
   "outputs": [
    {
     "name": "stdout",
     "output_type": "stream",
     "text": [
      "     ID    Name   Age Course\n",
      "0   101  Deepak    19    Bca\n",
      "1   102    Ankit   23    Bca\n",
      "2   103    Rahul   24    Bca\n",
      "3   104     Yash   21    Bca\n",
      "4   105  Elvish    22  Bcom \n",
      "5   106  Lakshay   16  Btech\n",
      "6   107    Rajat   20    Bsc\n",
      "7   108   Naveen   23  Btech\n",
      "8   109    Mohit   22     Ba\n",
      "9   110    Shyam   20    Bca\n",
      "10  105  Elvish    22  Bcom \n"
     ]
    }
   ],
   "source": [
    "data = pd.read_excel(\"student.xlsx\")            \n",
    "\n",
    "print(data)"
   ]
  },
  {
   "cell_type": "markdown",
   "id": "6e4492a8-765f-4522-84fe-55388b7956f4",
   "metadata": {},
   "source": [
    "# data[\"column_name\"].duplicated()    return duplicate value -True"
   ]
  },
  {
   "cell_type": "code",
   "execution_count": 9,
   "id": "d4f169f2-2843-4248-95c6-51526b7308c7",
   "metadata": {},
   "outputs": [
    {
     "name": "stdout",
     "output_type": "stream",
     "text": [
      "     ID    Name   Age Course\n",
      "0   101  Deepak    19    Bca\n",
      "1   102    Ankit   23    Bca\n",
      "2   103    Rahul   24    Bca\n",
      "3   104     Yash   21    Bca\n",
      "4   105  Elvish    22  Bcom \n",
      "5   106  Lakshay   16  Btech\n",
      "6   107    Rajat   20    Bsc\n",
      "7   108   Naveen   23  Btech\n",
      "8   109    Mohit   22     Ba\n",
      "9   110    Shyam   20    Bca\n",
      "10  105  Elvish    22  Bcom \n",
      "0     False\n",
      "1     False\n",
      "2     False\n",
      "3     False\n",
      "4     False\n",
      "5     False\n",
      "6     False\n",
      "7     False\n",
      "8     False\n",
      "9     False\n",
      "10     True\n",
      "Name: ID, dtype: bool\n"
     ]
    }
   ],
   "source": [
    "# data[\"column_name\"].duplicated()\n",
    "\n",
    "data = pd.read_excel(\"student.xlsx\")            \n",
    "\n",
    "print(data)\n",
    "print(data[\"ID\"].duplicated())\n",
    "\n",
    "\n"
   ]
  },
  {
   "cell_type": "markdown",
   "id": "e4d9b566-fa68-4c5c-8459-543b91dd7c1a",
   "metadata": {},
   "source": [
    "# data[\"column_name\"].duplicated().sum()       |||||       .sum()   return how many duplicate value"
   ]
  },
  {
   "cell_type": "code",
   "execution_count": 10,
   "id": "8868d31d-1f40-4181-bb9f-f748f31916fd",
   "metadata": {},
   "outputs": [
    {
     "name": "stdout",
     "output_type": "stream",
     "text": [
      "     ID    Name   Age Course\n",
      "0   101  Deepak    19    Bca\n",
      "1   102    Ankit   23    Bca\n",
      "2   103    Rahul   24    Bca\n",
      "3   104     Yash   21    Bca\n",
      "4   105  Elvish    22  Bcom \n",
      "5   106  Lakshay   16  Btech\n",
      "6   107    Rajat   20    Bsc\n",
      "7   108   Naveen   23  Btech\n",
      "8   109    Mohit   22     Ba\n",
      "9   110    Shyam   20    Bca\n",
      "10  105  Elvish    22  Bcom \n",
      "1\n"
     ]
    }
   ],
   "source": [
    "data = pd.read_excel(\"student.xlsx\")\n",
    "\n",
    "print(data)\n",
    "\n",
    "print(data[\"ID\"].duplicated().sum())                   "
   ]
  },
  {
   "cell_type": "markdown",
   "id": "ecfdd7bc-2306-468e-a3b9-c0d16b63c453",
   "metadata": {},
   "source": [
    "# data.drop_duplicates(\"column_name\")           \n",
    "\n",
    "remove duplacte value"
   ]
  },
  {
   "cell_type": "code",
   "execution_count": 11,
   "id": "9a72b9b7-b935-4454-9ce1-970d01b07aea",
   "metadata": {},
   "outputs": [
    {
     "name": "stdout",
     "output_type": "stream",
     "text": [
      "    ID    Name   Age Course\n",
      "0  101  Deepak    19    Bca\n",
      "1  102    Ankit   23    Bca\n",
      "2  103    Rahul   24    Bca\n",
      "3  104     Yash   21    Bca\n",
      "4  105  Elvish    22  Bcom \n",
      "5  106  Lakshay   16  Btech\n",
      "6  107    Rajat   20    Bsc\n",
      "7  108   Naveen   23  Btech\n",
      "8  109    Mohit   22     Ba\n",
      "9  110    Shyam   20    Bca\n"
     ]
    }
   ],
   "source": [
    "print(data.drop_duplicates(\"ID\"))"
   ]
  },
  {
   "cell_type": "markdown",
   "id": "38d354e6-d01b-4572-ab70-fca1b593fb4f",
   "metadata": {},
   "source": [
    "# Work emplyee data\n"
   ]
  },
  {
   "cell_type": "code",
   "execution_count": 12,
   "id": "87aabee8-e7e8-486b-98ce-3fba26f0bda0",
   "metadata": {},
   "outputs": [
    {
     "name": "stdout",
     "output_type": "stream",
     "text": [
      "    ID    Name    Age   salary\n",
      "0  101  Deepak   19.0  25000.0\n",
      "1  102    Ankit  23.0      NaN\n",
      "2  103    Rahul  24.0  15000.0\n",
      "3  104     Yash   NaN  20000.0\n",
      "4  105  Elvish   22.0  24000.0\n"
     ]
    }
   ],
   "source": [
    "data = pd.read_excel(\"employee.xlsx\")\n",
    "print(data)"
   ]
  },
  {
   "cell_type": "markdown",
   "id": "e4c6cd1c-c013-4a29-a039-bf16f170243d",
   "metadata": {},
   "source": [
    "# .isnull()   return null values(true)"
   ]
  },
  {
   "cell_type": "code",
   "execution_count": 13,
   "id": "bbdaaee6-9431-4f3d-a7a4-6ae1bea5f057",
   "metadata": {},
   "outputs": [
    {
     "name": "stdout",
     "output_type": "stream",
     "text": [
      "      ID  Name     Age  salary\n",
      "0  False  False  False   False\n",
      "1  False  False  False    True\n",
      "2  False  False  False   False\n",
      "3  False  False   True   False\n",
      "4  False  False  False   False\n"
     ]
    }
   ],
   "source": [
    "print(data.isnull())"
   ]
  },
  {
   "cell_type": "markdown",
   "id": "c4f8bcf3-991a-4e6c-a563-111a56c5d380",
   "metadata": {},
   "source": [
    "# isnull().sum()       return how many amd whatever null value"
   ]
  },
  {
   "cell_type": "code",
   "execution_count": 14,
   "id": "43450f4a-556d-4229-bb18-8a40ed51b33c",
   "metadata": {},
   "outputs": [
    {
     "name": "stdout",
     "output_type": "stream",
     "text": [
      "ID        0\n",
      "Name      0\n",
      "Age       1\n",
      "salary    1\n",
      "dtype: int64\n"
     ]
    }
   ],
   "source": [
    "print(data.isnull().sum())"
   ]
  },
  {
   "cell_type": "code",
   "execution_count": 15,
   "id": "51a264f5-c303-4b8c-9347-5c28506a474a",
   "metadata": {},
   "outputs": [
    {
     "name": "stdout",
     "output_type": "stream",
     "text": [
      "    ID    Name    Age   salary\n",
      "0  101  Deepak   19.0  25000.0\n",
      "1  102    Ankit  23.0      NaN\n",
      "2  103    Rahul  24.0  15000.0\n",
      "3  104     Yash   NaN  20000.0\n",
      "4  105  Elvish   22.0  24000.0\n"
     ]
    }
   ],
   "source": [
    "print(data)"
   ]
  },
  {
   "cell_type": "markdown",
   "id": "450d350a-8c84-4bab-8844-88139e5d3051",
   "metadata": {},
   "source": [
    "# fill null vlues\n",
    "\n",
    "data[\"column\"] = data[\"column\"].replace(numpy.nan,value)"
   ]
  },
  {
   "cell_type": "code",
   "execution_count": 16,
   "id": "1c6d8d87-6996-4f26-956b-31bde780a8ac",
   "metadata": {},
   "outputs": [],
   "source": [
    "import numpy as np\n",
    "\n",
    "# data[\"salary\"] = data[\"salary\"].replace(np.nan,17000)\n",
    "# print(data)"
   ]
  },
  {
   "cell_type": "code",
   "execution_count": 17,
   "id": "a5213980-ce78-469f-bba5-61380128d138",
   "metadata": {},
   "outputs": [
    {
     "name": "stdout",
     "output_type": "stream",
     "text": [
      "21000.0\n"
     ]
    }
   ],
   "source": [
    "# fill mean values\n",
    "\n",
    "print(data[\"salary\"].mean())"
   ]
  },
  {
   "cell_type": "code",
   "execution_count": 18,
   "id": "ab44f418-d242-456c-888d-a0b9858701fb",
   "metadata": {},
   "outputs": [
    {
     "name": "stdout",
     "output_type": "stream",
     "text": [
      "    ID    Name    Age   salary\n",
      "0  101  Deepak   19.0  25000.0\n",
      "1  102    Ankit  23.0  21000.0\n",
      "2  103    Rahul  24.0  15000.0\n",
      "3  104     Yash   NaN  20000.0\n",
      "4  105  Elvish   22.0  24000.0\n"
     ]
    }
   ],
   "source": [
    "data[\"salary\"] = data[\"salary\"].replace(np.nan,21000)\n",
    "print(data)"
   ]
  },
  {
   "cell_type": "code",
   "execution_count": 19,
   "id": "c44566f4-806e-4a1b-b71e-30a7bf258f8f",
   "metadata": {},
   "outputs": [
    {
     "name": "stdout",
     "output_type": "stream",
     "text": [
      "21000.0\n"
     ]
    }
   ],
   "source": [
    "print(data[\"salary\"].mean())"
   ]
  },
  {
   "cell_type": "code",
   "execution_count": 20,
   "id": "a0ae1ad5-1be7-47be-9cb4-1756cc50bb18",
   "metadata": {},
   "outputs": [
    {
     "name": "stdout",
     "output_type": "stream",
     "text": [
      "    ID    Name    Age   salary\n",
      "0  101  Deepak   19.0  25000.0\n",
      "1  102    Ankit  23.0  21000.0\n",
      "2  103    Rahul  24.0  15000.0\n",
      "3  104     Yash    Hi  20000.0\n",
      "4  105  Elvish   22.0  24000.0\n"
     ]
    }
   ],
   "source": [
    "print(data.fillna(\"Hi\"))"
   ]
  },
  {
   "cell_type": "markdown",
   "id": "55cb6fc8-c676-4fb9-bea8-92064be8c558",
   "metadata": {},
   "source": [
    "# column transformation "
   ]
  },
  {
   "cell_type": "code",
   "execution_count": 31,
   "id": "07acaf30-4d96-42bc-b5b5-b48ef54f4da1",
   "metadata": {},
   "outputs": [
    {
     "name": "stdout",
     "output_type": "stream",
     "text": [
      "    ID first name  last name  Age  salary\n",
      "0  101     Deepak      gupta   19   25000\n",
      "1  102       Ankit      jaat   23   20000\n",
      "2  103       Rahul      garg   24   15000\n",
      "3  104        Yash    sharma   20   20000\n",
      "4  105     Elvish      yadav   22   24000\n"
     ]
    }
   ],
   "source": [
    "data  =pd.read_excel(\"emp2.xlsx\")\n",
    "print(data)\n",
    "\n",
    "# frist \n",
    "# data[\"full name\"]  = data[\"first name\"] + \" \" + data[\"last name\"]\n",
    "# print(data)"
   ]
  },
  {
   "cell_type": "code",
   "execution_count": 36,
   "id": "5b37e98a-233b-467b-b95c-977b2729e8fa",
   "metadata": {},
   "outputs": [
    {
     "name": "stdout",
     "output_type": "stream",
     "text": [
      "    ID first name  last name  Age  salary   Bonus  Total salary\n",
      "0  101     Deepak      gupta   19   25000  5000.0       30000.0\n",
      "1  102       Ankit      jaat   23   20000  4000.0       24000.0\n",
      "2  103       Rahul      garg   24   15000  3000.0       18000.0\n",
      "3  104        Yash    sharma   20   20000  4000.0       24000.0\n",
      "4  105     Elvish      yadav   22   24000  4800.0       28800.0\n"
     ]
    }
   ],
   "source": [
    "data[\"Bonus\"] =data[\"salary\"]*0.20\n",
    "print(data)\n",
    "\n",
    "data[\"Total salary\"] = data[\"salary\"] +  data[\"salary\"]*0.20"
   ]
  },
  {
   "cell_type": "code",
   "execution_count": null,
   "id": "9b51ec7e-f9ee-4c82-a17c-766a0b988183",
   "metadata": {},
   "outputs": [],
   "source": []
  }
 ],
 "metadata": {
  "kernelspec": {
   "display_name": "Python 3 (ipykernel)",
   "language": "python",
   "name": "python3"
  },
  "language_info": {
   "codemirror_mode": {
    "name": "ipython",
    "version": 3
   },
   "file_extension": ".py",
   "mimetype": "text/x-python",
   "name": "python",
   "nbconvert_exporter": "python",
   "pygments_lexer": "ipython3",
   "version": "3.12.4"
  }
 },
 "nbformat": 4,
 "nbformat_minor": 5
}
