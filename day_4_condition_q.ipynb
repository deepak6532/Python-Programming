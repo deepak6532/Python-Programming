{
 "cells": [
  {
   "cell_type": "markdown",
   "id": "ab6e76b5-e436-486b-ab05-32fec0b2bdc8",
   "metadata": {},
   "source": [
    "# Questions"
   ]
  },
  {
   "cell_type": "code",
   "execution_count": 4,
   "id": "a4a8f0aa-5c52-41e4-9416-895ee52db2e8",
   "metadata": {},
   "outputs": [
    {
     "name": "stdin",
     "output_type": "stream",
     "text": [
      "enter your age  19\n"
     ]
    },
    {
     "name": "stdout",
     "output_type": "stream",
     "text": [
      "you are eligible for vote \n"
     ]
    }
   ],
   "source": [
    "# Q.1 Write a Python program that takes a user's age as input and determines if the person is eligible to vote\n",
    "\n",
    "age = int(input(\"enter your age \"))\n",
    "\n",
    "if(age>=18):\n",
    "    print(\"you are eligible for vote \")\n",
    "else:\n",
    "    print(\"you are not eligible for vote\" )"
   ]
  },
  {
   "cell_type": "code",
   "execution_count": 41,
   "id": "03172f81-3e1a-4810-b3e7-b16b74e5dfd8",
   "metadata": {},
   "outputs": [
    {
     "name": "stdin",
     "output_type": "stream",
     "text": [
      "Enter amount  120\n"
     ]
    },
    {
     "name": "stdout",
     "output_type": "stream",
     "text": [
      "A discount of 10% has been applied, total amount is :$ 108.0\n"
     ]
    }
   ],
   "source": [
    "# Q.2 A store offers a discount of 10% if the total purchase amount exceeds $100. \n",
    "# Write a program that asks the user for the total purchase amount and calculates the final price after applying the discount if applicable.\n",
    "\n",
    "amount = int(input(\"Enter amount \"))\n",
    "\n",
    "if(amount>=100):\n",
    "    discount = amount *0.10\n",
    "    final_amount = amount - discount\n",
    "    print(\"A discount of 10% has been applied, total amount is :$\",final_amount)\n",
    "else:\n",
    "    print(\"Total amount to pay $\",amount)"
   ]
  },
  {
   "cell_type": "code",
   "execution_count": 19,
   "id": "8662a4f2-9ff9-443b-a9c2-8eec48dd0aeb",
   "metadata": {},
   "outputs": [
    {
     "name": "stdin",
     "output_type": "stream",
     "text": [
      "enter your age  19\n",
      "how many ticket  5\n"
     ]
    },
    {
     "name": "stdout",
     "output_type": "stream",
     "text": [
      "your ticket price is $10 per ticket  $ 50\n"
     ]
    }
   ],
   "source": [
    "\n",
    "# Q.3  A cinema charges different ticket prices based on age:\n",
    "# Children (under 12): $7\n",
    "# Adults (12 to 60): $10\n",
    "# Seniors (above 60): $8\n",
    "# Write a Python program that asks for the user's age and prints the ticket price accordingly.\n",
    "\n",
    "\n",
    "age = int(input(\"enter your age \"))\n",
    "\n",
    "if(age<12):\n",
    "    ticket = int(input(\"how many ticket \"))\n",
    "    print(\"your ticket price is $7 per ticket \",\"$\",ticket*7)\n",
    "elif(age>=12 and age<=60):\n",
    "     ticket = int(input(\"how many ticket \"))\n",
    "     print(\"your ticket price is $10 per ticket \",\"$\",ticket*10)\n",
    "else:\n",
    "    ticket = int(input(\"how many ticket \"))\n",
    "    print(\"your ticket price is $8 per ticket \",\"$\",ticket*8)"
   ]
  },
  {
   "cell_type": "code",
   "execution_count": 1,
   "id": "4446513b-f170-4b72-b1f4-03282ccac8ae",
   "metadata": {},
   "outputs": [
    {
     "name": "stdin",
     "output_type": "stream",
     "text": [
      "Enter your income $ 54000\n",
      "Enter  your credit score  700\n"
     ]
    },
    {
     "name": "stdout",
     "output_type": "stream",
     "text": [
      "you are eligible for loan \n"
     ]
    }
   ],
   "source": [
    "# Q.4  Write a Python program that checks if a person is\n",
    "#  eligible for a loan based on their income and credit score. The person is eligible if their income is above $50,000 and their credit score is above 650.\n",
    "\n",
    "income = int(input(\"Enter your income $\" ))\n",
    "credit_S = int(input(\"Enter  your credit score \"))\n",
    "if(income>=50000 and credit_S>=650):\n",
    "    print(\"you are eligible for loan \")\n",
    "else:\n",
    "    print(\"you are not eligible for vote\")"
   ]
  },
  {
   "cell_type": "code",
   "execution_count": 28,
   "id": "6b289f86-c03e-4699-b67d-f1b6b8cef352",
   "metadata": {},
   "outputs": [
    {
     "name": "stdin",
     "output_type": "stream",
     "text": [
      "how many times per week to visit gym  6\n"
     ]
    },
    {
     "name": "stdout",
     "output_type": "stream",
     "text": [
      "Gold: $100/month for unlimited access\n"
     ]
    }
   ],
   "source": [
    "# Q.5  A gym offers different types of memberships:\n",
    "# Gold: $100/month for unlimited access\n",
    "# Silver: $70/month for access 5 times a week\n",
    "# Bronze: $50/month for access 3 times a week\n",
    "# Write a Python program that asks the user how many times per week they plan to visit the gym and suggests the best membership option.\n",
    "\n",
    "\n",
    "time = int(input(\"how many times per week to visit gym \"))\n",
    "\n",
    "if(time>5):\n",
    "    print(\"Gold: $100/month for unlimited access\" )\n",
    "elif(time==5):\n",
    "    print(\"Silver: $70/month for access 5 times a week \")\n",
    "else:\n",
    "    print(\" Bronze: $50/month for access 3 times a week\")"
   ]
  },
  {
   "cell_type": "code",
   "execution_count": 34,
   "id": "7ae55742-a210-4c1c-9383-e77971736c6e",
   "metadata": {},
   "outputs": [
    {
     "name": "stdin",
     "output_type": "stream",
     "text": [
      "enter your order amount  70\n",
      "Enter your location (inside or outside the city)  outside\n"
     ]
    },
    {
     "name": "stdout",
     "output_type": "stream",
     "text": [
      "Total amount to pay  75\n"
     ]
    }
   ],
   "source": [
    "# Q.6  A company offers free delivery for orders above $50 within the city, but charges $5 for deliveries outside the city.\n",
    "# Write a Python program that asks the user for the order amount and location (inside or outside the city) and calculates the total amount including any delivery charges.\n",
    "\n",
    "amount  = int(input(\"enter your order amount \"))\n",
    "location = input(\"Enter your location (inside or outside the city) \")\n",
    "\n",
    "if(amount>=50 and location=='inside'):\n",
    "    print(\"total amount you to pay \" ,amount)\n",
    "else:\n",
    "    amount = amount + 5\n",
    "    print(\"Total amount to pay \",amount)"
   ]
  },
  {
   "cell_type": "code",
   "execution_count": 6,
   "id": "a340fe21-60da-4947-bb2d-35d64fe7d3b1",
   "metadata": {},
   "outputs": [
    {
     "name": "stdin",
     "output_type": "stream",
     "text": [
      "enter hour  10\n"
     ]
    },
    {
     "name": "stdout",
     "output_type": "stream",
     "text": [
      "total parkeing fees is  $ 29\n"
     ]
    }
   ],
   "source": [
    "# Q.7 A parking lot charges $5 for the first 2 hours and $3 for every additional hour.\n",
    "# Write a program that takes the number of hours a vehicle was parked as input and calculates the total parking fee.\n",
    "\n",
    "hour = int(input(\"enter hour \"))\n",
    "if(hour>=0 and hour<=2):\n",
    "    print(\"total parking fees is \",hour*5)\n",
    "else:\n",
    "    a = hour-2\n",
    "    fees = 3*a\n",
    "    print(\"total parkeing fees is \",\"$\",5+fees)"
   ]
  },
  {
   "cell_type": "markdown",
   "id": "e9d4f4a1-cf26-47c5-b81a-6816fb88d31b",
   "metadata": {},
   "source": []
  }
 ],
 "metadata": {
  "kernelspec": {
   "display_name": "Python 3 (ipykernel)",
   "language": "python",
   "name": "python3"
  },
  "language_info": {
   "codemirror_mode": {
    "name": "ipython",
    "version": 3
   },
   "file_extension": ".py",
   "mimetype": "text/x-python",
   "name": "python",
   "nbconvert_exporter": "python",
   "pygments_lexer": "ipython3",
   "version": "3.12.4"
  }
 },
 "nbformat": 4,
 "nbformat_minor": 5
}
