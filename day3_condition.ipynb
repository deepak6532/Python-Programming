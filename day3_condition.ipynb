{
 "cells": [
  {
   "cell_type": "code",
   "execution_count": 10,
   "id": "71110f58-50d3-4b86-ad61-c00f2f85876c",
   "metadata": {},
   "outputs": [
    {
     "name": "stdout",
     "output_type": "stream",
     "text": [
      "Enter the number  -12\n"
     ]
    },
    {
     "name": "stdout",
     "output_type": "stream",
     "text": [
      "zero\n"
     ]
    }
   ],
   "source": [
    "# 1\n",
    "n = int(input(\"Enter the number \"))\n",
    "\n",
    "if(n>0):\n",
    "    print(\"Positive Number \")\n",
    "else:\n",
    "    print(\"Incorrect input\")\n",
    "    \n"
   ]
  },
  {
   "cell_type": "code",
   "execution_count": 8,
   "id": "8c05ab90-9412-4efe-953b-10cb31cced73",
   "metadata": {},
   "outputs": [
    {
     "name": "stdout",
     "output_type": "stream",
     "text": [
      "enter the number  13\n"
     ]
    },
    {
     "name": "stdout",
     "output_type": "stream",
     "text": [
      "Odd number \n"
     ]
    }
   ],
   "source": [
    "# 2\n",
    "num = int(input(\"enter the number \"))\n",
    "\n",
    "if(num%2==0):\n",
    "    print(\"even number\")\n",
    "else:\n",
    "    print(\"Odd number \")\n",
    "    "
   ]
  },
  {
   "cell_type": "code",
   "execution_count": null,
   "id": "8d5d1520-a768-4918-ab27-ff23ca96788c",
   "metadata": {},
   "outputs": [],
   "source": [
    "# 3\n",
    "n = int(input(\"Enter the number \"))\n",
    "\n",
    "if(n>0):\n",
    "    print(\"Positive Number \")\n",
    "elif(n<0):\n",
    "    print(\"Negative \")\n",
    "else:\n",
    "    print(\"zero\")\n",
    "    \n",
    "    "
   ]
  },
  {
   "cell_type": "code",
   "execution_count": 11,
   "id": "557e3236-ca2c-4f82-8960-bd4f6eb2a68c",
   "metadata": {},
   "outputs": [
    {
     "name": "stdout",
     "output_type": "stream",
     "text": [
      "Greater\n"
     ]
    }
   ],
   "source": [
    "# 4\n",
    "x = 10\n",
    "if x > 5:\n",
    "    print(\"Greater\")\n",
    "else:\n",
    "    print(\"Smaller\")\n"
   ]
  },
  {
   "cell_type": "code",
   "execution_count": 15,
   "id": "fbb7bc4b-3f87-4dba-b4e7-57168c793390",
   "metadata": {},
   "outputs": [
    {
     "name": "stdout",
     "output_type": "stream",
     "text": [
      "enter the number  12\n"
     ]
    },
    {
     "name": "stdout",
     "output_type": "stream",
     "text": [
      "number is between 10 and 20 \n"
     ]
    }
   ],
   "source": [
    "# 5\n",
    "n = int(input(\"enter the number \"))\n",
    "\n",
    "if(n>=10 and n<=20):\n",
    "    print(\"number is between 10 and 20 \")\n",
    "else:\n",
    "    print(\"enter valid input\")\n"
   ]
  },
  {
   "cell_type": "code",
   "execution_count": 19,
   "id": "201b7b84-3e9c-4f48-b002-f530e6461ab0",
   "metadata": {},
   "outputs": [
    {
     "name": "stdout",
     "output_type": "stream",
     "text": [
      "enter the number  15\n"
     ]
    },
    {
     "name": "stdout",
     "output_type": "stream",
     "text": [
      "number is divisible by 3 and 5 both \n"
     ]
    }
   ],
   "source": [
    "# 6\n",
    "\n",
    "n= int(input(\"enter the number \"))\n",
    "\n",
    "if(n%3==0 and n%5==0):\n",
    "    print(\"number is divisible by 3 and 5 both \")\n",
    "else:\n",
    "    print(\"number is not divisible \")"
   ]
  },
  {
   "cell_type": "code",
   "execution_count": 22,
   "id": "aca4dfa5-5a28-4792-8a26-6bfa5ea0262f",
   "metadata": {},
   "outputs": [
    {
     "name": "stdout",
     "output_type": "stream",
     "text": [
      "enter the number  12\n"
     ]
    },
    {
     "name": "stdout",
     "output_type": "stream",
     "text": [
      "Even number \n"
     ]
    }
   ],
   "source": [
    "#7\n",
    "n  = int(input(\"enter the number \"))\n",
    "\n",
    "if(n>=0):\n",
    "    if(n%2==0):\n",
    "        print(\"Even number \")\n",
    "    else:\n",
    "        print(\"Odd number \")\n",
    "else:\n",
    "    print(\"Enter valid input\")"
   ]
  },
  {
   "cell_type": "code",
   "execution_count": 23,
   "id": "a8f59a0f-697b-448f-8bde-7ff4f104c407",
   "metadata": {},
   "outputs": [
    {
     "name": "stdout",
     "output_type": "stream",
     "text": [
      "Smaller\n"
     ]
    }
   ],
   "source": [
    "# 8\n",
    "a = 5\n",
    "b = 10\n",
    "if a < b:\n",
    "    if b > 15:\n",
    "        print(\"Bigger\")\n",
    "    else:\n",
    "        print(\"Smaller\")\n",
    "\n"
   ]
  },
  {
   "cell_type": "code",
   "execution_count": 25,
   "id": "e3d089a9-d7d8-4b06-b01b-c092b3eda460",
   "metadata": {},
   "outputs": [
    {
     "name": "stdout",
     "output_type": "stream",
     "text": [
      "Enter the number  12\n"
     ]
    },
    {
     "name": "stdout",
     "output_type": "stream",
     "text": [
      "Positive number \n"
     ]
    }
   ],
   "source": [
    "# 9\n",
    "n= int(input(\"Enter the number \"))\n",
    "\n",
    "if(n>0):\n",
    "       print(\"Positive number \")"
   ]
  },
  {
   "cell_type": "code",
   "execution_count": 33,
   "id": "7ac7e2c8-29f4-44bf-87fb-87f2ed2781c4",
   "metadata": {},
   "outputs": [
    {
     "name": "stdout",
     "output_type": "stream",
     "text": [
      "enter number  12\n"
     ]
    },
    {
     "name": "stdout",
     "output_type": "stream",
     "text": [
      "Number\n"
     ]
    }
   ],
   "source": [
    "# 10\n",
    "n=  input(\"enter number \")\n",
    "\n",
    "if(n.isdigit()):\n",
    "    print(\"Number\")\n",
    "else:\n",
    "    print(\"Enter valid \")"
   ]
  },
  {
   "cell_type": "code",
   "execution_count": 39,
   "id": "c806c337-cbfe-4e8d-965d-16d3e16dbe7e",
   "metadata": {},
   "outputs": [
    {
     "name": "stdout",
     "output_type": "stream",
     "text": [
      "Enter the character  d12\n"
     ]
    },
    {
     "name": "stdout",
     "output_type": "stream",
     "text": [
      "number\n"
     ]
    }
   ],
   "source": [
    "# 11\n",
    "c = input(\"Enter the character \" )\n",
    "\n",
    "if(c.isalpha()):\n",
    "    print(\"Alphabet\")\n",
    "else:\n",
    "    print(\"number\")\n",
    "    "
   ]
  },
  {
   "cell_type": "code",
   "execution_count": null,
   "id": "19e5c34e-d1f7-4388-b79c-6576125eba00",
   "metadata": {},
   "outputs": [],
   "source": []
  }
 ],
 "metadata": {
  "kernelspec": {
   "display_name": "Python 3 (ipykernel)",
   "language": "python",
   "name": "python3"
  },
  "language_info": {
   "codemirror_mode": {
    "name": "ipython",
    "version": 3
   },
   "file_extension": ".py",
   "mimetype": "text/x-python",
   "name": "python",
   "nbconvert_exporter": "python",
   "pygments_lexer": "ipython3",
   "version": "3.12.4"
  }
 },
 "nbformat": 4,
 "nbformat_minor": 5
}
