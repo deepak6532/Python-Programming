{
 "cells": [
  {
   "cell_type": "markdown",
   "id": "26cb2aff-1fe3-46cc-9a1b-a710e742fbe1",
   "metadata": {},
   "source": [
    "# Example 1: Bank Account"
   ]
  },
  {
   "cell_type": "code",
   "execution_count": 4,
   "id": "751c61a9-5fc0-41bb-bad6-f73039de529d",
   "metadata": {},
   "outputs": [
    {
     "name": "stdout",
     "output_type": "stream",
     "text": [
      "Deepak\n",
      "5000\n",
      "Deposit successful ! new balance:6000\n",
      "withdraw successful ! new balance :4000\n"
     ]
    }
   ],
   "source": [
    "class BankAccount:\n",
    "\n",
    "    def __init__(self,account_holder,balance):\n",
    "        self.__account_holder = account_holder\n",
    "        self.__balance = balance\n",
    "\n",
    "    def get_account_holder(self):\n",
    "        return self.__account_holder\n",
    "\n",
    "    def get_balance(self):\n",
    "        return self.__balance\n",
    "\n",
    "    def deposit(self,amount):\n",
    "        if amount > 0:\n",
    "            self.__balance += amount\n",
    "            return f\"Deposit successful ! new balance:{self.__balance}\"\n",
    "        else:\n",
    "            return \"Invalid deposit amount!\"\n",
    "    def withdraw(self,amount):\n",
    "        if amount <= self.__balance:\n",
    "            self.__balance -= amount\n",
    "            return f\"withdraw successful ! new balance :{self.__balance}\"\n",
    "        else:\n",
    "            return \"Insufficient funds!\"\n",
    "\n",
    "account = BankAccount(\"Deepak\",5000)\n",
    "\n",
    "print(account.get_account_holder())\n",
    "\n",
    "print(account.get_balance())\n",
    "\n",
    "print(account.deposit(1000))\n",
    "\n",
    "print(account.withdraw(2000))"
   ]
  },
  {
   "cell_type": "markdown",
   "id": "ab984509-d862-4768-837f-21fc1e75f037",
   "metadata": {},
   "source": [
    "# Example 2: student data"
   ]
  },
  {
   "cell_type": "code",
   "execution_count": 9,
   "id": "c3c13ec0-f230-4cd8-be12-cd5d80e79718",
   "metadata": {},
   "outputs": [
    {
     "name": "stdout",
     "output_type": "stream",
     "text": [
      "Deepak\n",
      "85\n",
      "Grade updted successfully!\n",
      "90\n",
      "Invalid grade! must be between 0 and 100.\n",
      "90\n"
     ]
    }
   ],
   "source": [
    "class student:\n",
    "\n",
    "    def __init__(self,name,grade):\n",
    "        self.name = name\n",
    "        self.__grade = grade\n",
    "\n",
    "    def get_grade(self):\n",
    "        return self.__grade\n",
    "\n",
    "    def set_grade(self,new_grade):\n",
    "        if 0< new_grade <=100:\n",
    "            self.__grade = new_grade\n",
    "            return \"Grade updted successfully!\"\n",
    "        else:\n",
    "            return \"Invalid grade! must be between 0 and 100.\"\n",
    "\n",
    "student = student(\"Deepak\",85)\n",
    "\n",
    "print(student.name)\n",
    "\n",
    "print(student.get_grade())\n",
    "\n",
    "print(student.set_grade(90))\n",
    "\n",
    "print(student.get_grade())\n",
    "\n",
    "print(student.set_grade(150))\n",
    "\n",
    "print(student.get_grade())"
   ]
  },
  {
   "cell_type": "markdown",
   "id": "7abb490c-fc39-41db-9b9e-3c340b3caad6",
   "metadata": {},
   "source": [
    "# case study 1 : healthcare system (patient Record management)\n",
    "\n",
    "problem: Develop a  system for managing patient records in a hospital where.\n",
    "\n",
    "patient details (name,age and medical history) should be private.\n",
    "\n",
    "only authorized methods can retrieve or update medical history \n",
    "\n",
    "provide a method to add new medical records while keeping previous data secure \n"
   ]
  },
  {
   "cell_type": "code",
   "execution_count": 13,
   "id": "400de162-b708-46a4-a633-d703975f9623",
   "metadata": {},
   "outputs": [
    {
     "name": "stdout",
     "output_type": "stream",
     "text": [
      "Medical record added for Ankit.\n",
      "Medical record added for Ankit.\n",
      "medical History for Ankit:  ['2024 :flu Diagnosis', '2024 : Blood Test Results Normal']\n",
      "Second patient!\n",
      "Medical record added for Yash.\n",
      "Medical record added for Yash.\n",
      "medical History for Yash:  ['2024 :fever', '2024 : migrain']\n"
     ]
    }
   ],
   "source": [
    "class Patient:\n",
    "\n",
    "    def __init__(self,name ,age):\n",
    "        self.__name = name\n",
    "        self.__age  = age\n",
    "        self.__medical_history = []\n",
    "\n",
    "    def add_medical_record(self,record):\n",
    "        self.__medical_history.append(record)\n",
    "        return f\"Medical record added for {self.__name}.\"\n",
    "\n",
    "    def  get_medical_history(self):\n",
    "        return f\"medical History for {self.__name}:  {self.__medical_history}\"\n",
    "\n",
    "\n",
    "p1 = Patient(\"Ankit\",20)\n",
    "\n",
    "print(p1.add_medical_record(\"2024 :flu Diagnosis\"))\n",
    "\n",
    "print(p1.add_medical_record(\"2024 : Blood Test Results Normal\"))\n",
    "\n",
    "print(p1.get_medical_history())\n",
    "\n",
    "\n",
    "print(\"Second patient!\")\n",
    "\n",
    "p2 = Patient(\"Yash\",20)\n",
    "\n",
    "print(p2.add_medical_record(\"2024 :fever\"))\n",
    "\n",
    "print(p2.add_medical_record(\"2024 : migrain\"))\n",
    "\n",
    "print(p2.get_medical_history())\n"
   ]
  },
  {
   "cell_type": "markdown",
   "id": "67f74bae-9300-4ee4-a1cd-934941373b67",
   "metadata": {},
   "source": [
    "# Case Study 2: online Examination System\n",
    "\n",
    "problem: create a system for online examinations where :\n",
    "\n",
    "student scores are private and can not be accessed directly.\n",
    "\n",
    "Scores can only be added or retrived using specific methods.\n",
    "\n",
    "implement a feature to calculate the average score  of the student"
   ]
  },
  {
   "cell_type": "code",
   "execution_count": 23,
   "id": "f9ba3ec0-f2a0-49c6-a0f9-646b16677810",
   "metadata": {},
   "outputs": [
    {
     "name": "stdout",
     "output_type": "stream",
     "text": [
      "Deepak\n",
      "[10]\n",
      "20 is added score \n",
      "40 is added score \n",
      "30 is added score \n",
      "[10, 20, 40, 30]\n",
      "50 is added score \n",
      "[10, 20, 40, 30, 50]\n",
      "Average score is 30.0\n"
     ]
    }
   ],
   "source": [
    "class Exam:\n",
    "\n",
    "    def __init__(self,name):\n",
    "        self.name = name\n",
    "        self.__score = [10]\n",
    "\n",
    "\n",
    "    def get_score(self):\n",
    "        return self.__score\n",
    "\n",
    "    def add_score(self,new_score):\n",
    "        if 0 <= new_score <=100:\n",
    "            self.__score.append(new_score)\n",
    "            print(f\"{new_score} is added score \")\n",
    "        else:\n",
    "            print(\"Invalid score plese try again!\")\n",
    "\n",
    "    def average(self):\n",
    "        l = len(self.__score)\n",
    "        total = sum(self.__score)\n",
    "        \n",
    "        print(f\"Average score is {total/l}\")\n",
    "            \n",
    "\n",
    "\n",
    "\n",
    "s1 = Exam(\"Deepak\")\n",
    "print(s1.name)\n",
    "print(s1.get_score())\n",
    "\n",
    "s1.add_score(20)\n",
    "s1.add_score(40)\n",
    "s1.add_score(30)\n",
    "\n",
    "print(s1.get_score())\n",
    "\n",
    "s1.add_score(50)\n",
    "\n",
    "print(s1.get_score())\n",
    "s1.average()"
   ]
  },
  {
   "cell_type": "code",
   "execution_count": null,
   "id": "58b71b05-edef-4298-86b0-50ec426d4563",
   "metadata": {},
   "outputs": [],
   "source": []
  },
  {
   "cell_type": "code",
   "execution_count": null,
   "id": "9e168de1-cb03-45f3-9120-6240c556da9f",
   "metadata": {},
   "outputs": [],
   "source": []
  }
 ],
 "metadata": {
  "kernelspec": {
   "display_name": "Python 3 (ipykernel)",
   "language": "python",
   "name": "python3"
  },
  "language_info": {
   "codemirror_mode": {
    "name": "ipython",
    "version": 3
   },
   "file_extension": ".py",
   "mimetype": "text/x-python",
   "name": "python",
   "nbconvert_exporter": "python",
   "pygments_lexer": "ipython3",
   "version": "3.12.4"
  }
 },
 "nbformat": 4,
 "nbformat_minor": 5
}
