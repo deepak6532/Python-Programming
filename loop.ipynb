{
 "cells": [
  {
   "cell_type": "markdown",
   "id": "d2f936bc",
   "metadata": {},
   "source": [
    "# Loop in python"
   ]
  },
  {
   "cell_type": "code",
   "execution_count": null,
   "id": "ccc0cf4b-1598-41a2-8013-da9bd5516141",
   "metadata": {},
   "outputs": [
    {
     "name": "stdout",
     "output_type": "stream",
     "text": [
      "1\n",
      "3\n",
      "5\n"
     ]
    }
   ],
   "source": [
    "# 1.  for loop\n",
    "# 2.  while loop\n",
    "\n",
    "#  index =0 ,length  =1\n",
    "\n",
    "# (1) .  For loop \n",
    "\n",
    "# method -1\n",
    "\n",
    "for i in range(1,7,2):\n",
    "    print(i)"
   ]
  },
  {
   "cell_type": "code",
   "execution_count": 2,
   "id": "15564402-9c9a-4344-826b-9b7ad6096163",
   "metadata": {},
   "outputs": [
    {
     "name": "stdout",
     "output_type": "stream",
     "text": [
      "1\n",
      "2\n",
      "3\n",
      "4\n",
      "5\n",
      "6\n"
     ]
    }
   ],
   "source": [
    "for i in range(1,7):\n",
    "    print(i)"
   ]
  },
  {
   "cell_type": "code",
   "execution_count": 3,
   "id": "93268a7c-8b77-4a53-9816-ee6b6adccefa",
   "metadata": {},
   "outputs": [
    {
     "name": "stdout",
     "output_type": "stream",
     "text": [
      "0\n",
      "1\n",
      "2\n",
      "3\n",
      "4\n",
      "5\n"
     ]
    }
   ],
   "source": [
    "# method  - 2\n",
    "a = \"Deepak\"\n",
    "len(a)\n",
    "\n",
    "for i in range(len(a)):\n",
    "    print(i)"
   ]
  },
  {
   "cell_type": "code",
   "execution_count": 4,
   "id": "19c5131a-b96c-4879-b59b-96f1b0364d18",
   "metadata": {},
   "outputs": [
    {
     "name": "stdout",
     "output_type": "stream",
     "text": [
      "D\n",
      "e\n",
      "e\n",
      "p\n",
      "a\n",
      "k\n"
     ]
    }
   ],
   "source": [
    "# method - 3\n",
    "a = \"Deepak\"\n",
    "\n",
    "for i in a:\n",
    "    print(i)"
   ]
  },
  {
   "cell_type": "code",
   "execution_count": 5,
   "id": "a4e33521-e381-4698-a9ee-6cd14e3021cc",
   "metadata": {},
   "outputs": [
    {
     "name": "stdout",
     "output_type": "stream",
     "text": [
      "D e e p a k "
     ]
    }
   ],
   "source": [
    "a = \"Deepak\"\n",
    "\n",
    "for i in a:\n",
    "    print(i,end=\" \" )"
   ]
  },
  {
   "cell_type": "markdown",
   "id": "953e8aa4",
   "metadata": {},
   "source": [
    "# while loop"
   ]
  },
  {
   "cell_type": "code",
   "execution_count": null,
   "id": "0c09a35f-f02a-4949-97a6-5a031b33810d",
   "metadata": {},
   "outputs": [],
   "source": [
    "# (a). Initialization \n",
    "# (b) . Condition \n",
    "#  (c)  .Increment or decrement operator "
   ]
  },
  {
   "cell_type": "code",
   "execution_count": 7,
   "id": "92f8dbbf-c506-4742-8ba7-949fed577144",
   "metadata": {},
   "outputs": [],
   "source": [
    "# Q 1 write a program who print from 1 to 3 using  while loop ?"
   ]
  },
  {
   "cell_type": "code",
   "execution_count": 8,
   "id": "2c5e164e-f60b-41cb-aa78-ea3ec109268e",
   "metadata": {},
   "outputs": [
    {
     "name": "stdout",
     "output_type": "stream",
     "text": [
      "1\n",
      "2\n",
      "3\n"
     ]
    }
   ],
   "source": [
    "i=1    #Initialization\n",
    "n = 3\n",
    "while(i<=n):  #Condition\n",
    "    print(i)\n",
    "    i = i+1        #Increment"
   ]
  },
  {
   "cell_type": "code",
   "execution_count": 9,
   "id": "97cab4d4-37fd-4883-8f6d-52c01cfdf503",
   "metadata": {},
   "outputs": [],
   "source": [
    "# step -1   (i=1 ,n = 3)\n",
    "# while(i<=3):\n",
    "#     print(1)\n",
    "#     i =1+1 =2\n",
    "# step-2 (i=2 , n=3)\n",
    "\n",
    "# while(2<=3):\n",
    "#     print(2)\n",
    "#     i = 2+1=3\n",
    "# step -3  (i=3 ,n=3)\n",
    "\n",
    "# while(3<=3):\n",
    "#     print(3)\n",
    "#     i= =3+1 = 4\n",
    "# step 4 : (i=4,n=3)\n",
    "# # while(4<=3):   #Break"
   ]
  },
  {
   "cell_type": "code",
   "execution_count": null,
   "id": "bf4890d9-ffed-4beb-9cae-d6b47791e80c",
   "metadata": {},
   "outputs": [
    {
     "name": "stdout",
     "output_type": "stream",
     "text": [
      "Enter start number : 1\n",
      "Enter the last number : 3\n"
     ]
    },
    {
     "name": "stdout",
     "output_type": "stream",
     "text": [
      "6\n"
     ]
    }
   ],
   "source": [
    "# Q.2  Write a progrma who add numbers ?\n",
    "\n",
    "i = int(input(\"Enter start number :\"))\n",
    "n = int(input(\"Enter the last number :\"))\n",
    "sum = 0\n",
    "while(i<=n):\n",
    "    sum = sum + i\n",
    "    i = i+1\n",
    "print(sum)"
   ]
  },
  {
   "cell_type": "code",
   "execution_count": 11,
   "id": "bbb780fc-fcfa-4446-a1ce-814e4605e0ee",
   "metadata": {},
   "outputs": [],
   "source": [
    "# # # step -1 (i= 1, n =4 , sum = 0)\n",
    "# # while(1<=4):\n",
    "# #     sum = 0+1 =1 \n",
    "# #     i = i+1 = 2\n",
    "\n",
    "# # Step 2 (i= 2 , n= 4 ,sum = 1)\n",
    "# while(2<=4):\n",
    "#     sum = 1+2 = 3\n",
    "#     i = 2+1 = 3\n",
    "# # Step 3 (i=3 , n=4, sum =3)\n",
    "# while(3<=4):\n",
    "#     sum = 3 +3 = 6\n",
    "#     i = 3+1 = 4\n",
    "# # step  4 ( i=4, n=4,sum =6)\n",
    "# while(4<=4):\n",
    "#     sum = 6 +4 =10\n",
    "#     i = 4+1 =5\n",
    "\n",
    "# step 5 (i=5,n=4,sum =10)\n",
    "# while(5<=4):\n",
    "#     break\n"
   ]
  },
  {
   "cell_type": "code",
   "execution_count": 12,
   "id": "21035a65-2475-4126-acbc-082e8881746f",
   "metadata": {},
   "outputs": [],
   "source": [
    "i=1"
   ]
  },
  {
   "cell_type": "code",
   "execution_count": 13,
   "id": "4a550fc5-9453-49a8-b4e5-a8461120f706",
   "metadata": {},
   "outputs": [
    {
     "name": "stdout",
     "output_type": "stream",
     "text": [
      "14\n"
     ]
    }
   ],
   "source": [
    "# Q. 3  \n",
    "i = 123\n",
    "sum  = 0\n",
    "\n",
    "while(i>0):\n",
    "    sum = sum + (i%10)*(i%10) \n",
    "    i = i//10\n",
    "print(sum)"
   ]
  },
  {
   "cell_type": "code",
   "execution_count": 14,
   "id": "26e8cce3-9657-4110-a372-d8158c79ff83",
   "metadata": {},
   "outputs": [],
   "source": [
    "# # STep -1 (i=123 ,sum =0)\n",
    "# while(123>0):\n",
    "#     sum = 0 + (123%10) * (123%10) = 3 * 3  = 9\n",
    "#     i = 123//10 = 12\n",
    "\n",
    "# # STep -2 (i=12 ,sum =9)\n",
    "# while(123>0):\n",
    "#     sum = 9 + (12%10) * (12%10) = 9 + (2)*(2)   = 13\n",
    "#     i = 12//10 = 1\n",
    "# # STep -3 (i=1 ,sum =13)\n",
    "# while(123>0):\n",
    "#     sum = 13 + (1%10) * (1%10) = 13 +1   = 14\n",
    "#     i = 1//10 = 0\n",
    "\n",
    "# # final output: 14\n",
    "    \n",
    "    \n",
    "    "
   ]
  },
  {
   "cell_type": "code",
   "execution_count": null,
   "id": "7e868b0b-47e2-4b07-98e6-46f58017c29a",
   "metadata": {},
   "outputs": [
    {
     "name": "stdout",
     "output_type": "stream",
     "text": [
      "enter the number  370\n"
     ]
    },
    {
     "name": "stdout",
     "output_type": "stream",
     "text": [
      "Armstrong\n"
     ]
    }
   ],
   "source": [
    "# Q. 4 ARmstrong number check \n",
    "\n",
    "i = int(input(\"enter the number \"))\n",
    "sum  = 0\n",
    "temp = i\n",
    "while(i>0):\n",
    "    sum = sum + (i%10)*(i%10) *(i%10)\n",
    "    i = i//10\n",
    "\n",
    "if(temp == sum):\n",
    "    print(\"Armstrong\")\n",
    "else:\n",
    "    print(\"not armstrong \")\n"
   ]
  },
  {
   "cell_type": "code",
   "execution_count": 36,
   "id": "f4b23a5e-aeaf-40ca-bf1d-9f933b3445b0",
   "metadata": {},
   "outputs": [
    {
     "name": "stdout",
     "output_type": "stream",
     "text": [
      "\n",
      "Totla even numbr  2\n",
      "sum of even number is  : 6\n",
      "Total odd number  2\n",
      "sum of odd number is : 4\n"
     ]
    }
   ],
   "source": [
    "i =1234\n",
    "e  = 0\n",
    "o = 0\n",
    "sume= 0\n",
    "sumo=0\n",
    "while(i>0):\n",
    "    r = i%10\n",
    "    \n",
    "    if(r%2==0): \n",
    "        sume = sume +r\n",
    "        e= e+1\n",
    "    else:\n",
    "        sumo = sumo + r\n",
    "        o = o+1\n",
    "        \n",
    "    i = i//10\n",
    "\n",
    "print()\n",
    "print(\"Totla even numbr \",e)\n",
    "print(\"sum of even number is  :\",sume)\n",
    "print(\"Total odd number \",o)\n",
    "print(\"sum of odd number is :\",sumo)"
   ]
  },
  {
   "cell_type": "code",
   "execution_count": null,
   "id": "553403f2-259f-4393-ab1f-20dbfdab9d6d",
   "metadata": {},
   "outputs": [
    {
     "name": "stdout",
     "output_type": "stream",
     "text": [
      "enter the number  125\n"
     ]
    },
    {
     "name": "stdout",
     "output_type": "stream",
     "text": [
      "521\n"
     ]
    }
   ],
   "source": [
    "# Q.4  Armstrong number check \n",
    "\n",
    "i = int(input(\"enter the number \"))\n",
    "sum  = 0\n",
    "temp = i\n",
    "while(i>0):\n",
    "    r = i%10\n",
    "    sum = sum *10 + r\n",
    "    i = i//10\n",
    "\n",
    "print(sum)"
   ]
  },
  {
   "cell_type": "code",
   "execution_count": null,
   "id": "59af9135-8573-492e-bd6a-1d765dafd97f",
   "metadata": {},
   "outputs": [],
   "source": []
  }
 ],
 "metadata": {
  "kernelspec": {
   "display_name": "Python 3 (ipykernel)",
   "language": "python",
   "name": "python3"
  },
  "language_info": {
   "codemirror_mode": {
    "name": "ipython",
    "version": 3
   },
   "file_extension": ".py",
   "mimetype": "text/x-python",
   "name": "python",
   "nbconvert_exporter": "python",
   "pygments_lexer": "ipython3",
   "version": "3.12.4"
  }
 },
 "nbformat": 4,
 "nbformat_minor": 5
}
