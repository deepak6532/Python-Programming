{
 "cells": [
  {
   "cell_type": "code",
   "execution_count": 7,
   "id": "ff8cbf88-2a46-4407-aee7-6f81c7de2c38",
   "metadata": {},
   "outputs": [
    {
     "name": "stdout",
     "output_type": "stream",
     "text": [
      "enter the  element  50\n"
     ]
    },
    {
     "name": "stdout",
     "output_type": "stream",
     "text": [
      "True\n"
     ]
    }
   ],
   "source": [
    "# 1:\tWrite a Python program to check whether an element exists in a list.\n",
    "\n",
    "mylist = [10,20,30,40,50]\n",
    "\n",
    "Element = int(input(\"enter the  element \"))\n",
    "\n",
    "if Element in mylist:\n",
    "    print(True)\n",
    "else:\n",
    "    print(False)\n",
    "    "
   ]
  },
  {
   "cell_type": "code",
   "execution_count": 9,
   "id": "178f4627-afa6-456b-8ded-3f2661db6d33",
   "metadata": {},
   "outputs": [
    {
     "name": "stdout",
     "output_type": "stream",
     "text": [
      "enter the first number 20\n",
      "enter the second number  40\n"
     ]
    },
    {
     "name": "stdout",
     "output_type": "stream",
     "text": [
      "Before Swapping \n",
      "Num1 : 20\n",
      "Num2 : 40\n",
      "After swapping\n",
      "Num1 : 40\n",
      "Num2 : 20\n"
     ]
    }
   ],
   "source": [
    "# 2: write a Python program to swap two elements in a list.\n",
    "\n",
    "num1 = int(input(\"enter the first number\"))\n",
    "num2 = int(input(\"enter the second number \"))\n",
    "\n",
    "print(\"Before Swapping \")\n",
    "\n",
    "print(\"Num1 :\",num1)\n",
    "print(\"Num2 :\",num2)\n",
    "\n",
    "num1,num2  = num2,num1\n",
    "\n",
    "print(\"After swapping\")\n",
    "print(\"Num1 :\",num1)\n",
    "print(\"Num2 :\",num2)"
   ]
  },
  {
   "cell_type": "code",
   "execution_count": 13,
   "id": "065129f9-35ba-405a-b7d8-328a26dac284",
   "metadata": {},
   "outputs": [
    {
     "name": "stdout",
     "output_type": "stream",
     "text": [
      "olleH\n"
     ]
    }
   ],
   "source": [
    "# 3.\tWrite a program to reverse words of a string.\n",
    "\n",
    "str =\"Hello\"\n",
    "\n",
    "print(str[::-1])\n",
    "\n",
    "\n",
    "# Second method\n",
    "\n",
    "# mylist=[]\n",
    "# for i in str:\n",
    "#     mylist.insert(0,i)\n",
    "# print(\"\".join(mylist))"
   ]
  },
  {
   "cell_type": "code",
   "execution_count": 14,
   "id": "552e4ae1-74ed-4b7b-a0e0-82ce6d2e2c61",
   "metadata": {},
   "outputs": [
    {
     "name": "stdout",
     "output_type": "stream",
     "text": [
      "6\n"
     ]
    }
   ],
   "source": [
    "# 4.\tWrite a program to find the size of a Tuple in Python.\n",
    "\n",
    "mytuple = (10,20,30,40,\"hey\",\"hello\")\n",
    "\n",
    "print(len(mytuple))"
   ]
  },
  {
   "cell_type": "code",
   "execution_count": 74,
   "id": "977c12cf-cd8c-43ec-9f15-6a9aaadf849a",
   "metadata": {},
   "outputs": [
    {
     "name": "stdout",
     "output_type": "stream",
     "text": [
      "210\n"
     ]
    }
   ],
   "source": [
    "# 5.\tWrite a program to Sum the elements of a Tuple\n",
    "\n",
    "mytuple = (10,20,30,40,50,60)\n",
    "\n",
    "sum = 0\n",
    "for i in mytuple:\n",
    "    sum = sum +i\n",
    "print(sum)\n"
   ]
  },
  {
   "cell_type": "code",
   "execution_count": 36,
   "id": "4791dcf8-540b-480f-b268-0024345c651c",
   "metadata": {},
   "outputs": [
    {
     "name": "stdout",
     "output_type": "stream",
     "text": [
      "{'a': 20, 'b': 10, 'd': 40, 'e': 60, 'f': 30}\n",
      "{'b': 10, 'a': 20, 'f': 30, 'd': 40, 'e': 60}\n"
     ]
    }
   ],
   "source": [
    "# 6.\tWrite a program to Sort Python Dictionaries by Key or Value\n",
    "\n",
    "mydict = {\"a\":20,\"b\":10,\"e\":60,\"d\":40,\"f\":30}\n",
    "\n",
    "print(dict(sorted(mydict.items())))  # sorted by keys\n",
    "\n",
    "\n",
    "print(dict(sorted(mydict.items() ,key = lambda x : x[1])))  # sort basis by values"
   ]
  },
  {
   "cell_type": "code",
   "execution_count": 45,
   "id": "47d3622b-f039-4a96-b900-69dd35a47b40",
   "metadata": {},
   "outputs": [
    {
     "name": "stdout",
     "output_type": "stream",
     "text": [
      "{'x': 1, 'y': 2, 'a': 3, 'z': 3, 'w': 4}\n"
     ]
    }
   ],
   "source": [
    "# 7: Write a program to merge two dictionaries in python.\n",
    "\n",
    "dict1 = {\"x\" :1 ,\"y\" : 2,\"a\":3}\n",
    "\n",
    "dict2 = {\"z\" :3 ,\"w\" :4}\n",
    "\n",
    "dict1 = dict1 | dict2\n",
    "\n",
    "print(dict1)"
   ]
  },
  {
   "cell_type": "code",
   "execution_count": 48,
   "id": "d664793c-4d3a-4dad-b5fd-e6c36988c481",
   "metadata": {},
   "outputs": [
    {
     "name": "stdout",
     "output_type": "stream",
     "text": [
      "Ankit\n",
      "Deepak\n",
      "Adhi\n",
      "Rohit\n"
     ]
    }
   ],
   "source": [
    "# 8.Write a program to iterate over a set in Python\n",
    "\n",
    "mydict = {\"Deepak\",\"Ankit\",\"Adhi\",\"Rohit\"}\n",
    "\n",
    "for i in mydict:\n",
    "    print(i)\n",
    "\n"
   ]
  },
  {
   "cell_type": "code",
   "execution_count": null,
   "id": "83466e0a-7ceb-403e-a33d-b64012ed573c",
   "metadata": {},
   "outputs": [
    {
     "name": "stdout",
     "output_type": "stream",
     "text": [
      "{'Deepak', 'Adhi', 'Rohit'}\n"
     ]
    }
   ],
   "source": [
    "# 9.\tWrite a program to remove items from a set.\n",
    "\n",
    "mydict = {\"Deepak\",\"Ankit\",\"Adhi\",\"Rohit\"}\n",
    "\n",
    "mydict.remove(\"Ankit\")\n",
    "print(mydict)"
   ]
  },
  {
   "cell_type": "code",
   "execution_count": null,
   "id": "5ea4a7ff-3ee7-4aa6-8c55-451697966853",
   "metadata": {},
   "outputs": [],
   "source": []
  },
  {
   "cell_type": "code",
   "execution_count": null,
   "id": "ea695057-7d5c-4e40-928b-c1adb77310b1",
   "metadata": {},
   "outputs": [],
   "source": []
  },
  {
   "cell_type": "code",
   "execution_count": 51,
   "id": "ca210a91-88b0-480f-a667-ca02dddf4fca",
   "metadata": {},
   "outputs": [
    {
     "name": "stdout",
     "output_type": "stream",
     "text": [
      "    * \n",
      "   * * \n",
      "  * * * \n",
      " * * * * \n",
      "* * * * * \n"
     ]
    }
   ],
   "source": [
    "# 12.\tWrite a program to print a simple pyramid pattern in Python.\n",
    "\n",
    "for i in range(1,6):\n",
    "    for s in range(1,6-i):\n",
    "        print(\" \",end=\"\")\n",
    "    for j in range(1,i+1):\n",
    "        print(\"*\",end=\" \")\n",
    "    print()"
   ]
  },
  {
   "cell_type": "code",
   "execution_count": 59,
   "id": "04e8f50a-2120-4b67-bb36-6786da0042f6",
   "metadata": {},
   "outputs": [
    {
     "name": "stdout",
     "output_type": "stream",
     "text": [
      "123"
     ]
    }
   ],
   "source": [
    "# 13.\tWrite a program to extract numbers from a string using RegEx.\n",
    "\n",
    "# s = \"D1E2p@A2K\"\n",
    "\n",
    "s= \"my name  1 is   23 deepak \"\n",
    "for i in s:\n",
    "    if i.isdigit():\n",
    "        print(i,end=\"\")\n",
    "    "
   ]
  },
  {
   "cell_type": "code",
   "execution_count": 75,
   "id": "8567385a-e34c-4e07-ae09-b99b179ed2b3",
   "metadata": {},
   "outputs": [
    {
     "name": "stdout",
     "output_type": "stream",
     "text": [
      "my name is 23 deepak\n"
     ]
    }
   ],
   "source": [
    "# 14.\tWrite a program to remove all whitespaces using RegEx.\n",
    "\n",
    "s= \"   my name is 23 deepak \"\n",
    "\n",
    "print(s.strip(\" \"))"
   ]
  },
  {
   "cell_type": "code",
   "execution_count": 79,
   "id": "2b8e7f1f-548b-4f89-a87c-ebd78bcdb298",
   "metadata": {},
   "outputs": [
    {
     "name": "stdout",
     "output_type": "stream",
     "text": [
      "enter the content  hey everyone welcome to poddar international college \n"
     ]
    },
    {
     "name": "stdout",
     "output_type": "stream",
     "text": [
      "done\n"
     ]
    }
   ],
   "source": [
    "# 17.\tWrite a program to take input from user and store in .txt file in Python\n",
    "\n",
    "\n",
    "with open(\"file.txt\",\"w\") as f:\n",
    "    content = input(\"enter the content \")\n",
    "    f.write(content)\n",
    "    print(\"done\")"
   ]
  },
  {
   "cell_type": "code",
   "execution_count": 71,
   "id": "fc284ea9-a42c-4ca4-8264-30ea39d02a0b",
   "metadata": {},
   "outputs": [
    {
     "name": "stdout",
     "output_type": "stream",
     "text": [
      "Volume of cube is : 125\n",
      "Surface area of cube : 150\n"
     ]
    }
   ],
   "source": [
    "# 19.\tWrite a Python Program to find volume and surface area of a cube using function.\n",
    "\n",
    "def cube(s):\n",
    "    volume_cube = s*s*s\n",
    "    print(\"Volume of cube is :\",volume_cube)\n",
    "\n",
    "    surface_area = 6 *s**2\n",
    "    print(\"Surface area of cube :\",surface_area)\n",
    "\n",
    "\n",
    "cube(5)"
   ]
  },
  {
   "cell_type": "code",
   "execution_count": 73,
   "id": "95a7b949-a700-43f9-b310-bbb262c3363d",
   "metadata": {},
   "outputs": [
    {
     "name": "stdout",
     "output_type": "stream",
     "text": [
      "enter the number  5\n"
     ]
    },
    {
     "name": "stdout",
     "output_type": "stream",
     "text": [
      "5 * 1 = 5\n",
      "5 * 2 = 10\n",
      "5 * 3 = 15\n",
      "5 * 4 = 20\n",
      "5 * 5 = 25\n",
      "5 * 6 = 30\n",
      "5 * 7 = 35\n",
      "5 * 8 = 40\n",
      "5 * 9 = 45\n",
      "5 * 10 = 50\n"
     ]
    }
   ],
   "source": [
    "# 20.\tWrite a function that inputs a number and prints the multiplication table of that number\n",
    "\n",
    "number = int(input(\"enter the number \"))\n",
    "\n",
    "for i in range(1,11):\n",
    "    print(number ,\"*\",i, \"=\",number*i)"
   ]
  },
  {
   "cell_type": "code",
   "execution_count": null,
   "id": "9296a9a5-0b8f-4969-9960-347969cc50dc",
   "metadata": {},
   "outputs": [],
   "source": []
  }
 ],
 "metadata": {
  "kernelspec": {
   "display_name": "Python 3 (ipykernel)",
   "language": "python",
   "name": "python3"
  },
  "language_info": {
   "codemirror_mode": {
    "name": "ipython",
    "version": 3
   },
   "file_extension": ".py",
   "mimetype": "text/x-python",
   "name": "python",
   "nbconvert_exporter": "python",
   "pygments_lexer": "ipython3",
   "version": "3.12.4"
  }
 },
 "nbformat": 4,
 "nbformat_minor": 5
}
