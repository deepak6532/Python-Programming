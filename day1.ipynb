{
 "cells": [
  {
   "cell_type": "code",
   "execution_count": 1,
   "id": "c83efe7b-44dd-4e89-ae7e-934c95ade3d8",
   "metadata": {},
   "outputs": [
    {
     "ename": "SyntaxError",
     "evalue": "invalid syntax (3307845838.py, line 3)",
     "output_type": "error",
     "traceback": [
      "\u001b[1;36m  Cell \u001b[1;32mIn[1], line 3\u001b[1;36m\u001b[0m\n\u001b[1;33m    int -----> 1,2,3,-1,-2,-3\u001b[0m\n\u001b[1;37m            ^\u001b[0m\n\u001b[1;31mSyntaxError\u001b[0m\u001b[1;31m:\u001b[0m invalid syntax\n"
     ]
    }
   ],
   "source": [
    "print()\n",
    "\n",
    "int -----> 1,2,3,-1,-2,-3\n",
    "\n",
    "float ---->1.2, 2.5, 6.5\n",
    "\n",
    "string ----> character or sequence of character\n",
    "'name','age','k','jaipur is a big city'\n",
    "\n",
    "Bool or Boolean -------> true/false\n",
    "\n",
    "list = [1,2,3,4,5]\n",
    "['name',18,3.5,true]\n",
    "\n",
    "tuple = (1,2,3,4,5)\n",
    "(1,'name',True,2.4)\n",
    "\n",
    "\n",
    "Dictionary\n",
    "\n",
    "{'name':'deepak','profile' :'pytho developer' ,'age':19}\n",
    "\n",
    "\n",
    "set\n",
    "\n",
    "{1,2,3,4,5,6}\n",
    "\n",
    "# OPERATOR:\n",
    "# 1. Arithmetic operator\n",
    "# 2.comparison operator\n",
    "# 3.Logical operator\n",
    "# 4. Bitwise operator\n",
    "# 5.Membershp operator\n",
    "# 6. Identity Operator\n",
    "\n",
    "\n",
    "\n",
    "\n",
    "#Arithmetic operator\n",
    "\n",
    "# +,-,*,/,%,**,//\n",
    "\n",
    "#comparision operator\n",
    "\n",
    "# <,>,==,<=,>=,!=\n",
    "\n",
    "#Logical operator\n",
    "\n",
    "# and ,or ,not ------------------->Return boolean value\n",
    "\n",
    "\n",
    "\n"
   ]
  },
  {
   "cell_type": "code",
   "execution_count": null,
   "id": "6a94494e-6e17-4ade-af29-5f7f290faac5",
   "metadata": {},
   "outputs": [],
   "source": []
  }
 ],
 "metadata": {
  "kernelspec": {
   "display_name": "Python 3 (ipykernel)",
   "language": "python",
   "name": "python3"
  },
  "language_info": {
   "codemirror_mode": {
    "name": "ipython",
    "version": 3
   },
   "file_extension": ".py",
   "mimetype": "text/x-python",
   "name": "python",
   "nbconvert_exporter": "python",
   "pygments_lexer": "ipython3",
   "version": "3.12.4"
  }
 },
 "nbformat": 4,
 "nbformat_minor": 5
}
