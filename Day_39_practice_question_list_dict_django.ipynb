{
 "cells": [
  {
   "cell_type": "code",
   "execution_count": 1,
   "id": "f131f109-3f64-43a0-b0d7-a10ce5666aa5",
   "metadata": {},
   "outputs": [],
   "source": [
    "# jpbk"
   ]
  },
  {
   "cell_type": "code",
   "execution_count": 3,
   "id": "aaee790d-29fd-446f-88eb-b4f56bee369b",
   "metadata": {},
   "outputs": [
    {
     "name": "stdout",
     "output_type": "stream",
     "text": [
      "even number  [10, 12, 14, 16, 18, 20]\n",
      "odd number  [11, 13, 15, 1, 19]\n"
     ]
    }
   ],
   "source": [
    "mylist = [10,11,12,13,14,15,1,16,18,19,20]\n",
    "\n",
    "even = []\n",
    "odd = []\n",
    "\n",
    "for i in mylist:\n",
    "    if i%2==0:\n",
    "        even.append(i)\n",
    "    else:\n",
    "        odd.append(i)\n",
    "\n",
    "print(\"even number \",even)\n",
    "print(\"odd number \",odd)"
   ]
  },
  {
   "cell_type": "code",
   "execution_count": 16,
   "id": "d13f4e3d-fdf7-4f9a-a167-3cc6b96465f2",
   "metadata": {},
   "outputs": [
    {
     "name": "stdout",
     "output_type": "stream",
     "text": [
      "n4 is Invalid number\n"
     ]
    }
   ],
   "source": [
    "def func(n1,n2,n3,n4,n5):\n",
    "\n",
    "    if(n1==0 or  n1>100):\n",
    "        print(\"n1 is Invalid number\")\n",
    "    elif(n2==0 or n2>100):\n",
    "        print(\"n4 is Invalid number\")\n",
    "    elif(n3==0 or  n3>100):\n",
    "        print(\"n3 is Invalid number\")\n",
    "    elif(n4==0 or  n4>100):\n",
    "        print(\"n4 is Invalid number\")\n",
    "    elif(n5==0 or  n5>100):\n",
    "        print(\"n5 is Invalid number\")\n",
    "    \n",
    "\n",
    "    else:\n",
    "        total = n1+n2+n3+n4+n5\n",
    "        avg = total//5\n",
    "        \n",
    "        if(avg>90):\n",
    "            print(\"Excellent\")\n",
    "        elif(avg>80 and avg<=90):\n",
    "            print(\"very good\")\n",
    "        elif(avg>70 and avg<=80):\n",
    "            print(\"Good\")\n",
    "        elif(avg>50 and avg<=70):\n",
    "            print(\"OKK\")\n",
    "        else:\n",
    "            print(\"fail\")\n",
    "\n",
    "\n",
    "func(90,70,90,110,60)\n",
    "    "
   ]
  },
  {
   "cell_type": "code",
   "execution_count": 23,
   "id": "1002dbe4-0247-4201-890a-36488fd6275b",
   "metadata": {},
   "outputs": [
    {
     "name": "stdin",
     "output_type": "stream",
     "text": [
      "enter key June\n"
     ]
    },
    {
     "name": "stdout",
     "output_type": "stream",
     "text": [
      "Six-month\n"
     ]
    }
   ],
   "source": [
    "mydict ={\n",
    "    \"January\":\"first-month\",\n",
    "    \"Febuary\":\"second-month\",\n",
    "    \"March\":\"third-month\",\n",
    "    \"April\":\"Fourth-month\",\n",
    "    \"May\":\"Fifth-month\",\n",
    "    \"June\":\"Six-month\",\n",
    "    \"July\":\"Seven-month\",\n",
    "    \"August\":\"eight-month\",\n",
    "    \"September\":\"Nine-month\",\n",
    "    \"Sctober\":\"Ten-month\",\n",
    "    \"November\":\"Eleven-month\",\n",
    "    \"December\":\"Twelve-month\"\n",
    "}\n",
    "\n",
    "challange_test = input(\"enter key:\")\n",
    "\n",
    "if(challange_test in mydict):\n",
    "    print(mydict[challange_test])\n",
    "else:\n",
    "    print(\"Key Not Valid\")\n"
   ]
  },
  {
   "cell_type": "code",
   "execution_count": 38,
   "id": "82867405-ab39-4aab-9a93-a7c02103ae58",
   "metadata": {},
   "outputs": [
    {
     "name": "stdout",
     "output_type": "stream",
     "text": [
      "Gena\n",
      "Laurent\n",
      "Gardie\n",
      "Amalita\n",
      "Marion\n",
      "Boniface\n"
     ]
    }
   ],
   "source": [
    "mylist =[{\n",
    "  \"id\": 1,\n",
    "  \"first_name\": \"Gena\",\n",
    "  \"last_name\": \"O'Halleghane\",\n",
    "  \"email\": \"gohalleghane0@netscape.com\",\n",
    "  \"gender\": \"Female\",\n",
    "  \"ip_address\": \"169.4.86.221\"\n",
    "}, {\n",
    "  \"id\": 2,\n",
    "  \"first_name\": \"Laurent\",\n",
    "  \"last_name\": \"Chattock\",\n",
    "  \"email\": \"lchattock1@amazon.de\",\n",
    "  \"gender\": \"Male\",\n",
    "  \"ip_address\": \"72.31.104.48\"\n",
    "}, {\n",
    "  \"id\": 3,\n",
    "  \"first_name\": \"Gardie\",\n",
    "  \"last_name\": \"Mapholm\",\n",
    "  \"email\": \"gmapholm2@hud.gov\",\n",
    "  \"gender\": \"Male\",\n",
    "  \"ip_address\": \"40.74.54.18\"\n",
    "}, {\n",
    "  \"id\": 4,\n",
    "  \"first_name\": \"Amalita\",\n",
    "  \"last_name\": \"Cattemull\",\n",
    "  \"email\": \"acattemull3@ezinearticles.com\",\n",
    "  \"gender\": \"Female\",\n",
    "  \"ip_address\": \"239.78.51.12\"\n",
    "}, {\n",
    "  \"id\": 5,\n",
    "  \"first_name\": \"Marion\",\n",
    "  \"last_name\": \"Sang\",\n",
    "  \"email\": \"msang4@berkeley.edu\",\n",
    "  \"gender\": \"Male\",\n",
    "  \"ip_address\": \"63.70.223.51\"\n",
    "}, {\n",
    "  \"id\": 6,\n",
    "  \"first_name\": \"Boniface\",\n",
    "  \"last_name\": \"Domokos\",\n",
    "  \"email\": \"bdomokos5@angelfire.com\",\n",
    "  \"gender\": \"Male\",\n",
    "  \"ip_address\": \"111.26.152.76\"\n",
    "}, {\n",
    "  \"id\": 7,\n",
    "  \"first_name\": \"Shirlene\",\n",
    "  \"last_name\": \"Turley\",\n",
    "  \"email\": \"sturley6@live.com\",\n",
    "  \"gender\": \"Female\",\n",
    "  \"ip_address\": \"218.244.246.97\"\n",
    "}, {\n",
    "  \"id\": 8,\n",
    "  \"first_name\": \"Ardine\",\n",
    "  \"last_name\": \"Swafford\",\n",
    "  \"email\": \"aswafford7@bing.com\",\n",
    "  \"gender\": \"Female\",\n",
    "  \"ip_address\": \"108.86.11.97\"\n",
    "}, {\n",
    "  \"id\": 9,\n",
    "  \"first_name\": \"Alix\",\n",
    "  \"last_name\": \"Conville\",\n",
    "  \"email\": \"aconville8@google.com\",\n",
    "  \"gender\": \"Female\",\n",
    "  \"ip_address\": \"176.71.254.56\"\n",
    "}, {\n",
    "  \"id\": 10,\n",
    "  \"first_name\": \"Jill\",\n",
    "  \"last_name\": \"Gladding\",\n",
    "  \"email\": \"jgladding9@china.com.cn\",\n",
    "  \"gender\": \"Female\",\n",
    "  \"ip_address\": \"214.148.67.94\"\n",
    "}]\n",
    "\n",
    "\n",
    "\n",
    "# for i in range(len(mylist)):\n",
    "#     print(mylist[i])\n",
    "\n",
    "\n",
    "# print all name in mylist \n",
    "\n",
    "for i in range(len(mylist[i])):\n",
    "    print(mylist[i][\"first_name\"])\n",
    "\n"
   ]
  },
  {
   "cell_type": "code",
   "execution_count": 3,
   "id": "2d2e3af5-ef7e-46bb-b9ee-75cf9e321d39",
   "metadata": {},
   "outputs": [
    {
     "name": "stdout",
     "output_type": "stream",
     "text": [
      "male =  4\n",
      "Female =  6\n"
     ]
    }
   ],
   "source": [
    "mylist = [{\n",
    "  \"id\": 1,\n",
    "  \"first_name\": \"Gena\",\n",
    "  \"last_name\": \"O'Halleghane\",\n",
    "  \"email\": \"gohalleghane0@netscape.com\",\n",
    "  \"gender\": \"Female\",\n",
    "  \"ip_address\": \"169.4.86.221\"\n",
    "}, {\n",
    "  \"id\": 2,\n",
    "  \"first_name\": \"Laurent\",\n",
    "  \"last_name\": \"Chattock\",\n",
    "  \"email\": \"lchattock1@amazon.de\",\n",
    "  \"gender\": \"Male\",\n",
    "  \"ip_address\": \"72.31.104.48\"\n",
    "}, {\n",
    "  \"id\": 3,\n",
    "  \"first_name\": \"Gardie\",\n",
    "  \"last_name\": \"Mapholm\",\n",
    "  \"email\": \"gmapholm2@hud.gov\",\n",
    "  \"gender\": \"Male\",\n",
    "  \"ip_address\": \"40.74.54.18\"\n",
    "}, {\n",
    "  \"id\": 4,\n",
    "  \"first_name\": \"Amalita\",\n",
    "  \"last_name\": \"Cattemull\",\n",
    "  \"email\": \"acattemull3@ezinearticles.com\",\n",
    "  \"gender\": \"Female\",\n",
    "  \"ip_address\": \"239.78.51.12\"\n",
    "}, {\n",
    "  \"id\": 5,\n",
    "  \"first_name\": \"Marion\",\n",
    "  \"last_name\": \"Sang\",\n",
    "  \"email\": \"msang4@berkeley.edu\",\n",
    "  \"gender\": \"Male\",\n",
    "  \"ip_address\": \"63.70.223.51\"\n",
    "}, {\n",
    "  \"id\": 6,\n",
    "  \"first_name\": \"Boniface\",\n",
    "  \"last_name\": \"Domokos\",\n",
    "  \"email\": \"bdomokos5@angelfire.com\",\n",
    "  \"gender\": \"Male\",\n",
    "  \"ip_address\": \"111.26.152.76\"\n",
    "}, {\n",
    "  \"id\": 7,\n",
    "  \"first_name\": \"Shirlene\",\n",
    "  \"last_name\": \"Turley\",\n",
    "  \"email\": \"sturley6@live.com\",\n",
    "  \"gender\": \"Female\",\n",
    "  \"ip_address\": \"218.244.246.97\"\n",
    "}, {\n",
    "  \"id\": 8,\n",
    "  \"first_name\": \"Ardine\",\n",
    "  \"last_name\": \"Swafford\",\n",
    "  \"email\": \"aswafford7@bing.com\",\n",
    "  \"gender\": \"Female\",\n",
    "  \"ip_address\": \"108.86.11.97\"\n",
    "}, {\n",
    "  \"id\": 9,\n",
    "  \"first_name\": \"Alix\",\n",
    "  \"last_name\": \"Conville\",\n",
    "  \"email\": \"aconville8@google.com\",\n",
    "  \"gender\": \"Female\",\n",
    "  \"ip_address\": \"176.71.254.56\"\n",
    "}, {\n",
    "  \"id\": 10,\n",
    "  \"first_name\": \"Jill\",\n",
    "  \"last_name\": \"Gladding\",\n",
    "  \"email\": \"jgladding9@china.com.cn\",\n",
    "  \"gender\": \"Female\",\n",
    "  \"ip_address\": \"214.148.67.94\"\n",
    "}]\n",
    "\n",
    "male = 0\n",
    "female = 0\n",
    " \n",
    "for i in range(len(mylist)):                       # Count How many male and female in mylist \n",
    "    \n",
    "    if(mylist[i][\"gender\"] == \"Male\"):\n",
    "        male+=1\n",
    "    elif(mylist[i][\"gender\"] == \"Female\"):\n",
    "        female+=1\n",
    "\n",
    "print(\"male = \",male)\n",
    "print(\"Female = \",female)\n",
    "        \n"
   ]
  },
  {
   "cell_type": "code",
   "execution_count": 73,
   "id": "2b5db027-9c1a-49a3-8230-29b18746a464",
   "metadata": {},
   "outputs": [
    {
     "name": "stdout",
     "output_type": "stream",
     "text": [
      "169.4.86.221\n",
      "214.148.67.94\n"
     ]
    }
   ],
   "source": [
    "def func(name):\n",
    "\n",
    "    for i in range(len(mylist)):\n",
    "        if(mylist[i][\"first_name\"] ==name):\n",
    "            print(mylist[i][\"ip_address\"])\n",
    "\n",
    "func(\"Gena\")\n",
    "func(\"Jill\")"
   ]
  },
  {
   "cell_type": "code",
   "execution_count": 75,
   "id": "de463c26-3e53-4941-a487-f83e81455831",
   "metadata": {},
   "outputs": [
    {
     "name": "stdout",
     "output_type": "stream",
     "text": [
      "{'id': 1, 'first_name': 'Gena', 'last_name': \"O'Halleghane\", 'email': 'gohalleghane0@netscape.com', 'gender': 'Female', 'ip_address': '169.4.86.221'}\n"
     ]
    }
   ],
   "source": [
    "def fun(email):\n",
    "    \n",
    "    for i in range(len(mylist)):\n",
    "        if(mylist[i][\"email\"] == email):\n",
    "           print(mylist[i])\n",
    "\n",
    "fun(\"gohalleghane0@netscape.com\")"
   ]
  },
  {
   "cell_type": "code",
   "execution_count": 77,
   "id": "7bc37fdd-0238-4e5c-bd95-e70189e92733",
   "metadata": {},
   "outputs": [
    {
     "name": "stdout",
     "output_type": "stream",
     "text": [
      "{'id': 2, 'first_name': 'Laurent', 'last_name': 'Chattock', 'email': 'lchattock1@amazon.de', 'gender': 'Male', 'ip_address': '72.31.104.48'}\n",
      "{'id': 3, 'first_name': 'Gardie', 'last_name': 'Mapholm', 'email': 'gmapholm2@hud.gov', 'gender': 'Male', 'ip_address': '40.74.54.18'}\n",
      "{'id': 5, 'first_name': 'Marion', 'last_name': 'Sang', 'email': 'msang4@berkeley.edu', 'gender': 'Male', 'ip_address': '63.70.223.51'}\n",
      "{'id': 6, 'first_name': 'Boniface', 'last_name': 'Domokos', 'email': 'bdomokos5@angelfire.com', 'gender': 'Male', 'ip_address': '111.26.152.76'}\n"
     ]
    }
   ],
   "source": [
    "def func(gender):\n",
    "\n",
    "\n",
    "    for i in range(len(mylist)):\n",
    "        if(mylist[i][\"gender\"] == gender):\n",
    "            print(mylist[i])\n",
    "\n",
    "\n",
    "func(\"Male\")\n",
    "    "
   ]
  },
  {
   "cell_type": "code",
   "execution_count": 78,
   "id": "d1239bd4-caf6-4062-a297-44d97901d3e4",
   "metadata": {},
   "outputs": [
    {
     "name": "stdout",
     "output_type": "stream",
     "text": [
      "{'id': 1, 'first_name': 'Gena', 'last_name': \"O'Halleghane\", 'email': 'gohalleghane0@netscape.com', 'gender': 'Female', 'ip_address': '169.4.86.221'}\n",
      "{'id': 4, 'first_name': 'Amalita', 'last_name': 'Cattemull', 'email': 'acattemull3@ezinearticles.com', 'gender': 'Female', 'ip_address': '239.78.51.12'}\n",
      "{'id': 7, 'first_name': 'Shirlene', 'last_name': 'Turley', 'email': 'sturley6@live.com', 'gender': 'Female', 'ip_address': '218.244.246.97'}\n",
      "{'id': 8, 'first_name': 'Ardine', 'last_name': 'Swafford', 'email': 'aswafford7@bing.com', 'gender': 'Female', 'ip_address': '108.86.11.97'}\n",
      "{'id': 9, 'first_name': 'Alix', 'last_name': 'Conville', 'email': 'aconville8@google.com', 'gender': 'Female', 'ip_address': '176.71.254.56'}\n",
      "{'id': 10, 'first_name': 'Jill', 'last_name': 'Gladding', 'email': 'jgladding9@china.com.cn', 'gender': 'Female', 'ip_address': '214.148.67.94'}\n"
     ]
    }
   ],
   "source": [
    "def func(gender):\n",
    "\n",
    "\n",
    "    for i in range(len(mylist)):\n",
    "        if(mylist[i][\"gender\"] == gender):\n",
    "            print(mylist[i])\n",
    "\n",
    "\n",
    "func(\"Female\")\n",
    "    "
   ]
  },
  {
   "cell_type": "code",
   "execution_count": null,
   "id": "0371335c-b51a-4208-8b54-9ea8787efdf5",
   "metadata": {},
   "outputs": [],
   "source": []
  }
 ],
 "metadata": {
  "kernelspec": {
   "display_name": "Python 3 (ipykernel)",
   "language": "python",
   "name": "python3"
  },
  "language_info": {
   "codemirror_mode": {
    "name": "ipython",
    "version": 3
   },
   "file_extension": ".py",
   "mimetype": "text/x-python",
   "name": "python",
   "nbconvert_exporter": "python",
   "pygments_lexer": "ipython3",
   "version": "3.12.4"
  }
 },
 "nbformat": 4,
 "nbformat_minor": 5
}
