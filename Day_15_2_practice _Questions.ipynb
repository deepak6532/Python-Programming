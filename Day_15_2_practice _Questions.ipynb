{
 "cells": [
  {
   "cell_type": "code",
   "execution_count": 1,
   "id": "8f4c9767-004b-410e-a53b-a62a35d08369",
   "metadata": {},
   "outputs": [],
   "source": [
    "# Q.1 Discount Calculation Write a program that calculates the final price of a product after applying a discount. The discount is 20% \n",
    "# if the price is above $100, otherwise, it's 10%.\n",
    "\n"
   ]
  },
  {
   "cell_type": "code",
   "execution_count": 6,
   "id": "4122acbc-4d5c-4f57-bf64-84413d34bae8",
   "metadata": {},
   "outputs": [
    {
     "name": "stdout",
     "output_type": "stream",
     "text": [
      "enter the price of a product  140\n"
     ]
    },
    {
     "name": "stdout",
     "output_type": "stream",
     "text": [
      "Total price is : 112.0\n"
     ]
    }
   ],
   "source": [
    "# 1\n",
    "price=  int(input(\"enter the price of a product \"))\n",
    "\n",
    "if(price>=100):\n",
    "    price =price - price*0.20\n",
    "    print(\"Total price is :\",price)\n",
    "else:\n",
    "    price = price - price*0.10\n",
    "    print(\"Total price is :\",price)\n",
    "\n"
   ]
  },
  {
   "cell_type": "code",
   "execution_count": 13,
   "id": "c249a2e4-5153-48c5-b97d-891f923f5971",
   "metadata": {},
   "outputs": [
    {
     "name": "stdout",
     "output_type": "stream",
     "text": [
      "enter the total marks of  a student   87\n"
     ]
    },
    {
     "name": "stdout",
     "output_type": "stream",
     "text": [
      "Grade B \n"
     ]
    }
   ],
   "source": [
    "# Q.2 Grade Classification Create a program that takes a student's exam score as input and outputs whether the student passed or failed based\n",
    "# on the following conditions:\n",
    "# If the score is 90 or above: Grade A\n",
    "\n",
    "# If the score is between 80 and 89: Grade B\n",
    "\n",
    "# If the score is between 70 and 79: Grade C\n",
    "\n",
    "# If the score is below 70: Fail\n",
    "\n",
    "\n",
    "marks = int(input(\"enter the total marks of  a student  \"))\n",
    "\n",
    "if (marks>=90):\n",
    "    print(\"Grade A \")\n",
    "elif(marks>=80 and marks<=89):\n",
    "    print(\"Grade B \")\n",
    "elif(marks>=70 and marks<=79):\n",
    "    print(\"Grade C \")\n",
    "else:\n",
    "    print(\"Fail\")\n",
    "    \n",
    "\n"
   ]
  },
  {
   "cell_type": "code",
   "execution_count": 16,
   "id": "7417a699-8101-4257-a731-27ca7cc9e22f",
   "metadata": {},
   "outputs": [
    {
     "name": "stdout",
     "output_type": "stream",
     "text": [
      "enter the temperature  of a machine  76\n"
     ]
    },
    {
     "name": "stdout",
     "output_type": "stream",
     "text": [
      "Warning! \n",
      "Machine is overheating \n"
     ]
    }
   ],
   "source": [
    "# Q.3 Temperature Alert Write a program that checks the temperature of a machine. If the temperature is greater than 70°C,\n",
    "# print a warning that the machine is overheating.\n",
    "\n",
    "temp = int(input(\"enter the temperature  of a machine \"))\n",
    "\n",
    "if(temp>=70):\n",
    "    print(\"Warning! \\nMachine is overheating \")\n",
    "else:\n",
    "    print(\"temperature is normal \")"
   ]
  },
  {
   "cell_type": "code",
   "execution_count": 26,
   "id": "18c6f0bb-d554-4991-a850-0b50782d83ab",
   "metadata": {},
   "outputs": [
    {
     "name": "stdout",
     "output_type": "stream",
     "text": [
      "enter your age to check eligibilty to get a driving licence  24\n",
      "Licence yes or not  yes\n"
     ]
    },
    {
     "name": "stdout",
     "output_type": "stream",
     "text": [
      "you are eligible to get a licence \n"
     ]
    }
   ],
   "source": [
    "# Q.4 Driving Eligibility Write a program that checks if a person is eligible to get a driving license. \n",
    "# The person must be at least 18 years old and must pass a driving test.\n",
    "\n",
    "age  =int(input(\"enter your age to check eligibilty to get a driving licence \"))\n",
    "\n",
    "l  = input(\"Licence yes or not \")\n",
    "\n",
    "if(age>=18 and l==\"yes\" ):\n",
    "    print(\"you are eligible to get a licence \")\n",
    "else:\n",
    "    print(\"Not Eligible \")"
   ]
  },
  {
   "cell_type": "code",
   "execution_count": 21,
   "id": "f176d421-be04-4bd7-9f49-d51307713201",
   "metadata": {},
   "outputs": [
    {
     "name": "stdout",
     "output_type": "stream",
     "text": [
      "enter the sale of the day  400\n",
      "enter the sale of the day  600\n",
      "enter the sale of the day  500\n",
      "enter the sale of the day  300\n",
      "enter the sale of the day  500\n",
      "enter the sale of the day  400\n",
      "enter the sale of the day  600\n"
     ]
    },
    {
     "name": "stdout",
     "output_type": "stream",
     "text": [
      "Total sale of the week:  3300\n"
     ]
    }
   ],
   "source": [
    "# Q.5  Sales Summary Given a list of daily sales figures for a week, use a loop to calculate the total sales for the week.\n",
    "\n",
    "i=1\n",
    "sum = 0\n",
    "while(i<=7):\n",
    "    d = int(input(\"enter the sale of the day \"))\n",
    "    sum= sum +d\n",
    "    i+=1\n",
    "\n",
    "print(\"Total sale of the week: \",sum)\n",
    "            \n",
    "    "
   ]
  },
  {
   "cell_type": "code",
   "execution_count": 28,
   "id": "956b5d7c-dca2-4a31-98d9-64734b271757",
   "metadata": {},
   "outputs": [
    {
     "name": "stdout",
     "output_type": "stream",
     "text": [
      "1 3 5 7 9 11 13 15 17 19 21 23 25 27 29 31 33 35 37 39 41 43 45 47 49 "
     ]
    }
   ],
   "source": [
    "# Q.6  Odd Numbers in a Range Write a program that prints all odd numbers between 1 and 50 using a loop\n",
    "\n",
    "for i in range(1,51):\n",
    "    if(i%2!=0):\n",
    "        print(i,end=\" \")\n",
    "    "
   ]
  },
  {
   "cell_type": "code",
   "execution_count": 37,
   "id": "0ad1e25c-b1e4-4cb7-85c7-bab566c5b4d4",
   "metadata": {},
   "outputs": [
    {
     "name": "stdout",
     "output_type": "stream",
     "text": [
      "enter the student absent  2\n",
      "enter the sunday and holiday in the month   4\n"
     ]
    },
    {
     "name": "stdout",
     "output_type": "stream",
     "text": [
      "Total Attendence is  24\n",
      "percentage  80.0\n"
     ]
    }
   ],
   "source": [
    "# Q.7  Student Attendance Create a program that takes the number of students present each day for a month and calculates the total number \n",
    "# of students present at the end of the month.\n",
    "\n",
    "\n",
    "absent = int(input(\"enter the student absent \"))\n",
    "holiday = int(input(\"enter the sunday and holiday in the month  \"))\n",
    "\n",
    "total_present = 30-absent-holiday\n",
    "print(\"Total Attendence is \",total_present)\n",
    "\n",
    "perc  = (total_present/30)*100\n",
    "\n",
    "print(\"percentage \",perc)\n",
    "# total = 0\n",
    "# for i in range(1,8):\n",
    "#     student = int(input(f\"enter the day {i} student Attendence\"))\n",
    "#     total = total + student\n",
    "\n",
    "# print(\"Total Student Attendence of the week\",total)"
   ]
  },
  {
   "cell_type": "code",
   "execution_count": 45,
   "id": "254704dd-d53c-465f-ac10-bff770855267",
   "metadata": {},
   "outputs": [
    {
     "name": "stdout",
     "output_type": "stream",
     "text": [
      "enter the password  94\n",
      "enter the password  9376\n"
     ]
    },
    {
     "name": "stdout",
     "output_type": "stream",
     "text": [
      "Correct!\n"
     ]
    }
   ],
   "source": [
    "# Q.8  Password Attempts Create a password checker where the user has 3 attempts to input the correct password. \n",
    "# After 3 wrong attempts, display an error message and terminate the program.\n",
    "\n",
    "\n",
    "for i in range(1,4):\n",
    "    password=  int(input(\"enter the password \"))\n",
    "    p = 9376\n",
    "    if(password==p):\n",
    "        print(\"Correct!\")\n",
    "        break\n",
    "else:\n",
    "    print(\"Terminate try again!\")\n",
    "\n"
   ]
  },
  {
   "cell_type": "code",
   "execution_count": 46,
   "id": "d951e184-5d5e-4f3c-8a6d-4ce5cddc4fb2",
   "metadata": {},
   "outputs": [
    {
     "name": "stdout",
     "output_type": "stream",
     "text": [
      "enter the total amount  10000\n",
      "enter the rate  2\n",
      "enter the time  2\n"
     ]
    },
    {
     "name": "stdout",
     "output_type": "stream",
     "text": [
      "Total interest is  400\n"
     ]
    }
   ],
   "source": [
    "# Q.9   Simple Interest Calculation Write a program that calculates the simple interest given principal, \n",
    "# rate of interest, and time.\n",
    "\n",
    "amount  = int(input(\"enter the total amount \"))\n",
    "rate = int(input(\"enter the rate \"))\n",
    "time = int(input(\"enter the time \"))\n",
    "\n",
    "interest = (amount*rate*time)//100\n",
    "\n",
    "print(\"Total interest is \",interest)\n",
    "           \n"
   ]
  },
  {
   "cell_type": "code",
   "execution_count": 48,
   "id": "c7351cf1-bf28-4068-ab2c-776d98810af1",
   "metadata": {},
   "outputs": [
    {
     "name": "stdout",
     "output_type": "stream",
     "text": [
      "enter the total bill amount  1500\n",
      "enter the total person  10\n"
     ]
    },
    {
     "name": "stdout",
     "output_type": "stream",
     "text": [
      "Each person  150\n"
     ]
    }
   ],
   "source": [
    "# Q.10  Bill Splitter Create a function that takes the total bill amount and the number of people, and returns how much each person has to pay.\n",
    "\n",
    "def bill(total,person):\n",
    "    each_person = total//person\n",
    "    return each_person\n",
    "\n",
    "\n",
    "\n",
    "total = int(input(\"enter the total bill amount \"))\n",
    "person = int(input(\"enter the total person \"))\n",
    "\n",
    "a  = bill(total,person)\n",
    "print(\"Each person \",a)"
   ]
  },
  {
   "cell_type": "code",
   "execution_count": 58,
   "id": "645ca5d9-fcbb-4b06-85f6-091306f75812",
   "metadata": {},
   "outputs": [
    {
     "name": "stdout",
     "output_type": "stream",
     "text": [
      "dict_values(['It', 'Hr', 'It', 'It'])\n",
      "Total number of employee  3\n"
     ]
    }
   ],
   "source": [
    "# Q.11  Number of Employees Write a function that takes a dictionary containing employee names and their departments, \n",
    "# and returns the total number of employees in a particular department.\n",
    "\n",
    "def employee(dict,d):\n",
    "    c=0\n",
    "    list= dict.values()\n",
    "    print(list)\n",
    "    for i in list:\n",
    "        if(i==d):\n",
    "            c+=1\n",
    "    return c\n",
    "\n",
    "\n",
    "\n",
    "dict = {\n",
    "    \"Deepak\":\"It\",\n",
    "    \"yash\":\"Hr\",\n",
    "    \"umesh\":\"It\",\n",
    "    \"khemu\":\"It\"\n",
    "}\n",
    "    \n",
    "t = employee(dict,\"It\")\n",
    "print(\"Total number of employee \",t)"
   ]
  },
  {
   "cell_type": "code",
   "execution_count": 70,
   "id": "d78b61cb-c5cd-432d-90e6-015bf1149e8a",
   "metadata": {},
   "outputs": [
    {
     "name": "stdout",
     "output_type": "stream",
     "text": [
      "change shopping list   yes\n",
      "enter the input what is change  a\n",
      "enter the item kv\n"
     ]
    },
    {
     "name": "stdout",
     "output_type": "stream",
     "text": [
      "['mango', 'apple', 'banana', 'kv']\n"
     ]
    },
    {
     "name": "stdout",
     "output_type": "stream",
     "text": [
      "change shopping list   yes\n",
      "enter the input what is change  a\n",
      "enter the item coconut\n"
     ]
    },
    {
     "name": "stdout",
     "output_type": "stream",
     "text": [
      "['mango', 'apple', 'banana', 'kv', 'coconut']\n"
     ]
    },
    {
     "name": "stdout",
     "output_type": "stream",
     "text": [
      "change shopping list   r\n",
      "change shopping list   yes\n",
      "enter the input what is change  r\n",
      "enter the item to be remove  apple\n"
     ]
    },
    {
     "name": "stdout",
     "output_type": "stream",
     "text": [
      "['mango', 'banana', 'kv', 'coconut']\n"
     ]
    },
    {
     "name": "stdout",
     "output_type": "stream",
     "text": [
      "change shopping list   no\n"
     ]
    },
    {
     "name": "stdout",
     "output_type": "stream",
     "text": [
      "['mango', 'banana', 'kv', 'coconut']\n"
     ]
    }
   ],
   "source": [
    "# Q.12  Shopping List Manager Write a program that allows a user to add items to a shopping list, remove items, and display the final list.\n",
    "        \n",
    "\n",
    "list = [\"mango\",\"apple\",\"banana\"]\n",
    "while True:\n",
    "    \n",
    "    m  = input(\"change shopping list  \")\n",
    "    if(m==\"no\"):\n",
    "        print(list)\n",
    "        break\n",
    "    # what = input(\"enter the input what is change \")\n",
    "    if(m==\"yes\"):\n",
    "        what = input(\"enter the input what is change \")\n",
    "        if(what==\"a\"):\n",
    "            item = input(\"enter the item\")\n",
    "            list.append(item)\n",
    "            print(list)\n",
    "        elif(what==\"r\"):\n",
    "            item = input(\"enter the item to be remove \")\n",
    "            list.remove(item)\n",
    "            print(list)\n",
    "        else:\n",
    "            print(list)\n",
    "\n",
    "\n",
    "\n",
    "        "
   ]
  },
  {
   "cell_type": "code",
   "execution_count": 77,
   "id": "a9156e0f-5689-4a39-8080-510f4ddae616",
   "metadata": {},
   "outputs": [
    {
     "name": "stdout",
     "output_type": "stream",
     "text": [
      "enter the day 1 stock price  400\n",
      "enter the day 2 stock price  500\n",
      "enter the day 3 stock price  600\n",
      "enter the day 4 stock price  200\n",
      "enter the day 5 stock price  400\n",
      "enter the day 6 stock price  800\n",
      "enter the day 7 stock price  250\n"
     ]
    },
    {
     "name": "stdout",
     "output_type": "stream",
     "text": [
      "[400, 500, 600, 200, 400, 800, 250]\n",
      "highest of the week day  6   800\n",
      "lowest  of the week day  4   200\n"
     ]
    }
   ],
   "source": [
    "# Q.13   Stock Prices Given a list of daily stock prices, create a program that finds and prints the highest and \n",
    "# lowest prices for the week.\n",
    "\n",
    "list =[]\n",
    "for i in range(1,8):\n",
    "    price = int(input(f\"enter the day {i} stock price \"))\n",
    "    list.append(price)\n",
    "\n",
    "print(list)\n",
    "h = max(list)\n",
    "print(\"highest of the week day \",list.index(h)+1,\" \" , h)\n",
    "l = min(list)\n",
    "print(\"lowest  of the week day \",list.index(l)+1,\" \" , l)\n"
   ]
  },
  {
   "cell_type": "code",
   "execution_count": 124,
   "id": "0aa6cc2c-7f01-4ec9-ba27-25660287123a",
   "metadata": {},
   "outputs": [
    {
     "name": "stdout",
     "output_type": "stream",
     "text": [
      "('Cpp', 'java', 'python')\n"
     ]
    }
   ],
   "source": [
    "# Q.14   Book Collection Write a program that stores a collection of books (title, author) in tuples. Print the books sorted by title.\n",
    "\n",
    "book = [\"python\",\"java\",\"Cpp\"]\n",
    "author = (\"autho1\",\"author2\",\"author3\")\n",
    "\n",
    "x = sorted(book)\n",
    "\n",
    "print(tuple(x))\n",
    "\n",
    "\n",
    "\n",
    "\n"
   ]
  },
  {
   "cell_type": "code",
   "execution_count": 118,
   "id": "e905b066-3a39-49c2-a95e-f25f5e683374",
   "metadata": {},
   "outputs": [
    {
     "name": "stdout",
     "output_type": "stream",
     "text": [
      "Highest salary employee  e3 and salary is 30000\n"
     ]
    }
   ],
   "source": [
    "# Q.15   Employee Data Store employee information (name, age, salary) in a tuple. \n",
    "# Write a program to find the employee with the highest salary.\n",
    "\n",
    "employee = {\n",
    "    \"e1\":(\"deepak\",20,25000),\n",
    "    \"e2\":(\"khemu\",19,20000),\n",
    "    \"e3\":(\"Ankit\",22,30000)\n",
    "}\n",
    "h = 0\n",
    "\n",
    "for i,j in employee.items():\n",
    "    if (j[2]>h):\n",
    "        h = j[2]\n",
    "        e = i\n",
    "\n",
    "\n",
    "print(f\"Highest salary employee  {e} and salary is {h}\")\n",
    "\n"
   ]
  },
  {
   "cell_type": "code",
   "execution_count": 95,
   "id": "fc17174f-0b8d-4c97-9921-b0d021016806",
   "metadata": {},
   "outputs": [
    {
     "name": "stdout",
     "output_type": "stream",
     "text": [
      "{'mango': 20, 'apple': 30, 'banana': 25, 'kv': 15}\n",
      "mango 20\n",
      "apple 30\n",
      "banana 25\n",
      "kv 15\n"
     ]
    }
   ],
   "source": [
    "# Q.16   Product Inventory Write a program to store a product inventory where keys are product names and values are stock quantities.\n",
    "# Add functionality to check the stock of a particular product.\n",
    "\n",
    "\n",
    "store  ={\n",
    "    \"mango\":20,\n",
    "    \"apple\":30,\n",
    "    \"banana\":25,\n",
    "    \"kv\":15\n",
    "}\n",
    "\n",
    "print(store)\n",
    "for i,j in store.items():\n",
    "    print(i,j)"
   ]
  },
  {
   "cell_type": "code",
   "execution_count": 90,
   "id": "0ac74a8a-dabe-4a99-903a-772ec9fb7a07",
   "metadata": {},
   "outputs": [
    {
     "name": "stdout",
     "output_type": "stream",
     "text": [
      "enter the name to check grade  Rahul\n"
     ]
    },
    {
     "name": "stdout",
     "output_type": "stream",
     "text": [
      "Grade B\n"
     ]
    }
   ],
   "source": [
    "# Q.17   Student Grades Create a program that stores student names as keys and their grades as values in a dictionary.\n",
    "# Allow the user to input a student's name and retrieve their grade.\n",
    "\n",
    "\n",
    "student = {\n",
    "    \"Deepak\":\"Grade A\",\n",
    "    \"khemu\":\"Grade B\",\n",
    "    \"ankit\":\"Grade A\",\n",
    "    \"Rahul\":\"Grade B\"\n",
    "}\n",
    "\n",
    "name = input(\"enter the name to check grade \")\n",
    "\n",
    "print(student[name])\n",
    "    "
   ]
  },
  {
   "cell_type": "code",
   "execution_count": null,
   "id": "1e17667d-f18e-4a96-a5fd-7d20767fd728",
   "metadata": {},
   "outputs": [],
   "source": []
  }
 ],
 "metadata": {
  "kernelspec": {
   "display_name": "Python 3 (ipykernel)",
   "language": "python",
   "name": "python3"
  },
  "language_info": {
   "codemirror_mode": {
    "name": "ipython",
    "version": 3
   },
   "file_extension": ".py",
   "mimetype": "text/x-python",
   "name": "python",
   "nbconvert_exporter": "python",
   "pygments_lexer": "ipython3",
   "version": "3.12.4"
  }
 },
 "nbformat": 4,
 "nbformat_minor": 5
}
