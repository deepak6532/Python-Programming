{
 "cells": [
  {
   "cell_type": "markdown",
   "id": "34de74fa-cb0b-47c6-8cba-7398a0aa9361",
   "metadata": {},
   "source": [
    "# Dictionary in python "
   ]
  },
  {
   "cell_type": "code",
   "execution_count": 1,
   "id": "0825397d-9f91-4ce7-826c-fb58d1a9ef33",
   "metadata": {},
   "outputs": [],
   "source": [
    "# Identification  =  { key:value ,key :value ....,key:value}\n",
    "# mutable data type from values\n",
    "# Elements are separated by commas"
   ]
  },
  {
   "cell_type": "code",
   "execution_count": 37,
   "id": "d2ac5e89-15e3-4f3e-bfdb-9b1cff570a67",
   "metadata": {},
   "outputs": [
    {
     "name": "stdout",
     "output_type": "stream",
     "text": [
      "{'brand': 'kia', 'model': 'seltos', 'year': 2024}\n",
      "3\n"
     ]
    }
   ],
   "source": [
    "a = {\n",
    "    'brand' :'kia',\n",
    "    'model' : 'seltos',\n",
    "    'year' : 2024,\n",
    "}\n",
    "print(a)\n",
    "print(len(a)) "
   ]
  },
  {
   "cell_type": "code",
   "execution_count": 39,
   "id": "21b09bb0-a3a2-40eb-a826-f67a0a3c6f2c",
   "metadata": {},
   "outputs": [
    {
     "data": {
      "text/plain": [
       "dict"
      ]
     },
     "execution_count": 39,
     "metadata": {},
     "output_type": "execute_result"
    }
   ],
   "source": [
    "dict(a)\n",
    "type(a)\n",
    "# print(len(a))"
   ]
  },
  {
   "cell_type": "code",
   "execution_count": 4,
   "id": "334c1a69-d61c-4fbf-a7a4-838e1f0c9452",
   "metadata": {},
   "outputs": [
    {
     "name": "stdout",
     "output_type": "stream",
     "text": [
      "kia\n",
      "seltos\n",
      "2024\n"
     ]
    }
   ],
   "source": [
    "print(a['brand'])\n",
    "print(a['model'])\n",
    "print(a['year'])"
   ]
  },
  {
   "cell_type": "code",
   "execution_count": 5,
   "id": "0807a550-fe6b-42dc-bf77-4cac1a6a9ea0",
   "metadata": {},
   "outputs": [],
   "source": [
    "a['year'] = 2025"
   ]
  },
  {
   "cell_type": "code",
   "execution_count": 6,
   "id": "ba75a2df-5f55-475a-950a-04dd7fe79107",
   "metadata": {},
   "outputs": [
    {
     "name": "stdout",
     "output_type": "stream",
     "text": [
      "{'brand': 'kia', 'model': 'seltos', 'year': 2025}\n"
     ]
    }
   ],
   "source": [
    "print(a)"
   ]
  },
  {
   "cell_type": "code",
   "execution_count": 7,
   "id": "4ac5dbfa-9515-41c2-8fc0-ddb44ff27bfb",
   "metadata": {},
   "outputs": [
    {
     "name": "stdout",
     "output_type": "stream",
     "text": [
      "brand\n",
      "model\n",
      "year\n"
     ]
    }
   ],
   "source": [
    "# Loop in dictionary \n",
    "\n",
    "for i in a.keys():         # Extract all keys\n",
    "    print(i)"
   ]
  },
  {
   "cell_type": "code",
   "execution_count": 8,
   "id": "a138b117-ce2a-48d2-a20d-8e6bab540233",
   "metadata": {},
   "outputs": [
    {
     "name": "stdout",
     "output_type": "stream",
     "text": [
      "{'brand': 'kia', 'model': 'seltos', 'year': 2025}\n",
      "kia\n",
      "seltos\n",
      "2025\n"
     ]
    }
   ],
   "source": [
    "print(a)\n",
    "\n",
    "\n",
    "for i in a.values():  # Extract all values \n",
    "    print(i)"
   ]
  },
  {
   "cell_type": "code",
   "execution_count": 9,
   "id": "42bc03f8-b04d-49d8-a73c-5622f74e7dd8",
   "metadata": {},
   "outputs": [
    {
     "name": "stdout",
     "output_type": "stream",
     "text": [
      "brand kia\n",
      "model seltos\n",
      "year 2025\n"
     ]
    }
   ],
   "source": [
    "for x,y in a.items():   # Extract all keys and values parallel\n",
    "    print(x,y)"
   ]
  },
  {
   "cell_type": "code",
   "execution_count": 10,
   "id": "49571d06-aa27-42ce-919b-4ec57defbb25",
   "metadata": {},
   "outputs": [
    {
     "name": "stdout",
     "output_type": "stream",
     "text": [
      "{'brand': 'kia', 'model': 'seltos', 'year': 2025, 'Year': 2024}\n",
      "{'brand': 'kia', 'model': 'seltos', 'year': 2025}\n",
      "{'brand': 'kia', 'year': 2025}\n"
     ]
    }
   ],
   "source": [
    "a = {'brand': 'kia', 'model': 'seltos', 'year': 2025}\n",
    "\n",
    "a['Year']  =2024\n",
    "\n",
    "print(a)\n",
    "\n",
    "a.popitem()  # remove last key value pair\n",
    "print(a)\n",
    "\n",
    "a.pop('model')\n",
    "print(a)\n",
    "      "
   ]
  },
  {
   "cell_type": "code",
   "execution_count": 11,
   "id": "dc6b406f-74b0-47fc-89d2-1756663cfeba",
   "metadata": {},
   "outputs": [
    {
     "name": "stdout",
     "output_type": "stream",
     "text": [
      "{}\n"
     ]
    }
   ],
   "source": [
    "a.clear()\n",
    "print(a)"
   ]
  },
  {
   "cell_type": "code",
   "execution_count": 12,
   "id": "be1adbf0-ae40-4fb3-9d0a-8802a507fcda",
   "metadata": {},
   "outputs": [
    {
     "name": "stdout",
     "output_type": "stream",
     "text": [
      "{'Id': [1, 2, 3], 'Name': ['sam', 'Deepak', 'Rahul']}\n",
      "2\n"
     ]
    }
   ],
   "source": [
    "# List in ditionary\n",
    "a  = { \n",
    "    \"Id\" : [1,2,3],\n",
    "    \"Name\" : [\"sam\",\"Deepak\",\"Rahul\"]\n",
    "}\n",
    "print(a)\n",
    "\n",
    "\n",
    "a[\"Id\"]\n",
    "\n",
    "print(a[\"Id\"][1])"
   ]
  },
  {
   "cell_type": "code",
   "execution_count": null,
   "id": "43d80015-c7fc-4894-8926-2cf0fc534c84",
   "metadata": {},
   "outputs": [],
   "source": []
  },
  {
   "cell_type": "markdown",
   "id": "9c5006d4-a7f2-4a16-99c6-8501c59b4d64",
   "metadata": {},
   "source": [
    "# set in python "
   ]
  },
  {
   "cell_type": "code",
   "execution_count": 13,
   "id": "b5d2e5d2-f773-4ec9-8334-38f8f37aa290",
   "metadata": {},
   "outputs": [],
   "source": [
    "# Identifiction  = {}\n",
    "# mutable data type \n",
    "# unorderd ,unidexed and does not allow duplicate values"
   ]
  },
  {
   "cell_type": "code",
   "execution_count": 14,
   "id": "c9b16c9b-06d9-4537-bb3e-f1def48946bc",
   "metadata": {},
   "outputs": [
    {
     "name": "stdout",
     "output_type": "stream",
     "text": [
      "{56, 55, 'deepak'}\n"
     ]
    }
   ],
   "source": [
    "a = { 'deepak',56,'deepak',55}\n",
    "print(a)\n",
    "\n"
   ]
  },
  {
   "cell_type": "code",
   "execution_count": 15,
   "id": "89042976-b1e4-4de4-83b8-0561b69b136f",
   "metadata": {},
   "outputs": [
    {
     "data": {
      "text/plain": [
       "set"
      ]
     },
     "execution_count": 15,
     "metadata": {},
     "output_type": "execute_result"
    }
   ],
   "source": [
    "type(a)"
   ]
  },
  {
   "cell_type": "code",
   "execution_count": 16,
   "id": "6d708c7c-f022-45f9-9110-9e6393a7c005",
   "metadata": {},
   "outputs": [
    {
     "data": {
      "text/plain": [
       "set()"
      ]
     },
     "execution_count": 16,
     "metadata": {},
     "output_type": "execute_result"
    }
   ],
   "source": [
    "set()"
   ]
  },
  {
   "cell_type": "code",
   "execution_count": 17,
   "id": "2630c003-17ca-4e10-b752-14e4d0586593",
   "metadata": {},
   "outputs": [
    {
     "data": {
      "text/plain": [
       "set()"
      ]
     },
     "execution_count": 17,
     "metadata": {},
     "output_type": "execute_result"
    }
   ],
   "source": [
    "a = set()\n",
    "a"
   ]
  },
  {
   "cell_type": "code",
   "execution_count": 18,
   "id": "13e59e2a-c925-4db8-a9f1-aa1598b74b57",
   "metadata": {},
   "outputs": [
    {
     "name": "stdout",
     "output_type": "stream",
     "text": [
      "{56, 'rahul', 'deepak'}\n",
      "{56, 'rahul', 'mohit', 'deepak'}\n",
      "{56, 'rahul', 'mohit', 'deepak'}\n"
     ]
    }
   ],
   "source": [
    "a  ={ 'deepak' ,56 ,'deepak' ,'rahul'}\n",
    "print(a)\n",
    "\n",
    "a.add(\"mohit\")\n",
    "print(a)\n",
    "a.add(\"deepak\")\n",
    "print(a)"
   ]
  },
  {
   "cell_type": "code",
   "execution_count": 19,
   "id": "4ca95dce-f76d-43bc-8fd7-c13bc2bce4d6",
   "metadata": {},
   "outputs": [],
   "source": [
    "a.add(\"mohit\")"
   ]
  },
  {
   "cell_type": "code",
   "execution_count": 20,
   "id": "2e7e8d4a-9e09-4d16-9529-30b03988c770",
   "metadata": {},
   "outputs": [
    {
     "name": "stdout",
     "output_type": "stream",
     "text": [
      "{56, 'rahul', 'deepak'}\n"
     ]
    }
   ],
   "source": [
    "a.remove(\"mohit\")\n",
    "print(a)"
   ]
  },
  {
   "cell_type": "code",
   "execution_count": 21,
   "id": "6ca7acca-0bd0-4b0f-9194-bd854a6f8c27",
   "metadata": {},
   "outputs": [
    {
     "name": "stdout",
     "output_type": "stream",
     "text": [
      "{1, 2, 3, 4, 5, 6}\n"
     ]
    }
   ],
   "source": [
    "# Operation in sets\n",
    "\n",
    "# union()\n",
    "\n",
    "a =  { 1,2,3,4 }\n",
    "b  = {3,4,5,6}\n",
    "\n",
    "c  =a.union(b)\n",
    "print(c)"
   ]
  },
  {
   "cell_type": "code",
   "execution_count": 3,
   "id": "4cb11085-a106-4aa4-be5f-c90f02790c12",
   "metadata": {},
   "outputs": [
    {
     "name": "stdout",
     "output_type": "stream",
     "text": [
      "{1, 2, 3, 4, 5, 6}\n"
     ]
    }
   ],
   "source": [
    "a =  { 1,2,3,4 }\n",
    "b  = {3,4,5,6}\n",
    "# c  =  a|b\n",
    "# print(c)\n",
    "\n",
    "\n",
    "n = a|b\n",
    "print(n)"
   ]
  },
  {
   "cell_type": "code",
   "execution_count": 23,
   "id": "0c8ba36a-37dd-4e51-a4a8-3cba76f4694f",
   "metadata": {},
   "outputs": [
    {
     "data": {
      "text/plain": [
       "{3, 4}"
      ]
     },
     "execution_count": 23,
     "metadata": {},
     "output_type": "execute_result"
    }
   ],
   "source": [
    "# 2 intersection\n",
    "\n",
    "a=  { 1,2,3,4 }\n",
    "b = { 3,4,5,6 }\n",
    "\n",
    "c = a.intersection(b)\n",
    "c"
   ]
  },
  {
   "cell_type": "code",
   "execution_count": 24,
   "id": "e71d1d31-9e2d-4b1d-941f-fa4b1c80e468",
   "metadata": {},
   "outputs": [
    {
     "data": {
      "text/plain": [
       "{3, 4}"
      ]
     },
     "execution_count": 24,
     "metadata": {},
     "output_type": "execute_result"
    }
   ],
   "source": [
    "c = a&b          # common element\n",
    "c"
   ]
  },
  {
   "cell_type": "code",
   "execution_count": 25,
   "id": "ff89e727-5ecb-48b1-a925-3edf9fa2015b",
   "metadata": {},
   "outputs": [
    {
     "data": {
      "text/plain": [
       "{1, 2}"
      ]
     },
     "execution_count": 25,
     "metadata": {},
     "output_type": "execute_result"
    }
   ],
   "source": [
    "a -b       # diffrenceate : means  Elements that present in a not in b \n",
    "\n"
   ]
  },
  {
   "cell_type": "code",
   "execution_count": 26,
   "id": "288e8898-9521-40e7-a385-76b893472b4e",
   "metadata": {},
   "outputs": [
    {
     "data": {
      "text/plain": [
       "{5, 6}"
      ]
     },
     "execution_count": 26,
     "metadata": {},
     "output_type": "execute_result"
    }
   ],
   "source": [
    "b -a          # Elements that present in b not in a"
   ]
  },
  {
   "cell_type": "code",
   "execution_count": 27,
   "id": "dd437527-b616-43c8-b616-70ed918e0561",
   "metadata": {},
   "outputs": [
    {
     "data": {
      "text/plain": [
       "set()"
      ]
     },
     "execution_count": 27,
     "metadata": {},
     "output_type": "execute_result"
    }
   ],
   "source": [
    "a.clear()\n",
    "a"
   ]
  }
 ],
 "metadata": {
  "kernelspec": {
   "display_name": "Python 3 (ipykernel)",
   "language": "python",
   "name": "python3"
  },
  "language_info": {
   "codemirror_mode": {
    "name": "ipython",
    "version": 3
   },
   "file_extension": ".py",
   "mimetype": "text/x-python",
   "name": "python",
   "nbconvert_exporter": "python",
   "pygments_lexer": "ipython3",
   "version": "3.12.4"
  }
 },
 "nbformat": 4,
 "nbformat_minor": 5
}
