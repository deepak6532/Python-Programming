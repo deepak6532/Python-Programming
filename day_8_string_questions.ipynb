{
 "cells": [
  {
   "cell_type": "markdown",
   "id": "373c680a-5ffd-43da-8225-7dac7b251ea3",
   "metadata": {},
   "source": [
    "# string question 2-8"
   ]
  },
  {
   "cell_type": "code",
   "execution_count": null,
   "id": "e3ed1b75-cb3a-4f3e-a4f8-42d7b582a402",
   "metadata": {},
   "outputs": [
    {
     "name": "stdout",
     "output_type": "stream",
     "text": [
      "apple pie and apple juice\n",
      "orange pie and orange juice\n"
     ]
    }
   ],
   "source": [
    "# Q.2 Replace all occurrences of \"apple\" with \"orange\" in the string s = \"apple pie and apple juice\".\n",
    "\n",
    "s  = \"apple pie and apple juice\"\n",
    "\n",
    "print(s)\n",
    "print(s.replace(\"apple\" ,\"orange\"))"
   ]
  },
  {
   "cell_type": "code",
   "execution_count": null,
   "id": "dcbe3b22-ed98-4162-ab37-9d1f872a7091",
   "metadata": {},
   "outputs": [],
   "source": [
    "# Q.3 How would you check if the strings s1 = \"Hello\" and  s2 = \"hello\" are equal, ignoring case?\n",
    "\n",
    "s1 = \"Hello\" \n",
    "s2 = \"hello\"\n",
    "\n",
    "if(s1.lower() == s2.lower()):\n",
    "    print(\"String are equal \")\n",
    "\n"
   ]
  },
  {
   "cell_type": "code",
   "execution_count": null,
   "id": "61258c52-2941-4adb-b63a-790e3ed248ec",
   "metadata": {},
   "outputs": [
    {
     "name": "stdout",
     "output_type": "stream",
     "text": [
      "bdfh\n"
     ]
    }
   ],
   "source": [
    " # Q.4 From the string s = \"abcdefgh\",  extract every second character (i.e., \"bdfh\").\n",
    "\n",
    "s = \"abcdefgh\"\n",
    "print(s[1::2])\n"
   ]
  },
  {
   "cell_type": "code",
   "execution_count": null,
   "id": "5756bea2-b3f6-416e-8d9a-8ba442047dcc",
   "metadata": {},
   "outputs": [
    {
     "name": "stdout",
     "output_type": "stream",
     "text": [
      "True\n"
     ]
    }
   ],
   "source": [
    "# Q.5 Given the string s = \"12345\", how would you check if it contains only numeric digits?\n",
    "\n",
    "s = \"1235\"\n",
    "print(s.isdigit())"
   ]
  },
  {
   "cell_type": "code",
   "execution_count": null,
   "id": "d5c27ebd-795b-41df-af2a-997ce147a699",
   "metadata": {},
   "outputs": [
    {
     "name": "stdout",
     "output_type": "stream",
     "text": [
      "Python Is Fun\n"
     ]
    }
   ],
   "source": [
    "# Q.6 Convert the string s = \"python is fun\" so that the first letter of each word is capitalized.\n",
    "\n",
    "s = \"python is fun\"\n",
    "\n",
    "print(s.title())"
   ]
  },
  {
   "cell_type": "code",
   "execution_count": null,
   "id": "c8fadc18-23d8-4bb2-8f79-dcaa7a945743",
   "metadata": {},
   "outputs": [
    {
     "name": "stdout",
     "output_type": "stream",
     "text": [
      " hll wrld\n"
     ]
    }
   ],
   "source": [
    "# Q.7 Given the string s = \"hello world\", how would you remove all the vowels?\n",
    "\n",
    "s = \"hello world\"\n",
    "\n",
    "v  = \"aeiouAEIOU\"\n",
    "result =\" \"\n",
    "for char in s:\n",
    "    if char not in v:\n",
    "        result += char\n",
    "print(result)"
   ]
  },
  {
   "cell_type": "code",
   "execution_count": null,
   "id": "cc199049-9255-4159-b1dd-1bf016ed2589",
   "metadata": {},
   "outputs": [
    {
     "name": "stdout",
     "output_type": "stream",
     "text": [
      "yes\n"
     ]
    }
   ],
   "source": [
    "# Q.8 Check if the substring \"fun\" exists in the string s = \"Python is fun\".\n",
    "\n",
    "s= \"python is fun\"\n",
    "\n",
    "if \"fun\" in s:\n",
    "    print(\"yes\")\n",
    "else:\n",
    "    print(\"No\")"
   ]
  },
  {
   "cell_type": "code",
   "execution_count": null,
   "id": "12d9d7f0-361f-49d8-be84-827adcc9d4c0",
   "metadata": {},
   "outputs": [],
   "source": []
  },
  {
   "cell_type": "code",
   "execution_count": null,
   "id": "fcc8fbff-70d0-408c-a301-028c1b8efe45",
   "metadata": {},
   "outputs": [],
   "source": []
  }
 ],
 "metadata": {
  "kernelspec": {
   "display_name": "Python 3 (ipykernel)",
   "language": "python",
   "name": "python3"
  },
  "language_info": {
   "codemirror_mode": {
    "name": "ipython",
    "version": 3
   },
   "file_extension": ".py",
   "mimetype": "text/x-python",
   "name": "python",
   "nbconvert_exporter": "python",
   "pygments_lexer": "ipython3",
   "version": "3.12.4"
  }
 },
 "nbformat": 4,
 "nbformat_minor": 5
}
