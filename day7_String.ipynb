{
 "cells": [
  {
   "cell_type": "markdown",
   "id": "fe246037-d472-48e5-83a4-270121f1adcd",
   "metadata": {},
   "source": [
    "# string\n"
   ]
  },
  {
   "cell_type": "code",
   "execution_count": 1,
   "id": "98270578-d86e-43da-99a3-b200c97add8a",
   "metadata": {},
   "outputs": [
    {
     "name": "stdout",
     "output_type": "stream",
     "text": [
      "Hello ,World!\n",
      "Hello ,World!\n",
      "This is a multi line \n",
      "string\n"
     ]
    }
   ],
   "source": [
    "# Single line strings\n",
    "a = 'Hello ,World!'\n",
    "b = \"Hello ,World!\"\n",
    "\n",
    "# Multiline String\n",
    "\n",
    "c = '''This is a multi line \n",
    "string'''\n",
    "\n",
    "print(a)\n",
    "print(b)\n",
    "print(c)"
   ]
  },
  {
   "cell_type": "markdown",
   "id": "2fabe821-5300-40e1-8a08-93c862a02e9d",
   "metadata": {},
   "source": [
    "# Step 2 Acccsing charc"
   ]
  },
  {
   "cell_type": "code",
   "execution_count": 4,
   "id": "1accad13-2b39-4eb6-b824-0a9448608062",
   "metadata": {},
   "outputs": [
    {
     "name": "stdout",
     "output_type": "stream",
     "text": [
      "p\n",
      "y\n",
      "n\n"
     ]
    }
   ],
   "source": [
    "# Forward indexing start from 0 and backword indesxing start from -1.\n",
    "\n",
    "my_string = \"python\"\n",
    "\n",
    "print(my_string[0])\n",
    "print(my_String[1])\n",
    "print(my_string[-1])\n"
   ]
  },
  {
   "cell_type": "markdown",
   "id": "72d656cd-5641-44cf-af06-916b4e7c5bbe",
   "metadata": {},
   "source": [
    "# Step 3 :STring Slicing\n",
    "\n",
    "you can extract a part of a slicing using slicing .The syntax is string[start:end]\n"
   ]
  },
  {
   "cell_type": "code",
   "execution_count": 6,
   "id": "13b95472-7151-428c-a7d8-af8e7be09dec",
   "metadata": {},
   "outputs": [
    {
     "name": "stdout",
     "output_type": "stream",
     "text": [
      "python\n",
      "python\n",
      "python\n"
     ]
    }
   ],
   "source": [
    "my_String  =\"python programing\"\n",
    "\n",
    "print(my_string[0:6])\n",
    "print(my_String[:6])\n",
    "print(my_string[0:])\n"
   ]
  },
  {
   "cell_type": "markdown",
   "id": "441e426f-dbe1-4025-990a-a45f156e0fb3",
   "metadata": {},
   "source": [
    "# step 4 string concatenation and Repetition"
   ]
  },
  {
   "cell_type": "code",
   "execution_count": 1,
   "id": "4c15873e-72f5-4792-a9a4-b05e38aecb04",
   "metadata": {},
   "outputs": [
    {
     "name": "stdout",
     "output_type": "stream",
     "text": [
      "Hello World\n",
      "369\n"
     ]
    }
   ],
   "source": [
    "string1 = \"Hello\"\n",
    "string2 = \"World\"\n",
    "\n",
    "concatenated = string1 + \" \" +string2\n",
    "\n",
    "print(concatenated)\n",
    "\n",
    "n= 123\n",
    "repeated = n *3\n",
    "print(repeated)"
   ]
  },
  {
   "cell_type": "markdown",
   "id": "c297a46a-b3bb-446b-bc0b-fb86bffcb2cf",
   "metadata": {},
   "source": [
    "# step 5 : Checking for substrings\n",
    "\n",
    "you can check if a substring exists in a string using the in operator"
   ]
  },
  {
   "cell_type": "code",
   "execution_count": 12,
   "id": "9fc96347-1b2f-49c4-92f9-d95fdcdb7956",
   "metadata": {},
   "outputs": [
    {
     "name": "stdout",
     "output_type": "stream",
     "text": [
      "True\n",
      "False\n"
     ]
    }
   ],
   "source": [
    "string  = \"python programming \"\n",
    "print(\"python\" in string)\n",
    "print(\"java\" in string)"
   ]
  },
  {
   "cell_type": "markdown",
   "id": "af945945-128e-408d-9273-7cbdac131286",
   "metadata": {},
   "source": [
    "# step 6 : string method :\n",
    " python provides many built-in string method to manipulate string \n"
   ]
  },
  {
   "cell_type": "code",
   "execution_count": 14,
   "id": "819aa1e5-a698-438f-a16e-31b6b1792da6",
   "metadata": {},
   "outputs": [],
   "source": [
    "# lower() \n",
    "# upper()"
   ]
  },
  {
   "cell_type": "code",
   "execution_count": 3,
   "id": "27270c1a-c51c-4402-af47-532090e5960e",
   "metadata": {},
   "outputs": [
    {
     "name": "stdout",
     "output_type": "stream",
     "text": [
      "hello,world!\n"
     ]
    }
   ],
   "source": [
    "# (2) strip :Removes whitespaces from both ends of a string.\n",
    "\n",
    "text = \"   hello,world!     \"\n",
    "print(text.strip())\n",
    "\n"
   ]
  },
  {
   "cell_type": "code",
   "execution_count": 18,
   "id": "7dec9bfc-4a20-41c2-93e5-fd58929b9153",
   "metadata": {},
   "outputs": [
    {
     "name": "stdout",
     "output_type": "stream",
     "text": [
      " I love coding\n"
     ]
    }
   ],
   "source": [
    "#  (3) .replace(): Replaces a substring with another string \n",
    "\n",
    "text  = \" I love python \"\n",
    "\n",
    "print(text.replace(\"python \" ,\"coding\"))"
   ]
  },
  {
   "cell_type": "code",
   "execution_count": 11,
   "id": "44e913e3-ac62-4377-a37b-a174a388bcad",
   "metadata": {},
   "outputs": [
    {
     "name": "stdout",
     "output_type": "stream",
     "text": [
      "['apple', 'banana', 'cherry']\n"
     ]
    }
   ],
   "source": [
    "# ( 4 ) .split() : Splits a string into a list .\n",
    "\n",
    "text = \"apple,banana,cherry\"\n",
    "\n",
    "print(text.split(\",\"))"
   ]
  },
  {
   "cell_type": "code",
   "execution_count": 7,
   "id": "7062a2d3-3eeb-42d6-be2a-50dce8d09eb6",
   "metadata": {},
   "outputs": [
    {
     "name": "stdout",
     "output_type": "stream",
     "text": [
      "apple,banana,cherry\n"
     ]
    }
   ],
   "source": [
    "# (5) .join(): joins elements of a list into a single string.\n",
    "\n",
    "fruits = ['apple','banana','cherry']\n",
    "\n",
    "print(\",\".join(fruits))"
   ]
  },
  {
   "cell_type": "markdown",
   "id": "4e7ed714-3453-4e1e-a66e-32d7dbe8740d",
   "metadata": {},
   "source": [
    "# STRING FORMATING\n",
    "\n"
   ]
  },
  {
   "cell_type": "code",
   "execution_count": null,
   "id": "da2cb087-44f2-4642-aeba-ae0539bd3598",
   "metadata": {},
   "outputs": [],
   "source": [
    "# using f-strings:"
   ]
  },
  {
   "cell_type": "code",
   "execution_count": 27,
   "id": "76743112-0a64-47bb-8dd3-39d2dedce09a",
   "metadata": {},
   "outputs": [
    {
     "name": "stdout",
     "output_type": "stream",
     "text": [
      "my name is Deepak and I am 19 year old\n"
     ]
    }
   ],
   "source": [
    "name = \"Deepak\"\n",
    "\n",
    "age = 19\n",
    "\n",
    "print(f\"my name is {name} and I am {age} year old\")"
   ]
  },
  {
   "cell_type": "code",
   "execution_count": 28,
   "id": "ce769af3-eb46-469a-8297-739343f978dc",
   "metadata": {},
   "outputs": [
    {
     "name": "stdout",
     "output_type": "stream",
     "text": [
      "my name is  Deepak and I am 19 years old \n"
     ]
    }
   ],
   "source": [
    "# (2) using .format():\n",
    "\n",
    "name = \"Deepak\" \n",
    "age =19\n",
    "\n",
    "print(\"my name is  {} and I am {} years old \" .format(name,age))"
   ]
  },
  {
   "cell_type": "code",
   "execution_count": 29,
   "id": "a1083ad4-d05a-4771-b669-d67bde3ab0da",
   "metadata": {},
   "outputs": [],
   "source": [
    "# STEP 8 : ESCAPING SPECIAL CHARACTERS\n",
    "\n",
    "# if you need to include special character like quotes inside use the backslash(\\).\n"
   ]
  },
  {
   "cell_type": "code",
   "execution_count": 13,
   "id": "a5dd4958-9b71-4ac6-bb61-0cf46e91e333",
   "metadata": {},
   "outputs": [
    {
     "name": "stdout",
     "output_type": "stream",
     "text": [
      "she said ,\"hello!\"\n"
     ]
    }
   ],
   "source": [
    "quote = 'she said ,\"hello!\"'\n",
    "\n",
    "excaped_quote = 'she said,\\\"Hello!\\\"'\n",
    "print(quote)"
   ]
  },
  {
   "cell_type": "code",
   "execution_count": 14,
   "id": "ea05aaf8-2cce-4fc3-a427-e0c50935c261",
   "metadata": {},
   "outputs": [],
   "source": [
    "# STEP 9 MULTIPLINE STRING WITH TRIPLE QUOTES\n",
    "\n",
    "# you can use triple for multiline strigns."
   ]
  },
  {
   "cell_type": "code",
   "execution_count": 15,
   "id": "288a789a-3e3e-47f9-b0cf-1abf1fb7baf5",
   "metadata": {},
   "outputs": [
    {
     "name": "stdout",
     "output_type": "stream",
     "text": [
      "This is a string \n",
      "that spans multiple \n",
      "lines\n"
     ]
    }
   ],
   "source": [
    "multi_line = \"\"\"This is a string \n",
    "that spans multiple \n",
    "lines\"\"\"\n",
    "print(multi_line)"
   ]
  },
  {
   "cell_type": "code",
   "execution_count": 32,
   "id": "00556c6b-12d6-4377-8b5c-ecaee780f83d",
   "metadata": {},
   "outputs": [],
   "source": [
    "# STEP 11 .SLICING OPERATOR \n",
    "\n",
    "# SLICING ALLOW YOU TO EXTRACT A SUBSTRING FROMM A STRING. THE SYNTAX FOR SLICING IS STRING [START :END],WHERE\n",
    "\n",
    "# (1) START IS THE INDEX WHERE THE SLICE STARTS(INCLUDSIVE)\n",
    "\n",
    "# (2) END IS WHERE THE SLICE ENDS (EXCLUSIVE)\n",
    "\n"
   ]
  },
  {
   "cell_type": "code",
   "execution_count": 33,
   "id": "1ce38c35-0025-4605-9c67-8e42948a05d5",
   "metadata": {},
   "outputs": [
    {
     "name": "stdout",
     "output_type": "stream",
     "text": [
      "python\n",
      "python\n",
      "python programing \n"
     ]
    }
   ],
   "source": [
    "string = \"python programing \" \n",
    "\n",
    "# slicing to get substring\n",
    "\n",
    "substring1 = string[0:6]\n",
    "substring2 = string[:6]\n",
    "substring3 = string[0:]\n",
    "\n",
    "print(substring1)\n",
    "print(substring2)\n",
    "print(substring3)\n"
   ]
  },
  {
   "cell_type": "code",
   "execution_count": 34,
   "id": "93bd9540-6e31-477e-b71c-30ebfd9fdea4",
   "metadata": {},
   "outputs": [],
   "source": [
    "# QUESTIOSNS"
   ]
  },
  {
   "cell_type": "code",
   "execution_count": 21,
   "id": "8dd96c69-956d-4dcd-be1e-4ab3f464b045",
   "metadata": {},
   "outputs": [
    {
     "name": "stdout",
     "output_type": "stream",
     "text": [
      "olleh\n",
      "olleh\n"
     ]
    }
   ],
   "source": [
    "# 1 :\n",
    "\n",
    "s = \"hello\"\n",
    "\n",
    "print(s[::-1])\n",
    "\n",
    "print(s[::-1])"
   ]
  },
  {
   "cell_type": "code",
   "execution_count": 50,
   "id": "669d2e0a-74b3-4de3-801f-fd47d0630a52",
   "metadata": {},
   "outputs": [
    {
     "name": "stdout",
     "output_type": "stream",
     "text": [
      "gram\n"
     ]
    }
   ],
   "source": [
    "# 2 :\n",
    "\n",
    "s =\"programming\"\n",
    "\n",
    "print(s[3:7])\n",
    "\n",
    "\n"
   ]
  },
  {
   "cell_type": "code",
   "execution_count": 59,
   "id": "d35f6cfe-074c-4dcc-a500-f285ac2911ae",
   "metadata": {},
   "outputs": [
    {
     "name": "stdout",
     "output_type": "stream",
     "text": [
      "3\n"
     ]
    }
   ],
   "source": [
    "# 3 :\n",
    "\n",
    "s = \"banana\"\n",
    "count = 0\n",
    "for i in s:\n",
    "    if(i=='a'):\n",
    "        count = count + 1\n",
    "\n",
    "print(count)"
   ]
  },
  {
   "cell_type": "code",
   "execution_count": 22,
   "id": "5f89d4f1-dbce-4b71-88d9-281278107a23",
   "metadata": {},
   "outputs": [
    {
     "name": "stdout",
     "output_type": "stream",
     "text": [
      "HELLO WORLD\n"
     ]
    }
   ],
   "source": [
    "# 4 \n",
    "\n",
    "s = \"hello world\"\n",
    "\n",
    "print(s.upper())"
   ]
  },
  {
   "cell_type": "code",
   "execution_count": 63,
   "id": "ebeab281-500c-4e28-8b77-4d36308c6c65",
   "metadata": {},
   "outputs": [
    {
     "name": "stdout",
     "output_type": "stream",
     "text": [
      "True\n"
     ]
    }
   ],
   "source": [
    "# 5\n",
    "s = \"hello world\"\n",
    "\n",
    "print(s.startswith(\"hello\"))"
   ]
  },
  {
   "cell_type": "code",
   "execution_count": 75,
   "id": "0aa0452a-9ed1-4fda-a22e-81db81f8e3e3",
   "metadata": {},
   "outputs": [
    {
     "name": "stdout",
     "output_type": "stream",
     "text": [
      "4\n"
     ]
    }
   ],
   "source": [
    "# 6 \n",
    "s =  \"hello world\"\n",
    "\n",
    "c = 0\n",
    "\n",
    "for i in s:\n",
    "    if(i==\"o\"):\n",
    "        print(c)\n",
    "        break\n",
    "    else:\n",
    "        c+=1\n",
    "     \n",
    "        "
   ]
  },
  {
   "cell_type": "code",
   "execution_count": 1,
   "id": "0a9e59ed-3de0-4481-89da-312a3f769a63",
   "metadata": {},
   "outputs": [
    {
     "name": "stdout",
     "output_type": "stream",
     "text": [
      "['apple', 'banana', 'cherry']\n",
      "True\n",
      "hello\n",
      "python is fun\n"
     ]
    }
   ],
   "source": [
    "# 7\n",
    "\n",
    "s = \"apple,banana,cherry\"\n",
    "print(s.split(\",\"))\n",
    "\n",
    "\n",
    "# 8\n",
    "s = \"abc123\"\n",
    "\n",
    "print(s.isalnum())\n",
    "\n",
    "\n",
    "# 9\n",
    "s = \"  hello \"\n",
    "print(s.strip())\n",
    "\n",
    "# 10\n",
    "\n",
    "s = [\"python\",\"is\",\"fun\"]\n",
    "print(\" \".join(s))\n",
    "\n",
    "\n",
    "\n",
    "\n"
   ]
  },
  {
   "cell_type": "code",
   "execution_count": null,
   "id": "35db79cb-24b4-49ae-a3c0-e79574298c8b",
   "metadata": {},
   "outputs": [],
   "source": []
  }
 ],
 "metadata": {
  "kernelspec": {
   "display_name": "Python 3 (ipykernel)",
   "language": "python",
   "name": "python3"
  },
  "language_info": {
   "codemirror_mode": {
    "name": "ipython",
    "version": 3
   },
   "file_extension": ".py",
   "mimetype": "text/x-python",
   "name": "python",
   "nbconvert_exporter": "python",
   "pygments_lexer": "ipython3",
   "version": "3.12.4"
  }
 },
 "nbformat": 4,
 "nbformat_minor": 5
}
