{
 "cells": [
  {
   "cell_type": "code",
   "execution_count": 1,
   "id": "fccdba2d-34a8-4f3e-a430-254d236b5034",
   "metadata": {},
   "outputs": [
    {
     "name": "stdin",
     "output_type": "stream",
     "text": [
      "enter the number  15\n"
     ]
    },
    {
     "name": "stdout",
     "output_type": "stream",
     "text": [
      "1 3 5 15 "
     ]
    }
   ],
   "source": [
    "# 1. Print all factors of a given number provided by the user.\n",
    "\n",
    "number = int(input(\"enter the number \"))\n",
    "i=1\n",
    "while(i<=number):\n",
    "    if(number%i==0):\n",
    "        print(i,end=\" \")\n",
    "    i+=1\n",
    "    "
   ]
  },
  {
   "cell_type": "code",
   "execution_count": 2,
   "id": "3d82a212-0d1d-4f0b-9a0a-e81c52efe676",
   "metadata": {},
   "outputs": [
    {
     "name": "stdout",
     "output_type": "stream",
     "text": [
      "1 2 3 4 5 6 7 8 9 "
     ]
    }
   ],
   "source": [
    "# 2. Print all the armstrong numbers in the range of 100 to 1000 [M]\n",
    "\n",
    "for n in range(1,100):\n",
    "    t = n\n",
    "    sum =0\n",
    "    l = len(str(n))\n",
    "    while(n>0):\n",
    "        r= n%10\n",
    "        sum = sum + r**l \n",
    "        n = n//10\n",
    "\n",
    "    if(t==sum):\n",
    "        print(t,end=\" \")\n",
    "    \n",
    "    \n",
    "    "
   ]
  },
  {
   "cell_type": "code",
   "execution_count": 30,
   "id": "3efca828-8979-442d-8be8-f89603cbc65a",
   "metadata": {},
   "outputs": [
    {
     "name": "stdout",
     "output_type": "stream",
     "text": [
      "1 9000.0\n",
      "2 8100.0\n",
      "3 7290.0\n",
      "4 6561.0\n",
      "5 5904.9\n",
      "6 5314.41\n",
      "7 4782.969\n",
      "8 4304.6721\n",
      "9 3874.20489\n",
      "10 3486.784401\n"
     ]
    }
   ],
   "source": [
    "# 3. The current population of a town is 10000. The population of the town is increasing at\n",
    "# the rate of 10% per year. You have to write a program to find out the population at the\n",
    "# end of each of the last 10 years. For eg current population is 10000 so the output\n",
    "# should be like this:\n",
    "# a. 10th year => 10000\n",
    "# b. 09th year => 9000\n",
    "# c. 08th year => 8100 and so on\n",
    "\n",
    "population = 10000\n",
    "\n",
    "for i in range(1,11):\n",
    "    population  = population - (population*0.10)\n",
    "    print(i,population )\n"
   ]
  },
  {
   "cell_type": "code",
   "execution_count": 5,
   "id": "aa8057d2-451a-45ff-b386-bc4e5e4f98f2",
   "metadata": {},
   "outputs": [
    {
     "name": "stdin",
     "output_type": "stream",
     "text": [
      "enter the number  55\n"
     ]
    },
    {
     "name": "stdout",
     "output_type": "stream",
     "text": [
      "not prime\n"
     ]
    }
   ],
   "source": [
    "# 4. Write a program to print whether a given number is prime number or not\n",
    "\n",
    "number= int(input(\"enter the number \"))\n",
    "\n",
    "i=2\n",
    "c=0\n",
    "while(i<number):\n",
    "    if(number%i==0):\n",
    "        c=1\n",
    "        break\n",
    "    i+=1\n",
    "if(c==1):\n",
    "    print(\"not prime\")\n",
    "else:\n",
    "    print(\"Prime\")"
   ]
  },
  {
   "cell_type": "code",
   "execution_count": 19,
   "id": "6a6d1af9-bd39-40a8-a670-7eac166b1e54",
   "metadata": {},
   "outputs": [
    {
     "name": "stdin",
     "output_type": "stream",
     "text": [
      "enter the first number  15\n",
      "enter the number second  25\n"
     ]
    },
    {
     "name": "stdout",
     "output_type": "stream",
     "text": [
      "75\n"
     ]
    }
   ],
   "source": [
    "# 5. User will provide 2 numbers you have to find the by LCM of those 2 numbers\n",
    "\n",
    "number1 = int(input(\"enter the first number \"))\n",
    "number2= int(input(\"enter the number second \"))\n",
    "\n",
    "lcm  = max(number1 ,number2)\n",
    "\n",
    "while(True):\n",
    "    if(lcm%number1==0 and lcm%number2==0):\n",
    "        print(lcm) \n",
    "        break\n",
    "    lcm+=1"
   ]
  },
  {
   "cell_type": "code",
   "execution_count": 44,
   "id": "8917544a-695a-40e3-bee7-73f3807467cd",
   "metadata": {},
   "outputs": [
    {
     "name": "stdin",
     "output_type": "stream",
     "text": [
      "enter the first number  28\n",
      "enter the second number  42\n"
     ]
    },
    {
     "name": "stdout",
     "output_type": "stream",
     "text": [
      "14 is the hcf of 28 and 42\n"
     ]
    }
   ],
   "source": [
    "# 6. User will provide 2 numbers you have to find the HCF\n",
    "\n",
    "number1 = int(input(\"enter the first number \"))\n",
    "number2 = int(input(\"enter the second number \"))\n",
    "\n",
    "max_num = max(number1,number2)\n",
    "\n",
    "for i in range(2,max_num//2):\n",
    "    if(number1%i==0 and number2%i==0):\n",
    "        hcf= i\n",
    "\n",
    "print(f\"{hcf} is the hcf of {number1} and {number2}\")"
   ]
  },
  {
   "cell_type": "code",
   "execution_count": 1,
   "id": "3a0e777f-746e-4fb6-81ae-1434dd1a527b",
   "metadata": {},
   "outputs": [
    {
     "name": "stdin",
     "output_type": "stream",
     "text": [
      "enter the number  10\n"
     ]
    },
    {
     "name": "stdout",
     "output_type": "stream",
     "text": [
      "sum is : 55\n"
     ]
    }
   ],
   "source": [
    "# 7. Write a program to find the sum of first n numbers, where n will be provided by the user.\n",
    "\n",
    "number  = int(input(\"enter the number \"))\n",
    "sum =0\n",
    "while(number>=1):\n",
    "    sum = sum + number \n",
    "    number-=1\n",
    "    \n",
    "print(f\"sum is : {sum}\")"
   ]
  },
  {
   "cell_type": "code",
   "execution_count": 15,
   "id": "41d29291-6a16-43d4-acba-e54b7af0635a",
   "metadata": {},
   "outputs": [
    {
     "name": "stdin",
     "output_type": "stream",
     "text": [
      "enter the frist number  6\n",
      "enter the second number 5\n"
     ]
    },
    {
     "name": "stdout",
     "output_type": "stream",
     "text": [
      "30\n"
     ]
    }
   ],
   "source": [
    "#8. Write a program that can multiply 2 numbers provided by the user without using the ( * multiply) operator\n",
    "\n",
    "number1 = int(input(\"enter the frist number \"))\n",
    "number2 = int(input(\"enter the second number\"))\n",
    "\n",
    "total=0\n",
    "for i in range(1,number2 + 1):\n",
    "    total = total + number1\n",
    "\n",
    "print(total)\n"
   ]
  },
  {
   "cell_type": "code",
   "execution_count": 1,
   "id": "52945441-aa1e-4dfa-b77c-f344329fb4f0",
   "metadata": {},
   "outputs": [
    {
     "name": "stdin",
     "output_type": "stream",
     "text": [
      "enter the number  5\n"
     ]
    },
    {
     "name": "stdout",
     "output_type": "stream",
     "text": [
      "factorial of 5 is 120\n"
     ]
    }
   ],
   "source": [
    "# 9. Write a program that can find the factorial of a given number provided by the user.\n",
    "\n",
    "number =  int(input(\"enter the number \"))\n",
    "\n",
    "fact= 1 \n",
    "i=1\n",
    "while(i<=number):\n",
    "    fact = fact*i\n",
    "    i+=1\n",
    "\n",
    "print(f\"factorial of {number} is {fact}\")"
   ]
  },
  {
   "cell_type": "code",
   "execution_count": 5,
   "id": "64bb6f9d-eae3-4bbb-bca4-d2697e0ee98b",
   "metadata": {},
   "outputs": [
    {
     "name": "stdin",
     "output_type": "stream",
     "text": [
      "enter the number  142536\n"
     ]
    },
    {
     "name": "stdout",
     "output_type": "stream",
     "text": [
      "count of this digit 6\n"
     ]
    }
   ],
   "source": [
    "# 10. Write a program to count the total number of digits in a number using a while loop.\n",
    "\n",
    "number = int(input(\"enter the number \"))\n",
    "\n",
    "count=0\n",
    "while(number>0):\n",
    "    r=  number%10\n",
    "    count+=1\n",
    "    number = number//10\n",
    "\n",
    "print(\"count of this digit\",count)\n",
    "                   "
   ]
  },
  {
   "cell_type": "code",
   "execution_count": 9,
   "id": "ab6b0d04-f838-4e0b-8255-ec6f5518318c",
   "metadata": {},
   "outputs": [
    {
     "name": "stdin",
     "output_type": "stream",
     "text": [
      "enter the number  10\n",
      "enter the number  20\n",
      "enter the number  30\n",
      "enter the number  40\n",
      "enter the number  0\n"
     ]
    },
    {
     "name": "stdout",
     "output_type": "stream",
     "text": [
      "100\n",
      "Average 25\n"
     ]
    }
   ],
   "source": [
    "# 11. Write a program that keeps on accepting a number from the user until the user enters Zero. Display the sum and average of all the numbers.\n",
    "\n",
    "sum = 0\n",
    "average = 0\n",
    "l = 0\n",
    "while True:\n",
    "    number= int(input(\"enter the number \"))\n",
    "    if(number!=0):\n",
    "        sum= sum + number\n",
    "        l+=1\n",
    "        \n",
    "    else:\n",
    "        average= sum//l\n",
    "        print(sum)\n",
    "        print(\"Average\",average)\n",
    "        break"
   ]
  },
  {
   "cell_type": "code",
   "execution_count": 12,
   "id": "99e9926a-bc84-4734-a7b4-1d692001cb5c",
   "metadata": {},
   "outputs": [
    {
     "name": "stdin",
     "output_type": "stream",
     "text": [
      "enter the number  6\n"
     ]
    },
    {
     "name": "stdout",
     "output_type": "stream",
     "text": [
      "6 * 1 = 6\n",
      "6 * 2 = 12\n",
      "6 * 3 = 18\n",
      "6 * 4 = 24\n",
      "6 * 5 = 30\n",
      "6 * 6 = 36\n",
      "6 * 7 = 42\n",
      "6 * 8 = 48\n",
      "6 * 9 = 54\n",
      "6 * 10 = 60\n"
     ]
    }
   ],
   "source": [
    "# 12. Write a program to print multiplication table of a given number \n",
    "\n",
    "number = int(input(\"enter the number \"))\n",
    "\n",
    "i=1\n",
    "while(i<=10):\n",
    "    print(number,\"*\", i ,\"=\",number*i)\n",
    "    i+=1\n",
    "    "
   ]
  },
  {
   "cell_type": "code",
   "execution_count": 22,
   "id": "286d9f8f-12e3-48ad-b674-0be9c2da2b30",
   "metadata": {},
   "outputs": [
    {
     "name": "stdin",
     "output_type": "stream",
     "text": [
      "enter the number  34\n"
     ]
    },
    {
     "name": "stdout",
     "output_type": "stream",
     "text": [
      "1 2 3 4 5 6 7 8 9 10 11 12 13 14 15 16 17 18 19 20 21 22 23 24 25 26 27 28 29 30 31 32 33 \n",
      "Done\n",
      "final\n"
     ]
    }
   ],
   "source": [
    "# 13. Use else block to display a message “Done” after successful execution of for loop For example, the following loop will execute without any error.\n",
    "\n",
    "num = int(input(\"enter the number \"))\n",
    "\n",
    "for i in range(1,num):\n",
    "    print(i,end=\" \")\n",
    "else:\n",
    "    print()\n",
    "    print(\"Done\")\n",
    "\n",
    "\n"
   ]
  },
  {
   "cell_type": "code",
   "execution_count": 28,
   "id": "b72a11e8-8752-4471-b30c-d2d4e87032b6",
   "metadata": {},
   "outputs": [
    {
     "name": "stdin",
     "output_type": "stream",
     "text": [
      "enter the terms to print fibonacci series  10\n"
     ]
    },
    {
     "name": "stdout",
     "output_type": "stream",
     "text": [
      "0 1 1 2 3 5 8 13 21 34 55 89 144 "
     ]
    }
   ],
   "source": [
    "#14. Display Fibonacci series up to 10 terms\n",
    "\n",
    "terms = int(input(\"enter the terms to print fibonacci series \"))\n",
    "\n",
    "a= 0\n",
    "b = 1\n",
    "c=0\n",
    "print(a,end=\" \")\n",
    "print(b,end=\" \")\n",
    "\n",
    "while(c<=terms):\n",
    "    next_term = a+b\n",
    "    print(next_term,end=\" \")\n",
    "    a = b\n",
    "    b = next_term\n",
    "    c+=1\n",
    "    "
   ]
  },
  {
   "cell_type": "code",
   "execution_count": 37,
   "id": "bb76f9a3-58eb-4deb-8a28-dc386e84c44b",
   "metadata": {},
   "outputs": [
    {
     "name": "stdout",
     "output_type": "stream",
     "text": [
      "(1, 1) (1, 2) (1, 3) (1, 4) \n",
      "(2, 2) (2, 3) (2, 4) \n",
      "(3, 3) (3, 4) \n",
      "(4, 4) \n"
     ]
    }
   ],
   "source": [
    "# 15. Write a program to print all the unique combinations of two digits from 1 to 4 for ex (1,2),(2,3)..... [Medium level]\n",
    "\n",
    "pair = []\n",
    "for i in range(1,5):\n",
    "    for j in range(i,5): \n",
    "       print((i,j),end=\" \")\n",
    "    print()   "
   ]
  },
  {
   "cell_type": "code",
   "execution_count": null,
   "id": "c30041c8-6b70-4486-a9e5-397b5c95de60",
   "metadata": {},
   "outputs": [],
   "source": []
  }
 ],
 "metadata": {
  "kernelspec": {
   "display_name": "Python 3 (ipykernel)",
   "language": "python",
   "name": "python3"
  },
  "language_info": {
   "codemirror_mode": {
    "name": "ipython",
    "version": 3
   },
   "file_extension": ".py",
   "mimetype": "text/x-python",
   "name": "python",
   "nbconvert_exporter": "python",
   "pygments_lexer": "ipython3",
   "version": "3.12.4"
  }
 },
 "nbformat": 4,
 "nbformat_minor": 5
}
