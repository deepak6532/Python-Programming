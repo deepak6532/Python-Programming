{
 "cells": [
  {
   "cell_type": "code",
   "execution_count": 1,
   "id": "b99af302-6f83-48f2-a506-ce228782b21f",
   "metadata": {},
   "outputs": [
    {
     "name": "stdout",
     "output_type": "stream",
     "text": [
      "10\n",
      "9\n",
      "8\n",
      "7\n",
      "6\n",
      "5\n",
      "4\n",
      "3\n",
      "2\n",
      "1\n"
     ]
    }
   ],
   "source": [
    "for i in range(10,0,-1):\n",
    "    print(i)"
   ]
  },
  {
   "cell_type": "code",
   "execution_count": 2,
   "id": "840b42d4-a808-4010-a362-fabc432fa0ea",
   "metadata": {},
   "outputs": [
    {
     "name": "stdout",
     "output_type": "stream",
     "text": [
      "0\n",
      "1\n",
      "2\n",
      "3\n",
      "4\n",
      "5\n",
      "6\n",
      "7\n",
      "8\n",
      "9\n",
      "10\n"
     ]
    }
   ],
   "source": [
    "for i in range(11):\n",
    "    print(i)\n",
    "    "
   ]
  },
  {
   "cell_type": "code",
   "execution_count": 3,
   "id": "2b4392e0-2f22-4032-8baf-74b8a37be5e7",
   "metadata": {},
   "outputs": [
    {
     "name": "stdout",
     "output_type": "stream",
     "text": [
      "a b c d e f g h i j k l m n o p q r s t u v w x y z "
     ]
    }
   ],
   "source": [
    "# 3\n",
    "char = 'a'\n",
    "\n",
    "while(char<='z'):\n",
    "    print(char,end=\" \")\n",
    "    char = chr(ord(char) + 1)\n",
    "\n",
    "    "
   ]
  },
  {
   "cell_type": "code",
   "execution_count": 4,
   "id": "6ff0bddd-d266-48e1-83ca-257c10527fe1",
   "metadata": {},
   "outputs": [
    {
     "name": "stdout",
     "output_type": "stream",
     "text": [
      "2 4 6 8 10 12 14 16 18 20 22 24 26 28 30 32 34 36 38 40 42 44 46 48 50 52 54 56 58 60 62 64 66 68 70 72 74 76 78 80 82 84 86 88 90 92 94 96 98 100 "
     ]
    }
   ],
   "source": [
    "# 4\n",
    "\n",
    "i=1\n",
    "while(i<=100):\n",
    "    if(i%2==0):\n",
    "        print(i,end=\" \")\n",
    "    i = i +1"
   ]
  },
  {
   "cell_type": "code",
   "execution_count": 5,
   "id": "5bc903eb-de16-475d-a77b-d3f27dd6ef38",
   "metadata": {},
   "outputs": [
    {
     "name": "stdout",
     "output_type": "stream",
     "text": [
      "Sum of n odd number  36\n"
     ]
    }
   ],
   "source": [
    "# 5\n",
    "\n",
    "i = 1\n",
    "sum =0\n",
    "while(i<=11):\n",
    "    if(i%2!=0):\n",
    "        sum = sum + i\n",
    "    i = i+1\n",
    "print(\"Sum of n odd number \",sum)\n",
    "    "
   ]
  },
  {
   "cell_type": "code",
   "execution_count": 6,
   "id": "f50b4389-5387-41f6-b966-2547c4d965fd",
   "metadata": {},
   "outputs": [
    {
     "name": "stdout",
     "output_type": "stream",
     "text": [
      "digit in a number  7\n"
     ]
    }
   ],
   "source": [
    "# 6\n",
    "\n",
    "n = 1234556\n",
    "i=1\n",
    "c=0\n",
    "while(n>0):\n",
    "    r = n%10\n",
    "    c+=1\n",
    "    n = n//10\n",
    "print(\"digit in a number \",c)"
   ]
  },
  {
   "cell_type": "code",
   "execution_count": 8,
   "id": "f559377c-5524-4bf0-8f45-9248f33be0d7",
   "metadata": {},
   "outputs": [
    {
     "name": "stdout",
     "output_type": "stream",
     "text": [
      "enter the number  10\n"
     ]
    },
    {
     "name": "stdout",
     "output_type": "stream",
     "text": [
      "55\n"
     ]
    }
   ],
   "source": [
    "# 7\n",
    "\n",
    "i= 1\n",
    "n = int(input(\"enter the number \"))\n",
    "sum  =0\n",
    "while(i<=n):\n",
    "    sum = sum +i\n",
    "    i = i +1\n",
    "print(sum)"
   ]
  },
  {
   "cell_type": "code",
   "execution_count": 12,
   "id": "ece94816-6b6c-40f3-a779-ae39aa32a7e5",
   "metadata": {},
   "outputs": [
    {
     "name": "stdout",
     "output_type": "stream",
     "text": [
      "First digit:  2\n",
      "last digit :  3\n",
      "sum of first and lst digit  5\n"
     ]
    }
   ],
   "source": [
    "# 8\n",
    "\n",
    "n = 253\n",
    "first = n\n",
    "\n",
    "while(first>=10):\n",
    "     first  = first//10\n",
    "\n",
    "print(\"First digit: \",first)\n",
    "\n",
    "last = n%10\n",
    "print(\"last digit : \" ,last)   \n"
   ]
  },
  {
   "cell_type": "code",
   "execution_count": 13,
   "id": "60b29eb1-5510-45c1-b7cf-b6bdbf4c9d13",
   "metadata": {},
   "outputs": [
    {
     "name": "stdout",
     "output_type": "stream",
     "text": [
      "First digit:  2\n",
      "last digit :  3\n",
      "sum of first and lst digit  5\n"
     ]
    }
   ],
   "source": [
    "# 9\n",
    "\n",
    "n = 253\n",
    "first = n\n",
    "\n",
    "while(first>=10):\n",
    "     first  = first//10\n",
    "\n",
    "print(\"First digit: \",first)\n",
    "\n",
    "last = n%10\n",
    "print(\"last digit : \" ,last)   \n",
    "\n",
    "print(\"sum of first and lst digit \" ,first + last)"
   ]
  },
  {
   "cell_type": "code",
   "execution_count": 16,
   "id": "80630a40-cdaa-4669-83a2-19b013c3e926",
   "metadata": {},
   "outputs": [
    {
     "name": "stdout",
     "output_type": "stream",
     "text": [
      "Enter the number  125\n"
     ]
    },
    {
     "name": "stdout",
     "output_type": "stream",
     "text": [
      "Reverse number : 521\n"
     ]
    }
   ],
   "source": [
    "# 10\n",
    "\n",
    "n = int(input(\"Enter the number \"))\n",
    "sum  =0 \n",
    "while(n>0):\n",
    "    r = n%10\n",
    "    sum  =sum*10 + r\n",
    "    n = n//10\n",
    "    \n",
    "print(\"Reverse number :\",sum)"
   ]
  },
  {
   "cell_type": "code",
   "execution_count": 6,
   "id": "7f9521e5-e790-4ec9-b96e-64fb12226ff4",
   "metadata": {},
   "outputs": [
    {
     "name": "stdout",
     "output_type": "stream",
     "text": [
      "enter the base  2\n",
      "enter te exponet 5\n"
     ]
    },
    {
     "name": "stdout",
     "output_type": "stream",
     "text": [
      "32\n"
     ]
    }
   ],
   "source": [
    "# 11\n",
    "\n",
    "n = int(input(\"enter the base \"))\n",
    "ex  =int(input(\"enter te exponet\"))\n",
    "\n",
    "result =1\n",
    "\n",
    "for i in range(ex):\n",
    "    result = result* n\n",
    "    \n",
    "print(result)"
   ]
  },
  {
   "cell_type": "code",
   "execution_count": 1,
   "id": "abe77c06-2466-4dbe-8c98-b5090033ca7d",
   "metadata": {},
   "outputs": [
    {
     "name": "stdout",
     "output_type": "stream",
     "text": [
      "Enter the number  15\n"
     ]
    },
    {
     "name": "stdout",
     "output_type": "stream",
     "text": [
      "1\n",
      "3\n",
      "5\n",
      "15\n"
     ]
    }
   ],
   "source": [
    "# 12\n",
    "\n",
    "n = int(input(\"Enter the number \"))\n",
    "\n",
    "i=1\n",
    "while(i<=n):\n",
    "    if(n%i==0):\n",
    "        print(i)\n",
    "    i+=1\n",
    "    "
   ]
  },
  {
   "cell_type": "code",
   "execution_count": 7,
   "id": "0c1d8f8d-152e-48fe-b44b-d2964d0a6225",
   "metadata": {},
   "outputs": [
    {
     "name": "stdout",
     "output_type": "stream",
     "text": [
      "enter the number  6\n"
     ]
    },
    {
     "name": "stdout",
     "output_type": "stream",
     "text": [
      "factorial of a number  720\n"
     ]
    }
   ],
   "source": [
    "# 13 Factorial of a number \n",
    "n = int(input(\"enter the number \"))\n",
    "\n",
    "i=1\n",
    "fact =1\n",
    "while(i<=n):\n",
    "    fact = fact *i\n",
    "    i+=1\n",
    "print(\"factorial of a number \",fact)"
   ]
  },
  {
   "cell_type": "code",
   "execution_count": 13,
   "id": "eade8b0e-6ae1-44f7-8b08-516c6bbe0ff4",
   "metadata": {},
   "outputs": [
    {
     "name": "stdout",
     "output_type": "stream",
     "text": [
      "enter the number   11\n"
     ]
    },
    {
     "name": "stdout",
     "output_type": "stream",
     "text": [
      "11 is prime number \n"
     ]
    }
   ],
   "source": [
    "# 15 write  a program to check whether of a number prime or not\n",
    "\n",
    "n = int(input(\"enter the number  \"))\n",
    "\n",
    "i =1\n",
    "c=0\n",
    "while(i<=n):\n",
    "    if(n%i==0):\n",
    "        c+=1\n",
    "    i+=1\n",
    "\n",
    "if(c==2):\n",
    "    print(f\"{n} is prime number \")\n",
    "else:\n",
    "    print(f\"{n} is not prime \")"
   ]
  },
  {
   "cell_type": "code",
   "execution_count": 14,
   "id": "3a60ec9a-139f-41b5-9e06-6bd9fc5b1a8d",
   "metadata": {},
   "outputs": [
    {
     "name": "stdout",
     "output_type": "stream",
     "text": [
      "ente rthe lower limit 1\n",
      "enter the upper limit  50\n"
     ]
    },
    {
     "name": "stdout",
     "output_type": "stream",
     "text": [
      "2\n",
      "3\n",
      "5\n",
      "7\n",
      "11\n",
      "13\n",
      "17\n",
      "19\n",
      "23\n",
      "29\n",
      "31\n",
      "37\n",
      "41\n",
      "43\n",
      "47\n"
     ]
    }
   ],
   "source": [
    "# 16   prime numeber 1 to n\n",
    "\n",
    "lower = int(input(\"ente rthe lower limit\"))\n",
    "upper  = int(input(\"enter the upper limit \"))\n",
    "\n",
    "for n in range(lower,upper+1):\n",
    "    if(n>1):\n",
    "        for i in range(2,n):\n",
    "            if(n%i==0):\n",
    "                break\n",
    "        else:\n",
    "            print(n)\n",
    "                "
   ]
  },
  {
   "cell_type": "code",
   "execution_count": 15,
   "id": "ddf1a4b5-a797-431c-a355-ab1c72eaa34d",
   "metadata": {},
   "outputs": [
    {
     "name": "stdout",
     "output_type": "stream",
     "text": [
      "Enter the number  30\n"
     ]
    },
    {
     "name": "stdout",
     "output_type": "stream",
     "text": [
      "2\n",
      "3\n",
      "5\n"
     ]
    }
   ],
   "source": [
    "# 17 prime factor of a number\n",
    "\n",
    "n = int(input(\"Enter the number \"))\n",
    "c=2\n",
    "while(n>1):\n",
    "    if(n%c==0):\n",
    "        print(c)\n",
    "        n = n/c\n",
    "    else:\n",
    "        c+=1\n"
   ]
  },
  {
   "cell_type": "code",
   "execution_count": 29,
   "id": "109271cf-393b-4ee2-b667-d4c137bf598d",
   "metadata": {},
   "outputs": [
    {
     "name": "stdout",
     "output_type": "stream",
     "text": [
      "enter the number  1634\n"
     ]
    },
    {
     "name": "stdout",
     "output_type": "stream",
     "text": [
      "1634  is armstrong numebr \n",
      "4\n"
     ]
    }
   ],
   "source": [
    "# 18 Armstrong number \n",
    "\n",
    "n  =int(input(\"enter the number \"))\n",
    "temp=n\n",
    "sum =0\n",
    "\n",
    "n_d  = len(str(n))            #length of a number 1634,153\n",
    "\n",
    "while(n>0):\n",
    "    r =  n%10\n",
    "    sum = sum + r**n_d\n",
    "    n = n//10\n",
    "\n",
    "if(sum==temp):\n",
    "    print(f\"{temp}  is armstrong numebr \")\n",
    "else:\n",
    "    print(f\"{temp} is not armstrong number \")\n",
    "\n"
   ]
  },
  {
   "cell_type": "code",
   "execution_count": null,
   "id": "cff52808-9b56-4c28-8aa7-55fb90231b17",
   "metadata": {},
   "outputs": [
    {
     "name": "stdout",
     "output_type": "stream",
     "text": [
      "enter the number   5\n"
     ]
    },
    {
     "name": "stdout",
     "output_type": "stream",
     "text": [
      "0 1 1 2 3 5 8 "
     ]
    }
   ],
   "source": [
    "# 19 print fibonacci series \n",
    "\n",
    "n = int(input(\"enter the number  \"))\n",
    "a = 0\n",
    "b = 1\n",
    "print(a,end=\" \")\n",
    "print(b,end=\" \")\n",
    "\n",
    "for i in range(1,n+1):\n",
    "    c = a +b\n",
    "    print(c,end=\" \")\n",
    "    a  = b\n",
    "    b = c\n",
    "    "
   ]
  },
  {
   "cell_type": "code",
   "execution_count": null,
   "id": "3b0fe5ed-fd9c-442b-9f6e-de054b17e35d",
   "metadata": {},
   "outputs": [],
   "source": []
  }
 ],
 "metadata": {
  "kernelspec": {
   "display_name": "Python 3 (ipykernel)",
   "language": "python",
   "name": "python3"
  },
  "language_info": {
   "codemirror_mode": {
    "name": "ipython",
    "version": 3
   },
   "file_extension": ".py",
   "mimetype": "text/x-python",
   "name": "python",
   "nbconvert_exporter": "python",
   "pygments_lexer": "ipython3",
   "version": "3.12.4"
  }
 },
 "nbformat": 4,
 "nbformat_minor": 5
}
