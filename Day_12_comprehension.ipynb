{
 "cells": [
  {
   "cell_type": "code",
   "execution_count": 1,
   "id": "4adfe7a3-48e0-4add-92cf-f93e167874f1",
   "metadata": {},
   "outputs": [],
   "source": [
    "# list comprehension \n",
    "\n",
    "# lst comprehension in python provide a concise way to create lists.\n",
    "\n",
    "# They are more readable and efficient than traditional for loops.\n",
    "\n",
    "# syntax:\n",
    "\n",
    "# [expression for item in iterable if condition ]\n",
    "                                                         "
   ]
  },
  {
   "cell_type": "markdown",
   "id": "f04b4104-9c89-44c2-8b3d-653e2781c549",
   "metadata": {},
   "source": [
    "# create a list of square "
   ]
  },
  {
   "cell_type": "code",
   "execution_count": 2,
   "id": "81347ed6-a917-4a66-87a4-132a7b0bda77",
   "metadata": {},
   "outputs": [
    {
     "name": "stdout",
     "output_type": "stream",
     "text": [
      "[1, 4, 9, 16, 25]\n"
     ]
    }
   ],
   "source": [
    "square  = [x**2 for x in range(1,6)]\n",
    "print(square)"
   ]
  },
  {
   "cell_type": "markdown",
   "id": "b45c6e8f-d020-44f2-a4a0-8a9b485e02eb",
   "metadata": {},
   "source": [
    "# 2 filter even number "
   ]
  },
  {
   "cell_type": "code",
   "execution_count": 4,
   "id": "55cec476-4ccf-43ac-894b-2679851bc191",
   "metadata": {},
   "outputs": [
    {
     "name": "stdout",
     "output_type": "stream",
     "text": [
      "[0, 2, 4, 6, 8]\n"
     ]
    }
   ],
   "source": [
    "even = [num for num in range(10) if num%2==0]\n",
    "print(even)"
   ]
  },
  {
   "cell_type": "markdown",
   "id": "b52ed97b-fc7a-45f4-9729-f04416975cac",
   "metadata": {},
   "source": [
    "# 3 convert string to uppercase "
   ]
  },
  {
   "cell_type": "code",
   "execution_count": 7,
   "id": "398bebe1-e194-4e30-a0d6-90fbf9db61ed",
   "metadata": {},
   "outputs": [
    {
     "name": "stdout",
     "output_type": "stream",
     "text": [
      "['DEEPAK', 'RAHUL', 'MOHIT', 'ROHIT']\n"
     ]
    }
   ],
   "source": [
    "names = [\"deepak\",\"rahul\",\"mohit\",\"rohit\"]\n",
    "\n",
    "upper_name = [name.upper() for name in names]\n",
    "print(upper_name)"
   ]
  },
  {
   "cell_type": "markdown",
   "id": "b930b618-0b13-47b5-8835-59efba73c3aa",
   "metadata": {},
   "source": [
    "# 4 flatten a nested list"
   ]
  },
  {
   "cell_type": "code",
   "execution_count": 9,
   "id": "6dd35fa6-45ca-4201-91a2-155cb8a4a020",
   "metadata": {},
   "outputs": [
    {
     "name": "stdout",
     "output_type": "stream",
     "text": [
      "[1, 2, 3, 4, 5, 6]\n"
     ]
    }
   ],
   "source": [
    "matrix  = [ [1,2],[3,4],[5,6] ]\n",
    "\n",
    "flatened  = [ num for sublist  in matrix for num in sublist]\n",
    "print(flatened)"
   ]
  },
  {
   "cell_type": "markdown",
   "id": "a1e665ea-51d4-4af6-b78f-9f63cf2e788d",
   "metadata": {},
   "source": [
    "# 5 Generate a list of tuples"
   ]
  },
  {
   "cell_type": "code",
   "execution_count": 11,
   "id": "e847db29-2e21-41de-948b-8db4cb6f4668",
   "metadata": {},
   "outputs": [
    {
     "name": "stdout",
     "output_type": "stream",
     "text": [
      "[(0, 0), (0, 1), (0, 2), (1, 0), (1, 1), (1, 2), (2, 0), (2, 1), (2, 2)]\n"
     ]
    }
   ],
   "source": [
    "pairs = [ (x,y) for  x in range(3) for y in range(3)]\n",
    "print(pairs)"
   ]
  },
  {
   "cell_type": "markdown",
   "id": "e55aeec7-0b87-4389-9034-3ba2946f3f5b",
   "metadata": {},
   "source": [
    "# Traditional way to list comprehension"
   ]
  },
  {
   "cell_type": "code",
   "execution_count": 12,
   "id": "7b9c3540-bc1f-4a63-846e-34424526cd79",
   "metadata": {},
   "outputs": [
    {
     "name": "stdout",
     "output_type": "stream",
     "text": [
      "[1, 4, 9, 16, 25]\n"
     ]
    }
   ],
   "source": [
    "square  = []\n",
    "                             # old format\n",
    "for x in range(1,6):\n",
    "    square.append(x**2)\n",
    "print(square)"
   ]
  },
  {
   "cell_type": "code",
   "execution_count": 13,
   "id": "46782eeb-2b96-4c73-a329-05f306b54251",
   "metadata": {},
   "outputs": [
    {
     "name": "stdout",
     "output_type": "stream",
     "text": [
      "[1, 4, 9, 16, 25]\n"
     ]
    }
   ],
   "source": [
    "square = [ x**2 for x in range(1,6)]  # lsit comprehension\n",
    "print(square)"
   ]
  },
  {
   "cell_type": "code",
   "execution_count": 14,
   "id": "c6f8453c-6ca7-413e-a3b6-2c52d2ff9994",
   "metadata": {},
   "outputs": [
    {
     "name": "stdout",
     "output_type": "stream",
     "text": [
      "[0, 2, 4, 6, 8]\n"
     ]
    }
   ],
   "source": [
    "# ex: 2\n",
    "\n",
    "evens = []        # old format\n",
    "\n",
    "for x in range(10):\n",
    "    if(x%2==0):\n",
    "        evens.append(x)\n",
    "print(even)\n"
   ]
  },
  {
   "cell_type": "code",
   "execution_count": 15,
   "id": "b9939961-bcfc-48ab-bd41-ad7704569b85",
   "metadata": {},
   "outputs": [
    {
     "name": "stdout",
     "output_type": "stream",
     "text": [
      "[0, 2, 4, 6, 8]\n"
     ]
    }
   ],
   "source": [
    "even = [ num  for num in range(10) if num%2==0 ]      # list comprehension\n",
    "print(even)"
   ]
  },
  {
   "cell_type": "markdown",
   "id": "46add6c9-455f-4bc4-b64e-7ec7a4a129b3",
   "metadata": {},
   "source": [
    "# Dictionary comprehension "
   ]
  },
  {
   "cell_type": "markdown",
   "id": "ec8d800e-1a29-4c38-8d1b-f3f897d200b8",
   "metadata": {},
   "source": [
    "# syntax \n",
    "{key_expression : value_exoression for item in iterable if condition}\n",
    "    "
   ]
  },
  {
   "cell_type": "markdown",
   "id": "4fee4a95-c49a-438f-9d66-e12133bc7d0c",
   "metadata": {},
   "source": [
    "# 1 create a dictionary of squars\n",
    "\n",
    "cerate a dictionary where the key are numbers and the values are their square"
   ]
  },
  {
   "cell_type": "code",
   "execution_count": 17,
   "id": "3de0ba4b-7568-4da0-8da9-8eba20aa7d00",
   "metadata": {},
   "outputs": [
    {
     "name": "stdout",
     "output_type": "stream",
     "text": [
      "{1: 1, 2: 4, 3: 9, 4: 16, 5: 25, 6: 36, 7: 49}\n"
     ]
    }
   ],
   "source": [
    "square =  { x : x**2 for x in range(1,8)}\n",
    "print(square)"
   ]
  },
  {
   "cell_type": "markdown",
   "id": "06dffe35-77be-422f-a96a-1ad89797061c",
   "metadata": {},
   "source": [
    "# 2 filter even numbers and square \n",
    "\n",
    "create a dictionary with only even numbers and their square "
   ]
  },
  {
   "cell_type": "code",
   "execution_count": 18,
   "id": "800ba210-cfe5-43bf-96ba-6d2cb7980aef",
   "metadata": {},
   "outputs": [
    {
     "name": "stdout",
     "output_type": "stream",
     "text": [
      "{0: 0, 2: 4, 4: 16, 6: 36, 8: 64}\n"
     ]
    }
   ],
   "source": [
    "even = { x :x**2 for x in range(10)  if x%2==0}\n",
    "print(even)"
   ]
  },
  {
   "cell_type": "markdown",
   "id": "1abfe1a9-a874-4846-a8d0-41e3e47fa603",
   "metadata": {},
   "source": [
    "# 3 Reverse a dictionary \n",
    "\n",
    "create a dictionary comprehension to swap keys and values in an existing dictionary"
   ]
  },
  {
   "cell_type": "code",
   "execution_count": 1,
   "id": "ec4564f4-6528-4f96-ad30-257324b477f1",
   "metadata": {},
   "outputs": [
    {
     "name": "stdout",
     "output_type": "stream",
     "text": [
      "{1: 'a', 2: 'b', 3: 'c'}\n"
     ]
    }
   ],
   "source": [
    "original = {'a':1 ,'b':2 ,'c':3}\n",
    "\n",
    "reverse = { v:k  for k,v in original.items()}\n",
    "print(reverse)"
   ]
  },
  {
   "cell_type": "markdown",
   "id": "0799dd32-5cd0-49b4-acf5-fe253eedacef",
   "metadata": {},
   "source": [
    "# 4 convert list to dictionary with lengths\n",
    "\n",
    "convert a list of string into a dictionary where the strings and the values are the length of each string \n"
   ]
  },
  {
   "cell_type": "code",
   "execution_count": 22,
   "id": "33390aa0-a6f2-4f3e-bf3a-91b9856ca030",
   "metadata": {},
   "outputs": [
    {
     "name": "stdout",
     "output_type": "stream",
     "text": [
      "{'apple': 5, 'banana': 6, 'cherry': 6}\n"
     ]
    }
   ],
   "source": [
    "words =  ['apple','banana','cherry']\n",
    "\n",
    "length_dict = {word : len(word) for word in words}\n",
    "print(length_dict)"
   ]
  },
  {
   "cell_type": "markdown",
   "id": "710fa730-25cb-419a-8d52-4a49d3da59d9",
   "metadata": {},
   "source": [
    "# 5 Dictionary of conditional values \n",
    "\n",
    "create a dictionary where keys are numbers and values are \"even\"  or \"odd\" depending on the number \n"
   ]
  },
  {
   "cell_type": "code",
   "execution_count": 23,
   "id": "64ec336d-5d7e-42db-9ae2-64f453a0ed3d",
   "metadata": {},
   "outputs": [
    {
     "name": "stdout",
     "output_type": "stream",
     "text": [
      "{1: 'odd', 2: 'even', 3: 'odd', 4: 'even', 5: 'odd'}\n"
     ]
    }
   ],
   "source": [
    "even_odd = { x: (\"even\" if x%2==0 else \"odd\" ) for x in range(1,6)}\n",
    "print(even_odd)\n"
   ]
  },
  {
   "cell_type": "code",
   "execution_count": null,
   "id": "676ba84f-6794-4e33-9ca3-d91a3325d7cc",
   "metadata": {},
   "outputs": [],
   "source": []
  }
 ],
 "metadata": {
  "kernelspec": {
   "display_name": "Python 3 (ipykernel)",
   "language": "python",
   "name": "python3"
  },
  "language_info": {
   "codemirror_mode": {
    "name": "ipython",
    "version": 3
   },
   "file_extension": ".py",
   "mimetype": "text/x-python",
   "name": "python",
   "nbconvert_exporter": "python",
   "pygments_lexer": "ipython3",
   "version": "3.12.4"
  }
 },
 "nbformat": 4,
 "nbformat_minor": 5
}
