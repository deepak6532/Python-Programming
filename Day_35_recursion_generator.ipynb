{
 "cells": [
  {
   "cell_type": "markdown",
   "id": "de89b608-c149-4556-a939-f536e9c63710",
   "metadata": {},
   "source": [
    "# Recursion\n"
   ]
  },
  {
   "cell_type": "code",
   "execution_count": 1,
   "id": "6a0bb632-9928-4a6f-a9e6-620a3f6ff726",
   "metadata": {},
   "outputs": [
    {
     "name": "stdout",
     "output_type": "stream",
     "text": [
      "The factorial of 6 is 720\n"
     ]
    }
   ],
   "source": [
    "# factorial of a number using recursion\n",
    "\n",
    "class factorial_calculator:\n",
    "\n",
    "\n",
    "    def fact(self,n):\n",
    "\n",
    "        if  n==0 or n==1 : \n",
    "            return 1 \n",
    "        else:\n",
    "            return n * self.fact(n-1)\n",
    "\n",
    "calc  = factorial_calculator()\n",
    "\n",
    "number = 6\n",
    "\n",
    "result = calc.fact(number)\n",
    "\n",
    "print(f\"The factorial of {number} is {result}\")"
   ]
  },
  {
   "cell_type": "markdown",
   "id": "7404e8d9-24d1-4077-9b5c-196538815c44",
   "metadata": {},
   "source": [
    "# Generator"
   ]
  },
  {
   "cell_type": "code",
   "execution_count": 2,
   "id": "c5a75d9b-04b8-46b4-82a1-86a657af5122",
   "metadata": {},
   "outputs": [
    {
     "name": "stdout",
     "output_type": "stream",
     "text": [
      "1\n",
      "2\n",
      "3\n",
      "4\n",
      "5\n"
     ]
    }
   ],
   "source": [
    "# Example 1: simple  generatro far a sequence of numbers\n",
    "# A generator function to yeild numbers from  1 to 5 \n",
    "\n",
    "def number_generator():\n",
    "    for i in range(1,6):\n",
    "        yield i\n",
    "\n",
    "\n",
    "gen  = number_generator()\n",
    "\n",
    "for num in gen:\n",
    "    print(num)\n"
   ]
  },
  {
   "cell_type": "code",
   "execution_count": 3,
   "id": "6a85a0d3-3872-498a-9e9a-4cbd84261347",
   "metadata": {},
   "outputs": [
    {
     "name": "stdout",
     "output_type": "stream",
     "text": [
      "1\n",
      "4\n",
      "9\n",
      "16\n",
      "25\n"
     ]
    }
   ],
   "source": [
    "# Example 3: Generator for squares of numbers\n",
    "#A generator funtion to yield squares of numbers\n",
    "\n",
    "\n",
    "def square_generator(n):\n",
    "    for i in range(1,n+1):\n",
    "        yield i*i\n",
    "\n",
    "\n",
    "\n",
    "# using generator\n",
    "squares =  square_generator(5)\n",
    "\n",
    "for s in squares:\n",
    "    print(s)"
   ]
  },
  {
   "cell_type": "code",
   "execution_count": null,
   "id": "c104dd7c-8371-4339-9449-320ace1faa72",
   "metadata": {},
   "outputs": [],
   "source": []
  }
 ],
 "metadata": {
  "kernelspec": {
   "display_name": "Python 3 (ipykernel)",
   "language": "python",
   "name": "python3"
  },
  "language_info": {
   "codemirror_mode": {
    "name": "ipython",
    "version": 3
   },
   "file_extension": ".py",
   "mimetype": "text/x-python",
   "name": "python",
   "nbconvert_exporter": "python",
   "pygments_lexer": "ipython3",
   "version": "3.12.4"
  }
 },
 "nbformat": 4,
 "nbformat_minor": 5
}
