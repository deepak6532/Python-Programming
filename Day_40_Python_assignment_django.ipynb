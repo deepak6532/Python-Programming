{
 "cells": [
  {
   "cell_type": "markdown",
   "id": "87086fbe-e784-4f46-95c2-1c03e5ab90af",
   "metadata": {},
   "source": [
    "# String Problems"
   ]
  },
  {
   "cell_type": "code",
   "execution_count": 4,
   "id": "519d2025-b94f-4890-b339-dad3549cd162",
   "metadata": {},
   "outputs": [
    {
     "name": "stdout",
     "output_type": "stream",
     "text": [
      "olleh\n"
     ]
    }
   ],
   "source": [
    "# 1. Write a code to reverse a string\n",
    "\n",
    "\n",
    "s = \"hello\"\n",
    "\n",
    "r  = \"\"\n",
    "\n",
    "for i in s:\n",
    "    r = i+r\n",
    "\n",
    "print(r)"
   ]
  },
  {
   "cell_type": "code",
   "execution_count": 8,
   "id": "9469b32e-6dee-4645-a50e-895f0cfd025d",
   "metadata": {},
   "outputs": [
    {
     "name": "stdout",
     "output_type": "stream",
     "text": [
      "2\n"
     ]
    }
   ],
   "source": [
    "# 2. Write a code to count the number of vowels in a string\n",
    "\n",
    "\n",
    "\n",
    "s = \"Hello\"\n",
    "\n",
    "count = 0\n",
    "\n",
    "for i in s:\n",
    "    if(i in \"aeiou\"):\n",
    "        count+=1\n",
    "\n",
    "print(count)"
   ]
  },
  {
   "cell_type": "code",
   "execution_count": 11,
   "id": "97f02a4f-a170-41bd-a428-74cda08f9a4b",
   "metadata": {},
   "outputs": [
    {
     "name": "stdout",
     "output_type": "stream",
     "text": [
      "Palindrome\n"
     ]
    }
   ],
   "source": [
    "# 3. Write a code to check if a given string is a palindrome or not?\n",
    "\n",
    "\n",
    "s = \"pip\"\n",
    "\n",
    "r_string = \"\"\n",
    "\n",
    "for i in s:\n",
    "    r_string = i + r_string\n",
    "\n",
    "\n",
    "if(r_string== s):\n",
    "    print(\"Palindrome\")\n",
    "else:\n",
    "    print(\"not\")"
   ]
  },
  {
   "cell_type": "code",
   "execution_count": 16,
   "id": "07a55fd6-679d-44c4-8799-d0ed8f436cd7",
   "metadata": {},
   "outputs": [
    {
     "name": "stdout",
     "output_type": "stream",
     "text": [
      "{'a': 3, 'n': 1, 'g': 1, 'r': 1, 'm': 1}\n",
      "{'g': 1, 'r': 1, 'a': 3, 'm': 1, 'n': 1}\n",
      "anagram\n"
     ]
    }
   ],
   "source": [
    "# 4. Write a code to check if two given strings are anagrams of each other ?\n",
    "\n",
    "\n",
    "a  = \"anagram\"\n",
    "b = \"gramana\"\n",
    "\n",
    "a_dict = {}\n",
    "b_dict = {}\n",
    "\n",
    "for i in a:\n",
    "    if i not in a_dict:\n",
    "        a_dict[i] = 1\n",
    "    else:\n",
    "        a_dict[i]+=1\n",
    "\n",
    "\n",
    "for i in b:\n",
    "    if i not in b_dict:\n",
    "        b_dict[i] = 1\n",
    "    else:\n",
    "        b_dict[i]+=1\n",
    "\n",
    "print(a_dict)\n",
    "print(b_dict)\n",
    "\n",
    "if(a_dict == b_dict):\n",
    "    print(\"anagram\")\n",
    "else:\n",
    "    print(\"Not anagram\")"
   ]
  },
  {
   "cell_type": "code",
   "execution_count": 17,
   "id": "80b62cd2-1412-4c25-97f1-532ba7eba644",
   "metadata": {},
   "outputs": [],
   "source": [
    "# 5. Write a code to find all occurrences of a given substring within another string"
   ]
  },
  {
   "cell_type": "code",
   "execution_count": 23,
   "id": "d986c37b-bf8f-4d1c-bf4f-44f0dffa90bc",
   "metadata": {},
   "outputs": [],
   "source": [
    "# 6. Write a code to perform basic string compression using the counts of repeated characters\n",
    "\n",
    "\n",
    "# leet code 443"
   ]
  },
  {
   "cell_type": "code",
   "execution_count": 27,
   "id": "2956cac1-f2fd-4e02-95e1-d02a180d46b9",
   "metadata": {},
   "outputs": [
    {
     "name": "stdout",
     "output_type": "stream",
     "text": [
      "angrm\n"
     ]
    }
   ],
   "source": [
    "# 7. Write a code to determine if a string has all unique characters\n",
    "\n",
    "\n",
    "a = \"anagram\"\n",
    "\n",
    "mylist = []\n",
    "\n",
    "for i in a:\n",
    "    if i not in mylist:\n",
    "        mylist.append(i)\n",
    "\n",
    "# print(mylist)\n",
    "print(\"\".join(mylist))"
   ]
  },
  {
   "cell_type": "code",
   "execution_count": 35,
   "id": "019f569c-68d3-41de-b143-4ad9e6da68d1",
   "metadata": {},
   "outputs": [
    {
     "name": "stdout",
     "output_type": "stream",
     "text": [
      "regex software service\n"
     ]
    }
   ],
   "source": [
    "# 8. Write a code to convert a given string to uppercase or lowercase\n",
    "\n",
    "\n",
    "a = \"REGEX SOFTWARE SERVICE\"\n",
    "\n",
    "r = \"\"\n",
    "\n",
    "for i in a:\n",
    "    if i.upper() == i:\n",
    "        r = r + i.lower()\n",
    "    else:\n",
    "        r = r + i.upper()\n",
    "        \n",
    "        \n",
    "        \n",
    "\n",
    "print(r)"
   ]
  },
  {
   "cell_type": "code",
   "execution_count": 36,
   "id": "22baf699-53e0-4063-873f-3122643bcc44",
   "metadata": {},
   "outputs": [
    {
     "name": "stdout",
     "output_type": "stream",
     "text": [
      "22\n"
     ]
    }
   ],
   "source": [
    "# 9. Write a code to count the number of words in a string ?\n",
    "\n",
    "s = \"regex software service\"\n",
    "\n",
    "l = len(s)\n",
    "print(l)\n",
    "\n"
   ]
  },
  {
   "cell_type": "code",
   "execution_count": 29,
   "id": "ffdf4f96-1d06-415a-a2dd-926abc6b0685",
   "metadata": {},
   "outputs": [
    {
     "name": "stdout",
     "output_type": "stream",
     "text": [
      "Helloworld\n"
     ]
    }
   ],
   "source": [
    "# 10. Write a code to concatenate two strings without using the `+` operator\n",
    "\n",
    "a = \"Hello\"\n",
    "b = \"world\"\n",
    "\n",
    "print(\"\".join([a,b]))"
   ]
  },
  {
   "cell_type": "markdown",
   "id": "2ad4ba9f-bda6-4c60-9432-5f1a698c29c6",
   "metadata": {},
   "source": [
    "# List Problems"
   ]
  },
  {
   "cell_type": "code",
   "execution_count": null,
   "id": "c3ac7944-3f45-45e3-9a57-4a5637a1a9ea",
   "metadata": {},
   "outputs": [],
   "source": []
  },
  {
   "cell_type": "code",
   "execution_count": 20,
   "id": "65471e67-d079-4be5-b957-16371f42e28d",
   "metadata": {},
   "outputs": [
    {
     "name": "stdout",
     "output_type": "stream",
     "text": [
      "['b', 'c', 'b', 'd', 'e']\n"
     ]
    }
   ],
   "source": [
    "# 11. Write a code to remove all occurrences of a specific element from a list\n",
    "\n",
    "mylist = [\"a\",\"b\",\"c\",\"b\",\"a\",\"d\",\"e\"]\n",
    "\n",
    "e = \"a\"\n",
    "for i in mylist:\n",
    "    if e in mylist:\n",
    "        mylist.remove(e)\n",
    "\n",
    "print(mylist)"
   ]
  },
  {
   "cell_type": "code",
   "execution_count": 21,
   "id": "1d0fef7c-e2c5-450b-be05-fa471fe10aac",
   "metadata": {},
   "outputs": [
    {
     "name": "stdout",
     "output_type": "stream",
     "text": [
      "Highest : 120\n",
      "Second Highest : 110\n"
     ]
    }
   ],
   "source": [
    "# 12. Implement a code to find the second largest number in a given list of integers\n",
    "\n",
    "mylist = [10,30,12,32,23,55,100,120,110]\n",
    "\n",
    "m = mylist[0]\n",
    "sm = mylist[0]\n",
    "\n",
    "for i in range(len(mylist)):\n",
    "    if mylist[i]>m:\n",
    "        sm = m\n",
    "        m = mylist[i]\n",
    "    elif(sm<mylist[i] and mylist[i]!=m):\n",
    "        sm = mylist[i]\n",
    "\n",
    "print(\"Highest :\",m)\n",
    "print(\"Second Highest :\",sm)\n",
    "        "
   ]
  },
  {
   "cell_type": "code",
   "execution_count": 22,
   "id": "a753f2ba-fc9b-4364-97fa-b1da71ec5a63",
   "metadata": {},
   "outputs": [
    {
     "name": "stdout",
     "output_type": "stream",
     "text": [
      "{'a': 2, 'b': 2, 'c': 2, 'd': 1}\n"
     ]
    }
   ],
   "source": [
    "# 13. Create a code to count the occurrences of each element in a list and return a ?\n",
    "\n",
    "mylist = [\"a\",\"b\",\"c\",\"d\",\"a\",\"b\",\"c\"]\n",
    "\n",
    "mydict = {}\n",
    "\n",
    "for i in mylist:\n",
    "    if i not in mydict:\n",
    "        mydict[i] = 1\n",
    "    else:\n",
    "        mydict[i]+=1\n",
    "\n",
    "print(mydict)\n",
    "\n",
    "\n"
   ]
  },
  {
   "cell_type": "code",
   "execution_count": 23,
   "id": "909bc061-b0d7-4969-b743-bbcdc7ce926f",
   "metadata": {},
   "outputs": [
    {
     "name": "stdout",
     "output_type": "stream",
     "text": [
      "['h', 'g', 'f', 'e', 'd', 'c', 'b', 'a']\n"
     ]
    }
   ],
   "source": [
    "# 14. Write a code to reverse a list in-place without using any built-in reverse functions ?\n",
    "\n",
    "\n",
    "mylist  = [\"a\",\"b\",\"c\",\"d\",\"e\",\"f\",\"g\",\"h\"]\n",
    "\n",
    "new_dict = []\n",
    "\n",
    "for i in mylist:\n",
    "    new_dict.insert(0,i)\n",
    "\n",
    "print(new_dict)"
   ]
  },
  {
   "cell_type": "code",
   "execution_count": 27,
   "id": "f5163845-2070-4df3-b1ff-fb28e0b5fbff",
   "metadata": {},
   "outputs": [
    {
     "name": "stdout",
     "output_type": "stream",
     "text": [
      "['a', 'b', 'c', 'd', 'e']\n"
     ]
    }
   ],
   "source": [
    "# 15. Implement a code to find and remove duplicates from a list while preserving the original order of elements\n",
    "\n",
    "mylist = [\"a\",\"b\",\"c\",\"b\",\"a\",\"d\",\"e\"]\n",
    "\n",
    "new_list = []\n",
    "\n",
    "for i in mylist:\n",
    "    if i not in new_list:\n",
    "        new_list.append(i)\n",
    "print(new_list)\n"
   ]
  },
  {
   "cell_type": "code",
   "execution_count": 33,
   "id": "11bec6af-5e1c-4cfa-83ba-d79a4e24e50d",
   "metadata": {},
   "outputs": [
    {
     "name": "stdout",
     "output_type": "stream",
     "text": [
      "Decending\n"
     ]
    }
   ],
   "source": [
    "# 16. Create a code to check if a given list is sorted (either in ascending or descending order) or not?\n",
    "\n",
    "\n",
    "def check_list(lst):\n",
    "\n",
    "    if lst == sorted(lst):\n",
    "        return \"Assending\"\n",
    "    elif(lst == sorted(lst,reverse = True)):\n",
    "        return \"Decending\"\n",
    "    else:\n",
    "        return \"Not Sorted\"\n",
    "\n",
    "\n",
    "mylist = [50,40,30,20,10]\n",
    "\n",
    "a = check_list(mylist)\n",
    "print(a)"
   ]
  },
  {
   "cell_type": "code",
   "execution_count": 39,
   "id": "fea22965-5be1-4f02-a612-0d3f1b1e14ff",
   "metadata": {},
   "outputs": [
    {
     "name": "stdout",
     "output_type": "stream",
     "text": [
      "[5, 10, 15, 20, 25, 30, 40, 45, 50]\n"
     ]
    }
   ],
   "source": [
    "# 17. Write a code to merge two sorted lists into a single sorted list ?\n",
    "\n",
    "first_list = [10,20,40,25]\n",
    "second_list = [15,5,30,45,50]\n",
    "\n",
    "third_list = first_list +second_list\n",
    "third_list\n",
    "\n",
    "\n",
    "for i in range(len(third_list)):\n",
    "    for j in range(i+1,len(third_list)):\n",
    "        if third_list[i] > third_list[j]:\n",
    "            third_list[i] , third_list[j] = third_list[j],third_list[i]\n",
    "\n",
    "print(third_list)\n",
    "    \n",
    "    "
   ]
  },
  {
   "cell_type": "code",
   "execution_count": 47,
   "id": "e3124bd5-4a12-499b-9e14-a9807dfa53f3",
   "metadata": {},
   "outputs": [
    {
     "name": "stdout",
     "output_type": "stream",
     "text": [
      "{40, 10, 20}\n"
     ]
    }
   ],
   "source": [
    "# 18. Implement a code to find the intersection of two given lists ?\n",
    "\n",
    "list1 = [10,20,30,40,50,10]\n",
    "list2 = [20,40,10]\n",
    "\n",
    "new_list =[]\n",
    "\n",
    "for i in list1:\n",
    "    if i in list2:\n",
    "        new_list.append(i)\n",
    "    elif(i in list2):\n",
    "        new_list.remove(i)\n",
    "\n",
    "print(set(new_list))\n",
    "\n"
   ]
  },
  {
   "cell_type": "code",
   "execution_count": 54,
   "id": "386cb60b-7783-4008-aad8-19f54fc44777",
   "metadata": {},
   "outputs": [
    {
     "name": "stdout",
     "output_type": "stream",
     "text": [
      "{70, 40, 10, 50, 20, 60, 30}\n"
     ]
    }
   ],
   "source": [
    "# 19. Create a code to find the union of two lists without duplicates ?\n",
    "\n",
    "list1 = [10,20,30,40,50,10]\n",
    "list2 = [20,40,10,60,70]\n",
    "\n",
    "for i in list2:\n",
    "    if i not in list1:\n",
    "        list1.append(i)\n",
    "\n",
    "print(set(list1))"
   ]
  },
  {
   "cell_type": "code",
   "execution_count": 55,
   "id": "c309c94f-1c40-42a1-9e9e-c04b72239847",
   "metadata": {},
   "outputs": [],
   "source": [
    "# 20. Write a code to shuffle a given list randomly without using any built-in shuffle functions ?"
   ]
  },
  {
   "cell_type": "markdown",
   "id": "90f9cec6-1cd1-4291-b9cd-00b825be1a65",
   "metadata": {},
   "source": [
    "# Tuple Problems"
   ]
  },
  {
   "cell_type": "code",
   "execution_count": 59,
   "id": "4d7066c0-86c6-4b74-bbe8-14cf7c189897",
   "metadata": {},
   "outputs": [
    {
     "name": "stdout",
     "output_type": "stream",
     "text": [
      "{40, 50, 30}\n"
     ]
    }
   ],
   "source": [
    "# 21. Write a code that takes two tuples as input and returns a new tuple containing elements that are\n",
    "# common to both input tuples\n",
    "\n",
    "a = (10,20,30,40,50)\n",
    "b = (30,40,50,90)\n",
    "\n",
    "c = set(a) & set(b)\n",
    "print(set(c))\n"
   ]
  },
  {
   "cell_type": "code",
   "execution_count": 60,
   "id": "d7dfe6fd-4286-4eb1-97f4-252490157ae6",
   "metadata": {},
   "outputs": [
    {
     "name": "stdout",
     "output_type": "stream",
     "text": [
      "{40, 50, 20, 30}\n"
     ]
    }
   ],
   "source": [
    "# 22. Create a code that prompts the user to enter two sets of integers separated by commas.\n",
    "# Then, print the intersection of these two sets\n",
    "\n",
    "a = {10,20,30,40,50,60}\n",
    "b = {40,30,20,70,80,50}\n",
    "\n",
    "print(a & b)"
   ]
  },
  {
   "cell_type": "code",
   "execution_count": 61,
   "id": "f4933fda-38d5-44b8-9374-416f62f90e3c",
   "metadata": {},
   "outputs": [
    {
     "name": "stdout",
     "output_type": "stream",
     "text": [
      "(10, 20, 30, 40, 50, 30, 40, 50, 90)\n"
     ]
    }
   ],
   "source": [
    "# 23. Write a code to concatenate two tuples. The function should take two tuples as input and return a new tuple \n",
    "# containing elements from both input tuples\n",
    "\n",
    "\n",
    "def conca_tup(a,b):\n",
    "    return a +b\n",
    "    \n",
    "a = (10,20,30,40,50)\n",
    "\n",
    "b = (30,40,50,90)\n",
    "\n",
    "print(conca_tup(a,b))\n"
   ]
  },
  {
   "cell_type": "code",
   "execution_count": 64,
   "id": "c5e0f976-c352-461d-9bdc-949eff1d83b9",
   "metadata": {},
   "outputs": [
    {
     "name": "stdout",
     "output_type": "stream",
     "text": [
      "b\n",
      "c\n"
     ]
    }
   ],
   "source": [
    "# 24. Develop a code that prompts the user to input two sets of strings. Then, print the elements that are present \n",
    "# in the first set but not in the second set\n",
    "\n",
    "def func(s1,s2):\n",
    "    for i in s1:\n",
    "        if i not in s2:\n",
    "            print(i)\n",
    "\n",
    "\n",
    "\n",
    "set1 = {\"a\",\"b\",\"c\",\"d\",\"e\",\"f\"}\n",
    "\n",
    "set2 = {\"a\",\"d\",\"e\",\"f\"}\n",
    "\n",
    "func(set1,set2)\n"
   ]
  },
  {
   "cell_type": "code",
   "execution_count": 1,
   "id": "8dab13d0-ab7d-4080-8437-e5919b033d33",
   "metadata": {},
   "outputs": [],
   "source": [
    "# 25. Create a code that takes a tuple and two integers as input. The function should return a new tuple \n",
    "# containing elements from the original tuple within the specified range of indices\n",
    "\n"
   ]
  },
  {
   "cell_type": "code",
   "execution_count": 2,
   "id": "a4f6afdf-4896-480d-99f6-50a2865d7be7",
   "metadata": {},
   "outputs": [
    {
     "name": "stdout",
     "output_type": "stream",
     "text": [
      "{'a', 'f', 'd', 'e', 'b', 'c'}\n"
     ]
    }
   ],
   "source": [
    "# 26. Write a code that prompts the user to input two sets of characters. Then, print the union of these two sets ?\n",
    "\n",
    "set1 = {\"a\",\"b\",\"c\",\"d\"}\n",
    "\n",
    "set2 = {\"c\",\"d\",\"e\",\"f\"}\n",
    "\n",
    "print(set1 | set2)"
   ]
  },
  {
   "cell_type": "code",
   "execution_count": 4,
   "id": "39545de3-1f6c-47a7-beb5-5ff0e4159a31",
   "metadata": {},
   "outputs": [
    {
     "name": "stdout",
     "output_type": "stream",
     "text": [
      "Maximum number : 50\n",
      "Minimum number : 10\n"
     ]
    }
   ],
   "source": [
    "# 27. Develop a code that takes a tuple of integers as input. The function should return the maximum and minimum values from the \n",
    "# tuple using tuple unpacking\n",
    "\n",
    "\n",
    "tup1 = (10,20,32,12,43,23,50)\n",
    "\n",
    "print(\"Maximum number :\",max(tup1))\n",
    "\n",
    "print(\"Minimum number :\",min(tup1))"
   ]
  },
  {
   "cell_type": "code",
   "execution_count": 9,
   "id": "842345f1-44f5-41f7-8a67-157838bb3486",
   "metadata": {},
   "outputs": [
    {
     "name": "stdout",
     "output_type": "stream",
     "text": [
      "Union of two set  {'a', 'f', 'd', 'e', 'b', 'c'}\n",
      "Intersection of two set  {'d', 'c'}\n",
      "Diffrence of two set {'a', 'b'}\n"
     ]
    }
   ],
   "source": [
    "# 28. Create a code that defines two sets of integers. Then, print the union, intersection, and difference of these two sets ?\n",
    "\n",
    "set1 = {\"a\",\"b\",\"c\",\"d\"}\n",
    "\n",
    "set2 = {\"c\",\"d\",\"e\",\"f\"}\n",
    "\n",
    "print(\"Union of two set \",set1 | set2)\n",
    "\n",
    "print(\"Intersection of two set \",set1 & set2)\n",
    "\n",
    "print(\"Diffrence of two set\",set1 - set2)"
   ]
  },
  {
   "cell_type": "code",
   "execution_count": 11,
   "id": "df249f66-f8be-4f09-8141-eee9d2f13674",
   "metadata": {},
   "outputs": [
    {
     "name": "stdout",
     "output_type": "stream",
     "text": [
      "3\n"
     ]
    }
   ],
   "source": [
    "# 29. Write a code that takes a tuple and an element as input. The function should return the count of occurrences of the given element in the ?\n",
    "\n",
    "def func(tup,element):\n",
    "    count = 0\n",
    "    for i in tup:\n",
    "        if i==element:\n",
    "            count+=1\n",
    "    print(count)\n",
    "\n",
    "\n",
    "tup = (\"a\",\"b\",\"c\",\"d\",\"a\",\"v\",\"a\",\"b\")\n",
    "e = \"a\"\n",
    "func(tup,e)"
   ]
  },
  {
   "cell_type": "code",
   "execution_count": 14,
   "id": "d827c009-1ecc-43d1-99ea-81a533314a5c",
   "metadata": {},
   "outputs": [
    {
     "name": "stdout",
     "output_type": "stream",
     "text": [
      "{'a', 'b'}\n",
      "{'e', 'f'}\n",
      "Symmetric diffrence of two set  {'f', 'a', 'e', 'b'}\n"
     ]
    }
   ],
   "source": [
    "# 30. Develop a code that prompts the user to input two sets of strings. Then, print the symmetric difference of these two sets\n",
    "\n",
    "set1 = {\"a\",\"b\",\"c\",\"d\"}\n",
    "\n",
    "set2 = {\"c\",\"d\",\"e\",\"f\"}\n",
    "\n",
    "a = set1 - set2 \n",
    "\n",
    "b = set2 - set1\n",
    "\n",
    "\n",
    "print(a)\n",
    "print(b)\n",
    "print(\"Symmetric diffrence of two set \",a | b)"
   ]
  },
  {
   "cell_type": "markdown",
   "id": "a97c1439-d603-42a6-b825-eb32b54d2499",
   "metadata": {},
   "source": [
    "# Dictionary Problems"
   ]
  },
  {
   "cell_type": "code",
   "execution_count": 18,
   "id": "68dcaec8-dafd-4802-8b88-0e9a6584b4b6",
   "metadata": {},
   "outputs": [
    {
     "name": "stdout",
     "output_type": "stream",
     "text": [
      "{'a': 3, 'b': 2, 'c': 1, 'd': 2, 'v': 1}\n"
     ]
    }
   ],
   "source": [
    "# 31. Write a code that takes a list of words as input and returns a dictionary where the keys are unique words and the values are \n",
    "# the frequencies of those words in the input lis\n",
    "\n",
    "\n",
    "def func(lst):\n",
    "\n",
    "    mydict ={}\n",
    "    for i in lst:\n",
    "        if i not in mydict:\n",
    "            mydict[i] = 1\n",
    "        else:\n",
    "            mydict[i]+=1\n",
    "    print(mydict)\n",
    "\n",
    "\n",
    "lst = [\"a\",\"b\",\"c\",\"d\",\"a\",\"v\",\"a\",\"b\",\"d\"]\n",
    "\n",
    "func(lst)"
   ]
  },
  {
   "cell_type": "code",
   "execution_count": 23,
   "id": "26984427-5b5a-477c-b90a-a626ed451029",
   "metadata": {},
   "outputs": [
    {
     "name": "stdout",
     "output_type": "stream",
     "text": [
      "{'a': 5, 'b': 2, 'c': 3, 'd': 4, 'e': 6}\n"
     ]
    }
   ],
   "source": [
    "# 32. Write a code that takes two dictionaries as input and merges them into a single dictionary.\n",
    "# If there are common keys, the values should be added together\n",
    "\n",
    "a = {\n",
    "    \"a\":1,\n",
    "    \"b\":2,\n",
    "    \"c\":3\n",
    "}\n",
    "\n",
    "b = {\n",
    "    \"d\":4,\n",
    "    \"a\":5,\n",
    "    \"e\":6\n",
    "}\n",
    "\n",
    "# print(a+b)\n",
    "a.update(b)\n",
    "print(a)"
   ]
  },
  {
   "cell_type": "code",
   "execution_count": 27,
   "id": "72834851-714f-4fac-9340-1fd9ac102812",
   "metadata": {},
   "outputs": [
    {
     "name": "stdout",
     "output_type": "stream",
     "text": [
      "[('a', 5), ('b', 2), ('c', 3), ('d', 4), ('e', 6)]\n"
     ]
    }
   ],
   "source": [
    "mydict = {'b': 2, 'd': 4, 'e': 6,'a': 5, 'c': 3}\n",
    "\n",
    "print(sorted(mydict.items()))\n",
    "\n"
   ]
  },
  {
   "cell_type": "code",
   "execution_count": null,
   "id": "b2028e6f-4908-49a3-9608-d6f3e0097a49",
   "metadata": {},
   "outputs": [],
   "source": []
  }
 ],
 "metadata": {
  "kernelspec": {
   "display_name": "Python 3 (ipykernel)",
   "language": "python",
   "name": "python3"
  },
  "language_info": {
   "codemirror_mode": {
    "name": "ipython",
    "version": 3
   },
   "file_extension": ".py",
   "mimetype": "text/x-python",
   "name": "python",
   "nbconvert_exporter": "python",
   "pygments_lexer": "ipython3",
   "version": "3.12.4"
  }
 },
 "nbformat": 4,
 "nbformat_minor": 5
}
