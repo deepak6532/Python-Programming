{
 "cells": [
  {
   "cell_type": "code",
   "execution_count": 1,
   "id": "e6415b94-3be1-47bf-af6c-4047935b96a0",
   "metadata": {},
   "outputs": [],
   "source": [
    "# Q1  write a function that takes a list of lists and flattens it into a single lists.\n",
    "\n",
    "input  = [[1,2,3],[4,5],[6,7]]\n",
    "\n",
    "output = [1,2,3,4,5,6,7]\n"
   ]
  },
  {
   "cell_type": "code",
   "execution_count": 2,
   "id": "bf37837b-001c-424f-a663-c9aea2ed3fff",
   "metadata": {},
   "outputs": [
    {
     "name": "stdout",
     "output_type": "stream",
     "text": [
      "[1, 2, 3, 4, 5, 6, 7]\n"
     ]
    }
   ],
   "source": [
    "def flatten_list(lists):\n",
    "    flat_list = [item for sublist in lists for item in sublist]\n",
    "    return flat_list\n",
    "\n",
    "print(flatten_list([[1,2,3],[4,5],[6,7]]))"
   ]
  },
  {
   "cell_type": "code",
   "execution_count": 3,
   "id": "41c03f0c-ec02-4320-9866-7118e7e0d217",
   "metadata": {},
   "outputs": [],
   "source": [
    "# Q 2: write a python function to find the second largest element in a list\n",
    "input = [10,20,4,45,99]\n",
    "\n",
    "output  = 45"
   ]
  },
  {
   "cell_type": "code",
   "execution_count": 4,
   "id": "47e8c86a-cf42-40a1-a1cc-54855fb2e3ca",
   "metadata": {},
   "outputs": [
    {
     "name": "stdout",
     "output_type": "stream",
     "text": [
      "45\n"
     ]
    }
   ],
   "source": [
    "def second_large(number):\n",
    "    unique_number=  list(set(number))  #REmove duplicate \n",
    "    unique_number.sort()\n",
    "    return unique_number[-2]\n",
    "\n",
    "print(second_large([10,20,4,45,99]))"
   ]
  },
  {
   "cell_type": "code",
   "execution_count": 5,
   "id": "e5fbde3a-a0aa-43f3-ac1b-53a0626c0da1",
   "metadata": {},
   "outputs": [],
   "source": [
    "# Q: 3 write a function that roates a list to the right by a given number of steps.\n",
    "\n",
    "# input  =  [1,2,3,4,5],  steps =2\n",
    "# output=  [5,4,3,2,1]\n"
   ]
  },
  {
   "cell_type": "code",
   "execution_count": 6,
   "id": "2aa2daf9-692f-4cba-8b64-d7147e7053c5",
   "metadata": {},
   "outputs": [
    {
     "name": "stdout",
     "output_type": "stream",
     "text": [
      "[4, 5, 1, 2, 3]\n"
     ]
    }
   ],
   "source": [
    "def roated(list,steps):\n",
    "    steps = steps% len(list)       # in steps > len(list)\n",
    "    return list[-steps:] + list[:-steps]\n",
    "\n",
    "print(roated([1,2,3,4,5],2))  "
   ]
  },
  {
   "cell_type": "code",
   "execution_count": 7,
   "id": "228fc653-0867-4cef-b688-c29974f63ce6",
   "metadata": {},
   "outputs": [],
   "source": [
    "# Q 4: write a function to find all pairs of numbers in a list that sum up to a target value .\n",
    "\n",
    "# input = [1,2,3,4,5]  target = 6\n",
    "# output =  [(1,5),(2,4)]\n",
    "    "
   ]
  },
  {
   "cell_type": "code",
   "execution_count": 1,
   "id": "cd146cb2-3969-4591-8592-393b30743dad",
   "metadata": {},
   "outputs": [
    {
     "name": "stdout",
     "output_type": "stream",
     "text": [
      "[(10, 50), (20, 40)]\n"
     ]
    }
   ],
   "source": [
    "def find_with_sum(list , target):\n",
    "    pairs = []\n",
    "    for i in range(len(list)):\n",
    "        for j in range(i + 1 ,len(list)):\n",
    "            if(list[i] + list[j] == target):\n",
    "                pairs.append((list[i],list[j]))\n",
    "    return pairs\n",
    "\n",
    "print(find_with_sum([10,20,30,40,50],60)) "
   ]
  },
  {
   "cell_type": "code",
   "execution_count": 9,
   "id": "238f3472-a9e2-46da-ae4c-83e5464e3be3",
   "metadata": {},
   "outputs": [],
   "source": [
    "# Q:5  write a function to find the common elements between teo lists without duplicates.\n",
    "\n",
    "\n",
    "list1 = [1,2,3,4,5]\n",
    "list2 = [4,5,6,7,8]\n",
    "output = [4,5]"
   ]
  },
  {
   "cell_type": "code",
   "execution_count": 10,
   "id": "7223a2c2-0549-47e1-8bf6-06bb298d0841",
   "metadata": {},
   "outputs": [
    {
     "name": "stdout",
     "output_type": "stream",
     "text": [
      "[4, 5]\n"
     ]
    }
   ],
   "source": [
    "def find_common(list1 ,list2):\n",
    "    return list(set(list1) & set(list2))                     # use intersection \n",
    " \n",
    "list1 = [1,2,3,4,5]\n",
    "list2 = [4,5,6,7,8]\n",
    "\n",
    "print(find_common(list1,list2))"
   ]
  },
  {
   "cell_type": "code",
   "execution_count": 12,
   "id": "0a66fc4c-ecfa-47ed-a0c7-480494c88403",
   "metadata": {},
   "outputs": [
    {
     "name": "stdout",
     "output_type": "stream",
     "text": [
      "[5, 4, 3, 2, 1]\n"
     ]
    }
   ],
   "source": [
    "# 6 write a python program to reverse the elements of  a list\n",
    "\n",
    "# example : input  =  [1,2,,3,4,5]  output = [5,4,3,2,1]\n",
    "\n",
    "list = [1,2,3,4,5]\n",
    "list.reverse()\n",
    "print(list)"
   ]
  },
  {
   "cell_type": "code",
   "execution_count": 2,
   "id": "9654c642-d1ab-42f7-b3f4-1de1eb4a5761",
   "metadata": {},
   "outputs": [
    {
     "name": "stdout",
     "output_type": "stream",
     "text": [
      "[1, 2, 3, 4, 5]\n"
     ]
    }
   ],
   "source": [
    "# 7  write a python program to remove duplicate elements from a list\n",
    "\n",
    "# example = input [ 1,2,2,3,4,4,5 ]  output=   [1,2,,3,4,5]\n",
    "\n",
    "a = [1,2,3,2,4,5,4]\n",
    "\n",
    "d  = set(a)\n",
    "\n",
    "l = list(d)\n",
    "print(l)"
   ]
  },
  {
   "cell_type": "code",
   "execution_count": null,
   "id": "d256b7c7-9d4c-4615-9ddc-a901c2f3a98a",
   "metadata": {},
   "outputs": [],
   "source": [
    "# 8   write a python program to  sort a list of number in ascending order \n",
    "\n",
    "# example:  input= [34,12,67,89,45]   output  =  [ 12,34,45,67,89]\n",
    "\n",
    "a  =  [34,12,67,89,45]\n",
    "\n",
    "print(sorted(a))"
   ]
  },
  {
   "cell_type": "code",
   "execution_count": 7,
   "id": "62630798-f168-4e9e-ae6c-9f57f3edbd82",
   "metadata": {},
   "outputs": [
    {
     "name": "stdout",
     "output_type": "stream",
     "text": [
      "3\n"
     ]
    }
   ],
   "source": [
    "# 9  write a python program to  count how many times an element appears in a list\n",
    "\n",
    "# example  input= [1,2,3,4,2,2,5]  element =2 output =3\n",
    "\n",
    "list=  [1,2,3,4,2,3,2,4,5]\n",
    "\n",
    "c=0\n",
    "for i in list:\n",
    "    if(i==2):\n",
    "        c+=1\n",
    "\n",
    "print(c)"
   ]
  },
  {
   "cell_type": "code",
   "execution_count": 8,
   "id": "b237ec8f-d69f-4f24-85b2-692b1c77eb43",
   "metadata": {},
   "outputs": [
    {
     "name": "stdout",
     "output_type": "stream",
     "text": [
      "15\n"
     ]
    }
   ],
   "source": [
    "# 10  write a python program to  find the sum of all the elements in a list \n",
    "\n",
    "# example input= [1,2,3,4,5]   output  = 15\n",
    "\n",
    "list = [1,2,3,4,5]\n",
    "# sum(list)     # 15 using predefine function\n",
    "\n",
    "sum=0\n",
    "for i in list:\n",
    "    sum = sum +i\n",
    "\n",
    "print(sum)\n"
   ]
  },
  {
   "cell_type": "code",
   "execution_count": null,
   "id": "2e0411d8-87ec-4303-b079-110414a4a193",
   "metadata": {},
   "outputs": [],
   "source": [
    "# flaten list practice question  \n",
    "\n",
    "sublist = [[1,2,3,4],[5,6],[7,8,9,10]]\n",
    "\n",
    "flat = [item for a in sublist for item in a]\n",
    "\n",
    "print(flat)\n",
    "\n",
    "even = [num for num in flat if num%2==0]\n",
    "print(\"Even numebr is flate list :\",even)\n"
   ]
  },
  {
   "cell_type": "code",
   "execution_count": 2,
   "id": "c1331627-4abc-4001-9f90-599ca6060e4c",
   "metadata": {},
   "outputs": [
    {
     "name": "stdout",
     "output_type": "stream",
     "text": [
      "Even numeber: [2, 4, 6, 8, 10, 12, 14, 16]\n",
      "Total number of even is : 8\n",
      "Odd numer: [1, 3, 5, 7, 9, 11, 13]\n",
      "Total number of odd is : 7\n"
     ]
    }
   ],
   "source": [
    "# separate and count how many even and odd number  in a list\n",
    "\n",
    "a = [1,2,3,4,5,6,7,8,9,10,11,12,13,14,16]\n",
    "even = []\n",
    "odd = []\n",
    "e = 0\n",
    "o =0\n",
    "\n",
    "for i in a:\n",
    "    if i%2==0:\n",
    "        even.append(i)\n",
    "        e+=1\n",
    "    else:\n",
    "        odd.append(i)\n",
    "        o+=1\n",
    "print(\"Even numeber:\",even)\n",
    "print(\"Total number of even is :\",e)\n",
    "print(\"Odd numer:\",odd)\n",
    "print(\"Total number of odd is :\",o)"
   ]
  },
  {
   "cell_type": "code",
   "execution_count": null,
   "id": "ef53412f-0feb-44c3-825b-26ba3aee9861",
   "metadata": {},
   "outputs": [],
   "source": []
  }
 ],
 "metadata": {
  "kernelspec": {
   "display_name": "Python 3 (ipykernel)",
   "language": "python",
   "name": "python3"
  },
  "language_info": {
   "codemirror_mode": {
    "name": "ipython",
    "version": 3
   },
   "file_extension": ".py",
   "mimetype": "text/x-python",
   "name": "python",
   "nbconvert_exporter": "python",
   "pygments_lexer": "ipython3",
   "version": "3.12.4"
  }
 },
 "nbformat": 4,
 "nbformat_minor": 5
}
