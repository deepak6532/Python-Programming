{
 "cells": [
  {
   "cell_type": "markdown",
   "id": "eff1d32b-e33b-4f6b-b9b0-7c8bee6e6b11",
   "metadata": {},
   "source": [
    "# @classmethod"
   ]
  },
  {
   "cell_type": "code",
   "execution_count": 3,
   "id": "f1a264bb-5e57-46e9-bdac-3a8e8d4562bd",
   "metadata": {},
   "outputs": [
    {
     "name": "stdout",
     "output_type": "stream",
     "text": [
      "Tech Solutions\n",
      "Fututre Tech\n"
     ]
    }
   ],
   "source": [
    "class Employee:\n",
    "    company_name = \"Tech Solutions\"\n",
    "\n",
    "    def __init__(self,name,salary):\n",
    "        self.name  = name\n",
    "        self.salary = salary\n",
    "\n",
    "    @classmethod\n",
    "    def change_company_name(cls,new_name):\n",
    "        cls.company_name = new_name\n",
    "\n",
    "\n",
    "emp1 = Employee(\"Sam\",4000)\n",
    "\n",
    "emp2 = Employee(\"Rahul\",6000)\n",
    "\n",
    "print(Employee.company_name)           #Access the calss method\n",
    "\n",
    "Employee.change_company_name(\"Fututre Tech\"     # change class attribute using class method\n",
    "\n",
    "print(Employee.company_name)  "
   ]
  },
  {
   "cell_type": "markdown",
   "id": "6fa58e9c-10fb-4218-883c-0aa8e2aa3614",
   "metadata": {},
   "source": [
    "# @staticmethod"
   ]
  },
  {
   "cell_type": "code",
   "execution_count": 7,
   "id": "eeab6da9-66f4-499a-82e5-f1ce4c6c3ef6",
   "metadata": {},
   "outputs": [
    {
     "name": "stdout",
     "output_type": "stream",
     "text": [
      "7\n",
      "6\n"
     ]
    }
   ],
   "source": [
    "class mathoperation:\n",
    "\n",
    "    @staticmethod\n",
    "    def add(a, b):\n",
    "        return a+b\n",
    "\n",
    "    @staticmethod\n",
    "    def subtract(a, b):\n",
    "        return a - b\n",
    "\n",
    "\n",
    "print(mathoperation.add(5,2))\n",
    "\n",
    "print(mathoperation.subtract(10,4))\n"
   ]
  },
  {
   "cell_type": "code",
   "execution_count": 9,
   "id": "01baf995-0fab-4855-9a00-6dbd77525f70",
   "metadata": {},
   "outputs": [
    {
     "name": "stdout",
     "output_type": "stream",
     "text": [
      "7\n",
      "6\n"
     ]
    }
   ],
   "source": [
    "# using object \n",
    "\n",
    "class mathoperation:\n",
    "\n",
    "    @staticmethod\n",
    "    def add(a, b):\n",
    "        return a+b\n",
    "\n",
    "    @staticmethod\n",
    "    def subtract(a, b):\n",
    "        return a - b\n",
    "\n",
    "a = mathoperation()\n",
    "\n",
    "print(a.add(5,2))\n",
    "\n",
    "print(a.subtract(10,4))\n"
   ]
  },
  {
   "cell_type": "markdown",
   "id": "2d7420df-f7c3-4827-9d00-246acbc41b14",
   "metadata": {},
   "source": [
    "# Super() method"
   ]
  },
  {
   "cell_type": "code",
   "execution_count": 14,
   "id": "3a4a5cfc-5361-453e-9911-34db5d57a838",
   "metadata": {},
   "outputs": [
    {
     "name": "stdout",
     "output_type": "stream",
     "text": [
      "Hello, I am Deepak from the parent class.\n",
      "I am 20 years old from the child class.\n"
     ]
    }
   ],
   "source": [
    "class Parent:\n",
    "\n",
    "    def __init__(self,name):\n",
    "        self.name= name\n",
    "\n",
    "    def greet(self):\n",
    "        print(f\"Hello, I am {self.name} from the parent class.\")\n",
    "\n",
    "\n",
    "class Child(Parent):\n",
    "\n",
    "    def __init__(self,name,age):\n",
    "\n",
    "        super().__init__(name)  # call the parent's __init__method\n",
    "        self.age = age\n",
    "\n",
    "    def greet(self):\n",
    "\n",
    "        super().greet()          # call the parent's greet method\n",
    "\n",
    "        print(f\"I am {self.age} years old from the child class.\")\n",
    "\n",
    "\n",
    "\n",
    "obj = Child(\"Deepak\",20)\n",
    "\n",
    "obj.greet()"
   ]
  },
  {
   "cell_type": "markdown",
   "id": "3d387837-db3f-4b99-99c7-261f7089fce2",
   "metadata": {},
   "source": [
    "# Example 2: payment System(credit card and paypal)"
   ]
  },
  {
   "cell_type": "code",
   "execution_count": 16,
   "id": "ccbb3503-5fd8-45cc-996b-220467488ea9",
   "metadata": {},
   "outputs": [
    {
     "name": "stdout",
     "output_type": "stream",
     "text": [
      "Credit Card payment of $100 processed.\n",
      "PayPal  payment of $200 processed.\n"
     ]
    }
   ],
   "source": [
    "from abc import ABC, abstractmethod\n",
    "\n",
    "\n",
    "# Abstract class\n",
    "\n",
    "class Payment(ABC):\n",
    "\n",
    "    @abstractmethod\n",
    "    def make_payment(self,amount):\n",
    "        pass\n",
    "\n",
    "# concrete class for credit card payment \n",
    "\n",
    "class CreditCardPayment(Payment):\n",
    "\n",
    "    def make_payment(self,amount):\n",
    "        return f\"Credit Card payment of ${amount} processed.\"\n",
    "\n",
    "#concrete class for paypal payment\n",
    "\n",
    "class PayPalPayment(Payment):\n",
    "\n",
    "    def make_payment(self,amount):\n",
    "        return f\"PayPal  payment of ${amount} processed.\"\n",
    "\n",
    "# using the classes\n",
    "\n",
    "payment1 = CreditCardPayment()\n",
    "\n",
    "print(payment1.make_payment(100))\n",
    "\n",
    "payment2 = PayPalPayment()\n",
    "\n",
    "print(payment2.make_payment(200))"
   ]
  },
  {
   "cell_type": "code",
   "execution_count": null,
   "id": "77e33289-79e6-47a6-b840-a5bdb8e79fed",
   "metadata": {},
   "outputs": [],
   "source": []
  },
  {
   "cell_type": "code",
   "execution_count": 18,
   "id": "b083aca9-63eb-42e6-9fc2-df2553e6ec8b",
   "metadata": {},
   "outputs": [
    {
     "name": "stdout",
     "output_type": "stream",
     "text": [
      "Woof!\n",
      "Meow!\n",
      "Moo!\n"
     ]
    }
   ],
   "source": [
    "class Animal:\n",
    "\n",
    "    def speak(self):\n",
    "        pass\n",
    "\n",
    "class Dog(Animal):\n",
    "    def speak(self):\n",
    "        return \"Woof!\"\n",
    "\n",
    "\n",
    "class Cat(Animal):\n",
    "    def speak(self):\n",
    "        return \"Meow!\"\n",
    "\n",
    "class Cow(Animal):\n",
    "    def speak(self):\n",
    "        return \"Moo!\"\n",
    "\n",
    "#function to demostrate ploymorphis\n",
    "\n",
    "def make_animal_speak(animal):\n",
    "    print(animal.speak())\n",
    "\n",
    "\n",
    "animals = [Dog(),Cat(),Cow()]\n",
    "\n",
    "for animal in animals:\n",
    "    make_animal_speak(animal)\n",
    "\n",
    "\n"
   ]
  },
  {
   "cell_type": "markdown",
   "id": "c60b1f13-b961-472a-9d0c-bd22c9b68d3c",
   "metadata": {},
   "source": [
    "## Overloading"
   ]
  },
  {
   "cell_type": "code",
   "execution_count": 19,
   "id": "3c85245b-396b-4537-bfad-d70439356895",
   "metadata": {},
   "outputs": [
    {
     "name": "stdout",
     "output_type": "stream",
     "text": [
      "Hello,Guest!\n",
      "Hello,Raj!\n"
     ]
    }
   ],
   "source": [
    "def greet(name=\"Guest\"):\n",
    "    print(f\"Hello,{name}!\")\n",
    "\n",
    "greet()\n",
    "greet(\"Raj\")"
   ]
  },
  {
   "cell_type": "markdown",
   "id": "493b585f-f7ea-4276-9f30-5ae1138bdb8d",
   "metadata": {},
   "source": [
    "# Decoratar function"
   ]
  },
  {
   "cell_type": "code",
   "execution_count": 32,
   "id": "79281617-15a3-4fc3-bdea-88ea5691175f",
   "metadata": {},
   "outputs": [
    {
     "name": "stdout",
     "output_type": "stream",
     "text": [
      "Hello,Deepak!\n"
     ]
    }
   ],
   "source": [
    "def log_decorator(func):\n",
    "    def wrapper(*args, **kwargs):\n",
    "        print(f\"Function '{func.__name__}' is called\")\n",
    "        result = func(*args,**kwargs) \n",
    "        print(f\"function '{func.__name__}' finished execution\")\n",
    "        \n",
    "        return result\n",
    "    return wrapper\n",
    "\n",
    "\n",
    "@log_decorator\n",
    "\n",
    "def grett(name):\n",
    "    print(f\"Hello,{name}!\")\n",
    "\n",
    "greet(\"Deepak\")"
   ]
  },
  {
   "cell_type": "code",
   "execution_count": null,
   "id": "f60faf7f-fc15-413d-9917-92fed7b8486b",
   "metadata": {},
   "outputs": [],
   "source": []
  }
 ],
 "metadata": {
  "kernelspec": {
   "display_name": "Python 3 (ipykernel)",
   "language": "python",
   "name": "python3"
  },
  "language_info": {
   "codemirror_mode": {
    "name": "ipython",
    "version": 3
   },
   "file_extension": ".py",
   "mimetype": "text/x-python",
   "name": "python",
   "nbconvert_exporter": "python",
   "pygments_lexer": "ipython3",
   "version": "3.12.4"
  }
 },
 "nbformat": 4,
 "nbformat_minor": 5
}
