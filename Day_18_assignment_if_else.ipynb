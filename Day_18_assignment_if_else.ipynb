{
 "cells": [
  {
   "cell_type": "markdown",
   "id": "c7c27f23-59aa-4f2a-a020-73cdd90e9e6a",
   "metadata": {},
   "source": [
    "# If Conditions"
   ]
  },
  {
   "cell_type": "code",
   "execution_count": 5,
   "id": "2b6bbecc-1e4c-427b-9646-6800a148fe21",
   "metadata": {},
   "outputs": [
    {
     "name": "stdin",
     "output_type": "stream",
     "text": [
      "enter the triangle first  90\n",
      "enter the triangle second   60\n",
      "enter the triangle third  30\n"
     ]
    },
    {
     "name": "stdout",
     "output_type": "stream",
     "text": [
      "Triangle\n"
     ]
    }
   ],
   "source": [
    "# 1. Write a program that takes a user input of three angles and will find out whether it  can form a triangle or not.\n",
    "\n",
    "t1 = int(input(\"enter the triangle first \"))\n",
    "t2 = int(input(\"enter the triangle second  \"))\n",
    "t3 = int(input(\"enter the triangle third \"))\n",
    "\n",
    "total = t1 +t2 +t3\n",
    "\n",
    "if(total==180):\n",
    "    print(\"Triangle\")\n",
    "else:\n",
    "    print(\"Not Triangle\")"
   ]
  },
  {
   "attachments": {
    "1f9feb0d-1ca0-4c74-9f3f-226f2a472709.png": {
     "image/png": "[encoded data removed]"
    }
   },
   "cell_type": "markdown",
   "id": "fc1c1687-6621-4e80-b5ee-4b950e3865bd",
   "metadata": {},
   "source": [
    "2: Write a program that will determine weather when the value of temperature and humidity is provided by the user.\n",
    "## ![image.png](attachment:1f9feb0d-1ca0-4c74-9f3f-226f2a472709.png)\n"
   ]
  },
  {
   "cell_type": "code",
   "execution_count": 9,
   "id": "18e958e1-4794-4555-bb2b-272828267ef9",
   "metadata": {},
   "outputs": [
    {
     "name": "stdin",
     "output_type": "stream",
     "text": [
      "enter the temperature  52\n",
      "enter the humidity  80\n"
     ]
    },
    {
     "name": "stdout",
     "output_type": "stream",
     "text": [
      "Hot\n"
     ]
    }
   ],
   "source": [
    "temp = int(input(\"enter the temperature \"))\n",
    "humidity = int(input(\"enter the humidity \"))\n",
    "\n",
    "if(temp>=30 and humidity>=90):\n",
    "    print(\"Hot and Humid\")\n",
    "elif(temp>=30 and humidity<90):\n",
    "    print(\"Hot\")\n",
    "elif(temp<30 and humidity>=90):\n",
    "    print(\"Cool and Humid\")\n",
    "elif(temp<30 and humidity<90):\n",
    "    print(\"Cool\")\n",
    "else:\n",
    "    print(\"enter valid input\")"
   ]
  },
  {
   "cell_type": "code",
   "execution_count": 12,
   "id": "7222bcc7-b13a-48af-b036-4a28df1b78f4",
   "metadata": {},
   "outputs": [
    {
     "name": "stdin",
     "output_type": "stream",
     "text": [
      "enter the cost price   100\n",
      "enter the selling price  80\n"
     ]
    },
    {
     "name": "stdout",
     "output_type": "stream",
     "text": [
      "your loss is : 20\n"
     ]
    }
   ],
   "source": [
    "# 3. Write a program that will take user input of cost price and selling price and determines whether its a loss or a profit\n",
    "\n",
    "c_price = int(input(\"enter the cost price  \"))\n",
    "s_price = int(input(\"enter the selling price \"))\n",
    "\n",
    "loss_profit = s_price - c_price\n",
    "\n",
    "if(loss_profit>0):\n",
    "    print(\"your profit is :\",loss_profit)\n",
    "elif(loss_profit<0):\n",
    "    print(\"your loss is :\",loss_profit* -1)\n",
    "else:\n",
    "    print(\"Not loss and not porfit \")"
   ]
  },
  {
   "cell_type": "code",
   "execution_count": 16,
   "id": "03c3beb8-3ed9-45e1-a15b-5bcac5440d30",
   "metadata": {},
   "outputs": [
    {
     "name": "stdin",
     "output_type": "stream",
     "text": [
      "enter the number  55\n"
     ]
    },
    {
     "name": "stdout",
     "output_type": "stream",
     "text": [
      "divisible\n"
     ]
    }
   ],
   "source": [
    "# 5. Program to check whether a number is divisible by 5 and 11 or not\n",
    "\n",
    "number = int(input(\"enter the number \"))\n",
    "if(number%5==0 and number %11==0):\n",
    "    print(\"divisible\")\n",
    "else:\n",
    "    print(\"Not divisible\")"
   ]
  },
  {
   "cell_type": "code",
   "execution_count": 18,
   "id": "9f1fa19a-df12-4206-aff8-5ff3ae8d7e59",
   "metadata": {},
   "outputs": [
    {
     "name": "stdin",
     "output_type": "stream",
     "text": [
      "enter the triangle first  60\n",
      "enter the triangle second   60\n",
      "enter the triangle third  60\n"
     ]
    },
    {
     "name": "stdout",
     "output_type": "stream",
     "text": [
      "Triangle\n"
     ]
    }
   ],
   "source": [
    "# 6. Write a program to check whether triangle is valid or not if angles are given.\n",
    "\n",
    "t1 = int(input(\"enter the triangle first \"))\n",
    "t2 = int(input(\"enter the triangle second  \"))\n",
    "t3 = int(input(\"enter the triangle third \"))\n",
    "\n",
    "total = t1 +t2 +t3\n",
    "\n",
    "if(total==180):\n",
    "    print(\"Triangle\")\n",
    "else:\n",
    "    print(\"Not Triangle\")"
   ]
  },
  {
   "cell_type": "code",
   "execution_count": 20,
   "id": "ef1c1754-be6b-4d48-bdb6-75f3df6b024a",
   "metadata": {},
   "outputs": [
    {
     "name": "stdin",
     "output_type": "stream",
     "text": [
      "enter the side 1  4\n",
      "enter the side 2  6\n",
      "enter the side 3  4\n"
     ]
    },
    {
     "name": "stdout",
     "output_type": "stream",
     "text": [
      "triangle is isosceles\n"
     ]
    }
   ],
   "source": [
    "# 7. Write a program to check whether triangle is equilateral, scalene or isosceles\n",
    "\n",
    "# a. A triangle is said Equilateral Triangle, if all its sides are equal. If a, b, c are\n",
    "# three sides of triangle. Then, the triangle is equilateral only if a == b == c\n",
    "\n",
    "# b. A triangle is said Isosceles Triangle, if its two sides are equal. If a, b, c are\n",
    "# three sides of triangle. Then, the triangle is isosceles if either a == b or a == c\n",
    "# or b == c.\n",
    "\n",
    "# c. A triangle is said Scalene Triangle, if none of its sides are equal.\n",
    "\n",
    "\n",
    "side1 = int(input(\"enter the side 1 \"))\n",
    "side2 = int(input(\"enter the side 2 \"))\n",
    "side3 = int(input(\"enter the side 3 \"))\n",
    "\n",
    "if(side1==side2==side3):\n",
    "    print(\"triangle is equilateral \")\n",
    "elif(side1==side2 or side1==side3 or side2==side3):\n",
    "    print(\"triangle is isosceles\")\n",
    "else:\n",
    "    print(\"Scalene Triangle\")\n",
    "    \n",
    "\n",
    "\n"
   ]
  },
  {
   "attachments": {
    "56785593-b71a-4364-9a42-7bbc88d302b4.png": {
     "image/png": "[encoded data removed]"
    }
   },
   "cell_type": "markdown",
   "id": "7cdc204b-e1a8-4dcb-bbd3-f7a08899aefc",
   "metadata": {},
   "source": [
    "8. Write a program to enter basic salary and calculate gross salary of an employee\n",
    "\n",
    "## ![image.png](attachment:56785593-b71a-4364-9a42-7bbc88d302b4.png)"
   ]
  },
  {
   "cell_type": "code",
   "execution_count": 3,
   "id": "1a06b9f6-cdea-40e6-aee7-8815e17f398c",
   "metadata": {},
   "outputs": [
    {
     "name": "stdin",
     "output_type": "stream",
     "text": [
      "enter the basic salary  40000\n"
     ]
    },
    {
     "name": "stdout",
     "output_type": "stream",
     "text": [
      "Gross salary is : 90000.0\n"
     ]
    }
   ],
   "source": [
    "Basic_salary = int(input(\"enter the basic salary \"))\n",
    "\n",
    "if(Basic_salary<=10000):\n",
    "    hra= Basic_salary*0.20\n",
    "    da = Basic_salry*0.80\n",
    "\n",
    "    gross_salary = Basic_salary + hra +da\n",
    "\n",
    "elif(Basic_salary>=10001 and Basic_salary<=20000):\n",
    "     hra= Basic_salary*0.25\n",
    "     da = Basic_salry*0.90\n",
    "\n",
    "     gross_salary = Basic_salary + hra +da\n",
    "\n",
    "elif(Basic_salary>=20001):\n",
    "     hra= Basic_salary*0.30\n",
    "     da = Basic_salary*0.95\n",
    "\n",
    "     gross_salary = Basic_salary + hra +da\n",
    "\n",
    "\n",
    "print(\"Gross salary is :\",gross_salary)\n",
    "\n",
    "\n",
    "\n",
    "    "
   ]
  },
  {
   "cell_type": "code",
   "execution_count": 8,
   "id": "ed2709a9-3cba-448e-b937-1a1a80b8679e",
   "metadata": {},
   "outputs": [
    {
     "name": "stdin",
     "output_type": "stream",
     "text": [
      "enter the unit  240\n"
     ]
    },
    {
     "name": "stdout",
     "output_type": "stream",
     "text": [
      "total bill is: 1500\n"
     ]
    }
   ],
   "source": [
    "# 9. Write a program to calculate the total electricity bill based on the following conditions:\n",
    "# a. The first 50 unit will be calculated with 2 rs/unit\n",
    "# b. The next 100 unit will be calculated with 5 rs/unit\n",
    "# c. The next 150 unit will be calculated with 10 rs/unit\n",
    "# d. All the other units will be calculated with 15 rs/unit\n",
    "\n",
    "\n",
    "unit = int(input(\"enter the unit \"))\n",
    "\n",
    "if(unit<=50):\n",
    "    bill = unit*2\n",
    "elif(unit>=51 and unit<=150):\n",
    "    p_unit = unit-50\n",
    "    \n",
    "    bill = p_unit*5+50*2\n",
    "    \n",
    "elif(unit>=151 and unit<=300):\n",
    "    p_unit= unit-150\n",
    "\n",
    "    bill = p_unit*10 + 50*2 + 100*5\n",
    "else:\n",
    "    p_unit= unit-300\n",
    "\n",
    "    bill = p_unit*15 + 50*2 + 100*5 +150*10\n",
    "\n",
    "print(\"total bill is:\",bill)\n",
    "    \n",
    "    \n"
   ]
  },
  {
   "cell_type": "code",
   "execution_count": 18,
   "id": "52980d26-059b-4f40-ac18-03d12066dc0e",
   "metadata": {},
   "outputs": [
    {
     "name": "stdin",
     "output_type": "stream",
     "text": [
      "enter the year  1928\n"
     ]
    },
    {
     "name": "stdout",
     "output_type": "stream",
     "text": [
      "Leap year\n"
     ]
    }
   ],
   "source": [
    "# 10. Write a program to check whether any year is a leap year or not\n",
    "\n",
    "year  = int(input(\"enter the year \"))\n",
    "\n",
    "if(year%400==0 or (year%4==0 and year%100!=0)):\n",
    "    print(\"Leap year\")\n",
    "else:\n",
    "    print(\"Not a leap year\")\n"
   ]
  },
  {
   "cell_type": "code",
   "execution_count": 23,
   "id": "bd8cc6bd-d395-4213-b7e9-2ac94ac99c02",
   "metadata": {},
   "outputs": [
    {
     "name": "stdin",
     "output_type": "stream",
     "text": [
      "enter the number  4562\n"
     ]
    },
    {
     "name": "stdout",
     "output_type": "stream",
     "text": [
      "2654\n"
     ]
    }
   ],
   "source": [
    "# 11. Write a program that will reverse a four digit number.Also it checks whether the reverse\n",
    "\n",
    "number = int(input(\"enter the number \"))\n",
    "\n",
    "l = len(str(number))\n",
    "\n",
    "if(l==4):\n",
    "    sum =0\n",
    "    while(number>0):\n",
    "        r = number%10\n",
    "        sum = sum*10 + r\n",
    "        number= number//10\n",
    "    print(sum)\n",
    "else:\n",
    "    print(\"Number length is not a four \")"
   ]
  },
  {
   "cell_type": "code",
   "execution_count": 29,
   "id": "ac2d4ec7-3eac-4a92-9f7e-7ce762c447dc",
   "metadata": {},
   "outputs": [
    {
     "name": "stdin",
     "output_type": "stream",
     "text": [
      "enter the number  1634\n"
     ]
    },
    {
     "name": "stdout",
     "output_type": "stream",
     "text": [
      "Armstrong number\n"
     ]
    }
   ],
   "source": [
    "# 12. Write a program that will check whether the number is armstrong number or not\n",
    "\n",
    "number= int(input(\"enter the number \"))\n",
    "sum=0\n",
    "temp = number\n",
    "l = len(str(number))\n",
    "while(number>0):\n",
    "    r = number%10\n",
    "    sum = sum + r**l\n",
    "    number= number//10\n",
    "\n",
    "if(sum==temp):\n",
    "    print(\"Armstrong number\")\n",
    "else:\n",
    "    print(\"Not a amstrong number\")"
   ]
  },
  {
   "cell_type": "code",
   "execution_count": null,
   "id": "47ad9772-6570-443b-a647-9a471575e2ae",
   "metadata": {},
   "outputs": [],
   "source": []
  }
 ],
 "metadata": {
  "kernelspec": {
   "display_name": "Python 3 (ipykernel)",
   "language": "python",
   "name": "python3"
  },
  "language_info": {
   "codemirror_mode": {
    "name": "ipython",
    "version": 3
   },
   "file_extension": ".py",
   "mimetype": "text/x-python",
   "name": "python",
   "nbconvert_exporter": "python",
   "pygments_lexer": "ipython3",
   "version": "3.12.4"
  }
 },
 "nbformat": 4,
 "nbformat_minor": 5
}
