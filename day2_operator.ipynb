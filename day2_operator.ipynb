{
 "cells": [
  {
   "cell_type": "code",
   "execution_count": 3,
   "id": "2df15b3b-7234-4c99-b902-4af8617ca779",
   "metadata": {},
   "outputs": [
    {
     "name": "stdout",
     "output_type": "stream",
     "text": [
      "12\n",
      "8\n",
      "20\n",
      "5.0\n",
      "5\n",
      "100\n",
      "0\n"
     ]
    }
   ],
   "source": [
    "#Arithmetic opeartor\n",
    "\n",
    "a = 10\n",
    "b = 2\n",
    "print(a+b)\n",
    "print(a-b)\n",
    "print(a*b)\n",
    "print(a/b)\n",
    "print(a//b)\n",
    "print(a**b)\n",
    "print(a%b)\n"
   ]
  },
  {
   "cell_type": "code",
   "execution_count": 5,
   "id": "3120dbd2-e03e-4456-b543-a5f5f5b8f4e4",
   "metadata": {},
   "outputs": [
    {
     "name": "stdout",
     "output_type": "stream",
     "text": [
      "False\n",
      "True\n",
      "False\n",
      "True\n",
      "False\n",
      "True\n"
     ]
    }
   ],
   "source": [
    "#comparision operator\n",
    "a = 10\n",
    "b = 5\n",
    "\n",
    "print(a<b)\n",
    "print(a>b)\n",
    "print(a==b)\n",
    "print(a!=b)\n",
    "print(a<=b)\n",
    "print(a>=b)\n"
   ]
  },
  {
   "cell_type": "code",
   "execution_count": 8,
   "id": "055b1d6a-e096-4367-95af-23c8976434c8",
   "metadata": {},
   "outputs": [
    {
     "name": "stdout",
     "output_type": "stream",
     "text": [
      "False\n",
      "True\n",
      "True\n"
     ]
    }
   ],
   "source": [
    "#Logical operator\n",
    "\n",
    "a =4 \n",
    "b=  6 \n",
    "c = 2\n",
    "\n",
    "print(a>b and a>c)\n",
    "\n",
    "print(a>b or b>c)\n",
    "\n",
    "print(not(a>b))\n"
   ]
  },
  {
   "cell_type": "code",
   "execution_count": 18,
   "id": "1cce449d-d64b-4652-9952-f0fb83fcd61e",
   "metadata": {},
   "outputs": [
    {
     "name": "stdout",
     "output_type": "stream",
     "text": [
      "140723313594392\n",
      "140723313594392\n",
      "True\n",
      "False\n",
      "False\n",
      "False\n"
     ]
    }
   ],
   "source": [
    "# identity operator\n",
    "\n",
    "a = 180\n",
    "b = 180\n",
    "print(id(a))\n",
    "# check memory location of a and b\n",
    "\n",
    "print(id(b))\n",
    "print(a is b)\n",
    "\n",
    "\n",
    "# false return \n",
    "a = [1,2,3]\n",
    "b = [1,2,3]                  \n",
    "print(a is b)\n",
    "\n",
    "\n",
    "a = 19\n",
    "b = 20\n",
    "\n",
    "print(a is b)\n",
    "\n",
    "print( a is b)\n"
   ]
  },
  {
   "cell_type": "code",
   "execution_count": 21,
   "id": "0c11dfbc-67a1-4a9e-bc64-1c67cb94721c",
   "metadata": {},
   "outputs": [
    {
     "name": "stdout",
     "output_type": "stream",
     "text": [
      "True\n"
     ]
    }
   ],
   "source": [
    "a= [1,2,3,4]\n",
    "b = [1,2,3,4]\n",
    "\n",
    "c = a\n",
    "print(a is c)"
   ]
  },
  {
   "cell_type": "code",
   "execution_count": 22,
   "id": "e5df699a-2a8a-4fe1-b8da-04fcd47c4a32",
   "metadata": {},
   "outputs": [
    {
     "name": "stdout",
     "output_type": "stream",
     "text": [
      "-8\n"
     ]
    }
   ],
   "source": [
    "print(~(7))"
   ]
  },
  {
   "cell_type": "code",
   "execution_count": 24,
   "id": "c31eab2f-8869-4dd7-9729-ce9bf9cd451d",
   "metadata": {},
   "outputs": [
    {
     "name": "stdout",
     "output_type": "stream",
     "text": [
      "-8\n"
     ]
    }
   ],
   "source": [
    "print(~(7))"
   ]
  },
  {
   "cell_type": "code",
   "execution_count": 4,
   "id": "4d50fe76-ad58-44c0-9d13-569fc482f198",
   "metadata": {},
   "outputs": [
    {
     "name": "stdout",
     "output_type": "stream",
     "text": [
      "4\n",
      "15\n",
      "11\n",
      "-8\n",
      "28672\n",
      "1\n"
     ]
    }
   ],
   "source": [
    "#Bitwise operator:-\n",
    "#and\n",
    "#or\n",
    "#xor\n",
    "#not \n",
    "#leftwise\n",
    "#rightwise\n",
    "\n",
    "a = 7\n",
    "b = 12\n",
    "print(a & b)\n",
    "\n",
    "\n",
    "print(a | b)\n",
    "\n",
    "print(a ^ b)\n",
    "-\n",
    "print(~(a))\n",
    "\n",
    "print(a<<b)\n",
    "print(a>>2)\n",
    "\n"
   ]
  },
  {
   "cell_type": "code",
   "execution_count": null,
   "id": "b51edc8a",
   "metadata": {},
   "outputs": [],
   "source": []
  }
 ],
 "metadata": {
  "kernelspec": {
   "display_name": "Python 3 (ipykernel)",
   "language": "python",
   "name": "python3"
  },
  "language_info": {
   "codemirror_mode": {
    "name": "ipython",
    "version": 3
   },
   "file_extension": ".py",
   "mimetype": "text/x-python",
   "name": "python",
   "nbconvert_exporter": "python",
   "pygments_lexer": "ipython3",
   "version": "3.12.4"
  }
 },
 "nbformat": 4,
 "nbformat_minor": 5
}
