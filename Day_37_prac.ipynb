{
 "cells": [
  {
   "cell_type": "code",
   "execution_count": 5,
   "id": "ce10a4d7-2ca5-4757-8c86-020a545459f0",
   "metadata": {},
   "outputs": [
    {
     "name": "stdout",
     "output_type": "stream",
     "text": [
      "* \n",
      "* * \n",
      "* * * \n",
      "* * * * \n",
      "* * * * * \n"
     ]
    }
   ],
   "source": [
    "def pattern(n):\n",
    "    for i in range(1,n):\n",
    "        for j in range(1,i+1):\n",
    "            print(\"*\",end=\" \")\n",
    "        print()\n",
    "\n",
    "pattern(6)\n"
   ]
  },
  {
   "cell_type": "code",
   "execution_count": 8,
   "id": "0cdd4d1c-2833-46b4-b030-e63d1c7d35d0",
   "metadata": {},
   "outputs": [
    {
     "name": "stdout",
     "output_type": "stream",
     "text": [
      "* * * * * \n",
      "* * * * \n",
      "* * * \n",
      "* * \n",
      "* \n"
     ]
    }
   ],
   "source": [
    "def pattern(n):\n",
    "    for i in range(1,n):\n",
    "        for j in range(1,n-i+1):\n",
    "            print(\"*\",end=\" \")\n",
    "        print()\n",
    "\n",
    "pattern(6)"
   ]
  },
  {
   "cell_type": "code",
   "execution_count": 12,
   "id": "a66b4581-4672-49c8-83bc-35b7db3dbe90",
   "metadata": {},
   "outputs": [
    {
     "name": "stdout",
     "output_type": "stream",
     "text": [
      "        * \n",
      "      * * \n",
      "    * * * \n",
      "  * * * * \n",
      "* * * * * \n"
     ]
    }
   ],
   "source": [
    "def pattern(n):\n",
    "\n",
    "    for i in range(1,n):\n",
    "        for s in range(1,n-i):\n",
    "            print(\" \",end=\" \")\n",
    "        for j in range(1,i+1):\n",
    "            print(\"*\",end=\" \")\n",
    "        print()\n",
    "\n",
    "pattern(6) "
   ]
  },
  {
   "cell_type": "code",
   "execution_count": 16,
   "id": "4136a4d0-4e2e-4ac7-9eb8-581442f5fa45",
   "metadata": {},
   "outputs": [
    {
     "name": "stdout",
     "output_type": "stream",
     "text": [
      "* * * * * \n",
      "  * * * * \n",
      "    * * * \n",
      "      * * \n",
      "        * \n"
     ]
    }
   ],
   "source": [
    "def pattern(n):\n",
    "    for i in range(1,n):\n",
    "        for s in range(1,i):\n",
    "            print(\" \",end=\" \")\n",
    "        for j in range(1,n-i+1):\n",
    "            print(\"*\",end=\" \")\n",
    "        print()\n",
    "\n",
    "pattern(6)"
   ]
  },
  {
   "cell_type": "code",
   "execution_count": 18,
   "id": "305c2e11-2788-47e8-8216-59206656bca5",
   "metadata": {},
   "outputs": [
    {
     "name": "stdout",
     "output_type": "stream",
     "text": [
      "    * \n",
      "   * * \n",
      "  * * * \n",
      " * * * * \n",
      "* * * * * \n"
     ]
    }
   ],
   "source": [
    "def pyramid(n):\n",
    "    for i in range(1,n):\n",
    "        for s in range(1,n-i):\n",
    "            print(\" \",end=\"\")\n",
    "        for j in range(1,i+1):\n",
    "            print(\"*\",end=\" \")\n",
    "        print()\n",
    "\n",
    "pyramid(6)"
   ]
  },
  {
   "cell_type": "code",
   "execution_count": 19,
   "id": "d6c28c4c-e40d-4247-b5b6-6b3e76f4eec3",
   "metadata": {},
   "outputs": [
    {
     "name": "stdout",
     "output_type": "stream",
     "text": [
      "* * * * * \n",
      " * * * * \n",
      "  * * * \n",
      "   * * \n",
      "    * \n"
     ]
    }
   ],
   "source": [
    "def back_pyramid(n):\n",
    "    for i in range(1,n):\n",
    "        for s in range(1,i):\n",
    "            print(\" \",end=\"\")\n",
    "        for j in range(1,n-i+1):\n",
    "            print(\"*\",end=\" \")\n",
    "        print()\n",
    "\n",
    "back_pyramid(6)"
   ]
  },
  {
   "cell_type": "code",
   "execution_count": 21,
   "id": "04a7590b-7945-4d24-ab56-a63e91202335",
   "metadata": {},
   "outputs": [
    {
     "name": "stdout",
     "output_type": "stream",
     "text": [
      "* * * * * \n",
      "* * * * \n",
      "* * * \n",
      "* * \n",
      "* \n",
      "* * \n",
      "* * * \n",
      "* * * * \n",
      "* * * * * \n"
     ]
    }
   ],
   "source": [
    "def pattern(n):\n",
    "    for i in range(1,n):\n",
    "        for j in range(1,n-i+1):\n",
    "            print(\"*\",end=\" \")\n",
    "        print()\n",
    "    for i in range(2,n):\n",
    "        for j in range(1,i+1):\n",
    "            print(\"*\",end=\" \")\n",
    "        print()\n",
    "\n",
    "pattern(6)"
   ]
  },
  {
   "cell_type": "code",
   "execution_count": 32,
   "id": "c1fc4696-d6fb-47b3-a5eb-5844ae4738d2",
   "metadata": {},
   "outputs": [
    {
     "name": "stdout",
     "output_type": "stream",
     "text": [
      "        * \n",
      "      * * \n",
      "    * * * \n",
      "  * * * * \n",
      "* * * * * \n",
      "  * * * * \n",
      "    * * * \n",
      "      * * \n",
      "        * \n",
      "          \n"
     ]
    }
   ],
   "source": [
    "def pattern(n):\n",
    "    for i in range(1,n):\n",
    "        for s in range(1,n-i):\n",
    "            print(\" \",end=\" \")\n",
    "        for j in range(1,i+1):\n",
    "            print(\"*\",end=\" \")\n",
    "        print()\n",
    "\n",
    "    for i in range(1,n):\n",
    "        for s in range(1,i+1):\n",
    "            print(\" \",end=\" \")\n",
    "        for j in range(1,n-i): \n",
    "            print(\"*\",end=\" \")\n",
    "        print()\n",
    "        \n",
    "pattern(6)"
   ]
  },
  {
   "cell_type": "code",
   "execution_count": 37,
   "id": "bb0b2295-24e0-4520-acf9-a7a5823e6dbe",
   "metadata": {},
   "outputs": [
    {
     "name": "stdout",
     "output_type": "stream",
     "text": [
      "* * * * * \n",
      "  * * * * \n",
      "    * * * \n",
      "      * * \n",
      "        * \n",
      "      * * \n",
      "    * * * \n",
      "  * * * * \n",
      "* * * * * \n"
     ]
    }
   ],
   "source": [
    "def pattern(n):\n",
    "\n",
    "    for i in range(1,n):\n",
    "        for s in range(1,i):\n",
    "            print(\" \",end=\" \")\n",
    "        for j in range(1,n-i+1):\n",
    "            print(\"*\",end=\" \")\n",
    "        print()\n",
    "\n",
    "    for i in range(2,n):\n",
    "        for s in range(1,n-i):\n",
    "            print(\" \",end=\" \")\n",
    "        for j in range(1,i+1):\n",
    "            print(\"*\",end=\" \")\n",
    "        print()\n",
    "\n",
    "\n",
    "pattern(6)"
   ]
  },
  {
   "cell_type": "code",
   "execution_count": 40,
   "id": "ed7487a5-9679-4950-a06d-9326ba5e6a30",
   "metadata": {},
   "outputs": [
    {
     "name": "stdout",
     "output_type": "stream",
     "text": [
      "        * \n",
      "      * * * \n",
      "    * * * * * \n",
      "  * * * * * * * \n",
      "* * * * * * * * * \n"
     ]
    }
   ],
   "source": [
    "def pattern(n):\n",
    "\n",
    "    for i in range(1,n):\n",
    "        for s in range(1,n-i):\n",
    "            print(\" \",end=\" \")\n",
    "        for j in range(1,i+i):\n",
    "            print(\"*\",end=\" \")\n",
    "        print()\n",
    "\n",
    "pattern(6)"
   ]
  },
  {
   "cell_type": "code",
   "execution_count": 70,
   "id": "c60b7d90-ab47-40cf-bec5-dc4bc027affd",
   "metadata": {},
   "outputs": [
    {
     "name": "stdout",
     "output_type": "stream",
     "text": [
      "* * * * * * * * * * * \n",
      "  * * * * * * * * * \n",
      "    * * * * * * * \n",
      "      * * * * * \n",
      "        * * * \n",
      "          * \n"
     ]
    }
   ],
   "source": [
    "def pattern(n):\n",
    "\n",
    "    for i in range(n,0,-1):\n",
    "        for s in range(0,n-i):\n",
    "            print(\" \",end=\" \")\n",
    "        for j in range(i+i,1,-1):\n",
    "            print(\"*\",end=\" \")\n",
    "        print()\n",
    "\n",
    "pattern(6)"
   ]
  },
  {
   "cell_type": "code",
   "execution_count": 76,
   "id": "7e104db5-ba61-45d8-af71-fbb16b6decd3",
   "metadata": {},
   "outputs": [
    {
     "name": "stdout",
     "output_type": "stream",
     "text": [
      "          * \n",
      "        * * * \n",
      "      * * * * * \n",
      "    * * * * * * * \n",
      "  * * * * * * * * * \n",
      "* * * * * * * * * * * \n",
      "  * * * * * * * * * \n",
      "    * * * * * * * \n",
      "      * * * * * \n",
      "        * * * \n",
      "          * \n"
     ]
    }
   ],
   "source": [
    "def diamond_pattern(n):\n",
    "\n",
    "    for i in range(1,n):\n",
    "        for s in range(1,n-i+1):\n",
    "            print(\" \",end=\" \")\n",
    "        for j in range(1,i+i):\n",
    "            print(\"*\",end=\" \")\n",
    "        print()\n",
    "\n",
    "    for i in range(n,0,-1):\n",
    "        for s in range(1,n+1-i):\n",
    "            print(\" \",end=\" \")\n",
    "        for j in range(i+i,1,-1):\n",
    "            print(\"*\",end=\" \")\n",
    "        print()\n",
    "\n",
    "diamond_pattern(6)\n",
    "            "
   ]
  },
  {
   "cell_type": "code",
   "execution_count": 78,
   "id": "04332171-5626-4144-8059-f21990a6a2a6",
   "metadata": {},
   "outputs": [
    {
     "name": "stdout",
     "output_type": "stream",
     "text": [
      "* * * * * \n",
      "* * * * * \n",
      "* * * * * \n",
      "* * * * * \n",
      "* * * * * \n"
     ]
    }
   ],
   "source": [
    "def pattern(n):\n",
    "\n",
    "    for i in range(1,n):\n",
    "        for j in range(1,n):\n",
    "            print(\"*\",end=\" \")\n",
    "        print()\n",
    "\n",
    "pattern(6)"
   ]
  },
  {
   "cell_type": "code",
   "execution_count": 80,
   "id": "f4375dbb-c6ef-42a8-b33b-83c687fa1dc4",
   "metadata": {},
   "outputs": [
    {
     "name": "stdout",
     "output_type": "stream",
     "text": [
      "* * * * * \n",
      "  * * * * * \n",
      "    * * * * * \n",
      "      * * * * * \n",
      "        * * * * * \n"
     ]
    }
   ],
   "source": [
    "def pattern(n):\n",
    "\n",
    "    for i in range(1,n):\n",
    "        for s in range(1,i):\n",
    "            print(\" \",end=\" \")\n",
    "        for j in range(1,n):\n",
    "            print(\"*\",end=\" \")\n",
    "        print()\n",
    "\n",
    "pattern(6)"
   ]
  },
  {
   "cell_type": "code",
   "execution_count": 81,
   "id": "44bf37b2-bb9f-4576-b7cd-9f51e5d20be4",
   "metadata": {},
   "outputs": [
    {
     "name": "stdout",
     "output_type": "stream",
     "text": [
      "        * * * * * \n",
      "      * * * * * \n",
      "    * * * * * \n",
      "  * * * * * \n",
      "* * * * * \n"
     ]
    }
   ],
   "source": [
    "def pattern(n):\n",
    "\n",
    "    for i in range(1,n):\n",
    "        for s in range(1,n-i):\n",
    "            print(\" \",end=\" \")\n",
    "        for j in range(1,n):\n",
    "            print(\"*\",end=\" \")\n",
    "        print()\n",
    "\n",
    "pattern(6)"
   ]
  },
  {
   "cell_type": "code",
   "execution_count": 85,
   "id": "10db8b14-ec79-471e-a7dc-129c948cd26f",
   "metadata": {},
   "outputs": [
    {
     "name": "stdout",
     "output_type": "stream",
     "text": [
      "    * \n",
      "   * * \n",
      "  *   * \n",
      " *     * \n",
      "* * * * * \n"
     ]
    }
   ],
   "source": [
    "def hollow_pattern(n):\n",
    "\n",
    "    for i in range(1,n):\n",
    "        for s in range(1,n-i):\n",
    "            print(\" \",end=\"\")\n",
    "        for j in range(1,i+1):\n",
    "            if(j==1 or i==5 or i==j):\n",
    "                print(\"*\",end=\" \")\n",
    "            else:\n",
    "                print(\" \",end=\" \")\n",
    "        print()\n",
    "\n",
    "hollow_pattern(6)"
   ]
  },
  {
   "cell_type": "code",
   "execution_count": 96,
   "id": "35fee280-392f-4426-8ffb-b0867a430f06",
   "metadata": {},
   "outputs": [
    {
     "name": "stdout",
     "output_type": "stream",
     "text": [
      "* * * * * \n",
      " *     * \n",
      "  *   * \n",
      "   * * \n",
      "    * \n"
     ]
    }
   ],
   "source": [
    "def hollow_pattern(n):\n",
    "\n",
    "    for i in range(1,n):\n",
    "        for s in range(1,i):\n",
    "            print(\" \",end=\"\")\n",
    "        for j in range(1,n-i+1):\n",
    "            if(i==1 or j==1 or i+j==n):\n",
    "                print(\"*\",end=\" \")\n",
    "            else:\n",
    "                print(\" \",end=\" \")\n",
    "        print()\n",
    "\n",
    "hollow_pattern(6)"
   ]
  },
  {
   "cell_type": "code",
   "execution_count": 112,
   "id": "59b8bf4d-09f2-4819-8cc6-e9f1f0c2df95",
   "metadata": {},
   "outputs": [
    {
     "name": "stdout",
     "output_type": "stream",
     "text": [
      "        * \n",
      "      * * * \n",
      "    *   *   * \n",
      "  *     *     * \n",
      "* * * * * * * * * \n"
     ]
    }
   ],
   "source": [
    "def pattern(n):\n",
    "\n",
    "    for i in range(1,n):\n",
    "        for s in range(1,n-i):\n",
    "            print(\" \",end=\" \")\n",
    "        for j in range(1,i+i):\n",
    "            if(i==n-1 or j==i+i-1 or i==j or j==1):\n",
    "                print(\"*\",end=\" \")\n",
    "            else:\n",
    "                print(\" \",end=\" \")\n",
    "        print()\n",
    "\n",
    "pattern(6)"
   ]
  },
  {
   "cell_type": "code",
   "execution_count": 139,
   "id": "b7c737c3-1947-4df8-98e2-e1d7e18c4326",
   "metadata": {},
   "outputs": [
    {
     "name": "stdout",
     "output_type": "stream",
     "text": [
      "          * \n",
      "        * * * \n",
      "      *   *   * \n",
      "    *     *     * \n",
      "  *       *       * \n",
      "* * * * * * * * * * * \n",
      "  *       *       * \n",
      "    *     *     * \n",
      "      *   *   * \n",
      "        * * * \n",
      "          * \n"
     ]
    }
   ],
   "source": [
    "def pattern(n):\n",
    "\n",
    "    for i in range(1,n):\n",
    "        for s in range(1,7-i):\n",
    "            print(\" \",end=\" \")\n",
    "        for j in range(1,i+i):\n",
    "            if(j==1 or j==i+i-1 or i==j):\n",
    "                print(\"*\",end=\" \")\n",
    "            else:\n",
    "                print(\" \",end=\" \")\n",
    "        print()\n",
    "\n",
    "    for i in range(n,0,-1):\n",
    "        for s in range(0,n-i):\n",
    "            print(\" \",end=\" \")\n",
    "        for j in range(i+i,1,-1):\n",
    "            if(j==i+i or  j==2 or i==j-1 or i==n):\n",
    "                print(\"*\",end=\" \")\n",
    "            else:\n",
    "                print(\" \",end=\" \")\n",
    "\n",
    "\n",
    "        print()    \n",
    "\n",
    "\n",
    "pattern(6)"
   ]
  },
  {
   "cell_type": "code",
   "execution_count": 141,
   "id": "3ed003a1-2d84-4260-9580-5de97379cb66",
   "metadata": {},
   "outputs": [
    {
     "name": "stdout",
     "output_type": "stream",
     "text": [
      "1 \n",
      "1 2 \n",
      "1 2 3 \n",
      "1 2 3 4 \n",
      "1 2 3 4 5 \n"
     ]
    }
   ],
   "source": [
    "def c_pattern(n):\n",
    "    for i in range(1,n):\n",
    "        for j in range(1,i+1):\n",
    "            print(j,end=\" \")\n",
    "        print()\n",
    "\n",
    "c_pattern(6)"
   ]
  },
  {
   "cell_type": "code",
   "execution_count": 146,
   "id": "1681dbd3-99e5-43f0-80db-4ff6c1c23dde",
   "metadata": {},
   "outputs": [
    {
     "name": "stdout",
     "output_type": "stream",
     "text": [
      "1 2 3 4 5 \n",
      "1 2 3 4 \n",
      "1 2 3 \n",
      "1 2 \n",
      "1 \n"
     ]
    }
   ],
   "source": [
    "def c_pattern(n):\n",
    "    for i in range(1,n):\n",
    "        for j in range(1,n-i+1):\n",
    "            print(j,end=\" \")\n",
    "        print()\n",
    "\n",
    "c_pattern(6)"
   ]
  },
  {
   "cell_type": "code",
   "execution_count": 148,
   "id": "28c1b56c-45e6-44d3-8116-a05bb2f6109a",
   "metadata": {},
   "outputs": [
    {
     "name": "stdout",
     "output_type": "stream",
     "text": [
      "1 \n",
      "1 2 \n",
      "1   3 \n",
      "1     4 \n",
      "1 2 3 4 5 \n"
     ]
    }
   ],
   "source": [
    "def c_pattern(n):\n",
    "    for i in range(1,n):\n",
    "        for j in range(1,i+1):\n",
    "            if(i==n-1 or j==1 or i==j):\n",
    "                print(j,end=\" \")\n",
    "            else:\n",
    "                print(\" \",end=\" \")\n",
    "        print()\n",
    "\n",
    "c_pattern(6)"
   ]
  },
  {
   "cell_type": "code",
   "execution_count": 154,
   "id": "89a8a2de-723e-4792-a1af-702984a1b326",
   "metadata": {},
   "outputs": [
    {
     "name": "stdout",
     "output_type": "stream",
     "text": [
      "    1 \n",
      "   1 2 \n",
      "  1   3 \n",
      " 1     4 \n",
      "1 2 3 4 5 \n"
     ]
    }
   ],
   "source": [
    "def c_pattern(n):\n",
    "\n",
    "    for i in range(1,n):\n",
    "        for s in range(1,n-i):\n",
    "            print(\" \",end=\"\")\n",
    "        for j in range(1,i+1):\n",
    "            if(i==n-1 or j==1 or i==j ):\n",
    "                print(j,end=\" \")\n",
    "            else:\n",
    "                print(\" \",end=\" \")\n",
    "\n",
    "        print()\n",
    "\n",
    "c_pattern(6)"
   ]
  },
  {
   "cell_type": "code",
   "execution_count": 167,
   "id": "050828c1-3023-42dc-adbe-dd46fc73196f",
   "metadata": {},
   "outputs": [
    {
     "name": "stdout",
     "output_type": "stream",
     "text": [
      "1 2 3 4 5 \n",
      "2     5 \n",
      "3   5 \n",
      "4 5 \n",
      "5 \n"
     ]
    }
   ],
   "source": [
    "def c_pattern(n):\n",
    "   for i in range(1,n):\n",
    "       for j in range(1,n-i+1):\n",
    "           if(i==1):\n",
    "               print(j,end=\" \")\n",
    "           elif(j==1):\n",
    "               print(i,end=\" \")\n",
    "           elif(i+j==n):\n",
    "               print(\"5\",end=\" \")\n",
    "           else:\n",
    "               print(\" \",end=\" \")\n",
    "       print()\n",
    "\n",
    "c_pattern(6)"
   ]
  },
  {
   "cell_type": "code",
   "execution_count": 2,
   "id": "1b5ad2a6-adc9-4944-848a-6fe00f9f826a",
   "metadata": {},
   "outputs": [
    {
     "name": "stdout",
     "output_type": "stream",
     "text": [
      "[5, 4, 3, 2, 1]\n"
     ]
    }
   ],
   "source": [
    "list = [1,2,3,4,5]\n",
    "\n",
    "new_list = []\n",
    "\n",
    "for i in list:\n",
    "    new_list.insert(0,i)\n",
    "\n",
    "print(new_list)"
   ]
  },
  {
   "cell_type": "code",
   "execution_count": 10,
   "id": "51de3136-a312-4ea0-977f-f334436e0f5a",
   "metadata": {},
   "outputs": [
    {
     "name": "stdout",
     "output_type": "stream",
     "text": [
      "2 4 3 \n",
      "[1, 2, 3, 4, 5]\n"
     ]
    }
   ],
   "source": [
    "input  = [ 1,2,2,3,4,4,5 ,3]\n",
    "new = []\n",
    "\n",
    "for i in input:\n",
    "    if i not in new:\n",
    "        new.append(i)\n",
    "    else:\n",
    "        print(i,end=\" \")\n",
    "\n",
    "print()\n",
    "print(new)"
   ]
  },
  {
   "cell_type": "code",
   "execution_count": 12,
   "id": "e521d67d-6397-4183-9eba-147b6dfa0fa8",
   "metadata": {},
   "outputs": [
    {
     "name": "stdout",
     "output_type": "stream",
     "text": [
      "[12, 34, 45, 67, 89]\n"
     ]
    }
   ],
   "source": [
    "input= [34,12,67,89,45]\n",
    "\n",
    "for i in range(len(input)):\n",
    "    for j in range(i+1,len(input)):\n",
    "        if(input[j]<input[i]):\n",
    "            input[i],input[j] = input[j],input[i]\n",
    "\n",
    "print(input)"
   ]
  },
  {
   "cell_type": "code",
   "execution_count": 18,
   "id": "72a710df-b777-4871-90cf-04ac8dea61a3",
   "metadata": {},
   "outputs": [
    {
     "name": "stdout",
     "output_type": "stream",
     "text": [
      "{1: 1, 2: 3, 3: 2, 4: 2, 5: 1}\n"
     ]
    }
   ],
   "source": [
    "mylist =  [1,2,3,4,2,3,2,4,5]\n",
    "\n",
    "mydict = {}\n",
    "\n",
    "for  i in mylist:\n",
    "    if i not in mydict:\n",
    "        mydict[i]  = 1\n",
    "    else:\n",
    "        mydict[i] = mydict[i] + 1\n",
    "\n",
    "print(mydict)"
   ]
  },
  {
   "cell_type": "code",
   "execution_count": 34,
   "id": "e81588e1-ee6c-443b-b202-12b4306cca21",
   "metadata": {},
   "outputs": [
    {
     "name": "stdout",
     "output_type": "stream",
     "text": [
      "{'name': 'Yash', 'age': 20, 'gender': 'Male', 'city': 'jaipur'}\n"
     ]
    }
   ],
   "source": [
    "keys = [\"name\",\"age\",\"gender\",\"city\",\"name\"]\n",
    "values = [\"Deepak\",20,\"Male\",\"jaipur\",\"Yash\"]\n",
    "\n",
    "mydict = {}\n",
    "\n",
    "for i in range(len(keys)):\n",
    "        mydict[keys[i]] = values[i]\n",
    "        \n",
    "        \n",
    "\n",
    "print(mydict)"
   ]
  },
  {
   "cell_type": "code",
   "execution_count": 42,
   "id": "9d85511a-b626-484e-a26d-a941a813d18e",
   "metadata": {},
   "outputs": [
    {
     "name": "stdout",
     "output_type": "stream",
     "text": [
      "{'H': 1, 'e': 1, 'l': 3, 'o': 2, ' ': 1, 'w': 1, 'r': 1, 'd': 1}\n"
     ]
    }
   ],
   "source": [
    "def frequency(s):\n",
    "    mydict = {}\n",
    "    for i in range(len(s)):\n",
    "        if s[i] not in mydict:\n",
    "            mydict[s[i]] = 1\n",
    "        else:\n",
    "            mydict[s[i]] = mydict[s[i]] +   1\n",
    "\n",
    "\n",
    "    print(mydict)\n",
    "\n",
    "s  = \"Hello world\"\n",
    "frequency(s)"
   ]
  },
  {
   "cell_type": "code",
   "execution_count": 43,
   "id": "6d93d532-f434-4ea7-84eb-a77ed78db5c3",
   "metadata": {},
   "outputs": [
    {
     "name": "stdout",
     "output_type": "stream",
     "text": [
      "HellO\n"
     ]
    }
   ],
   "source": [
    "def convert_string(s):\n",
    "    n=\"\"\n",
    "    for i in s:\n",
    "        if i.lower()==i:\n",
    "            n = n + i.upper()\n",
    "        elif(i.upper()==i):\n",
    "            n = n + i.lower()\n",
    "\n",
    "    print(n)\n",
    "\n",
    "s= \"hELLo\"\n",
    "convert_string(s)\n",
    "        "
   ]
  },
  {
   "cell_type": "code",
   "execution_count": 44,
   "id": "f96a915f-d045-448c-968c-0d03bc3121bf",
   "metadata": {},
   "outputs": [
    {
     "name": "stdout",
     "output_type": "stream",
     "text": [
      "Character :  8  Digit : 3  Symbol :  4\n"
     ]
    }
   ],
   "source": [
    "def counter(s):\n",
    "    count_ch = 0\n",
    "    count_dig = 0\n",
    "    count_sym = 0\n",
    "    for i in s:\n",
    "        if i.isalpha():\n",
    "            count_ch +=1\n",
    "        elif(i.isdigit()):\n",
    "            count_dig +=1\n",
    "        else:\n",
    "            count_sym +=1\n",
    "\n",
    "    print(\"Character : \",count_ch,\" Digit :\",count_dig,\" Symbol : \",count_sym)\n",
    "      \n",
    "        \n",
    "str = \"P@#yn26at^&i5ve\"\n",
    "counter(str)"
   ]
  },
  {
   "cell_type": "code",
   "execution_count": 51,
   "id": "3643cb9e-eaaa-4668-a497-bd82f2cba27d",
   "metadata": {},
   "outputs": [
    {
     "name": "stdout",
     "output_type": "stream",
     "text": [
      "DepAk\n"
     ]
    }
   ],
   "source": [
    "def remove_symbol(s):\n",
    "    n =\"\"\n",
    "    for i in s:\n",
    "        if(i.isalpha()):\n",
    "            n = n+ i\n",
    "\n",
    "    print(n)\n",
    "\n",
    "\n",
    "\n",
    "\n",
    "data = \"De2@p#Ak\"\n",
    "remove_symbol(data)"
   ]
  },
  {
   "cell_type": "code",
   "execution_count": 57,
   "id": "468095b4-5bda-4518-9f3c-e555a0eab9d1",
   "metadata": {},
   "outputs": [
    {
     "name": "stdout",
     "output_type": "stream",
     "text": [
      "datavizion.com\n",
      "yahoo.com\n",
      "google.com\n",
      "health\n",
      "poddarinstitute.org\n"
     ]
    }
   ],
   "source": [
    "def extract_provider(email_list):\n",
    "    for i in email_list:\n",
    "        if \"@\" in i:\n",
    "            print(i.split(\"@\")[1])\n",
    "        \n",
    "\n",
    "emaillist=[\"KSR@datavizion.com\",\"mymail@yahoo.com\",\"milindmali@google.com\",\"snehal@health\",\"deepakgupta.bca22@poddarinstitute.org\"]\n",
    "extract_provider(emaillist)"
   ]
  },
  {
   "cell_type": "code",
   "execution_count": 59,
   "id": "3e8833f0-a148-45e6-bcf2-0fd69bfdfde3",
   "metadata": {},
   "outputs": [
    {
     "name": "stdout",
     "output_type": "stream",
     "text": [
      "milindmali108@gmail.com\n",
      "deepak@gmail.com\n"
     ]
    }
   ],
   "source": [
    "def find_email(s):\n",
    "    x = s.split()\n",
    "    for i in x:\n",
    "        if \"@gmail.com\" in i:\n",
    "            print(i)\n",
    "\n",
    "str=\"Hi my name is Govind Das and my mail id is milindmali108@gmail.com and my org deepak@gmail.com\"\n",
    "find_email(str)    "
   ]
  },
  {
   "cell_type": "code",
   "execution_count": 68,
   "id": "12ace3d9-cb55-475a-a990-6f2d8131796e",
   "metadata": {},
   "outputs": [
    {
     "name": "stdout",
     "output_type": "stream",
     "text": [
      "Valid parenthesis\n"
     ]
    }
   ],
   "source": [
    "def valid_parenthesis(s):\n",
    "    mylist =[]\n",
    "    x = 0\n",
    "    for char in s:\n",
    "        if char in \"{[(\":\n",
    "            mylist.append(char)\n",
    "        elif(mylist):\n",
    "            if(char== \"}\" and mylist.pop()!=\"{\"):\n",
    "                x =1\n",
    "                break\n",
    "            elif(char==\"]\" and mylist.pop()!=\"[\"):\n",
    "                x = 1\n",
    "                break\n",
    "            elif(char==\")\" and mylist.pop()!=\"(\"):\n",
    "                x = 1\n",
    "                break\n",
    "        else:\n",
    "            x= 1\n",
    "            break\n",
    "    if(x==0 and len(mylist)==0):\n",
    "        print(\"Valid parenthesis\")\n",
    "    else:\n",
    "        print(\"Not valid \")\n",
    "\n",
    "s = \"{[]}{}\" \n",
    "valid_parenthesis(s)\n",
    "    \n",
    "        "
   ]
  },
  {
   "cell_type": "code",
   "execution_count": 71,
   "id": "7b64f4fb-25bf-4fc6-b126-d63d370a8a13",
   "metadata": {},
   "outputs": [
    {
     "name": "stdout",
     "output_type": "stream",
     "text": [
      "valid anagram\n"
     ]
    }
   ],
   "source": [
    "def valid_anagram(s1,s2):\n",
    "\n",
    "    dict_s1 = {}\n",
    "    dict_s2 = {}\n",
    "\n",
    "    for i in s1:\n",
    "        if i not in dict_s1:\n",
    "            dict_s1[i] = 1\n",
    "        else:\n",
    "            dict_s1[i] = dict_s1[i] + 1\n",
    "\n",
    "    for i in s2:\n",
    "        if i not in dict_s2:\n",
    "            dict_s2[i] = 1\n",
    "        else:\n",
    "            dict_s2[i] = dict_s2[i] + 1\n",
    "\n",
    "    if(dict_s1==dict_s2):\n",
    "        print(\"valid anagram\")\n",
    "    else:\n",
    "        print(\"not anagram\")\n",
    "\n",
    "s1  = \"anagram\"\n",
    "s2 = \"gramana\"\n",
    "valid_anagram(s1,s2)\n",
    "        "
   ]
  },
  {
   "cell_type": "code",
   "execution_count": 78,
   "id": "8946d378-3a7d-46e7-b273-b1cb85206903",
   "metadata": {},
   "outputs": [
    {
     "name": "stdout",
     "output_type": "stream",
     "text": [
      "*****\n",
      "****\n",
      "***\n",
      "**\n",
      "*\n",
      "**\n",
      "***\n",
      "****\n",
      "*****\n"
     ]
    }
   ],
   "source": [
    "for i in range(1,6):\n",
    "    for j in range(1,6-i+1):\n",
    "        print(\"*\",end=\"\")\n",
    "    print()\n",
    "\n",
    "for i in range(2,6):\n",
    "    for j in range(1,i+1):\n",
    "        print(\"*\",end=\"\")\n",
    "    print()"
   ]
  },
  {
   "cell_type": "code",
   "execution_count": 84,
   "id": "b00fcb74-566f-43dd-bdf2-529ed55ac4f0",
   "metadata": {},
   "outputs": [
    {
     "name": "stdout",
     "output_type": "stream",
     "text": [
      "* * * * * \n",
      "  * * * * \n",
      "    * * * \n",
      "      * * \n",
      "        * \n",
      "      * * \n",
      "    * * * \n",
      "  * * * * \n",
      "* * * * * \n"
     ]
    }
   ],
   "source": [
    "\n",
    "for i in range(1,6):\n",
    "    for s in range(1,i):\n",
    "        print(\" \",end=\" \")\n",
    "    for j in range(1,6-i+1):\n",
    "        print(\"*\",end=\" \")\n",
    "    print()\n",
    "for i in range(2,6):\n",
    "    for s in range(1,6-i):\n",
    "        print(\" \",end=\" \")\n",
    "    for j in range(1,i+1):\n",
    "        print(\"*\",end=\" \")\n",
    "    print()\n",
    "\n",
    "        "
   ]
  },
  {
   "cell_type": "code",
   "execution_count": 87,
   "id": "a31542d3-23f1-41c2-a354-de727bb07a8e",
   "metadata": {},
   "outputs": [
    {
     "name": "stdout",
     "output_type": "stream",
     "text": [
      "    * \n",
      "   * * \n",
      "  *   * \n",
      " *     * \n",
      "* * * * * \n"
     ]
    }
   ],
   "source": [
    "for i in range(1,6):\n",
    "    for s in range(1,6-i):\n",
    "        print(\" \",end=\"\")\n",
    "    for j in range(1,i+1):\n",
    "        if(j==1 or i==5 or i==j):\n",
    "            print(\"*\",end=\" \")\n",
    "        else:\n",
    "            print(\" \",end=\" \")\n",
    "    print()\n",
    "\n",
    "        "
   ]
  },
  {
   "cell_type": "code",
   "execution_count": 93,
   "id": "a0158b4c-68df-4893-8c2a-f3945cf626c2",
   "metadata": {},
   "outputs": [
    {
     "name": "stdout",
     "output_type": "stream",
     "text": [
      "* * * * * \n",
      " *     * \n",
      "  *   * \n",
      "   * * \n",
      "    * \n"
     ]
    }
   ],
   "source": [
    "for i in range(1,6):\n",
    "    for s in range(1,i):\n",
    "        print(\" \",end=\"\")\n",
    "    for j in range(1,6-i+1):\n",
    "        if(j==1 or i==1 or i+j==6  ):\n",
    "            print(\"*\",end=\" \")\n",
    "        else:\n",
    "            print(\" \",end=\" \")\n",
    "    print()"
   ]
  },
  {
   "cell_type": "code",
   "execution_count": 94,
   "id": "277f88ed-5b26-4a2c-acd5-8af2e3d93d10",
   "metadata": {},
   "outputs": [
    {
     "name": "stdout",
     "output_type": "stream",
     "text": [
      "        * \n",
      "      * * * \n",
      "    * * * * * \n",
      "  * * * * * * * \n",
      "* * * * * * * * * \n"
     ]
    }
   ],
   "source": [
    "for i in range(1,6):\n",
    "    for s in range(1,6-i):\n",
    "        print(\" \",end=\" \")\n",
    "    for j in range(1,i+i):\n",
    "        print(\"*\",end=\" \")\n",
    "    print()\n",
    "        "
   ]
  },
  {
   "cell_type": "code",
   "execution_count": 138,
   "id": "a1f9eb64-4744-4f28-a7c0-aa37945e3bbb",
   "metadata": {},
   "outputs": [
    {
     "name": "stdout",
     "output_type": "stream",
     "text": [
      "* * * * * * * * * * * \n",
      "  *       *       * \n",
      "    *     *     * \n",
      "      *   *   * \n",
      "        * * * \n",
      "          * \n",
      "          * \n",
      "        * * * \n",
      "      *   *   * \n",
      "    *     *     * \n",
      "  *       *       * \n",
      "* * * * * * * * * * * \n"
     ]
    }
   ],
   "source": [
    "for i in range(6,0,-1):\n",
    "    for s in range(1,6-i+1):\n",
    "        print(\" \",end=\" \")\n",
    "    for j in range(i+i,1,-1):\n",
    "        if(i==6 or j==i+i or j==2 or i==j-1):\n",
    "            print(\"*\",end=\" \")\n",
    "        else:\n",
    "            print(\" \",end=\" \")\n",
    "    print()\n",
    "\n",
    "for i in range(1,7):\n",
    "    for s in range(1,7-i):\n",
    "        print(\" \",end=\" \")\n",
    "    for j in range(1,i+i):\n",
    "        if(i==6 or j==1 or j==i+i-1 or i==j):\n",
    "            print(\"*\",end=\" \")\n",
    "        else:\n",
    "            print(\" \",end=\" \")\n",
    "        \n",
    "    print()"
   ]
  },
  {
   "cell_type": "code",
   "execution_count": 148,
   "id": "80da2519-49ee-4190-b78f-4d915866b4ed",
   "metadata": {},
   "outputs": [],
   "source": [
    "# for i in range(0,6):\n",
    "#     c = str(11**i)\n",
    "#     new =[]\n",
    "#     for a in c:\n",
    "#         new.append(a)\n",
    "#     for s in range(1,6-i):\n",
    "#         print(\" \",end=\"\")\n",
    "#     for j in range(0,i+1):\n",
    "#         for n in new:\n",
    "#             print(n,end=\" \")\n",
    "#         break\n",
    "#     print()\n",
    "            "
   ]
  },
  {
   "cell_type": "code",
   "execution_count": 171,
   "id": "a1d45d29-5566-44d4-93b2-1d7400cc0f42",
   "metadata": {},
   "outputs": [
    {
     "name": "stdout",
     "output_type": "stream",
     "text": [
      "A B C D E F G H I \n",
      "  A B C D E F G \n",
      "    A B C D E \n",
      "      A B C \n",
      "        A \n",
      "      A B C \n",
      "    A B C D E \n",
      "  A B C D E F G \n",
      "A B C D E F G H I \n"
     ]
    }
   ],
   "source": [
    "for i in range(5,1,-1):\n",
    "    c = 65\n",
    "    for s in range(1,6-i):\n",
    "        print(\" \",end=\" \")\n",
    "    for j in range(i+i,1,-1):\n",
    "        print(chr(c),end=\" \")\n",
    "        c+=1\n",
    "    print()\n",
    "\n",
    "\n",
    "for i in range(1,6):\n",
    "    c =65\n",
    "    for s in range(1,6-i):\n",
    "        print(\" \",end=\" \")\n",
    "    for j in range(1,i+i):\n",
    "        print(chr(c),end=\" \")\n",
    "        c+=1\n",
    "    print()"
   ]
  },
  {
   "cell_type": "code",
   "execution_count": 173,
   "id": "b3235146-7884-4da5-b3e9-4f226152cc93",
   "metadata": {},
   "outputs": [
    {
     "name": "stdout",
     "output_type": "stream",
     "text": [
      "A B C D E F G H I J K \n",
      "  A B C D E F G H I \n",
      "    A B C D E F G \n",
      "      A B C D E \n",
      "        A B C \n",
      "          A \n"
     ]
    }
   ],
   "source": [
    "for i in range(6,0,-1):\n",
    "    c = 65\n",
    "    for s in range(1,7-i):\n",
    "        print(\" \",end=\" \")\n",
    "    for j in range(i+i,1,-1):\n",
    "        print(chr(c),end=\" \")\n",
    "        c+=1\n",
    "    print()\n"
   ]
  },
  {
   "cell_type": "code",
   "execution_count": 200,
   "id": "194cceeb-f7c2-4444-8110-30e916dde941",
   "metadata": {},
   "outputs": [
    {
     "name": "stdout",
     "output_type": "stream",
     "text": [
      "        A \n",
      "      A   C \n",
      "    A       E \n",
      "  A           G \n",
      "A               I \n",
      "A B C D E F G H I \n",
      "  A           G \n",
      "    A       E \n",
      "      A   C \n",
      "        A \n"
     ]
    }
   ],
   "source": [
    "for i in range(1,6):\n",
    "    c = 65\n",
    "    for s in range(1,6-i):\n",
    "        print(\" \",end=\" \")\n",
    "    for j in range(1,i+i):\n",
    "        if(j==1 or j==i+i-1):\n",
    "            print(chr(c),end=\" \")\n",
    "            c+=1\n",
    "        else:\n",
    "            print(\" \",end=\" \")\n",
    "            c+=1\n",
    "    print()\n",
    "\n",
    "\n",
    "for i in range(5,0,-1):\n",
    "    c = 65\n",
    "    for s in range(1,6-i):\n",
    "        print(\" \",end=\" \")\n",
    "    for j in range(i+i,1,-1):\n",
    "        if(j==i+i or j==2 or i==5):\n",
    "            print(chr(c),end=\" \")\n",
    "            c+=1\n",
    "        else:\n",
    "            print(\" \",end=\" \")\n",
    "            c+=1\n",
    "    print()\n",
    "    "
   ]
  },
  {
   "cell_type": "code",
   "execution_count": 1,
   "id": "169e7a08-e112-4bd8-8b63-175626af7b60",
   "metadata": {},
   "outputs": [
    {
     "name": "stdout",
     "output_type": "stream",
     "text": [
      "True\n"
     ]
    }
   ],
   "source": [
    "list1 = [10,30,40,20,50,30]\n",
    "list2 = [1,3,2,4,5,6,7,20,40]\n",
    "\n",
    "c = 0\n",
    "for i in list1:\n",
    "    if i in list2:\n",
    "        c+=1\n",
    "\n",
    "if (c>=2):\n",
    "    print(\"True\")\n",
    "else:\n",
    "    print(\"False\")"
   ]
  },
  {
   "cell_type": "code",
   "execution_count": 10,
   "id": "4fa460bf-7062-4477-b811-89d3486a44fd",
   "metadata": {},
   "outputs": [
    {
     "name": "stdout",
     "output_type": "stream",
     "text": [
      "['p', 'i', 'p']\n",
      "Palindrome\n"
     ]
    }
   ],
   "source": [
    "s = \"pip\"\n",
    "list1 = []\n",
    "for i in s:\n",
    "    list1.insert(0,i)\n",
    "\n",
    "s2 = \"\".join(list1)\n",
    "\n",
    "print(list1)\n",
    "if(s==s2):\n",
    "    print(\"Palindrome\")\n",
    "else:\n",
    "    print(\"Not palindrome\")"
   ]
  },
  {
   "cell_type": "code",
   "execution_count": 12,
   "id": "4f49eba5-28a3-4115-b887-23e68e2e47c8",
   "metadata": {},
   "outputs": [
    {
     "name": "stdout",
     "output_type": "stream",
     "text": [
      "[1, 2, 2, 5, 7, 9, 10, 25]\n"
     ]
    }
   ],
   "source": [
    "data = [2,1,5,7,2,9,10,25]\n",
    "\n",
    "for i in range(len(data)):\n",
    "    for j in range(i+1,len(data)):\n",
    "        if(data[j]<data[i]):\n",
    "            data[i],data[j] = data[j],data[i]\n",
    "\n",
    "print(data)"
   ]
  },
  {
   "cell_type": "code",
   "execution_count": 18,
   "id": "f364af24-90cc-4e0b-a8e8-b5a44e4a0079",
   "metadata": {},
   "outputs": [
    {
     "name": "stdout",
     "output_type": "stream",
     "text": [
      "Max Number : 26\n",
      "25\n"
     ]
    }
   ],
   "source": [
    "data = [2,1,5,7,20,9,10,24,26,25]\n",
    "\n",
    "m = 0\n",
    "sm  = 0\n",
    "for i in data:\n",
    "    if i>m:\n",
    "        sm = m\n",
    "        m = i\n",
    "    elif(i>sm and i!=m):\n",
    "        sm = i\n",
    "\n",
    "print(\"Max Number :\",m)\n",
    "print(sm)"
   ]
  },
  {
   "cell_type": "code",
   "execution_count": 23,
   "id": "029b39f0-e66e-429f-98e3-602acebbe40d",
   "metadata": {},
   "outputs": [
    {
     "name": "stdout",
     "output_type": "stream",
     "text": [
      "max : 29\n",
      "S_max : 28\n"
     ]
    }
   ],
   "source": [
    "data = [2,1,5,7,20,9,10,24,26,25,29,28]\n",
    "\n",
    "m = 0\n",
    "sm = 0\n",
    "\n",
    "for i in range(len(data)):\n",
    "    if(data[i]>m):\n",
    "        sm = m\n",
    "        m = data[i]\n",
    "    elif(data[i]>sm and data[i] !=m):\n",
    "        sm = data[i]\n",
    "\n",
    "\n",
    "print(\"max :\",m)\n",
    "print(\"S_max :\",sm)"
   ]
  },
  {
   "cell_type": "code",
   "execution_count": 37,
   "id": "44c2d889-c44c-4d6d-9b5a-6ca58966edb3",
   "metadata": {},
   "outputs": [
    {
     "name": "stdout",
     "output_type": "stream",
     "text": [
      "lowest_number : 2\n",
      "Second_lowest : 4\n"
     ]
    }
   ],
   "source": [
    "data = [20,7,20,9,10,24,26,25,4,200,10,30,2]\n",
    "\n",
    "l = data[0]\n",
    "sl = 0\n",
    "for i in range(len(data)):\n",
    "    if data[i]<l:\n",
    "        sl = l\n",
    "        l  = data[i]\n",
    "\n",
    "print(\"lowest_number :\",l)\n",
    "print(\"Second_lowest :\",sl)"
   ]
  },
  {
   "cell_type": "code",
   "execution_count": 53,
   "id": "764d2e64-4141-433d-9455-eb4afbe7b82c",
   "metadata": {},
   "outputs": [
    {
     "name": "stdout",
     "output_type": "stream",
     "text": [
      "Valid \n"
     ]
    }
   ],
   "source": [
    "s = \"{()[]}\"\n",
    "x = 0\n",
    "mylist =[]\n",
    "for i in s:\n",
    "    if i in \"{[(\":\n",
    "        mylist.append(i)\n",
    "    elif(mylist):\n",
    "        if(i==\"}\" and mylist.pop()!=\"{\"):\n",
    "            x = 1\n",
    "            break\n",
    "        elif(i==\"]\" and mylist.pop()!=\"[\"):\n",
    "            x = 1\n",
    "            break\n",
    "        elif(i==\")\" and mylist.pop()!=\"(\"):\n",
    "            x = 1\n",
    "            break\n",
    "    else:\n",
    "        x = 1\n",
    "        break\n",
    "\n",
    "if(x==0 and len(mylist)==0):\n",
    "    print(\"Valid \")\n",
    "else:\n",
    "    print(\"Not\")"
   ]
  },
  {
   "cell_type": "code",
   "execution_count": 65,
   "id": "0c214153-d3cd-47eb-ad7b-3c55bf69ba9e",
   "metadata": {},
   "outputs": [
    {
     "name": "stdin",
     "output_type": "stream",
     "text": [
      "enter string  khokho\n"
     ]
    },
    {
     "name": "stdout",
     "output_type": "stream",
     "text": [
      "Symatrical \n"
     ]
    }
   ],
   "source": [
    "input1 = input(\"enter string \")\n",
    "\n",
    "s1 = \"\"\n",
    "s2 = \"\"\n",
    "\n",
    "length = len(input1)\n",
    "\n",
    "if(length%2==0):\n",
    "    half = length//2\n",
    "\n",
    "    for i in range(half):\n",
    "        s1  = s1 + input1[i]\n",
    "    for j in range(half,length):\n",
    "        s2 = s2 + input1[j]\n",
    "\n",
    "    if(s1==s2):\n",
    "        print(\"Symatrical \")\n",
    "    else:\n",
    "        print(\"Not\")\n",
    "        \n",
    "elif(length%2!=0):\n",
    "    half = length//2\n",
    "\n",
    "    for i in range(half):\n",
    "        s1  = s1 + input1[i]\n",
    "    for j in range(half+1,length):\n",
    "        s2 = s2 + input1[j]\n",
    "\n",
    "    if(s1==s2):\n",
    "        print(\"Symatrical \")\n",
    "    else:\n",
    "        print(\"Not\")\n",
    "    \n",
    "else:\n",
    "    print(\"Not \")"
   ]
  },
  {
   "cell_type": "code",
   "execution_count": 72,
   "id": "db9b231a-bca9-4888-8d38-00ccb6f21684",
   "metadata": {},
   "outputs": [
    {
     "name": "stdout",
     "output_type": "stream",
     "text": [
      "        A \n",
      "      A B \n",
      "    A B C \n",
      "  A B C D \n",
      "A B C D E \n",
      "  A B C D \n",
      "    A B C \n",
      "      A B \n",
      "        A \n",
      "          \n"
     ]
    }
   ],
   "source": [
    "for i in range(1,6):\n",
    "    c=65\n",
    "    for s in range(1,6-i):\n",
    "        print(\" \",end=\" \")\n",
    "    for j in range(1,i+1):\n",
    "        print(chr(c),end=\" \")\n",
    "        c+=1\n",
    "    print()\n",
    "\n",
    "\n",
    "for i in range(1,6):\n",
    "    c = 65\n",
    "    for s in range(1,i+1):\n",
    "        print(\" \",end=\" \")\n",
    "    for j in range(1,6-i):\n",
    "        print(chr(c),end=\" \")\n",
    "        c+=1\n",
    "    print()"
   ]
  },
  {
   "cell_type": "code",
   "execution_count": 83,
   "id": "8c202c04-8ab4-433d-a341-2be571952261",
   "metadata": {},
   "outputs": [
    {
     "name": "stdout",
     "output_type": "stream",
     "text": [
      "A B C D E \n",
      "  A B C D \n",
      "    A B C \n",
      "      A B \n",
      "        A \n",
      "      A B \n",
      "    A B C \n",
      "  A B C D \n",
      "A B C D E \n"
     ]
    }
   ],
   "source": [
    "for i in range(1,6):\n",
    "    c = 65\n",
    "    for s in range(1,i):\n",
    "        print(\" \",end=\" \")\n",
    "    for j in range(1,6-i+1):\n",
    "        print(chr(c),end=\" \")\n",
    "        c+=1\n",
    "    print()\n",
    "\n",
    "for i in range(2,6):\n",
    "    c = 65\n",
    "    for s in range(1,6-i):\n",
    "        print(\" \",end=\" \")\n",
    "    for  j in range(1,i+1):\n",
    "        print(chr(c),end=\" \")\n",
    "        c+=1\n",
    "        \n",
    "    print()\n"
   ]
  },
  {
   "cell_type": "code",
   "execution_count": 97,
   "id": "1565979b-7da7-49c8-bd90-f8dca475c6c5",
   "metadata": {},
   "outputs": [
    {
     "name": "stdout",
     "output_type": "stream",
     "text": [
      "5 4 3 2 1 \n",
      "4     1 \n",
      "3   1 \n",
      "2 1 \n",
      "1 \n"
     ]
    }
   ],
   "source": [
    "for i in range(5,0,-1):\n",
    "    for j in range(i,0,-1):\n",
    "        if(i==5 or j==i or j==1):\n",
    "            print(j,end=\" \")\n",
    "        else:\n",
    "            print(\" \",end=\" \")\n",
    "    print()"
   ]
  },
  {
   "cell_type": "code",
   "execution_count": 137,
   "id": "22b1e4fb-41f8-4a93-80bb-ea019961da72",
   "metadata": {},
   "outputs": [
    {
     "name": "stdout",
     "output_type": "stream",
     "text": [
      "* * * * * \n",
      " *     * \n",
      "  *   * \n",
      "   * * \n",
      "    * \n"
     ]
    }
   ],
   "source": [
    "for i in range(1,6):\n",
    "    for s in range(1,i):\n",
    "        print(\" \",end=\"\")\n",
    "    for j in range(1,6-i+1):\n",
    "        if(i==1 or j==1 or j==6-i):\n",
    "            print(\"*\",end=\" \")\n",
    "        else:\n",
    "            print(\" \",end=\" \")\n",
    "    print()"
   ]
  },
  {
   "cell_type": "code",
   "execution_count": 140,
   "id": "ab9ed491-b1f3-4e0d-b85e-f73eab546c98",
   "metadata": {},
   "outputs": [
    {
     "name": "stdout",
     "output_type": "stream",
     "text": [
      "    * \n",
      "   * * \n",
      "  *   * \n",
      " *     * \n",
      "* * * * * \n"
     ]
    }
   ],
   "source": [
    "for i in range(1,6):\n",
    "    for s in range(1,6-i):\n",
    "        print(\" \",end=\"\")\n",
    "    for j in range(1,i+1):\n",
    "        if(i==5 or j==1 or j==i):\n",
    "            print(\"*\",end=\" \")\n",
    "        else:\n",
    "            print(\" \",end=\" \")\n",
    "            \n",
    "    print()"
   ]
  },
  {
   "cell_type": "code",
   "execution_count": 142,
   "id": "72fa9673-a1aa-451c-8485-8d8f6d0bbf48",
   "metadata": {},
   "outputs": [
    {
     "name": "stdout",
     "output_type": "stream",
     "text": [
      "        * \n",
      "      *   * \n",
      "    *       * \n",
      "  *           * \n",
      "* * * * * * * * * \n"
     ]
    }
   ],
   "source": [
    "for i in range(1,6):\n",
    "    for s in range(1,6-i):\n",
    "        print(\" \",end=\" \")\n",
    "    for j in range(1,i+i):\n",
    "        if(i==5 or j==1 or j==i+i-1):\n",
    "            print(\"*\",end=\" \")\n",
    "        else:\n",
    "            print(\" \",end=\" \")\n",
    "    print()"
   ]
  },
  {
   "cell_type": "code",
   "execution_count": 152,
   "id": "46c6447b-b9d3-405e-949c-48872c67a185",
   "metadata": {},
   "outputs": [
    {
     "name": "stdout",
     "output_type": "stream",
     "text": [
      "* * * * * * * \n",
      "  *       * \n",
      "    *   * \n",
      "      * \n"
     ]
    }
   ],
   "source": [
    "for i in range(4,0,-1):\n",
    "    for s in range(1,4-i+1):\n",
    "        print(\" \",end=\" \")\n",
    "    for j in range(i+i,1,-1):\n",
    "        if(i==4 or j==i+i or j==2):\n",
    "            print(\"*\",end=\" \")\n",
    "        else:\n",
    "            print(\" \",end=\" \")\n",
    "    print()"
   ]
  },
  {
   "cell_type": "code",
   "execution_count": 159,
   "id": "9abbbdf0-dbdd-4da8-bbdf-dc5cb3480ea4",
   "metadata": {},
   "outputs": [
    {
     "data": {
      "text/plain": [
       "False"
      ]
     },
     "execution_count": 159,
     "metadata": {},
     "output_type": "execute_result"
    }
   ],
   "source": [
    "a  = 122\n",
    "b = 123\n",
    "a == b"
   ]
  },
  {
   "cell_type": "code",
   "execution_count": 161,
   "id": "c3f43f00-fe0d-423a-b60e-11b40e0940eb",
   "metadata": {},
   "outputs": [
    {
     "name": "stdout",
     "output_type": "stream",
     "text": [
      "['o', 'l', 'l', 'e', 'h']\n",
      "olleh\n"
     ]
    }
   ],
   "source": [
    "s = \"hello\"\n",
    "mylist =[]\n",
    "for i in s:\n",
    "    mylist.insert(0,i)\n",
    "\n",
    "print(mylist)\n",
    "\n",
    "print(\"\".join(mylist))"
   ]
  },
  {
   "cell_type": "code",
   "execution_count": 170,
   "id": "e8742541-724f-498b-a3d3-6b75cb93785d",
   "metadata": {},
   "outputs": [
    {
     "name": "stdout",
     "output_type": "stream",
     "text": [
      "NOt prime\n"
     ]
    }
   ],
   "source": [
    "n = 12\n",
    "\n",
    "flag  = 0\n",
    "\n",
    "for i in range(2,n):\n",
    "    if(n%i==0):\n",
    "        flag = 1\n",
    "        break\n",
    "\n",
    "if(flag==0):\n",
    "    print(\"Prime\")\n",
    "else:\n",
    "    print(\"NOt prime\")"
   ]
  },
  {
   "cell_type": "code",
   "execution_count": 172,
   "id": "eff2b86f-c2be-4374-9121-52471de5b939",
   "metadata": {},
   "outputs": [
    {
     "name": "stdin",
     "output_type": "stream",
     "text": [
      "enter terms  8\n"
     ]
    },
    {
     "name": "stdout",
     "output_type": "stream",
     "text": [
      "0 1 1 2 3 5 8 13 21 34 55 "
     ]
    }
   ],
   "source": [
    "terms = int(input(\"enter terms \"))\n",
    "\n",
    "a  = 0\n",
    "b = 1\n",
    "c = 0\n",
    "\n",
    "print(a,end=\" \")\n",
    "print(b,end=\" \")\n",
    "while(c<=terms):\n",
    "    next = a+b\n",
    "    print(next,end=\" \")\n",
    "    a = b\n",
    "    b = next\n",
    "    c+=1\n",
    "\n"
   ]
  },
  {
   "cell_type": "code",
   "execution_count": 178,
   "id": "c91de527-0eed-44c0-8a17-53dd1ceb64fc",
   "metadata": {},
   "outputs": [
    {
     "name": "stdout",
     "output_type": "stream",
     "text": [
      "['hello', 'good', 'morning']\n",
      "['HELLO', 'good', 'MORNING']\n"
     ]
    }
   ],
   "source": [
    "s = \"hello good morning\"\n",
    "\n",
    "n = s.split()\n",
    "print(n)\n",
    "\n",
    "for i in range(0,len(s)):\n",
    "    if i==0:\n",
    "        n[i] = n[i].upper()\n",
    "    elif(i==len(n)-1):\n",
    "        n[i] = n[i].upper()\n",
    "\n",
    "print(n)"
   ]
  },
  {
   "cell_type": "code",
   "execution_count": null,
   "id": "d6f051d0-1de4-4e99-814d-3f0ab6cc62be",
   "metadata": {},
   "outputs": [],
   "source": []
  }
 ],
 "metadata": {
  "kernelspec": {
   "display_name": "Python 3 (ipykernel)",
   "language": "python",
   "name": "python3"
  },
  "language_info": {
   "codemirror_mode": {
    "name": "ipython",
    "version": 3
   },
   "file_extension": ".py",
   "mimetype": "text/x-python",
   "name": "python",
   "nbconvert_exporter": "python",
   "pygments_lexer": "ipython3",
   "version": "3.12.4"
  }
 },
 "nbformat": 4,
 "nbformat_minor": 5
}
