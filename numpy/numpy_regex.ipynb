{
 "cells": [
  {
   "cell_type": "code",
   "execution_count": 2,
   "id": "86d034b8-d32a-4240-9679-393915c7cf89",
   "metadata": {},
   "outputs": [],
   "source": [
    "import numpy as np"
   ]
  },
  {
   "cell_type": "code",
   "execution_count": 2,
   "id": "e650f6a6-9f53-4830-8156-eef4e8796ad6",
   "metadata": {},
   "outputs": [
    {
     "data": {
      "text/plain": [
       "list"
      ]
     },
     "execution_count": 2,
     "metadata": {},
     "output_type": "execute_result"
    }
   ],
   "source": [
    "a = [1,2,3,4]\n",
    "type(a)"
   ]
  },
  {
   "cell_type": "code",
   "execution_count": 3,
   "id": "ec28865e-0c39-4a36-8506-6219a9fe3fc6",
   "metadata": {},
   "outputs": [
    {
     "data": {
      "text/plain": [
       "array([1, 2, 3, 4])"
      ]
     },
     "execution_count": 3,
     "metadata": {},
     "output_type": "execute_result"
    }
   ],
   "source": [
    "b =  np.array(a)\n",
    "b"
   ]
  },
  {
   "cell_type": "code",
   "execution_count": 4,
   "id": "c3c3ec64-d832-44f8-aa88-ea559eccb68e",
   "metadata": {},
   "outputs": [
    {
     "data": {
      "text/plain": [
       "numpy.ndarray"
      ]
     },
     "execution_count": 4,
     "metadata": {},
     "output_type": "execute_result"
    }
   ],
   "source": [
    "type(b)"
   ]
  },
  {
   "cell_type": "code",
   "execution_count": 9,
   "id": "ca6b4e0d-01bd-4c88-a4b2-c29704ce12f0",
   "metadata": {},
   "outputs": [
    {
     "data": {
      "text/plain": [
       "numpy.ndarray"
      ]
     },
     "execution_count": 9,
     "metadata": {},
     "output_type": "execute_result"
    }
   ],
   "source": [
    "x = [1,3,5,6,] \n",
    "y = np.array(x)\n",
    "y\n",
    "type(y)\n"
   ]
  },
  {
   "cell_type": "code",
   "execution_count": 89,
   "id": "cc965828-02a1-4031-96d7-2d6ff9d9df85",
   "metadata": {},
   "outputs": [],
   "source": [
    "# array.shape         # return how many row and how many column (row,column)\n",
    "\n",
    "# array.size         # return size of array row*column\n",
    "\n",
    "# array.ndim        # ndim means number of dimention  \n",
    "\n",
    "# l1.dtype       # return which type of data are store   l1= array\n",
    "\n",
    "# le.astype(int)  # convert on array to a different type\n",
    "\n",
    "# len(l1)            # return length "
   ]
  },
  {
   "cell_type": "code",
   "execution_count": 11,
   "id": "4a2ec855-0e6a-4537-b3b4-297a6cb56443",
   "metadata": {},
   "outputs": [
    {
     "name": "stdout",
     "output_type": "stream",
     "text": [
      "toal shape : (4,)\n"
     ]
    }
   ],
   "source": [
    "# .shape\n",
    "\n",
    "print(\"toal shape :\",b.shape)   # 4 column and 1 row"
   ]
  },
  {
   "cell_type": "code",
   "execution_count": 12,
   "id": "c5cb38ab-72e2-40fd-b5b9-5400c8d684bc",
   "metadata": {},
   "outputs": [
    {
     "name": "stdout",
     "output_type": "stream",
     "text": [
      "Total size : 4\n"
     ]
    }
   ],
   "source": [
    "# .Size   ==> row * columm\n",
    "\n",
    "print(\"Total size :\",b.size)"
   ]
  },
  {
   "cell_type": "code",
   "execution_count": 13,
   "id": "3db4c70a-75b3-41b7-86ed-757b5817bbfe",
   "metadata": {},
   "outputs": [
    {
     "name": "stdout",
     "output_type": "stream",
     "text": [
      "Total dimension : 1\n"
     ]
    }
   ],
   "source": [
    "# .ndim    ==> refer to  dimension of array\n",
    "\n",
    "\n",
    "print(\"Total dimension :\",b.ndim)"
   ]
  },
  {
   "cell_type": "code",
   "execution_count": 20,
   "id": "1947b5b4-c82c-4686-9a18-d8ef98200407",
   "metadata": {},
   "outputs": [
    {
     "data": {
      "text/plain": [
       "[[1, 2, 3], [4, 5, 6], [6, 7, 8]]"
      ]
     },
     "execution_count": 20,
     "metadata": {},
     "output_type": "execute_result"
    }
   ],
   "source": [
    "# 2-D dimension\n",
    "\n",
    "a = [ [1,2,3],[4,5,6] ,[6,7,8] ]\n",
    "\n",
    "a"
   ]
  },
  {
   "cell_type": "code",
   "execution_count": 21,
   "id": "04a0f313-5f0a-4a97-8820-750c726ca45f",
   "metadata": {},
   "outputs": [
    {
     "data": {
      "text/plain": [
       "array([[1, 2, 3],\n",
       "       [4, 5, 6],\n",
       "       [6, 7, 8]])"
      ]
     },
     "execution_count": 21,
     "metadata": {},
     "output_type": "execute_result"
    }
   ],
   "source": [
    "b   = np.array(a)\n",
    "b"
   ]
  },
  {
   "cell_type": "code",
   "execution_count": 22,
   "id": "b94a9211-d6fa-4fc7-9711-9c5f0de05f98",
   "metadata": {},
   "outputs": [
    {
     "data": {
      "text/plain": [
       "(3, 3)"
      ]
     },
     "execution_count": 22,
     "metadata": {},
     "output_type": "execute_result"
    }
   ],
   "source": [
    "b.shape"
   ]
  },
  {
   "cell_type": "code",
   "execution_count": 25,
   "id": "94a4987c-652d-4e05-b180-7a18469754e4",
   "metadata": {},
   "outputs": [
    {
     "name": "stdout",
     "output_type": "stream",
     "text": [
      "Total row and column : (3, 3)\n",
      "Total element : 9\n",
      "Toak Dimension : 2\n"
     ]
    }
   ],
   "source": [
    "print(\"Total row and column :\",b.shape)\n",
    "\n",
    "print(\"Total element :\",b.size)\n",
    "\n",
    "print(\"Toak Dimension :\",b.ndim)"
   ]
  },
  {
   "cell_type": "markdown",
   "id": "d62310da-50c7-4438-9723-5b8cbbc4c8cc",
   "metadata": {},
   "source": [
    "# How can we create a suse defined Array?"
   ]
  },
  {
   "cell_type": "code",
   "execution_count": 29,
   "id": "e35ab497-18fa-433d-b6d8-b162f8849072",
   "metadata": {},
   "outputs": [
    {
     "name": "stdin",
     "output_type": "stream",
     "text": [
      "enter the siz: 5\n",
      "enter the value : 1\n",
      "enter the value : 2\n",
      "enter the value : 3\n",
      "enter the value : 4\n",
      "enter the value : 5\n"
     ]
    },
    {
     "data": {
      "text/plain": [
       "array([1, 2, 3, 4, 5])"
      ]
     },
     "execution_count": 29,
     "metadata": {},
     "output_type": "execute_result"
    }
   ],
   "source": [
    "a  = []\n",
    "size = int(input(\"enter the size:\"))\n",
    "for i in range(size):\n",
    "    val = int(input(\"enter the value :\"))\n",
    "    a.append(val)\n",
    "\n",
    "b=  np.array(a)\n",
    "b"
   ]
  },
  {
   "cell_type": "markdown",
   "id": "ba7a457b-bbe6-4a88-8e25-846a6f0e5768",
   "metadata": {},
   "source": [
    "# Numpy Functions"
   ]
  },
  {
   "cell_type": "code",
   "execution_count": 34,
   "id": "e9c940ca-2a0b-48d2-a85f-00dbfac57499",
   "metadata": {},
   "outputs": [],
   "source": [
    "# Images  ===> pixels (0-255)px  ===> 0px(black),255(white) ====> Normalize ===>(0-1) px\n",
    "\n",
    "\n",
    "# a :  Black & White  ===> height, width\n",
    "# b:   Colorfull Image  ==> height ,width,color_channel(red,green,blue)    # RGBm\n",
    "\n",
    "# matrix  ==> Number(row) = number(column)  --> Symmatric matrix\n",
    "\n",
    "               # Number(row) != number(column)  --> ASymmatric matrix \n",
    "\n",
    "\n",
    "# random Number generation ==> random() module\n",
    "\n",
    "# Data Science ==>  Simple line equation :  y = mx + b  where x,y  = Cordinates and b is intercept(minimum value we can not effect the mx but case if m and x if one is zero to use the b\n",
    "\n",
    "\n",
    "\n",
    "# matrix   ==> row,column\n",
    "\n",
    "# matrix  ==> digonal positional element  = [(1,1),(2,2),(3,3),.....,(n,n)]\n"
   ]
  },
  {
   "cell_type": "markdown",
   "id": "6cef1c29-c51f-42a1-adca-5838559c5d96",
   "metadata": {},
   "source": [
    "# 1: zeros() ==> it will create and array in which all values are 0\n",
    "\n",
    "seperated by .,"
   ]
  },
  {
   "cell_type": "code",
   "execution_count": 35,
   "id": "27892598-319b-4afd-862f-485a27aa34bd",
   "metadata": {},
   "outputs": [
    {
     "data": {
      "text/plain": [
       "array([0., 0., 0.])"
      ]
     },
     "execution_count": 35,
     "metadata": {},
     "output_type": "execute_result"
    }
   ],
   "source": [
    "a = np.zeros(3)\n",
    "a"
   ]
  },
  {
   "cell_type": "code",
   "execution_count": 36,
   "id": "c69a0a52-6a18-4b20-a392-9357068e647a",
   "metadata": {},
   "outputs": [
    {
     "data": {
      "text/plain": [
       "array([[0., 0., 0.],\n",
       "       [0., 0., 0.]])"
      ]
     },
     "execution_count": 36,
     "metadata": {},
     "output_type": "execute_result"
    }
   ],
   "source": [
    "a = np.zeros((2,3))     # 2 row and 3 column\n",
    "\n",
    "a"
   ]
  },
  {
   "cell_type": "markdown",
   "id": "d63f6260-c2cb-470c-b740-ea0f0a6f1135",
   "metadata": {},
   "source": [
    "# 2: ones() ==> It will create an array in which all the values are 1."
   ]
  },
  {
   "cell_type": "code",
   "execution_count": 37,
   "id": "07ee6297-472b-432a-8799-d937732e9967",
   "metadata": {},
   "outputs": [
    {
     "data": {
      "text/plain": [
       "array([1., 1., 1.])"
      ]
     },
     "execution_count": 37,
     "metadata": {},
     "output_type": "execute_result"
    }
   ],
   "source": [
    "a = np.ones(3)\n",
    "a"
   ]
  },
  {
   "cell_type": "code",
   "execution_count": 38,
   "id": "33932c9f-64c4-4f5e-b9c4-d8501cf3cfd7",
   "metadata": {},
   "outputs": [
    {
     "data": {
      "text/plain": [
       "array([[1., 1., 1., 1.],\n",
       "       [1., 1., 1., 1.],\n",
       "       [1., 1., 1., 1.]])"
      ]
     },
     "execution_count": 38,
     "metadata": {},
     "output_type": "execute_result"
    }
   ],
   "source": [
    "a = np.ones((3,4))\n",
    "a"
   ]
  },
  {
   "cell_type": "markdown",
   "id": "dc33f416-1b7c-499a-a79c-0b8bf258b21d",
   "metadata": {},
   "source": [
    "# 3: eye()  ==>  it will create an array in which digonal positional elements are 1 and rest all are 0\n",
    "\n",
    "it will not create 1-D"
   ]
  },
  {
   "cell_type": "code",
   "execution_count": 14,
   "id": "28df4417-2a7d-4cbd-89c0-75dc6384d5cc",
   "metadata": {},
   "outputs": [
    {
     "data": {
      "text/plain": [
       "array([[1., 0., 0., 0.],\n",
       "       [0., 1., 0., 0.],\n",
       "       [0., 0., 1., 0.],\n",
       "       [0., 0., 0., 1.]])"
      ]
     },
     "execution_count": 14,
     "metadata": {},
     "output_type": "execute_result"
    }
   ],
   "source": [
    "a = np.eye(4)\n",
    "a"
   ]
  },
  {
   "cell_type": "code",
   "execution_count": 40,
   "id": "afd3b3ad-4747-483e-8a8f-cf3316b13e40",
   "metadata": {},
   "outputs": [
    {
     "data": {
      "text/plain": [
       "array([[1., 0., 0.],\n",
       "       [0., 1., 0.],\n",
       "       [0., 0., 1.]])"
      ]
     },
     "execution_count": 40,
     "metadata": {},
     "output_type": "execute_result"
    }
   ],
   "source": [
    "a = np.eye(3,3)\n",
    "a"
   ]
  },
  {
   "cell_type": "code",
   "execution_count": 43,
   "id": "9cac107a-7ed9-4789-b4fa-569e6b6cdaeb",
   "metadata": {},
   "outputs": [
    {
     "data": {
      "text/plain": [
       "array([[1., 0., 0., 0., 0.],\n",
       "       [0., 1., 0., 0., 0.],\n",
       "       [0., 0., 1., 0., 0.],\n",
       "       [0., 0., 0., 1., 0.]])"
      ]
     },
     "execution_count": 43,
     "metadata": {},
     "output_type": "execute_result"
    }
   ],
   "source": [
    "a = np.eye(4,5)\n",
    "a"
   ]
  },
  {
   "cell_type": "markdown",
   "id": "88836040-9d57-4a8a-9e53-e014f5f038c1",
   "metadata": {},
   "source": [
    "# 4: diag()  ==> It will create an array in which we can customize our digonal positional elements "
   ]
  },
  {
   "cell_type": "code",
   "execution_count": 45,
   "id": "52a769b1-f8b9-4f62-9816-ec81b42d3a8e",
   "metadata": {},
   "outputs": [
    {
     "data": {
      "text/plain": [
       "array([[10,  0,  0,  0],\n",
       "       [ 0, 20,  0,  0],\n",
       "       [ 0,  0, 30,  0],\n",
       "       [ 0,  0,  0, 40]])"
      ]
     },
     "execution_count": 45,
     "metadata": {},
     "output_type": "execute_result"
    }
   ],
   "source": [
    "a = np.diag([10,20,30,40])\n",
    "a"
   ]
  },
  {
   "cell_type": "markdown",
   "id": "a6ab78d3-770e-4f7c-9141-973bf460c389",
   "metadata": {},
   "source": [
    "# 5: Random Module  \n",
    " a: otp generation\n",
    " \n",
    " b: Dataset  ==>  1 dummy column add\n",
    " \n",
    " c: randomly weights initialize \n"
   ]
  },
  {
   "cell_type": "markdown",
   "id": "ae2ad0c6-5cf2-4efe-a984-24cdf735880b",
   "metadata": {},
   "source": [
    "# a: Randint(min_number,max_number,total_numbers)     \n",
    "total number means mininum number or maximum number ke bech m kitne random number chaiye\n"
   ]
  },
  {
   "cell_type": "code",
   "execution_count": 20,
   "id": "a19cd6a2-b0d9-4f8d-a034-6a88a1ba3645",
   "metadata": {},
   "outputs": [
    {
     "data": {
      "text/plain": [
       "array([7, 7, 8])"
      ]
     },
     "execution_count": 20,
     "metadata": {},
     "output_type": "execute_result"
    }
   ],
   "source": [
    "a = np.random.randint(1,10,3)\n",
    "a"
   ]
  },
  {
   "cell_type": "code",
   "execution_count": 16,
   "id": "0c4db6d3-7a97-4e36-a62a-e4155393cf27",
   "metadata": {},
   "outputs": [
    {
     "data": {
      "text/plain": [
       "array([3, 6, 9, 1])"
      ]
     },
     "execution_count": 16,
     "metadata": {},
     "output_type": "execute_result"
    }
   ],
   "source": [
    "a = np.random.randint(1,10,4)\n",
    "a"
   ]
  },
  {
   "cell_type": "markdown",
   "id": "b2cb7821-d33d-4e04-a26d-1a8c153d50b5",
   "metadata": {},
   "source": [
    "# b: Rand(total_numbers)  ==> It will return numbers from 0 to 1 "
   ]
  },
  {
   "cell_type": "code",
   "execution_count": 81,
   "id": "a6410f3b-9e16-43fe-86d3-c552b05cd9ec",
   "metadata": {},
   "outputs": [
    {
     "data": {
      "text/plain": [
       "array([0.76285165, 0.22296392, 0.09423808, 0.4996985 ])"
      ]
     },
     "execution_count": 81,
     "metadata": {},
     "output_type": "execute_result"
    }
   ],
   "source": [
    "a = np.random.rand(4)\n",
    "a"
   ]
  },
  {
   "cell_type": "markdown",
   "id": "1362a9ff-bac9-4502-9ce7-a6627bcb96ef",
   "metadata": {},
   "source": [
    "# c: Randn()  ==>   -3 to 3"
   ]
  },
  {
   "cell_type": "code",
   "execution_count": 82,
   "id": "d07fa94f-065f-4ab7-9b62-078067c42dfb",
   "metadata": {},
   "outputs": [
    {
     "data": {
      "text/plain": [
       "array([-0.37927179, -0.70965625,  0.51473534, -1.45928734, -0.12583132])"
      ]
     },
     "execution_count": 82,
     "metadata": {},
     "output_type": "execute_result"
    }
   ],
   "source": [
    "a = np.random .randn(5)\n",
    "\n",
    "a"
   ]
  },
  {
   "cell_type": "markdown",
   "id": "9570a45b-4fe1-4abc-b3a1-19f7c1842593",
   "metadata": {},
   "source": [
    "# d: Seed() ==> It will fix our data once the data has been generated"
   ]
  },
  {
   "cell_type": "code",
   "execution_count": 90,
   "id": "ab7f1422-2452-4b50-82e5-e8c674d4e123",
   "metadata": {},
   "outputs": [
    {
     "data": {
      "text/plain": [
       "array([6, 6, 5])"
      ]
     },
     "execution_count": 90,
     "metadata": {},
     "output_type": "execute_result"
    }
   ],
   "source": [
    "np.random.seed(30)                # where 30 is use to fix generated value\n",
    "\n",
    "a  = np.random.randint(1,10,3)\n",
    "a"
   ]
  },
  {
   "cell_type": "code",
   "execution_count": null,
   "id": "18db2561-aca7-4366-abee-038b2fdcf7ac",
   "metadata": {},
   "outputs": [],
   "source": []
  }
 ],
 "metadata": {
  "kernelspec": {
   "display_name": "Python 3 (ipykernel)",
   "language": "python",
   "name": "python3"
  },
  "language_info": {
   "codemirror_mode": {
    "name": "ipython",
    "version": 3
   },
   "file_extension": ".py",
   "mimetype": "text/x-python",
   "name": "python",
   "nbconvert_exporter": "python",
   "pygments_lexer": "ipython3",
   "version": "3.12.4"
  }
 },
 "nbformat": 4,
 "nbformat_minor": 5
}
