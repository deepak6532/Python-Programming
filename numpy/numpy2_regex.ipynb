{
 "cells": [
  {
   "cell_type": "markdown",
   "id": "3601e301-bd4b-4c59-bd53-6186842af436",
   "metadata": {},
   "source": [
    "# View vs Copy\n",
    "\n",
    " view change original data \n",
    "\n",
    " copy change only duplicate data we can not affect original data"
   ]
  },
  {
   "cell_type": "code",
   "execution_count": 2,
   "id": "2c2200dc-99e8-45c9-8b8d-2e86b84bf8b0",
   "metadata": {},
   "outputs": [],
   "source": [
    "import numpy as np"
   ]
  },
  {
   "cell_type": "code",
   "execution_count": 4,
   "id": "1048ff36-3aa5-4330-a142-24a08c851671",
   "metadata": {},
   "outputs": [
    {
     "data": {
      "text/plain": [
       "array([10, 20,  0,  0,  0, 60, 70, 80])"
      ]
     },
     "execution_count": 4,
     "metadata": {},
     "output_type": "execute_result"
    }
   ],
   "source": [
    "a = np.array([10,20,30,40,50,60,70,80])   # view means modification of original data\n",
    "a\n",
    "b= a[2:5]\n",
    "b\n",
    "b[:] = 0               # all element are 0\n",
    "a\n",
    "\n"
   ]
  },
  {
   "cell_type": "code",
   "execution_count": 6,
   "id": "e5359a4f-ae13-48ab-b646-22442e1b92f0",
   "metadata": {},
   "outputs": [
    {
     "data": {
      "text/plain": [
       "array([10, 20, 30, 40, 50, 60, 70, 80])"
      ]
     },
     "execution_count": 6,
     "metadata": {},
     "output_type": "execute_result"
    }
   ],
   "source": [
    "a = np.array([10,20,30,40,50,60,70,80])   # Copy means modification in duplicate data\n",
    "\n",
    "b  = a[2:5].copy()\n",
    "b\n",
    "b[:] = 0\n",
    "b\n",
    "a"
   ]
  },
  {
   "cell_type": "markdown",
   "id": "8c7d706b-fb2a-4f0d-8cd4-623386a4054a",
   "metadata": {},
   "source": [
    "# Reshapping the data"
   ]
  },
  {
   "cell_type": "code",
   "execution_count": 14,
   "id": "02acbc4c-8b69-47b2-b973-4362c90c80d5",
   "metadata": {},
   "outputs": [],
   "source": [
    "# we know that \n",
    "\n",
    "# n(row) * n(column)  = n(total_element)\n",
    "\n",
    "# if we have total_element  =12\n",
    "\n",
    "# 1*12 ,12*1\n",
    "# 2*6,  6*2\n",
    "# 3*4 , 4*3\n",
    "\n",
    "\n",
    "\n",
    "# if we have total_elements = 36\n",
    "\n",
    "# 1*36 , 36*1\n",
    "# 2*18 ,18*2\n",
    "# 3*12 , 12*3\n",
    "# 4*9 , 9*4\n",
    "# 6*6"
   ]
  },
  {
   "cell_type": "code",
   "execution_count": 15,
   "id": "bebbeda2-056e-48a3-8888-d4fcecf01db6",
   "metadata": {},
   "outputs": [
    {
     "data": {
      "text/plain": [
       "array([ 6, 46, 40,  8, 29, 10, 21, 27,  6, 48, 18, 18])"
      ]
     },
     "execution_count": 15,
     "metadata": {},
     "output_type": "execute_result"
    }
   ],
   "source": [
    "a = np.random.randint(1,50,12)\n",
    "a"
   ]
  },
  {
   "cell_type": "code",
   "execution_count": 16,
   "id": "e0a2938a-a86b-41e7-9c5a-18f2eebf6b12",
   "metadata": {},
   "outputs": [
    {
     "data": {
      "text/plain": [
       "(12,)"
      ]
     },
     "execution_count": 16,
     "metadata": {},
     "output_type": "execute_result"
    }
   ],
   "source": [
    "a.shape"
   ]
  },
  {
   "cell_type": "code",
   "execution_count": 17,
   "id": "1c4f6b4e-80a4-41c9-949f-35cf2763df89",
   "metadata": {},
   "outputs": [
    {
     "data": {
      "text/plain": [
       "array([[ 6, 46, 40,  8, 29, 10],\n",
       "       [21, 27,  6, 48, 18, 18]])"
      ]
     },
     "execution_count": 17,
     "metadata": {},
     "output_type": "execute_result"
    }
   ],
   "source": [
    "a.reshape(2,6)"
   ]
  },
  {
   "cell_type": "code",
   "execution_count": 18,
   "id": "0313e228-41c3-40c5-9855-7768b6d824fa",
   "metadata": {},
   "outputs": [
    {
     "data": {
      "text/plain": [
       "array([[ 6, 46, 40],\n",
       "       [ 8, 29, 10],\n",
       "       [21, 27,  6],\n",
       "       [48, 18, 18]])"
      ]
     },
     "execution_count": 18,
     "metadata": {},
     "output_type": "execute_result"
    }
   ],
   "source": [
    "a.reshape(4,3)"
   ]
  },
  {
   "cell_type": "code",
   "execution_count": 22,
   "id": "ee07da0c-e61a-44c5-8208-539275a3e4ef",
   "metadata": {},
   "outputs": [
    {
     "data": {
      "text/plain": [
       "array([[ 6, 46],\n",
       "       [40,  8],\n",
       "       [29, 10],\n",
       "       [21, 27],\n",
       "       [ 6, 48],\n",
       "       [18, 18]])"
      ]
     },
     "execution_count": 22,
     "metadata": {},
     "output_type": "execute_result"
    }
   ],
   "source": [
    "a.reshape(6,2)"
   ]
  },
  {
   "cell_type": "code",
   "execution_count": 23,
   "id": "6db59a0a-8d99-49c5-bc88-f94d73a9e0b3",
   "metadata": {},
   "outputs": [],
   "source": [
    "# min_number = 1\n",
    "# max_number = 100\n",
    "# total_number = 72\n",
    "\n",
    "# Reshape all the data?\n",
    "\n",
    "# 1*72  , 72*1\n",
    "# 2*36 , 36*2\n",
    "# 3*24 ,24*3\n",
    "# 4*18 ,18*4\n",
    "# 6*12 ,12*6\n",
    "# 8*9 , 9*8\n",
    "\n",
    "\n"
   ]
  },
  {
   "cell_type": "markdown",
   "id": "74d465eb-65c0-4dbc-b3ba-0b0787eabef3",
   "metadata": {},
   "source": [
    "# Conditional Selection In Numpy"
   ]
  },
  {
   "cell_type": "code",
   "execution_count": 14,
   "id": "515410d1-32ba-4ca1-9280-a57a5788705e",
   "metadata": {},
   "outputs": [
    {
     "data": {
      "text/plain": [
       "array([1, 3, 5, 7])"
      ]
     },
     "execution_count": 14,
     "metadata": {},
     "output_type": "execute_result"
    }
   ],
   "source": [
    " # .arange()\n",
    "\n",
    "a = np.arange(1,8,2)\n",
    "a"
   ]
  },
  {
   "cell_type": "code",
   "execution_count": 15,
   "id": "ae79fc48-4371-422b-b35a-ae1add7a3140",
   "metadata": {},
   "outputs": [
    {
     "data": {
      "text/plain": [
       "array([ 1,  2,  3,  4,  5,  6,  7,  8,  9, 10, 11, 12, 13, 14, 15])"
      ]
     },
     "execution_count": 15,
     "metadata": {},
     "output_type": "execute_result"
    }
   ],
   "source": [
    "a  = np.arange(1,16)\n",
    "a"
   ]
  },
  {
   "cell_type": "code",
   "execution_count": 16,
   "id": "429009b0-336c-404d-9885-e6535f047545",
   "metadata": {},
   "outputs": [
    {
     "data": {
      "text/plain": [
       "array([False, False, False, False, False, False, False, False, False,\n",
       "       False,  True,  True,  True,  True,  True])"
      ]
     },
     "execution_count": 16,
     "metadata": {},
     "output_type": "execute_result"
    }
   ],
   "source": [
    "a>10"
   ]
  },
  {
   "cell_type": "code",
   "execution_count": 17,
   "id": "fc80dbb5-bddb-4e8c-a78a-2cb2c2e79815",
   "metadata": {},
   "outputs": [
    {
     "data": {
      "text/plain": [
       "array([ True,  True,  True,  True,  True,  True,  True,  True,  True,\n",
       "       False, False, False, False, False, False])"
      ]
     },
     "execution_count": 17,
     "metadata": {},
     "output_type": "execute_result"
    }
   ],
   "source": [
    "a<10\n"
   ]
  },
  {
   "cell_type": "code",
   "execution_count": 18,
   "id": "809eb119-a18d-4788-aea8-5605920bd1d5",
   "metadata": {},
   "outputs": [
    {
     "data": {
      "text/plain": [
       "array([11, 12, 13, 14, 15])"
      ]
     },
     "execution_count": 18,
     "metadata": {},
     "output_type": "execute_result"
    }
   ],
   "source": [
    "b = a>10\n",
    "a[b]"
   ]
  },
  {
   "cell_type": "code",
   "execution_count": 20,
   "id": "925e2f08-d56e-47d0-bc5b-61fb3a53bd1b",
   "metadata": {},
   "outputs": [
    {
     "data": {
      "text/plain": [
       "array([False,  True, False,  True, False,  True, False,  True, False,\n",
       "        True, False,  True, False,  True, False])"
      ]
     },
     "execution_count": 20,
     "metadata": {},
     "output_type": "execute_result"
    }
   ],
   "source": [
    "a%2==0\n"
   ]
  },
  {
   "cell_type": "code",
   "execution_count": 21,
   "id": "411a4ddf-a8bc-4a70-a1e0-8dd9ecc2fec7",
   "metadata": {},
   "outputs": [
    {
     "data": {
      "text/plain": [
       "array([ 2,  4,  6,  8, 10, 12, 14])"
      ]
     },
     "execution_count": 21,
     "metadata": {},
     "output_type": "execute_result"
    }
   ],
   "source": [
    "a[a%2==0]      # Even number "
   ]
  },
  {
   "cell_type": "code",
   "execution_count": 22,
   "id": "96b6991e-735a-4859-bfe2-a9b90df463b6",
   "metadata": {},
   "outputs": [
    {
     "data": {
      "text/plain": [
       "array([ 1,  3,  5,  7,  9, 11, 13, 15])"
      ]
     },
     "execution_count": 22,
     "metadata": {},
     "output_type": "execute_result"
    }
   ],
   "source": [
    "a[a%2!=0]     #Odd Number"
   ]
  },
  {
   "cell_type": "code",
   "execution_count": 29,
   "id": "52279db7-16e6-42dd-8e30-865a33597c95",
   "metadata": {},
   "outputs": [
    {
     "data": {
      "text/plain": [
       "array([[1, 2, 3],\n",
       "       [4, 5, 6]])"
      ]
     },
     "execution_count": 29,
     "metadata": {},
     "output_type": "execute_result"
    }
   ],
   "source": [
    "a = np.arange(1,7).reshape(2,3)\n",
    "a"
   ]
  },
  {
   "cell_type": "code",
   "execution_count": 35,
   "id": "8d4cbb6f-daa5-4004-ac18-7e88ba917fe7",
   "metadata": {},
   "outputs": [
    {
     "data": {
      "text/plain": [
       "array([[1, 2],\n",
       "       [3, 4]])"
      ]
     },
     "execution_count": 35,
     "metadata": {},
     "output_type": "execute_result"
    }
   ],
   "source": [
    "a  = np.arange(1,5).reshape(2,2)\n",
    "a"
   ]
  },
  {
   "cell_type": "code",
   "execution_count": 37,
   "id": "a19c6a85-a6df-428f-99ea-d326fdb4b3c6",
   "metadata": {},
   "outputs": [
    {
     "data": {
      "text/plain": [
       "array([[5, 6],\n",
       "       [7, 8]])"
      ]
     },
     "execution_count": 37,
     "metadata": {},
     "output_type": "execute_result"
    }
   ],
   "source": [
    "b = np.arange(5,9).reshape(2,2)\n",
    "b"
   ]
  },
  {
   "cell_type": "code",
   "execution_count": 38,
   "id": "74091771-3a60-4c5d-9f04-8c84f06e0c78",
   "metadata": {},
   "outputs": [
    {
     "data": {
      "text/plain": [
       "array([[ 6,  8],\n",
       "       [10, 12]])"
      ]
     },
     "execution_count": 38,
     "metadata": {},
     "output_type": "execute_result"
    }
   ],
   "source": [
    "# Sum of two matrix \n",
    "\n",
    "a+b"
   ]
  },
  {
   "cell_type": "code",
   "execution_count": 39,
   "id": "941b2574-1cbd-477f-b81f-573881f1e622",
   "metadata": {},
   "outputs": [
    {
     "data": {
      "text/plain": [
       "array([[-4, -4],\n",
       "       [-4, -4]])"
      ]
     },
     "execution_count": 39,
     "metadata": {},
     "output_type": "execute_result"
    }
   ],
   "source": [
    "# Subtraction of a and b\n",
    "\n",
    "a - b"
   ]
  },
  {
   "cell_type": "code",
   "execution_count": 40,
   "id": "e97cc3cc-e883-4be6-b9cc-41507bffc325",
   "metadata": {},
   "outputs": [
    {
     "data": {
      "text/plain": [
       "array([[ 5, 12],\n",
       "       [21, 32]])"
      ]
     },
     "execution_count": 40,
     "metadata": {},
     "output_type": "execute_result"
    }
   ],
   "source": [
    "# Wrong way  Mltiplication of a and b\n",
    "\n",
    "a*b"
   ]
  },
  {
   "cell_type": "code",
   "execution_count": 44,
   "id": "a4fbbaab-2b8c-46c1-8820-322a1e3d2cbb",
   "metadata": {},
   "outputs": [
    {
     "data": {
      "text/plain": [
       "array([[19, 22],\n",
       "       [43, 50]])"
      ]
     },
     "execution_count": 44,
     "metadata": {},
     "output_type": "execute_result"
    }
   ],
   "source": [
    "# Write way Matrix multiplication\n",
    "\n",
    "a.dot(b)"
   ]
  },
  {
   "cell_type": "code",
   "execution_count": 46,
   "id": "2f18b596-93a4-494a-a297-138078587fbe",
   "metadata": {},
   "outputs": [
    {
     "data": {
      "text/plain": [
       "array([[1, 2, 3],\n",
       "       [4, 5, 6],\n",
       "       [7, 8, 9]])"
      ]
     },
     "execution_count": 46,
     "metadata": {},
     "output_type": "execute_result"
    }
   ],
   "source": [
    "a  = np.arange(1,10).reshape(3,3)\n",
    "a"
   ]
  },
  {
   "cell_type": "code",
   "execution_count": 48,
   "id": "cc68693d-dabe-46d6-9edd-5ef221329531",
   "metadata": {},
   "outputs": [
    {
     "data": {
      "text/plain": [
       "45"
      ]
     },
     "execution_count": 48,
     "metadata": {},
     "output_type": "execute_result"
    }
   ],
   "source": [
    "np.sum(a)      #  Sum Of Total Number Of Elements"
   ]
  },
  {
   "cell_type": "code",
   "execution_count": 50,
   "id": "223e177c-f043-42ab-a451-72438438cbd6",
   "metadata": {},
   "outputs": [
    {
     "data": {
      "text/plain": [
       "array([ 6, 15, 24])"
      ]
     },
     "execution_count": 50,
     "metadata": {},
     "output_type": "execute_result"
    }
   ],
   "source": [
    "np.sum(a,axis = 1)        # Sum Of Row Wise \n"
   ]
  },
  {
   "cell_type": "code",
   "execution_count": 52,
   "id": "4cbef1f4-afc2-4176-9f57-dea5284fa4ae",
   "metadata": {},
   "outputs": [
    {
     "data": {
      "text/plain": [
       "array([12, 15, 18])"
      ]
     },
     "execution_count": 52,
     "metadata": {},
     "output_type": "execute_result"
    }
   ],
   "source": [
    "np.sum(a, axis=0)          #  Column Wise Sum"
   ]
  },
  {
   "cell_type": "markdown",
   "id": "ed774b58-95c9-4e53-9451-a7aec3045bf2",
   "metadata": {},
   "source": [
    "# Unique()   ==>   It will return unique values or eliminate duplicate values \n",
    "\n",
    "It will return 3 array\n",
    "\n",
    "1:  Unique value's array\n",
    "\n",
    "2:  Indexing of original value\n",
    "\n",
    "3:  Return frequency of each unique value"
   ]
  },
  {
   "cell_type": "code",
   "execution_count": 53,
   "id": "5e863a25-076b-4582-8362-b14c910b33b2",
   "metadata": {},
   "outputs": [
    {
     "data": {
      "text/plain": [
       "array([1, 2, 2, 2, 3, 3, 4, 4, 4, 4, 4, 5, 6, 6])"
      ]
     },
     "execution_count": 53,
     "metadata": {},
     "output_type": "execute_result"
    }
   ],
   "source": [
    "a = np.array([1,2,2,2,3,3,4,4,4,4,4,5,6,6])\n",
    "a"
   ]
  },
  {
   "cell_type": "code",
   "execution_count": 54,
   "id": "d9e62e94-e856-47d5-86d8-69ceb201b58d",
   "metadata": {},
   "outputs": [
    {
     "data": {
      "text/plain": [
       "array([1, 2, 3, 4, 5, 6])"
      ]
     },
     "execution_count": 54,
     "metadata": {},
     "output_type": "execute_result"
    }
   ],
   "source": [
    "np.unique(a)"
   ]
  },
  {
   "cell_type": "code",
   "execution_count": 56,
   "id": "6b637023-61c6-48a3-9c8c-667f7aac74c5",
   "metadata": {},
   "outputs": [
    {
     "data": {
      "text/plain": [
       "(array([1, 2, 3, 4, 5, 6]),\n",
       " array([ 0,  1,  4,  6, 11, 12], dtype=int64),\n",
       " array([1, 3, 2, 5, 1, 2], dtype=int64))"
      ]
     },
     "execution_count": 56,
     "metadata": {},
     "output_type": "execute_result"
    }
   ],
   "source": [
    "np.unique(a,return_index = True ,return_counts = True)"
   ]
  },
  {
   "cell_type": "markdown",
   "id": "e30d8e2c-6c2a-4363-be52-08c08b5860a9",
   "metadata": {},
   "source": [
    "# Linspace()  ==>  It will create an array in which diffrence of each value will be equal"
   ]
  },
  {
   "cell_type": "code",
   "execution_count": 65,
   "id": "c53eb5a8-4446-43fd-af51-e7dcbf3a2acf",
   "metadata": {},
   "outputs": [
    {
     "data": {
      "text/plain": [
       "array([1.  , 1.25, 1.5 , 1.75, 2.  ])"
      ]
     },
     "execution_count": 65,
     "metadata": {},
     "output_type": "execute_result"
    }
   ],
   "source": [
    "a = np.linspace(1,2,5)\n",
    "a"
   ]
  },
  {
   "cell_type": "markdown",
   "id": "c79a4d29-7c8a-42f2-b616-da3ee34c286d",
   "metadata": {},
   "source": [
    "# Stacking in Numpy \n",
    "\n",
    "1:  hstack()  ==> It will Combined multiple arrays into horizontally \n",
    "\n",
    "2:  vstack()  ==> It will Combined multiple arraysz into vertically "
   ]
  },
  {
   "cell_type": "code",
   "execution_count": 5,
   "id": "c8d2068c-c7b6-4623-a3d5-f3260ea578d8",
   "metadata": {},
   "outputs": [
    {
     "data": {
      "text/plain": [
       "array([1, 2, 3, 4])"
      ]
     },
     "execution_count": 5,
     "metadata": {},
     "output_type": "execute_result"
    }
   ],
   "source": [
    "a = np.arange(1,5)\n",
    "b = np.arange(5,9)\n",
    "c = np.arange(9,13)\n",
    "\n",
    "a"
   ]
  },
  {
   "cell_type": "code",
   "execution_count": 84,
   "id": "e6ccfa3e-e98e-456c-9873-9083698518c7",
   "metadata": {},
   "outputs": [
    {
     "data": {
      "text/plain": [
       "array([ 1,  2,  3,  4,  5,  6,  7,  8,  9, 10, 11, 12])"
      ]
     },
     "execution_count": 84,
     "metadata": {},
     "output_type": "execute_result"
    }
   ],
   "source": [
    "np.hstack((a,b,c))"
   ]
  },
  {
   "cell_type": "code",
   "execution_count": 85,
   "id": "68f4c7e0-96a0-445d-b1fd-b4c935e5f3bb",
   "metadata": {},
   "outputs": [
    {
     "data": {
      "text/plain": [
       "array([[ 1,  2,  3,  4],\n",
       "       [ 5,  6,  7,  8],\n",
       "       [ 9, 10, 11, 12]])"
      ]
     },
     "execution_count": 85,
     "metadata": {},
     "output_type": "execute_result"
    }
   ],
   "source": [
    "np.vstack((a,b,c))"
   ]
  },
  {
   "cell_type": "code",
   "execution_count": null,
   "id": "38fa2eec-8ec8-4497-bfae-3a512696fac4",
   "metadata": {},
   "outputs": [],
   "source": []
  }
 ],
 "metadata": {
  "kernelspec": {
   "display_name": "Python 3 (ipykernel)",
   "language": "python",
   "name": "python3"
  },
  "language_info": {
   "codemirror_mode": {
    "name": "ipython",
    "version": 3
   },
   "file_extension": ".py",
   "mimetype": "text/x-python",
   "name": "python",
   "nbconvert_exporter": "python",
   "pygments_lexer": "ipython3",
   "version": "3.12.4"
  }
 },
 "nbformat": 4,
 "nbformat_minor": 5
}
