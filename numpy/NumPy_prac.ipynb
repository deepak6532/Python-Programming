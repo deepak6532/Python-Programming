{
 "cells": [
  {
   "cell_type": "code",
   "execution_count": 1,
   "id": "dd88d54f-6ea1-48d3-ba12-22505dc512e7",
   "metadata": {},
   "outputs": [],
   "source": [
    "import numpy as np"
   ]
  },
  {
   "cell_type": "code",
   "execution_count": 2,
   "id": "a33ed83b-70c0-4421-b70a-f0f531b01586",
   "metadata": {},
   "outputs": [
    {
     "data": {
      "text/plain": [
       "array([10, 20, 30, 40, 50])"
      ]
     },
     "execution_count": 2,
     "metadata": {},
     "output_type": "execute_result"
    }
   ],
   "source": [
    "# Q.1: Create an array using numpy?\n",
    "\n",
    "a = np.array([10,20,30,40,50])\n",
    "a"
   ]
  },
  {
   "cell_type": "code",
   "execution_count": 9,
   "id": "00d6c6a4-c3e9-443c-b27b-74dc337947d2",
   "metadata": {},
   "outputs": [
    {
     "data": {
      "text/plain": [
       "array([4, 8, 7, 4, 4, 7, 9, 2, 4, 3])"
      ]
     },
     "execution_count": 9,
     "metadata": {},
     "output_type": "execute_result"
    }
   ],
   "source": [
    "# Q.2: Create an array of 10 random integers ?\n",
    "\n",
    "a = np.random.randint(1,10,10)\n",
    "a"
   ]
  },
  {
   "cell_type": "code",
   "execution_count": 10,
   "id": "762e4138-c3db-49fa-b243-899a2f345acc",
   "metadata": {},
   "outputs": [
    {
     "data": {
      "text/plain": [
       "array([10, 11, 12, 13, 14, 15, 16, 17, 18, 19])"
      ]
     },
     "execution_count": 10,
     "metadata": {},
     "output_type": "execute_result"
    }
   ],
   "source": [
    "# Q.3: Create an array elements from 10-20 ?\n",
    "\n",
    "a = np.arange(10,20)\n",
    "a\n",
    "\n",
    "\n"
   ]
  },
  {
   "cell_type": "code",
   "execution_count": 13,
   "id": "cb1b0a52-b764-4ca5-830c-ea4b97feec9e",
   "metadata": {},
   "outputs": [
    {
     "data": {
      "text/plain": [
       "array([5, 5, 5, 5, 5, 5, 5, 5, 5, 5])"
      ]
     },
     "execution_count": 13,
     "metadata": {},
     "output_type": "execute_result"
    }
   ],
   "source": [
    "# Q.4: Create an array which contain value 5,10 times?\n",
    "\n",
    "a = np.array([5]*10)\n",
    "a\n",
    "\n"
   ]
  },
  {
   "cell_type": "code",
   "execution_count": 19,
   "id": "887542c6-35b0-4312-be37-319df23ec7ba",
   "metadata": {},
   "outputs": [
    {
     "data": {
      "text/plain": [
       "array([[0, 1, 2],\n",
       "       [3, 4, 5],\n",
       "       [6, 7, 8]])"
      ]
     },
     "execution_count": 19,
     "metadata": {},
     "output_type": "execute_result"
    }
   ],
   "source": [
    "# Q.5: Create a one dimensional array and convert that into 3*3 matrix ?\n",
    "\n",
    "a = np.arange(9).reshape(3,3)\n",
    "a"
   ]
  },
  {
   "cell_type": "code",
   "execution_count": 22,
   "id": "e1bfe26a-9bd8-4936-b1fe-f487bf367244",
   "metadata": {},
   "outputs": [
    {
     "data": {
      "text/plain": [
       "array([[0, 1, 2],\n",
       "       [3, 4, 5],\n",
       "       [6, 7, 8]])"
      ]
     },
     "execution_count": 22,
     "metadata": {},
     "output_type": "execute_result"
    }
   ],
   "source": [
    "a = np.arange(9)\n",
    "a.reshape(3,3)\n"
   ]
  },
  {
   "cell_type": "code",
   "execution_count": 23,
   "id": "dfc24a09-ac8e-43e5-afbd-ae1af043b6c9",
   "metadata": {},
   "outputs": [
    {
     "data": {
      "text/plain": [
       "array([[0.0258757 , 0.03262146, 0.32275938],\n",
       "       [0.09157151, 0.74325799, 0.92722953],\n",
       "       [0.13058269, 0.28628671, 0.54834931]])"
      ]
     },
     "execution_count": 23,
     "metadata": {},
     "output_type": "execute_result"
    }
   ],
   "source": [
    "# Q.6: Create a 2D array of size 3*3 but all the elements should be between 0 to 1 ?\n",
    "\n",
    "a = np.random.rand(3,3)\n",
    "a"
   ]
  },
  {
   "cell_type": "code",
   "execution_count": 41,
   "id": "0b83df98-6d98-46f4-b0d5-764d98da6a5a",
   "metadata": {},
   "outputs": [
    {
     "data": {
      "text/plain": [
       "array([[1, 2],\n",
       "       [3, 4],\n",
       "       [5, 6],\n",
       "       [7, 8]])"
      ]
     },
     "execution_count": 41,
     "metadata": {},
     "output_type": "execute_result"
    }
   ],
   "source": [
    "# Q.7: Concatenate 2D array horizontally and vertically ?\n",
    "\n",
    "a = np.array([[1,2],[3,4]])\n",
    "a\n",
    "b = np.array([[5,6],[7,8]])\n",
    "b\n",
    "\n",
    "\n",
    "h_stack = np.hstack((a,b))\n",
    "h_stack\n",
    "\n",
    "\n",
    "v_stack = np.vstack((a,b))\n",
    "v_stack\n",
    "\n",
    "\n"
   ]
  },
  {
   "cell_type": "code",
   "execution_count": null,
   "id": "ba19d145-73c0-4dda-ba4d-3fae0e94224c",
   "metadata": {},
   "outputs": [],
   "source": []
  }
 ],
 "metadata": {
  "kernelspec": {
   "display_name": "Python 3 (ipykernel)",
   "language": "python",
   "name": "python3"
  },
  "language_info": {
   "codemirror_mode": {
    "name": "ipython",
    "version": 3
   },
   "file_extension": ".py",
   "mimetype": "text/x-python",
   "name": "python",
   "nbconvert_exporter": "python",
   "pygments_lexer": "ipython3",
   "version": "3.12.4"
  }
 },
 "nbformat": 4,
 "nbformat_minor": 5
}
