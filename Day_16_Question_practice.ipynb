{
 "cells": [
  {
   "cell_type": "code",
   "execution_count": 1,
   "id": "9a2cb1b7-9590-40c5-8b60-a6745ab8b768",
   "metadata": {},
   "outputs": [
    {
     "name": "stdout",
     "output_type": "stream",
     "text": [
      "[4, 16, 36, 36, 64, 100]\n"
     ]
    }
   ],
   "source": [
    "# 1:  Write a list comprehension that takes a list of numbers and returns a new list containing the squares of all even numbers from the original list.\n",
    "\n",
    "\n",
    "a  = [1,2,3,4,5,6,6,7,8,9,10]\n",
    "\n",
    "new = [sq*sq for sq in a if sq%2==0]\n",
    "\n",
    "print(new)"
   ]
  },
  {
   "cell_type": "code",
   "execution_count": 2,
   "id": "c1ae8868-2700-4ce4-ab23-bb4f9a1c70e2",
   "metadata": {},
   "outputs": [
    {
     "name": "stdout",
     "output_type": "stream",
     "text": [
      "{1: 1, 2: 8, 3: 27, 4: 64, 5: 125, 6: 216, 7: 343, 8: 512, 9: 729, 10: 1000}\n"
     ]
    }
   ],
   "source": [
    "# Question 2:\n",
    "# Using dictionary comprehension, create a dictionary that maps numbers (1 to 10) to their cubes\n",
    "\n",
    "a  = [1,2,3,4,5,6,6,7,8,9,10]\n",
    "\n",
    "d = { x:x**3 for x in a}\n",
    "\n",
    "print(d)"
   ]
  },
  {
   "cell_type": "code",
   "execution_count": 3,
   "id": "66e3d160-1b5f-404a-a24c-5cec3dbb2f55",
   "metadata": {},
   "outputs": [
    {
     "name": "stdout",
     "output_type": "stream",
     "text": [
      "['Deepak', 'Deep', 'ankit', 'rahul']\n"
     ]
    }
   ],
   "source": [
    "# Question 3:\n",
    "# Given a list of strings, write a list comprehension that creates a new list containing only those strings that have more than 3 characters.\n",
    "\n",
    "a = [\"Deepak\",\"Deep\",\"ankit\",\"jay\",\"nd\",\"rahul\",\"Bh\"]\n",
    "\n",
    "new = [x for x in a if len(x)>3]\n",
    "\n",
    "print(new)"
   ]
  },
  {
   "cell_type": "code",
   "execution_count": 4,
   "id": "3a68f0f8-ad57-4684-a1b1-b4f75d2863a0",
   "metadata": {},
   "outputs": [
    {
     "name": "stdout",
     "output_type": "stream",
     "text": [
      "{1: 'a', 2: 'b', 3: 'c'}\n"
     ]
    }
   ],
   "source": [
    "# Question 4: Using dictionary comprehension, convert a list of tuples [(1, 'a'), (2, 'b'), (3, 'c')] into a dictionary where the first element\n",
    "# of each tuple is the key and the second is the value\n",
    "\n",
    "a =  [(1,\"a\"),(2,\"b\"),(3,\"c\")]\n",
    "\n",
    "new = {x:y for x,y in a }\n",
    "print(new)"
   ]
  },
  {
   "cell_type": "code",
   "execution_count": 5,
   "id": "becd1e47-9012-44ef-ae93-4ed6fa0f9154",
   "metadata": {},
   "outputs": [
    {
     "name": "stdout",
     "output_type": "stream",
     "text": [
      "[1, 2, 3, 4, 5, 6]\n"
     ]
    }
   ],
   "source": [
    "# Question 5:\n",
    "# Write a list comprehension that flattens a 2D list (a list of lists) into a 1D list\n",
    "\n",
    "a = [[1,2,3],[4,5,6]]\n",
    "\n",
    "new = [n for sublist in a for n in sublist]\n",
    "\n",
    "print(new)"
   ]
  },
  {
   "cell_type": "code",
   "execution_count": 6,
   "id": "fe4bd2ba-19a7-4d64-bf82-c7083589e091",
   "metadata": {},
   "outputs": [
    {
     "name": "stdout",
     "output_type": "stream",
     "text": [
      "{1: 1, 2: 2, 3: 6, 4: 24, 5: 120, 6: 720, 7: 5040, 8: 40320, 9: 362880, 10: 3628800, 11: 39916800, 12: 479001600, 13: 6227020800, 14: 87178291200, 15: 1307674368000}\n"
     ]
    }
   ],
   "source": [
    "# Question 6:\n",
    "# Create a dictionary comprehension that generates a dictionary of numbers (from 1 to 15) as keys and their corresponding factorials as values.\n",
    "\n",
    "\n",
    "\n",
    "\n",
    "def fact(x):\n",
    "    fact =1\n",
    "    for i in range(x,1,-1):\n",
    "        fact = fact*i\n",
    "    return fact\n",
    "\n",
    "\n",
    "\n",
    "new  = {x :fact(x) for x in range(1,16)}\n",
    "print(new)"
   ]
  },
  {
   "cell_type": "code",
   "execution_count": 7,
   "id": "2006a9c4-d60a-4a5f-9363-ce4b06a4d263",
   "metadata": {},
   "outputs": [
    {
     "name": "stdout",
     "output_type": "stream",
     "text": [
      "[1, 3, 5, 7, 9]\n"
     ]
    }
   ],
   "source": [
    "# Question 7:\n",
    "# Use filter() with a lambda function to filter out all odd numbers from a list of integers.\n",
    "\n",
    "a  = [1,2,3,4,5,6,6,7,8,9,10]\n",
    "\n",
    "new = filter(lambda x: x%2!=0,a)\n",
    "\n",
    "print(list(new))\n"
   ]
  },
  {
   "cell_type": "code",
   "execution_count": 8,
   "id": "8db31562-6c79-47ee-b9bb-0e72f2533fc3",
   "metadata": {},
   "outputs": [
    {
     "name": "stdout",
     "output_type": "stream",
     "text": [
      "['Ankit', 'Aditya', 'Abhinav']\n"
     ]
    }
   ],
   "source": [
    "# Question 8:  Write a lambda function that checks if a given string starts with the letter 'A' (case-insensitive), and use it with filter() \n",
    "# to return only those strings from a list.\n",
    "\n",
    "a = [\"Ankit\",\"deepak\",\"Aditya\",\"aman\",\"khemu\",\"Rohit\",\"Abhinav\"]\n",
    "\n",
    "new = filter(lambda x:  x.startswith(\"A\")==True,a)\n",
    "\n",
    "print(list(new))"
   ]
  },
  {
   "cell_type": "code",
   "execution_count": 9,
   "id": "b97f91c7-40fc-48c6-8d2d-de392c9e7a37",
   "metadata": {},
   "outputs": [
    {
     "name": "stdout",
     "output_type": "stream",
     "text": [
      "[-13, -7, -2, 4, 10, 15]\n"
     ]
    }
   ],
   "source": [
    "# Question 9:Use map() with a lambda function to convert a list of temperatures in Celsius to Fahrenheit.(°F) - 32) * 5/9.\n",
    "\n",
    "a = [10,20,30,40,50,60]\n",
    "\n",
    "new = map(lambda x: (x-32)*5//9,a)\n",
    "\n",
    "print(list(new))"
   ]
  },
  {
   "cell_type": "code",
   "execution_count": 10,
   "id": "8ac2babe-3f7c-4c05-9787-7650b2d8eb5c",
   "metadata": {},
   "outputs": [
    {
     "name": "stdout",
     "output_type": "stream",
     "text": [
      "[10, 40, 90, 160, 250, 360, 490]\n"
     ]
    }
   ],
   "source": [
    "# Question 10:\n",
    "# Write a lambda function to calculate the product of two numbers. Use it with map() to multiply corresponding elements of two lists.\n",
    "\n",
    "a  = [1,2,3,4,5,6,7]\n",
    "b = [10,20,30,40,50,60,70]\n",
    "\n",
    "new  =map(lambda x,y:x*y,a,b)\n",
    "print(list(new))"
   ]
  },
  {
   "cell_type": "code",
   "execution_count": 11,
   "id": "f149f46a-2227-46b1-a6d8-a43e7d4bd13e",
   "metadata": {},
   "outputs": [
    {
     "name": "stdout",
     "output_type": "stream",
     "text": [
      "['deep', 'aman', 'jay', 'yash', 'hem']\n"
     ]
    }
   ],
   "source": [
    "# Question 11:\n",
    "# Using filter() and lambda, filter out all strings in a list that have less than 4 characters.\n",
    "\n",
    "a = [\"Ankit\",\"deep\",\"Aditya\",\"aman\",\"jay\",\"yash\",\"hem\"]\n",
    "\n",
    "new = filter(lambda x: len(x)<=4,a)\n",
    "\n",
    "print(list(new))"
   ]
  },
  {
   "cell_type": "code",
   "execution_count": 12,
   "id": "dba06348-efac-40bd-be18-6ec3399d582c",
   "metadata": {},
   "outputs": [
    {
     "name": "stdout",
     "output_type": "stream",
     "text": [
      "[1, 5, 3, 9, 6, 2, 7, 8]\n",
      "9\n"
     ]
    }
   ],
   "source": [
    "# Question 12:\n",
    "# Write a lambda function to find the maximum of two numbers. Use it with map() to find the maximum between pairs of numbers in two lists.\n",
    "\n",
    "list1 = [1, 5, 3, 9]\n",
    "list2 = [6, 2, 7, 8]\n",
    "\n",
    "# a= map(lambda x, y: max(x, y),list1,list2)\n",
    "# print(list(a))\n",
    "\n",
    "list1.extend(list2)\n",
    "print(list1)\n",
    "print(max(list1))"
   ]
  },
  {
   "cell_type": "code",
   "execution_count": 13,
   "id": "f4bd24cd-0a61-4748-90c6-b76bd520a40e",
   "metadata": {},
   "outputs": [
    {
     "name": "stdin",
     "output_type": "stream",
     "text": [
      "enter the first number  10\n",
      "enter the second number  0\n"
     ]
    },
    {
     "name": "stdout",
     "output_type": "stream",
     "text": [
      "Caught a ZeroDivisionError integer division or modulo by zero\n"
     ]
    }
   ],
   "source": [
    "# # Question 13: Write a program that asks the user to input two numbers and divides the first number by the second. Handle the ZeroDivisionError\n",
    "# in case the user inputs 0 as the second number.\n",
    "\n",
    "\n",
    "a = int(input(\"enter the first number \"))\n",
    "b = int(input(\"enter the second number \"))\n",
    "\n",
    "try:\n",
    "    result = a//b\n",
    "    print(result)\n",
    "except ZeroDivisionError as e:\n",
    "    print(\"Caught a ZeroDivisionError\",e)"
   ]
  },
  {
   "cell_type": "code",
   "execution_count": 14,
   "id": "fd0555dd-f11e-45c5-8365-97b4ff7705a4",
   "metadata": {},
   "outputs": [
    {
     "name": "stdin",
     "output_type": "stream",
     "text": [
      "enter the value of a s\n"
     ]
    },
    {
     "name": "stdout",
     "output_type": "stream",
     "text": [
      "please enter the valid values  invalid literal for int() with base 10: 's'\n"
     ]
    }
   ],
   "source": [
    "# # Question 14:\n",
    "# # Create a function that reads an integer from the user. Use exception handling to catch a ValueError if the user enters a non-integer input.\n",
    "\n",
    "try:\n",
    "    a = int(input(\"enter the value of a\"))\n",
    "    print(a)\n",
    "except ValueError as e:\n",
    "    print(\"please enter the valid values \",e)"
   ]
  },
  {
   "cell_type": "code",
   "execution_count": 15,
   "id": "a42bb4cc-a770-488c-8aad-d6b5125ae580",
   "metadata": {},
   "outputs": [
    {
     "name": "stdout",
     "output_type": "stream",
     "text": [
      "File does not exists  [Errno 2] No such file or directory: 'non_existfile.txt'\n"
     ]
    }
   ],
   "source": [
    "# Question 15:\n",
    "# # Write a program that opens a file and reads its contents. Use exception handling to manage the scenario where the file does not \n",
    "# exist (FileNotFoundError).\n",
    "\n",
    "try:\n",
    "    with open(\"non_existfile.txt\") as file:\n",
    "           content  =file.read()\n",
    "except FileNotFoundError as e:\n",
    "    print(\"File does not exists \",e)"
   ]
  },
  {
   "cell_type": "code",
   "execution_count": 23,
   "id": "15a5294a-e49c-4da0-be01-485da06b62ca",
   "metadata": {},
   "outputs": [
    {
     "name": "stdin",
     "output_type": "stream",
     "text": [
      "enter the number  f\n"
     ]
    },
    {
     "name": "stdout",
     "output_type": "stream",
     "text": [
      "NotANumberError  invalid literal for int() with base 10: 'f'\n"
     ]
    }
   ],
   "source": [
    "# # Question 16:\n",
    "# # Write a program that asks the user to input a number. If the input is not a number, raise and handle a custom exception called NotANumberError.\n",
    "\n",
    "\n",
    "try:\n",
    "    n = int(input(\"enter the number \"))\n",
    "      \n",
    "    print(n)\n",
    "except Exception as e:\n",
    "    print(\"NotANumberError \",e)"
   ]
  },
  {
   "cell_type": "code",
   "execution_count": 17,
   "id": "3af7291c-b931-42aa-ab22-abdc955526e9",
   "metadata": {},
   "outputs": [
    {
     "name": "stdin",
     "output_type": "stream",
     "text": [
      "enter the index value to be access  8\n"
     ]
    },
    {
     "name": "stdout",
     "output_type": "stream",
     "text": [
      "Index in not find  list index out of range\n"
     ]
    }
   ],
   "source": [
    "# Question 17:\n",
    "# # Create a function that takes a list of numbers and an index. Use exception handling to handle IndexError if the user tries to access an \n",
    "# index that is out of range.\n",
    "\n",
    "\n",
    "\n",
    "\n",
    "try:\n",
    "    list = [10,20,30,40,50,60]\n",
    "    key  =int(input(\"enter the index value to be access \"))\n",
    "    i  = list[key]\n",
    "    print(i)\n",
    "except IndexError as e:\n",
    "    print(\"Index in not find \",e)"
   ]
  },
  {
   "cell_type": "code",
   "execution_count": null,
   "id": "1367899e-968d-47ce-b206-8f5dd1e046d5",
   "metadata": {},
   "outputs": [],
   "source": []
  }
 ],
 "metadata": {
  "kernelspec": {
   "display_name": "Python 3 (ipykernel)",
   "language": "python",
   "name": "python3"
  },
  "language_info": {
   "codemirror_mode": {
    "name": "ipython",
    "version": 3
   },
   "file_extension": ".py",
   "mimetype": "text/x-python",
   "name": "python",
   "nbconvert_exporter": "python",
   "pygments_lexer": "ipython3",
   "version": "3.12.4"
  }
 },
 "nbformat": 4,
 "nbformat_minor": 5
}
