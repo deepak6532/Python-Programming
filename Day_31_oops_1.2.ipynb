{
 "cells": [
  {
   "cell_type": "markdown",
   "id": "7ecb40ef-32c4-4bbb-a189-a44041639672",
   "metadata": {},
   "source": [
    "# Example 1: Create an calculator class.\n",
    "\n",
    "Task 1:\n",
    "\n",
    "Add methods for addition subtraction ,multiplication and division \n",
    "\n",
    "use the self [arameter to access the numbers"
   ]
  },
  {
   "cell_type": "code",
   "execution_count": 5,
   "id": "a3b5ba24-3769-4a82-9219-b2095f15ffe8",
   "metadata": {},
   "outputs": [
    {
     "name": "stdout",
     "output_type": "stream",
     "text": [
      "12\n",
      "8\n",
      "20\n",
      "5.0\n"
     ]
    }
   ],
   "source": [
    "class calculator:\n",
    "\n",
    "    def __init__(self,num1,num2):\n",
    "        self.num1 = num1\n",
    "        self.num2 = num2\n",
    "\n",
    "    def add(self):\n",
    "        return self.num1 + self.num2\n",
    "\n",
    "    def sub(self):\n",
    "        return self.num1  -self.num2\n",
    "\n",
    "    def mult(self):\n",
    "        return self.num1 * self.num2\n",
    "\n",
    "    def div(self):\n",
    "        if self.num2!=0:\n",
    "            return self.num1/self.num2\n",
    "        else:\n",
    "            return \"Division by zero is not allowesd! \"\n",
    "\n",
    "calc  = calculator(10,2)\n",
    "\n",
    "print(calc.add())\n",
    "print(calc.sub())\n",
    "print(calc.mult())\n",
    "print(calc.div())\n",
    "    "
   ]
  },
  {
   "cell_type": "markdown",
   "id": "a1b809af-8107-4afb-80ee-2f18ea1680d6",
   "metadata": {},
   "source": [
    "# Example 2: create a Bank Account class\n",
    "\n",
    "Define a bank account class \n",
    "\n",
    "Add attributes for  acccount holder name and balace \n",
    "\n",
    "Add method to deposit ,withdraw and check balance "
   ]
  },
  {
   "cell_type": "code",
   "execution_count": 31,
   "id": "18ffd1c3-21b4-41c1-9455-80735833ee44",
   "metadata": {},
   "outputs": [
    {
     "name": "stdout",
     "output_type": "stream",
     "text": [
      "Account Holder Name :  DEEPAK\n",
      "Total balance is :  1000\n",
      "500 Ammount is debited\n",
      "Total balance is :  1500\n",
      "200 Ammount is withdraw\n",
      "Total balance is :  1300\n"
     ]
    }
   ],
   "source": [
    "class Bank:\n",
    "\n",
    "    def __init__(self,name,balance):\n",
    "        self.name = name\n",
    "        self.balance = balance\n",
    "        print(\"Account Holder Name : \",self.name)\n",
    "\n",
    "    def check_balance(self):\n",
    "        print(\"Total balance is : \",self.balance)\n",
    "\n",
    "    def deposit(self,d_bal):\n",
    "        self.d_bal = d_bal\n",
    "        self.balance = self.balance + self.d_bal\n",
    "        print(self.d_bal, \"Ammount is debited\")\n",
    "        self.check_balance()\n",
    "        \n",
    "        \n",
    "    def withdraw(self,w_bal):\n",
    "        self.w_bal = w_bal\n",
    "        if(self.w_bal < self.balance):\n",
    "            self.balance = self.balance - self.w_bal\n",
    "            print(self.w_bal, \"Ammount is withdraw\")\n",
    "        else:\n",
    "            print(\"Insufficient balance \")\n",
    "        self.check_balance()\n",
    "\n",
    "\n",
    "u1 = Bank(\"DEEPAK\",1000)\n",
    "\n",
    "\n",
    "u1.check_balance()\n",
    "\n",
    "u1.deposit(500)\n",
    "\n",
    "u1.withdraw(200)"
   ]
  },
  {
   "cell_type": "markdown",
   "id": "bfb86259-0c3f-4164-bcf6-80d035047b45",
   "metadata": {},
   "source": [
    "# Example 3: Create a student class \n",
    "\n",
    "Task:\n",
    "Define a student calss with atributes like name ,age and marks\n",
    "\n",
    "Add a method to display the student details \n",
    "\n",
    "Add a method to check if the student passed (maeks>=40)"
   ]
  },
  {
   "cell_type": "code",
   "execution_count": 37,
   "id": "100f62d2-42b4-4c80-a465-5826608b7f63",
   "metadata": {},
   "outputs": [
    {
     "name": "stdout",
     "output_type": "stream",
     "text": [
      "Student name is: Deepak\n",
      "Studnet age is:  19\n",
      "Student marks is:  78 %\n",
      "PASS\n",
      "\n",
      "Student name is: jay\n",
      "Studnet age is:  20\n",
      "Student marks is:  38 %\n",
      "FAIL\n"
     ]
    }
   ],
   "source": [
    "class student:\n",
    "\n",
    "    def __init__(self,name,age,marks):\n",
    "        self.name = name\n",
    "        self.age= age\n",
    "        self.marks = marks\n",
    "\n",
    "    def detail(self):\n",
    "        print(\"Student name is:\",self.name)\n",
    "        print(\"Studnet age is: \",self.age)\n",
    "        print(\"Student marks is: \",self.marks,\"%\")\n",
    "\n",
    "    def result(self):\n",
    "        if(self.marks>=40):\n",
    "            print(\"PASS\")\n",
    "        else:\n",
    "            print(\"FAIL\")\n",
    "\n",
    "s1 = student(\"Deepak\",19,78)\n",
    "s1.detail()\n",
    "s1.result()\n",
    "print()\n",
    "s2 = student(\"jay\",20,38)\n",
    "s2.detail()\n",
    "s2.result()"
   ]
  },
  {
   "cell_type": "code",
   "execution_count": 39,
   "id": "2b34d872-7a0a-4e8d-9f90-5b549e5a66dd",
   "metadata": {},
   "outputs": [],
   "source": [
    "#Example 4: Create a Library System\n",
    "\n",
    "# Task:\n",
    "# Define a book class with attributes like title ,author and availability \n",
    "\n",
    "# Add methods to check availability and borroe/return the book "
   ]
  },
  {
   "cell_type": "code",
   "execution_count": 61,
   "id": "691a236c-3032-40c1-82db-e1b803051be8",
   "metadata": {},
   "outputs": [
    {
     "name": "stdout",
     "output_type": "stream",
     "text": [
      "Book : math\n",
      "titla : ma\n",
      "Author Name : R-D sharma\n",
      "Availbility: False\n",
      "Book Availabel\n",
      "Book Returned\n",
      "Not availabel \n"
     ]
    }
   ],
   "source": [
    "class library:\n",
    "\n",
    "    availbility =  1\n",
    "\n",
    "    def __init__(self,book,title,author,availbility):\n",
    "        self.book = book\n",
    "        self.title = title\n",
    "        self.author = author\n",
    "        self.availbility = availbility\n",
    "\n",
    "    def avail(self):\n",
    "        if  self.availbility == True:\n",
    "            print(\"Availabel\")\n",
    "        else:\n",
    "            print(\"Not Availabel\")\n",
    "        \n",
    "    def borrow(self):\n",
    "        \n",
    "        if  self.availbility == True:\n",
    "            self.availbility =False\n",
    "\n",
    "            print(\"Book :\",self.book)\n",
    "            print(\"titla :\",self.title)\n",
    "            print(\"Author Name :\",self.author)\n",
    "            print(\"Availbility:\",self.availbility)\n",
    "            \n",
    "            print(\"Book Availabel\")\n",
    "        else:\n",
    "\n",
    "            print(\"Not availabel \")\n",
    "\n",
    "    def return_book(self):\n",
    "        \n",
    "        if  self.availbility == False:\n",
    "            self.availbility =True\n",
    "            print(\"Book Returned\")\n",
    "        else:\n",
    "            print(\"Book is not reutrned because book in library\")\n",
    "            \n",
    "\n",
    "    \n",
    "\n",
    "    \n",
    "\n",
    "b1 = library(\"math\",\"ma\",\"R-D sharma\",True)\n",
    "b1.borrow()\n",
    "    \n",
    "\n",
    "\n",
    "b2 = library(\"math\",\"ma\",\"R-D sharma\",False)\n",
    "b2.return_book()\n",
    "\n",
    "b2 = library(\"phy\",\"ma\",\"R-D sharma\",True)\n",
    "b1.borrow()\n"
   ]
  },
  {
   "cell_type": "code",
   "execution_count": null,
   "id": "ed1ccacd-8252-4416-af08-1f842d30300e",
   "metadata": {},
   "outputs": [],
   "source": []
  }
 ],
 "metadata": {
  "kernelspec": {
   "display_name": "Python 3 (ipykernel)",
   "language": "python",
   "name": "python3"
  },
  "language_info": {
   "codemirror_mode": {
    "name": "ipython",
    "version": 3
   },
   "file_extension": ".py",
   "mimetype": "text/x-python",
   "name": "python",
   "nbconvert_exporter": "python",
   "pygments_lexer": "ipython3",
   "version": "3.12.4"
  }
 },
 "nbformat": 4,
 "nbformat_minor": 5
}
