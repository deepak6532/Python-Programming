{
 "cells": [
  {
   "cell_type": "code",
   "execution_count": 1,
   "id": "c142a310-b79f-43f9-86d1-75676f4da882",
   "metadata": {},
   "outputs": [
    {
     "name": "stdin",
     "output_type": "stream",
     "text": [
      "enter the value of n  10\n"
     ]
    },
    {
     "name": "stdout",
     "output_type": "stream",
     "text": [
      "1 2 3 4 5 6 7 8 9 10 "
     ]
    }
   ],
   "source": [
    "# 1. Write a program to print all natural numbers from 1 to n. – using while loop\n",
    "\n",
    "n = int(input(\"enter the value of n \"))\n",
    "i = 1\n",
    "while(i<=n):\n",
    "    print(i,end=\" \")\n",
    "    i+=1"
   ]
  },
  {
   "cell_type": "code",
   "execution_count": 1,
   "id": "27a45caa-c5ef-4083-9d4a-b160389ab381",
   "metadata": {},
   "outputs": [
    {
     "name": "stdin",
     "output_type": "stream",
     "text": [
      "enter the value of n  10\n"
     ]
    },
    {
     "name": "stdout",
     "output_type": "stream",
     "text": [
      "10 9 8 7 6 5 4 3 2 1 "
     ]
    }
   ],
   "source": [
    "# 2. Write a program to print all natural numbers in reverse (from n to 1). –using while loop\n",
    "\n",
    "n  =int(input(\"enter the value of n \"))\n",
    "i=1\n",
    "while(n>=i):\n",
    "    print(n,end=\" \")\n",
    "    n = n-1"
   ]
  },
  {
   "cell_type": "code",
   "execution_count": 3,
   "id": "01664ac6-8028-48ac-bb65-68867661f75e",
   "metadata": {},
   "outputs": [
    {
     "name": "stdout",
     "output_type": "stream",
     "text": [
      "a b c d e f g h i j k l m n o p q r s t u v w x y z "
     ]
    }
   ],
   "source": [
    "# 3. Write a program to print all alphabets from a to z. – using while loop\n",
    "char = \"a\"\n",
    "\n",
    "while(char<=\"z\"):\n",
    "    print(char,end=\" \")\n",
    "    char = chr(ord(char) + 1)"
   ]
  },
  {
   "cell_type": "code",
   "execution_count": 4,
   "id": "82e27e06-1089-4940-ae9c-d5c3b4b38cae",
   "metadata": {},
   "outputs": [
    {
     "name": "stdout",
     "output_type": "stream",
     "text": [
      "2 4 6 8 10 12 14 16 18 20 22 24 26 28 30 32 34 36 38 40 42 44 46 48 50 52 54 56 58 60 62 64 66 68 70 72 74 76 78 80 82 84 86 88 90 92 94 96 98 100 "
     ]
    }
   ],
   "source": [
    "# 4. Write a program to print all even numbers between 1 to 100. – using while loop\n",
    "i=1\n",
    "while(i<=100):\n",
    "    if(i%2==0):\n",
    "        print(i,end=\" \")\n",
    "    i+=1"
   ]
  },
  {
   "cell_type": "code",
   "execution_count": 5,
   "id": "c6700132-4bfc-4730-97a2-a7f66c87a7a0",
   "metadata": {},
   "outputs": [
    {
     "name": "stdin",
     "output_type": "stream",
     "text": [
      "enter the value of n  10\n"
     ]
    },
    {
     "name": "stdout",
     "output_type": "stream",
     "text": [
      "sum of odd number  25\n"
     ]
    }
   ],
   "source": [
    "# 5. Write a program to find the sum of all odd numbers between 1 to n.\n",
    "\n",
    "n = int(input(\"enter the value of n \"))\n",
    "\n",
    "i = 1 \n",
    "sum = 0\n",
    "while(i<=n):\n",
    "    if(i%2!=0):\n",
    "        sum = sum + i\n",
    "    i+=1\n",
    "\n",
    "print(\"sum of odd number \",sum)"
   ]
  },
  {
   "cell_type": "code",
   "execution_count": 6,
   "id": "35977f26-0600-4d6a-acd4-cc54547f844a",
   "metadata": {},
   "outputs": [
    {
     "name": "stdin",
     "output_type": "stream",
     "text": [
      "enter the number  24565\n"
     ]
    },
    {
     "name": "stdout",
     "output_type": "stream",
     "text": [
      "5\n"
     ]
    }
   ],
   "source": [
    "# 6. Write a program to count the number of digits in a number.\n",
    "\n",
    "\n",
    "n=  int(input(\"enter the number \"))\n",
    "count = 0\n",
    "while(n>0):\n",
    "    r = n%10\n",
    "    count +=1\n",
    "    n = n//10\n",
    "\n",
    "print(count)"
   ]
  },
  {
   "cell_type": "code",
   "execution_count": 7,
   "id": "638ba7cb-43f3-4f3e-9fcd-53ab18bc2991",
   "metadata": {},
   "outputs": [
    {
     "name": "stdin",
     "output_type": "stream",
     "text": [
      "enter the number  24456\n"
     ]
    },
    {
     "name": "stdout",
     "output_type": "stream",
     "text": [
      "sum of digit  21\n"
     ]
    }
   ],
   "source": [
    "# 7. Write a program to calculate the sum of digits of a number.\n",
    "\n",
    "n=  int(input(\"enter the number \"))\n",
    "sum = 0\n",
    "while(n>0):\n",
    "    r = n%10\n",
    "    sum = sum + r\n",
    "    n = n//10\n",
    "\n",
    "print(\"sum of digit \",sum)"
   ]
  },
  {
   "cell_type": "code",
   "execution_count": 8,
   "id": "cbe3cbc4-bd3e-4a92-aa03-e5988782628b",
   "metadata": {},
   "outputs": [
    {
     "name": "stdout",
     "output_type": "stream",
     "text": [
      "first digit: 2\n",
      "Last digit: 6\n"
     ]
    }
   ],
   "source": [
    "# 8. Write a program to find the first and last digit of a number.\n",
    "\n",
    "n = 24456\n",
    "first = n\n",
    "\n",
    "while(first>=10):\n",
    "    first = first//10\n",
    "\n",
    "\n",
    "last = n%10\n",
    "print(\"first digit:\",first)\n",
    "print(\"Last digit:\",last)"
   ]
  },
  {
   "cell_type": "code",
   "execution_count": 9,
   "id": "49b0ba07-8b0d-4090-a960-dc706f520734",
   "metadata": {},
   "outputs": [
    {
     "name": "stdout",
     "output_type": "stream",
     "text": [
      "first digit: 2\n",
      "Last digit: 6\n",
      "sum of first and last digit : 8\n"
     ]
    }
   ],
   "source": [
    "# 9. Write a program to find the sum of first and last digit of a number.\n",
    "\n",
    "n = 24456\n",
    "first = n\n",
    "\n",
    "while(first>=10):\n",
    "    first = first//10\n",
    "\n",
    "\n",
    "last = n%10\n",
    "print(\"first digit:\",first)\n",
    "print(\"Last digit:\",last)\n",
    "\n",
    "\n",
    "print(\"sum of first and last digit :\",first+last)"
   ]
  },
  {
   "cell_type": "code",
   "execution_count": 10,
   "id": "57683bca-b5ab-422d-9b39-466006bd885e",
   "metadata": {},
   "outputs": [
    {
     "name": "stdout",
     "output_type": "stream",
     "text": [
      "Reverse number is : 521\n"
     ]
    }
   ],
   "source": [
    "# 10.Write a program to enter a number and print its reverse.\n",
    "\n",
    "n = 125\n",
    "sum = 0\n",
    "\n",
    "while(n>0):\n",
    "    r= n%10\n",
    "    sum = sum *10 + r\n",
    "    n = n//10\n",
    "\n",
    "print(\"Reverse number is :\",sum)"
   ]
  },
  {
   "cell_type": "code",
   "execution_count": 11,
   "id": "418dddf7-671e-4581-805c-5011246b90a5",
   "metadata": {},
   "outputs": [
    {
     "name": "stdin",
     "output_type": "stream",
     "text": [
      "ente the number : 2\n",
      "enter the number : 6\n"
     ]
    },
    {
     "name": "stdout",
     "output_type": "stream",
     "text": [
      "64\n"
     ]
    }
   ],
   "source": [
    "# 11.Write a program to find the power of a number using for loop.\n",
    "\n",
    "n  = int(input(\"ente the number :\"))\n",
    "\n",
    "e  =int(input(\"enter the number :\" ))\n",
    "\n",
    "r = 1\n",
    "for i in range(e):\n",
    "    r  = n * r\n",
    "\n",
    "print(r)"
   ]
  },
  {
   "cell_type": "code",
   "execution_count": 12,
   "id": "196e14c1-15da-4ff5-a284-165d30ba6e96",
   "metadata": {},
   "outputs": [
    {
     "name": "stdin",
     "output_type": "stream",
     "text": [
      "enter the number  15\n"
     ]
    },
    {
     "name": "stdout",
     "output_type": "stream",
     "text": [
      "1 3 5 15 "
     ]
    }
   ],
   "source": [
    "# # 12.Write a program to find all factors of a number.\n",
    "\n",
    "n = int(input(\"enter the number \"))\n",
    "i=1\n",
    "while(i<=n):\n",
    "    if(n%i==0):\n",
    "        print(i,end=\" \")\n",
    "    i+=1"
   ]
  },
  {
   "cell_type": "code",
   "execution_count": 13,
   "id": "b840ee5f-dbb2-4e49-a34c-08a055171688",
   "metadata": {},
   "outputs": [
    {
     "name": "stdin",
     "output_type": "stream",
     "text": [
      "enter the number  6\n"
     ]
    },
    {
     "name": "stdout",
     "output_type": "stream",
     "text": [
      "720\n"
     ]
    }
   ],
   "source": [
    "# 13.Write a program to calculate the factorial of a number.\n",
    "\n",
    "n = int(input(\"enter the number \"))\n",
    "i=1\n",
    "fact = 1\n",
    "while(i<=n):\n",
    "    fact = fact*i\n",
    "    i+=1\n",
    "print(fact)"
   ]
  },
  {
   "cell_type": "code",
   "execution_count": 1,
   "id": "529eb1ec-8dcf-4131-ac34-33f50ef6a194",
   "metadata": {},
   "outputs": [
    {
     "name": "stdin",
     "output_type": "stream",
     "text": [
      "enter num1 : 24\n",
      "enter num2 : 36\n"
     ]
    },
    {
     "name": "stdout",
     "output_type": "stream",
     "text": [
      "72\n"
     ]
    }
   ],
   "source": [
    "# 14.Write a program to find LCM of two numbers.\n",
    "n1 = int(input(\"enter num1 :\"))\n",
    "n2  = int(input(\"enter num2 :\"))\n",
    "\n",
    "maxnum = max(n1,n2)           #maxnum = lcm\n",
    "\n",
    "while(True):\n",
    "    if(maxnum%n1==0 and maxnum%n2==0):\n",
    "        break\n",
    "    maxnum +=1\n",
    "\n",
    "print(maxnum)"
   ]
  },
  {
   "cell_type": "code",
   "execution_count": 14,
   "id": "bb5b9d14-82e5-47ee-b3b3-5934e9953a4a",
   "metadata": {},
   "outputs": [
    {
     "name": "stdin",
     "output_type": "stream",
     "text": [
      "enter the number  11\n"
     ]
    },
    {
     "name": "stdout",
     "output_type": "stream",
     "text": [
      "Prime number\n"
     ]
    }
   ],
   "source": [
    "# 15.Write a program to check whether a number is Prime number or not.\n",
    "\n",
    "n = int(input(\"enter the number \"))\n",
    "i = 1\n",
    "c = 0\n",
    "\n",
    "while(i<=n):\n",
    "    if(n%i==0):\n",
    "        c+=1\n",
    "    i+=1\n",
    "\n",
    "if(c==2):\n",
    "    print(\"Prime number\")\n",
    "else:\n",
    "    print(\"Not prime\")"
   ]
  },
  {
   "cell_type": "code",
   "execution_count": 15,
   "id": "31ceb055-9c79-477a-97b8-9516ca3dcaad",
   "metadata": {},
   "outputs": [
    {
     "name": "stdin",
     "output_type": "stream",
     "text": [
      "enter the number  1634\n"
     ]
    },
    {
     "name": "stdout",
     "output_type": "stream",
     "text": [
      "Armstrong number \n"
     ]
    }
   ],
   "source": [
    "# 18.Write a program to check whether a number is an Armstrong number or not.\n",
    "\n",
    "n = int(input(\"enter the number \"))\n",
    "t = n\n",
    "sum =0\n",
    "l = len(str(n))\n",
    "while(n>0):\n",
    "    r= n%10\n",
    "    sum = sum + r**l \n",
    "    n = n//10\n",
    "\n",
    "if(sum == t):\n",
    "    print(\"Armstrong number \")\n",
    "else:\n",
    "    print(\"not armstrong number \")\n"
   ]
  },
  {
   "cell_type": "code",
   "execution_count": 19,
   "id": "8b916c5d-8133-4b76-bf38-d0c7a0c30eff",
   "metadata": {},
   "outputs": [
    {
     "name": "stdout",
     "output_type": "stream",
     "text": [
      "2 17 "
     ]
    }
   ],
   "source": [
    "# 17.Write a program to find all prime factors of a number.\n",
    "\n",
    "n = 34\n",
    "c= 2\n",
    "while(n>1):\n",
    "    if(n%c==0):\n",
    "        print(c,end=\" \")\n",
    "        n= n//c\n",
    "    else:\n",
    "        c+=1"
   ]
  },
  {
   "cell_type": "code",
   "execution_count": 2,
   "id": "84f48e3e-530f-47f7-9842-a6aabb5066b4",
   "metadata": {},
   "outputs": [
    {
     "name": "stdin",
     "output_type": "stream",
     "text": [
      "enter num1 : 1\n",
      "enter num2 : 20\n"
     ]
    },
    {
     "name": "stdout",
     "output_type": "stream",
     "text": [
      "2\n",
      "3\n",
      "5\n",
      "7\n",
      "11\n",
      "13\n",
      "17\n",
      "19\n"
     ]
    }
   ],
   "source": [
    "# 16.Write a program to print all Prime numbers between 1 to n.\n",
    "\n",
    "l = int(input(\"enter num1 :\"))\n",
    "h = int(input(\"enter num2 :\"))\n",
    "\n",
    "for n in range(l,h):\n",
    "    if(n>1):\n",
    "        for i in range(2,n):\n",
    "            if(n%i==0):\n",
    "                break\n",
    "        else:\n",
    "            print(n)\n",
    "            \n"
   ]
  },
  {
   "cell_type": "code",
   "execution_count": 3,
   "id": "15fb4eb1-8ad5-4b41-8dbc-ad0084addeb6",
   "metadata": {},
   "outputs": [
    {
     "name": "stdin",
     "output_type": "stream",
     "text": [
      "enter number  145\n"
     ]
    },
    {
     "name": "stdout",
     "output_type": "stream",
     "text": [
      "145 is Strong number \n"
     ]
    }
   ],
   "source": [
    "# 19.Write a program to check whether a number is Strong number or not\n",
    "\n",
    "n  = int(input(\"enter number \"))\n",
    "temp = n\n",
    "strong = 0\n",
    "\n",
    "def facto(n):\n",
    "    i = 1\n",
    "    fact = 1\n",
    "    while(i<=n):\n",
    "        fact = fact*i\n",
    "        i+=1\n",
    "    return fact\n",
    "\n",
    "while(temp!=0):\n",
    "    r = temp %10\n",
    "    f = facto(r)\n",
    "    strong = strong + f\n",
    "    temp = temp//10\n",
    "    \n",
    "if(strong==n):\n",
    "    print(f\"{n} is Strong number \")\n",
    "else:\n",
    "    print(f\"{n} is Not strong \")\n",
    "\n"
   ]
  },
  {
   "cell_type": "code",
   "execution_count": 4,
   "id": "a1fc6399-92f8-4d5f-b200-90952a06c368",
   "metadata": {},
   "outputs": [
    {
     "name": "stdin",
     "output_type": "stream",
     "text": [
      "enter the number  6\n"
     ]
    },
    {
     "name": "stdout",
     "output_type": "stream",
     "text": [
      "1 2 3 \n",
      "6 is a perfect number \n"
     ]
    }
   ],
   "source": [
    "# 20.Write a program to check whether a number is perfect number or not\n",
    "\n",
    "n = int(input(\"enter the number \"))\n",
    "i=1\n",
    "sum = 0\n",
    "while(i<n):\n",
    "    if(n%i==0):\n",
    "        print(i,end=\" \")\n",
    "        sum = sum +i\n",
    "    i+=1\n",
    "print()\n",
    "\n",
    "\n",
    "if(sum == n):\n",
    "    print(f\"{n} is a perfect number \")\n",
    "else:\n",
    "    print(f\"{n} is not a perfect number \")\n",
    "    "
   ]
  },
  {
   "cell_type": "code",
   "execution_count": 12,
   "id": "cb55bc77-ee2f-4b0e-be0b-22b687c1a9ab",
   "metadata": {},
   "outputs": [
    {
     "name": "stdin",
     "output_type": "stream",
     "text": [
      "enter number of terms  5\n"
     ]
    },
    {
     "name": "stdout",
     "output_type": "stream",
     "text": [
      "0 1 1 2 3 5 8 "
     ]
    }
   ],
   "source": [
    "# 21.Write a program to print fibonacci series upto n terms\n",
    "\n",
    "n = int(input(\"enter number of terms \"))\n",
    "\n",
    "a = 0\n",
    "b = 1\n",
    "print(a,end=\" \")\n",
    "print(b,end=\" \")\n",
    "c=0\n",
    "while(c<=n):\n",
    "    c = a+b\n",
    "    print(c,end=\" \")\n",
    "    a  = b\n",
    "    b = c"
   ]
  },
  {
   "cell_type": "code",
   "execution_count": 3,
   "id": "01e299aa-594b-40d0-ac72-58f1df1d9de0",
   "metadata": {},
   "outputs": [
    {
     "name": "stdin",
     "output_type": "stream",
     "text": [
      "enter the binary number  10101101\n"
     ]
    },
    {
     "name": "stdout",
     "output_type": "stream",
     "text": [
      "10101101 one's complement of this number is: 01010010\n"
     ]
    }
   ],
   "source": [
    "# 22.Write a program to find ones complement of a binary number\n",
    "\n",
    "number  = input(\"enter the binary number \")\n",
    "complement = \"\"\n",
    "\n",
    "for i in number:\n",
    "    if(i=='0'):\n",
    "        complement +=\"1\"\n",
    "    elif(i==\"1\"):\n",
    "        complement +=\"0\"\n",
    "    else:\n",
    "        print(\"enter the valid binary number \")\n",
    "\n",
    "print(f\"{number} one's complement of this number is: {complement}\")\n",
    "        \n",
    "    \n"
   ]
  },
  {
   "cell_type": "code",
   "execution_count": null,
   "id": "3b6a17a5-68a8-4e6d-8f81-a24c9ad6521f",
   "metadata": {},
   "outputs": [],
   "source": []
  }
 ],
 "metadata": {
  "kernelspec": {
   "display_name": "Python 3 (ipykernel)",
   "language": "python",
   "name": "python3"
  },
  "language_info": {
   "codemirror_mode": {
    "name": "ipython",
    "version": 3
   },
   "file_extension": ".py",
   "mimetype": "text/x-python",
   "name": "python",
   "nbconvert_exporter": "python",
   "pygments_lexer": "ipython3",
   "version": "3.12.4"
  }
 },
 "nbformat": 4,
 "nbformat_minor": 5
}
