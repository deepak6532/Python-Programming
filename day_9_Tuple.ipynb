{
 "cells": [
  {
   "cell_type": "code",
   "execution_count": 1,
   "id": "3e424f96-9ab8-4b64-89d1-b92aea60c7b5",
   "metadata": {},
   "outputs": [],
   "source": [
    "# Tuple  = =>\n",
    "\n",
    "# 1. Identification  =()\n",
    "# 2 .Immutable data type ==> we can not  change or update at a run time \n",
    "# 3. Indexing start from 0 and length start from 1 "
   ]
  },
  {
   "cell_type": "code",
   "execution_count": 3,
   "id": "4875f0c7-3395-4431-b7f6-05b21f04ee77",
   "metadata": {},
   "outputs": [
    {
     "data": {
      "text/plain": [
       "tuple"
      ]
     },
     "execution_count": 3,
     "metadata": {},
     "output_type": "execute_result"
    }
   ],
   "source": [
    "a = ('sam',56,'deepak',34.45)\n",
    "type(a)"
   ]
  },
  {
   "cell_type": "code",
   "execution_count": 4,
   "id": "acbc9e26-ecb1-4b08-8c6f-f601b5c7812d",
   "metadata": {},
   "outputs": [
    {
     "name": "stdout",
     "output_type": "stream",
     "text": [
      "sam\n",
      "56\n",
      "34.45\n"
     ]
    }
   ],
   "source": [
    "print(a[0])\n",
    "print(a[1])\n",
    "print(a[3])"
   ]
  },
  {
   "cell_type": "code",
   "execution_count": 5,
   "id": "87e249b4-d945-4ab2-94d1-0f8254788371",
   "metadata": {},
   "outputs": [],
   "source": [
    "# Q:1 \n",
    "\n",
    "# a = ('sam' ,56, 'deepak',56.87 ) convert into a = ('sam' ,600, 'deepak',56.87 )\n"
   ]
  },
  {
   "cell_type": "code",
   "execution_count": 1,
   "id": "44a23726-c5a6-4e0e-8c30-4d7bcc0fe689",
   "metadata": {},
   "outputs": [
    {
     "name": "stdout",
     "output_type": "stream",
     "text": [
      "('sam', 56, 'deepak', 56.78)\n",
      "['sam', 600, 'deepak', 56.78]\n"
     ]
    }
   ],
   "source": [
    "a = ('sam' ,56,'deepak',56.78)\n",
    "print(a)\n",
    "\n",
    "b= list(a)\n",
    "b[1] = 600\n",
    "\n",
    "print(b)"
   ]
  },
  {
   "cell_type": "code",
   "execution_count": 8,
   "id": "d2541c03-b3a4-498e-b392-889c07b76578",
   "metadata": {},
   "outputs": [
    {
     "name": "stdout",
     "output_type": "stream",
     "text": [
      "sam\n",
      "56\n",
      "deepak\n",
      "67.889\n"
     ]
    }
   ],
   "source": [
    "# loop in tuple\n",
    "a = ('sam',56,'deepak',67.889)\n",
    "for i in a:\n",
    "    print(i)\n",
    "    "
   ]
  },
  {
   "cell_type": "code",
   "execution_count": 9,
   "id": "c481bcf7-d10d-43e0-8c9d-12e4471b820c",
   "metadata": {},
   "outputs": [
    {
     "data": {
      "text/plain": [
       "4"
      ]
     },
     "execution_count": 9,
     "metadata": {},
     "output_type": "execute_result"
    }
   ],
   "source": [
    "len(a)"
   ]
  },
  {
   "cell_type": "code",
   "execution_count": 11,
   "id": "90756b0c-fb05-4d00-a615-a8e0335e528b",
   "metadata": {},
   "outputs": [
    {
     "name": "stdout",
     "output_type": "stream",
     "text": [
      "sam\n",
      "56\n",
      "deepak\n",
      "67.889\n"
     ]
    }
   ],
   "source": [
    "for i in range(len(a)):\n",
    "    print(a[i])"
   ]
  },
  {
   "cell_type": "code",
   "execution_count": 12,
   "id": "7f0fc6da-9065-4430-82d9-eca3822f97c4",
   "metadata": {},
   "outputs": [
    {
     "data": {
      "text/plain": [
       "2"
      ]
     },
     "execution_count": 12,
     "metadata": {},
     "output_type": "execute_result"
    }
   ],
   "source": [
    "# Index()\n",
    "\n",
    "a = ('sam' ,56, 'deepak',56.87 )\n",
    "\n",
    "a.index('deepak')"
   ]
  },
  {
   "cell_type": "code",
   "execution_count": 13,
   "id": "d29fba46-de2c-4939-b6ad-cb875082ebdb",
   "metadata": {},
   "outputs": [],
   "source": [
    "# len()"
   ]
  },
  {
   "cell_type": "code",
   "execution_count": 16,
   "id": "805c0944-62e3-4f4b-bb0e-783f686e5e51",
   "metadata": {},
   "outputs": [
    {
     "data": {
      "text/plain": [
       "78"
      ]
     },
     "execution_count": 16,
     "metadata": {},
     "output_type": "execute_result"
    }
   ],
   "source": [
    "# max()\n",
    "\n",
    "a = (1,2,4,56,78)\n",
    "max(a)"
   ]
  },
  {
   "cell_type": "code",
   "execution_count": 17,
   "id": "727335a9-fda7-4c88-a803-db9752d8b138",
   "metadata": {},
   "outputs": [
    {
     "data": {
      "text/plain": [
       "1"
      ]
     },
     "execution_count": 17,
     "metadata": {},
     "output_type": "execute_result"
    }
   ],
   "source": [
    "# min()\n",
    "\n",
    "a = (1,2,4,56,78)\n",
    "min(a)"
   ]
  },
  {
   "cell_type": "code",
   "execution_count": 19,
   "id": "869fdd05-3007-4448-8894-e561862521e1",
   "metadata": {},
   "outputs": [
    {
     "data": {
      "text/plain": [
       "5"
      ]
     },
     "execution_count": 19,
     "metadata": {},
     "output_type": "execute_result"
    }
   ],
   "source": [
    "# count()\n",
    "\n",
    "\n",
    "\n",
    "a = (1,2,4,56,78,2,2,2,1,3,2)\n",
    "a.count(2)"
   ]
  },
  {
   "cell_type": "markdown",
   "id": "4c8eb617-9b21-4c31-835c-9fb84af8b431",
   "metadata": {},
   "source": [
    "# how can we create a user defined tuple ?"
   ]
  },
  {
   "cell_type": "code",
   "execution_count": 20,
   "id": "7fc7ebc8-faa9-433c-aafe-cc19c4f13bd3",
   "metadata": {},
   "outputs": [
    {
     "name": "stdin",
     "output_type": "stream",
     "text": [
      "enter size 4\n",
      "enter item: 3\n",
      "enter item: 2\n",
      "enter item: 3\n",
      "enter item: 2\n"
     ]
    },
    {
     "data": {
      "text/plain": [
       "('3', '2', '3', '2')"
      ]
     },
     "execution_count": 20,
     "metadata": {},
     "output_type": "execute_result"
    }
   ],
   "source": [
    "a=  []\n",
    "size  = int(input(\"enter size\"))\n",
    "\n",
    "for i in range(size):\n",
    "    val = input(\"enter item:\")\n",
    "    a.append(val)\n",
    "b = tuple(a)\n",
    "b"
   ]
  },
  {
   "cell_type": "code",
   "execution_count": 22,
   "id": "effe254d-0018-4987-b954-619809212d11",
   "metadata": {},
   "outputs": [],
   "source": [
    "# c = list(b)\n",
    "# c[1] = int(c[1])"
   ]
  },
  {
   "cell_type": "code",
   "execution_count": 23,
   "id": "bc761a7b-5c03-434b-a469-0a200af1d130",
   "metadata": {},
   "outputs": [
    {
     "data": {
      "text/plain": [
       "False"
      ]
     },
     "execution_count": 23,
     "metadata": {},
     "output_type": "execute_result"
    }
   ],
   "source": [
    "# isdigit()\n",
    "\n",
    "a = \"34df\"\n",
    "a.isdigit()"
   ]
  },
  {
   "cell_type": "code",
   "execution_count": 2,
   "id": "df573721-4b28-4beb-a74b-d28d09614b35",
   "metadata": {},
   "outputs": [
    {
     "name": "stdout",
     "output_type": "stream",
     "text": [
      "['sam', '56', 'deepak', '34']\n",
      "('56', '34')\n",
      "('sam', 'deepak')\n"
     ]
    }
   ],
   "source": [
    "a = ('sam' ,'56', 'deepak','34' )\n",
    "\n",
    "b = list(a)\n",
    "\n",
    "c =[]\n",
    "d = []\n",
    "print(b)\n",
    "\n",
    "for i in range(len(b)):\n",
    "    if(b[i].isdigit()==True):\n",
    "        c.append(b[i])\n",
    "    elif(b[i].isalnum()==True):\n",
    "        d.append(b[i])\n",
    "e = tuple(c)\n",
    "f= tuple(d)\n",
    "print(e)\n",
    "print(f)"
   ]
  },
  {
   "cell_type": "code",
   "execution_count": 41,
   "id": "f13da979-8996-45e0-a377-98337c33fa1c",
   "metadata": {},
   "outputs": [],
   "source": [
    "a =  (1,45,89,90)\n",
    "# print(sum(a))\n",
    "sum = 0"
   ]
  },
  {
   "cell_type": "code",
   "execution_count": 42,
   "id": "476dcc47-1470-41c2-8357-39d97c587282",
   "metadata": {},
   "outputs": [
    {
     "name": "stdout",
     "output_type": "stream",
     "text": [
      "225\n"
     ]
    }
   ],
   "source": [
    "\n",
    "for i in range(len(a)):\n",
    "    sum = sum + a[i]\n",
    "\n",
    "print(sum)"
   ]
  },
  {
   "cell_type": "markdown",
   "id": "d5cbaa66-ebf1-4241-be03-40938801ed3d",
   "metadata": {},
   "source": [
    "# user define tuple sum"
   ]
  },
  {
   "cell_type": "code",
   "execution_count": 43,
   "id": "86e3578f-8b4f-47bb-b284-95066734552b",
   "metadata": {},
   "outputs": [
    {
     "name": "stdin",
     "output_type": "stream",
     "text": [
      "enter item: 4\n",
      "Enter the number  1\n",
      "Enter the number  2\n",
      "Enter the number  3\n",
      "Enter the number  4\n"
     ]
    },
    {
     "name": "stdout",
     "output_type": "stream",
     "text": [
      "Total Addition  =  10\n"
     ]
    }
   ],
   "source": [
    "a = []\n",
    "size = int(input(\"enter item:\"))\n",
    "for i in range(size):\n",
    "    val  = int(input(\"Enter the number \"))\n",
    "    a.append(val)\n",
    "b = tuple(a)\n",
    "\n",
    "sum = 0\n",
    "\n",
    "for i in range(size):\n",
    "    sum= sum + a[i]\n",
    "print(\"Total Addition  = \" ,sum)\n"
   ]
  },
  {
   "cell_type": "code",
   "execution_count": null,
   "id": "717e88e7-d5fc-4eb9-a8db-43e1b21d6bc9",
   "metadata": {},
   "outputs": [],
   "source": []
  }
 ],
 "metadata": {
  "kernelspec": {
   "display_name": "Python 3 (ipykernel)",
   "language": "python",
   "name": "python3"
  },
  "language_info": {
   "codemirror_mode": {
    "name": "ipython",
    "version": 3
   },
   "file_extension": ".py",
   "mimetype": "text/x-python",
   "name": "python",
   "nbconvert_exporter": "python",
   "pygments_lexer": "ipython3",
   "version": "3.12.4"
  }
 },
 "nbformat": 4,
 "nbformat_minor": 5
}
