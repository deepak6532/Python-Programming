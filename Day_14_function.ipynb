{
 "cells": [
  {
   "cell_type": "code",
   "execution_count": 2,
   "id": "51589e70-00c0-4d50-80bb-a54b453564b5",
   "metadata": {},
   "outputs": [],
   "source": [
    "# Function in python  ==>\n",
    "\n",
    "# 1.predefine function  ==> print(),input(),max(),min(),sort()\n",
    "# 2 .manually defined dunction ==>\n",
    "\n",
    "#     a. def \n",
    "#     b.  name of function\n",
    "#     c . logic of function \n",
    "#     d .call of function \n",
    "        "
   ]
  },
  {
   "cell_type": "code",
   "execution_count": 3,
   "id": "6ad327b4-3fbc-4086-947c-cd88de94355a",
   "metadata": {},
   "outputs": [],
   "source": [
    "# syntax \n",
    "\n",
    "# def name_of -function():\n",
    "#     logics\n",
    "\n",
    "# name_of_function()"
   ]
  },
  {
   "cell_type": "code",
   "execution_count": 4,
   "id": "5b662627-7b22-48ef-bfb7-ade8df04cddf",
   "metadata": {},
   "outputs": [
    {
     "name": "stdout",
     "output_type": "stream",
     "text": [
      "Addition =  5\n"
     ]
    }
   ],
   "source": [
    "# Q1 write a function who add 2 numbers ?\n",
    "\n",
    "def add():\n",
    "    a = 1 \n",
    "    b = 4\n",
    "    c = a+ b\n",
    "    print(\"Addition = \",c)\n",
    "add()"
   ]
  },
  {
   "cell_type": "code",
   "execution_count": 5,
   "id": "7a15c7fa-3734-4151-b509-10f2634b46b3",
   "metadata": {},
   "outputs": [],
   "source": [
    "# Arguments and parameter \n",
    "\n",
    "# 1 . parameter ==>  Therse are the values which we supplied when we create a function \n",
    "# 2 . Arguments  ==> These are the values which we supplied when we call the function\n"
   ]
  },
  {
   "cell_type": "code",
   "execution_count": 7,
   "id": "cff29de2-9340-4589-91c8-8a5572134f47",
   "metadata": {},
   "outputs": [
    {
     "name": "stdout",
     "output_type": "stream",
     "text": [
      "Addition =  9\n"
     ]
    }
   ],
   "source": [
    "def my_add(a,b):\n",
    "    c= a+b\n",
    "    print(\"Addition = \",c)\n",
    "p  =4 \n",
    "q = 5\n",
    "my_add(p,q)   #here (p,q) are argumenrs and (a,b) are parameters\n",
    "\n"
   ]
  },
  {
   "cell_type": "code",
   "execution_count": 8,
   "id": "2e9513ad-72b8-4749-aa93-27ccef6c83fa",
   "metadata": {},
   "outputs": [
    {
     "name": "stdout",
     "output_type": "stream",
     "text": [
      "Even number\n"
     ]
    }
   ],
   "source": [
    "def oddeven(): #without arguments and paramtere function \n",
    "    a =6\n",
    "    if(a%2==0):\n",
    "        print(\"Even number\")\n",
    "    else:\n",
    "        print(\"Odd number\")\n",
    "oddeven()"
   ]
  },
  {
   "cell_type": "code",
   "execution_count": 10,
   "id": "b0a18e07-130e-4edd-b553-217cbfd24730",
   "metadata": {},
   "outputs": [
    {
     "name": "stdout",
     "output_type": "stream",
     "text": [
      "Odd number \n"
     ]
    }
   ],
   "source": [
    "def oddeven(a):  # with argumnets and paraeter function \n",
    "    if(a%2==0):\n",
    "        print(\"even\")\n",
    "    else:\n",
    "        print(\"Odd number \")\n",
    "p = 5 \n",
    "oddeven(p)"
   ]
  },
  {
   "cell_type": "code",
   "execution_count": 11,
   "id": "f6e9057a-d6fa-402e-83e2-f9821bdaedf2",
   "metadata": {},
   "outputs": [
    {
     "name": "stdout",
     "output_type": "stream",
     "text": [
      "Add = 7\n"
     ]
    }
   ],
   "source": [
    "# CASE  - 1 (NO ARGUMENTS NO RETURN)\n",
    "\n",
    "def add():\n",
    "    a = 5 \n",
    "    b = 2\n",
    "    c = a+b\n",
    "    print(\"Add =\" ,c)\n",
    "add()"
   ]
  },
  {
   "cell_type": "code",
   "execution_count": 12,
   "id": "fcd220b3-d6a7-4449-9849-ea72fc1d33b1",
   "metadata": {},
   "outputs": [
    {
     "name": "stdout",
     "output_type": "stream",
     "text": [
      "Add =  6\n"
     ]
    }
   ],
   "source": [
    "# CASE  - 2 (WITH ARGUMENTS NO RETURN )\n",
    "\n",
    "def add(a,b):\n",
    "    c = a+ b\n",
    "    print(\"Add = \",c)\n",
    "a  =4\n",
    "b = 2\n",
    "add(a,b)"
   ]
  },
  {
   "cell_type": "code",
   "execution_count": 13,
   "id": "1692b625-0afe-4e0b-b052-cde1bb7721bf",
   "metadata": {},
   "outputs": [
    {
     "name": "stdout",
     "output_type": "stream",
     "text": [
      "Addition =  9\n"
     ]
    }
   ],
   "source": [
    "# CASE - 3 (NO ARGUMENTS WITH RETURN )\n",
    "\n",
    "def add():\n",
    "    a = 4 \n",
    "    b =5\n",
    "    c = a+b\n",
    "    return c\n",
    "x = add()\n",
    "print(\"Addition = \" ,x)"
   ]
  },
  {
   "cell_type": "code",
   "execution_count": 16,
   "id": "1b4672e2-6ab1-4f47-a7b4-b22f0c0f5b4d",
   "metadata": {},
   "outputs": [
    {
     "name": "stdout",
     "output_type": "stream",
     "text": [
      "Addition =  6\n"
     ]
    }
   ],
   "source": [
    "# CASE -4 (WITH AGRUMNETS AND WITH RETURN)\n",
    "\n",
    "def add(a,b):\n",
    "    c = a+b\n",
    "    return c\n",
    "a = 2\n",
    "b = 4\n",
    "x  = add(a,b)\n",
    "print(\"Addition = \" ,x)"
   ]
  },
  {
   "cell_type": "markdown",
   "id": "21158bc3-5e6b-491b-9fdb-28899ef7c872",
   "metadata": {},
   "source": [
    "# lambda function"
   ]
  },
  {
   "cell_type": "code",
   "execution_count": 19,
   "id": "c1467b34-cfc8-43cf-871f-e481b7988d22",
   "metadata": {},
   "outputs": [
    {
     "name": "stdout",
     "output_type": "stream",
     "text": [
      "total value =  7\n",
      "total product is = 15\n",
      "total = 3\n"
     ]
    }
   ],
   "source": [
    "# LAMBDA FUNCTION  = a lambda function a can take any number of arguments but can only have\n",
    "# one expression:\n",
    "\n",
    "# syntax : lambda arguments :expression\n",
    "\n",
    "# ex: 1\n",
    "\n",
    "x = lambda a : a+5\n",
    "print(\"total value = \",x(2))\n",
    "\n",
    "# ex:2 \n",
    "\n",
    "x = lambda a,b:a*b\n",
    "print(\"total product is =\",x(3,5))\n",
    "\n",
    "# ex:3 \n",
    "\n",
    "x = lambda a,b,c : a + b -c\n",
    "print(\"total =\",x(4,5,6))"
   ]
  },
  {
   "cell_type": "code",
   "execution_count": 20,
   "id": "e4544e78-e11d-4488-9dbb-85e1e20c2a14",
   "metadata": {},
   "outputs": [
    {
     "data": {
      "text/plain": [
       "45"
      ]
     },
     "execution_count": 20,
     "metadata": {},
     "output_type": "execute_result"
    }
   ],
   "source": [
    "x = lambda a,b,c:a**2 + b**2 + c**2\n",
    "x(2,4,5)"
   ]
  },
  {
   "cell_type": "markdown",
   "id": "b4e29f41-2826-46dd-b456-13c419ff52bf",
   "metadata": {},
   "source": [
    "# filter function"
   ]
  },
  {
   "cell_type": "code",
   "execution_count": 14,
   "id": "df1db19f-bdba-4b59-9f87-56452cac641d",
   "metadata": {},
   "outputs": [
    {
     "name": "stdout",
     "output_type": "stream",
     "text": [
      "[5, 12, 17]\n"
     ]
    }
   ],
   "source": [
    "# (2) Filter function\n",
    "\n",
    "# filter function = => The fileter fucntion return an iterator where the item are\n",
    "# filtered through a function to text  ,if the item is accepted return true or false \n",
    "# fileter(logic, data)\n",
    "\n",
    "age = [5,12,17,18,34,67,50]\n",
    "def myFun(x):\n",
    "    if(x>=18):\n",
    "        return True\n",
    "    else:\n",
    "        return False\n",
    "kid = list(filter(myFun,age))\n",
    "print(kid)\n"
   ]
  },
  {
   "cell_type": "markdown",
   "id": "3b4afb35-f239-4999-a248-9cec74dec440",
   "metadata": {},
   "source": [
    "# map function"
   ]
  },
  {
   "cell_type": "code",
   "execution_count": 7,
   "id": "47266fd9-902b-4c7b-ab28-3b4619627b05",
   "metadata": {},
   "outputs": [
    {
     "name": "stdout",
     "output_type": "stream",
     "text": [
      "[3, 45, 89]\n",
      "90\n"
     ]
    }
   ],
   "source": [
    "# MAP FUNCTION ==> The map() executes a specified fucntion for each item in a iterable .\n",
    "# The item is sent to the fucntion as parameters.\n",
    "\n",
    "a = [\"3\",\"45\",\"89\"]\n",
    "\n",
    "# # method -1\n",
    "# # print(a)\n",
    "\n",
    "# for i in range(len(a)):\n",
    "#     a[i] = int(a[i])\n",
    "    \n",
    "# print(a)\n",
    "# a[2] = a[2] +1\n",
    "# print(a[2])\n",
    "\n",
    "# method -2 (by using map function )\n",
    "b = list(map(int,a))\n",
    "print(b)\n",
    "b[2] = b[2] +1\n",
    "print(b[2])"
   ]
  },
  {
   "cell_type": "code",
   "execution_count": 9,
   "id": "1ce4447c-8e67-45c4-b0cd-78fed2502706",
   "metadata": {},
   "outputs": [
    {
     "name": "stdout",
     "output_type": "stream",
     "text": [
      "[3, 5]\n"
     ]
    }
   ],
   "source": [
    "a = ['3','5']\n",
    "a[0] = int(a[0])\n",
    "a[1] = int(a[1])\n",
    "\n",
    "print(a)"
   ]
  },
  {
   "cell_type": "code",
   "execution_count": 27,
   "id": "a11294ad-c5ce-4cb6-8be1-197c35e9aac9",
   "metadata": {},
   "outputs": [
    {
     "name": "stdout",
     "output_type": "stream",
     "text": [
      "[1, 4, 9, 16, 25]\n",
      "[1, 4, 9, 16, 25]\n"
     ]
    }
   ],
   "source": [
    "# Example -2\n",
    "\n",
    "a  = [1,2,3,4,5]\n",
    "\n",
    "def sqa(a):\n",
    "    return a*a\n",
    "square = list(map(sqa,a))\n",
    "print(square)\n",
    "\n",
    "a = [1,2,3,4,5]\n",
    "square = list(map(lambda x : x*x,a))\n",
    "print(square)"
   ]
  },
  {
   "cell_type": "code",
   "execution_count": 28,
   "id": "dcbcd193-bacd-4961-995e-46b5946ea423",
   "metadata": {},
   "outputs": [],
   "source": [
    "# Q1 : write a lambda function that take two argumnents ,x and y return x^2 +y^2. Test it on two numbers.\n",
    "# Q :write a python program using map and lambda to convert a list strings to uppercase.\n",
    "# Q : write a python program using filter and lambda to filter out  all words from a list that are less than 5 character long \n",
    "# Q :  write a python program using filter and lambda to filter out  all number from a list that are less than 5 "
   ]
  },
  {
   "cell_type": "code",
   "execution_count": 29,
   "id": "7c2119ec-5be4-45a3-8402-a8d683d35fc0",
   "metadata": {},
   "outputs": [
    {
     "name": "stdout",
     "output_type": "stream",
     "text": [
      "total product is = 34\n"
     ]
    }
   ],
   "source": [
    "# 1\n",
    "s = lambda a,b:a**2 + b**2\n",
    "a  =3\n",
    "b = 5\n",
    "print(\"total product is =\",s(3,5))"
   ]
  },
  {
   "cell_type": "code",
   "execution_count": 1,
   "id": "0619a062-5cab-4f01-a41c-248072101d1d",
   "metadata": {},
   "outputs": [
    {
     "name": "stdout",
     "output_type": "stream",
     "text": [
      "['A', 'DEEPAK', 'C', 'D', 'E']\n"
     ]
    }
   ],
   "source": [
    "# 2\n",
    "a = [\"a\",\"deepak\",\"c\",\"D\",\"E\"]\n",
    "square = list(map(lambda x :x.upper(), a ))\n",
    "print(square)"
   ]
  },
  {
   "cell_type": "code",
   "execution_count": 3,
   "id": "23e12ca9-a448-4e0a-ad0f-396e2a1dfdf3",
   "metadata": {},
   "outputs": [
    {
     "name": "stdout",
     "output_type": "stream",
     "text": [
      "['golu', 'Adi', 'khemu', 'Rahul']\n"
     ]
    }
   ],
   "source": [
    "# 3\n",
    "\n",
    "a = [\"Deepak\",\"golu\",\"Adi\",\"khemu\",\"Rahul\"]\n",
    "\n",
    "final = list(filter(lambda a: len(a)>=5,a))\n",
    "print(final)"
   ]
  },
  {
   "cell_type": "code",
   "execution_count": 9,
   "id": "8bec84ef-eada-4bfe-b865-b20e7253a7ec",
   "metadata": {},
   "outputs": [
    {
     "name": "stdout",
     "output_type": "stream",
     "text": [
      "[1, 4, 3]\n"
     ]
    }
   ],
   "source": [
    "# 4\n",
    "a  = [1,4,3,6,7,8,5]\n",
    "less = list(filter(lambda x: x<5,a))\n",
    "print(less)"
   ]
  },
  {
   "cell_type": "code",
   "execution_count": null,
   "id": "decc58e7-6ca8-48f2-9f80-2858321ad91d",
   "metadata": {},
   "outputs": [],
   "source": []
  }
 ],
 "metadata": {
  "kernelspec": {
   "display_name": "Python 3 (ipykernel)",
   "language": "python",
   "name": "python3"
  },
  "language_info": {
   "codemirror_mode": {
    "name": "ipython",
    "version": 3
   },
   "file_extension": ".py",
   "mimetype": "text/x-python",
   "name": "python",
   "nbconvert_exporter": "python",
   "pygments_lexer": "ipython3",
   "version": "3.12.4"
  }
 },
 "nbformat": 4,
 "nbformat_minor": 5
}
