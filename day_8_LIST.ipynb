{
 "cells": [
  {
   "cell_type": "markdown",
   "id": "05e32fc6-3172-4e1e-922e-849750a03015",
   "metadata": {},
   "source": [
    "# list"
   ]
  },
  {
   "cell_type": "code",
   "execution_count": 1,
   "id": "00bfec69-5f65-4b72-99f9-f13c36d435d1",
   "metadata": {},
   "outputs": [],
   "source": [
    "# list ===>\n",
    "# 1. Identification  = []\n",
    "# 2. mutable data type ==> we can cahnage or update our values at a run time \n",
    "# 3. Indexing  start from 0 and length start from 1.\n",
    "# 4. This is a container in which we can store or assign the values"
   ]
  },
  {
   "cell_type": "code",
   "execution_count": 2,
   "id": "c7067547-de65-46af-bfce-16fbefe47779",
   "metadata": {},
   "outputs": [
    {
     "data": {
      "text/plain": [
       "list"
      ]
     },
     "execution_count": 2,
     "metadata": {},
     "output_type": "execute_result"
    }
   ],
   "source": [
    "a = ['sam' ,45 ,'Deepak',53.56]\n",
    "type(a)"
   ]
  },
  {
   "cell_type": "code",
   "execution_count": 3,
   "id": "e1ce8535-0042-49fa-ab84-32715655032d",
   "metadata": {},
   "outputs": [
    {
     "name": "stdout",
     "output_type": "stream",
     "text": [
      "sam\n",
      "45\n",
      "Deepak\n",
      "53.56\n"
     ]
    }
   ],
   "source": [
    "# Mutable \n",
    "print(a[0])\n",
    "print(a[1])\n",
    "print(a[2])\n",
    "print(a[3])"
   ]
  },
  {
   "cell_type": "code",
   "execution_count": 4,
   "id": "58372bc2-676f-4e4d-968e-17cd04b6d76d",
   "metadata": {},
   "outputs": [
    {
     "name": "stdout",
     "output_type": "stream",
     "text": [
      "sam\n",
      "45\n",
      "Deepak\n",
      "53.56\n"
     ]
    }
   ],
   "source": [
    "for i in range(len(a)):\n",
    "    print(a[i])"
   ]
  },
  {
   "cell_type": "code",
   "execution_count": 5,
   "id": "bb368c51-ec17-4452-89d1-367d95637342",
   "metadata": {},
   "outputs": [
    {
     "name": "stdout",
     "output_type": "stream",
     "text": [
      "sam 45 Deepak 53.56 "
     ]
    }
   ],
   "source": [
    "for i in range(len(a)):\n",
    "    print(a[i],end=\" \")"
   ]
  },
  {
   "cell_type": "code",
   "execution_count": 6,
   "id": "2c4dfb83-11cf-4ad1-9813-c36a40eef65e",
   "metadata": {},
   "outputs": [
    {
     "data": {
      "text/plain": [
       "['sam', 45, 'Deepak', 53.56]"
      ]
     },
     "execution_count": 6,
     "metadata": {},
     "output_type": "execute_result"
    }
   ],
   "source": [
    "a"
   ]
  },
  {
   "cell_type": "code",
   "execution_count": 7,
   "id": "87a3cfb2-fca7-4980-8c49-2545c67b49fa",
   "metadata": {},
   "outputs": [
    {
     "data": {
      "text/plain": [
       "'Deepak'"
      ]
     },
     "execution_count": 7,
     "metadata": {},
     "output_type": "execute_result"
    }
   ],
   "source": [
    "a[2]"
   ]
  },
  {
   "cell_type": "code",
   "execution_count": 8,
   "id": "dba596fd-2896-492e-af6a-d333cb4a984b",
   "metadata": {},
   "outputs": [
    {
     "name": "stdout",
     "output_type": "stream",
     "text": [
      "['sam', 45, 'yash', 53.56]\n"
     ]
    }
   ],
   "source": [
    "a[2] = \"yash\"\n",
    "print(a)"
   ]
  },
  {
   "cell_type": "markdown",
   "id": "b3da9bd3-c6fe-4017-9d23-808813cb6057",
   "metadata": {},
   "source": [
    "# function in list"
   ]
  },
  {
   "cell_type": "code",
   "execution_count": 9,
   "id": "2f1367de-1069-4331-80d3-4617e6adcf09",
   "metadata": {},
   "outputs": [
    {
     "name": "stdout",
     "output_type": "stream",
     "text": [
      "2\n"
     ]
    }
   ],
   "source": [
    "# 1:  .index()\n",
    "\n",
    "\n",
    "a = ['deepak',54,'rahul',67.88]\n",
    "print(a.index('rahul'))"
   ]
  },
  {
   "cell_type": "code",
   "execution_count": 10,
   "id": "fc047da0-c707-437b-8144-04a54b78890b",
   "metadata": {},
   "outputs": [
    {
     "name": "stdout",
     "output_type": "stream",
     "text": [
      "4\n"
     ]
    }
   ],
   "source": [
    "# 2 : .len()\n",
    "\n",
    "a = ['deepak',45,'yash',67.88]\n",
    "print(len(a))"
   ]
  },
  {
   "cell_type": "code",
   "execution_count": 11,
   "id": "37bb15c2-75bf-49fb-b16c-667244578286",
   "metadata": {},
   "outputs": [
    {
     "name": "stdout",
     "output_type": "stream",
     "text": [
      "['deepak', 45, 'yash', 67.88, 'Rohit']\n"
     ]
    }
   ],
   "source": [
    "# 3: .append() ==> it will add elements in the last indexing of list\n",
    "\n",
    "\n",
    "a = ['deepak',45,'yash',67.88]\n",
    "\n",
    "a.append(\"Rohit\")\n",
    "print(a)"
   ]
  },
  {
   "cell_type": "code",
   "execution_count": 12,
   "id": "b93037a4-3552-482b-add0-bbfc94e13a5f",
   "metadata": {},
   "outputs": [
    {
     "name": "stdout",
     "output_type": "stream",
     "text": [
      "['deepak', 19, 45, 'yash', 67.88]\n"
     ]
    }
   ],
   "source": [
    "# 4: .insert(index,object ) ==> \n",
    "\n",
    "\n",
    "a = ['deepak',45,'yash',67.88]\n",
    "\n",
    "a.insert(1,19)\n",
    "print(a)"
   ]
  },
  {
   "cell_type": "code",
   "execution_count": 13,
   "id": "8504a8f7-b120-4550-be16-75f561d4d599",
   "metadata": {},
   "outputs": [
    {
     "data": {
      "text/plain": [
       "3"
      ]
     },
     "execution_count": 13,
     "metadata": {},
     "output_type": "execute_result"
    }
   ],
   "source": [
    "# 5:  .count() ==>count the number \n",
    "\n",
    "\n",
    "a = ['deepak', 19, 45, 'yash', 67.88,19,'deepak',19]\n",
    "a.count(19)\n"
   ]
  },
  {
   "cell_type": "code",
   "execution_count": 14,
   "id": "8b64533c-c7d6-4967-bb74-6718b2ee0be0",
   "metadata": {},
   "outputs": [
    {
     "data": {
      "text/plain": [
       "['deepak', 19, 45, 'yash']"
      ]
     },
     "execution_count": 14,
     "metadata": {},
     "output_type": "execute_result"
    }
   ],
   "source": [
    "# 6: pop() ===> delete the element from the last indexing.\n",
    "\n",
    "a = ['deepak', 19, 45, 'yash', 67.88]\n",
    "\n",
    "a.pop()\n",
    "a"
   ]
  },
  {
   "cell_type": "code",
   "execution_count": 15,
   "id": "daf3dfe3-fa15-4a06-b50a-743374fdde52",
   "metadata": {},
   "outputs": [
    {
     "data": {
      "text/plain": [
       "['deepak', 19, 45]"
      ]
     },
     "execution_count": 15,
     "metadata": {},
     "output_type": "execute_result"
    }
   ],
   "source": [
    "a.pop()\n",
    "a"
   ]
  },
  {
   "cell_type": "code",
   "execution_count": 16,
   "id": "c6b9e5ee-c4e3-49c9-a693-fa5028fb569b",
   "metadata": {},
   "outputs": [
    {
     "data": {
      "text/plain": [
       "['deepak', 19]"
      ]
     },
     "execution_count": 16,
     "metadata": {},
     "output_type": "execute_result"
    }
   ],
   "source": [
    "a.pop()\n",
    "a"
   ]
  },
  {
   "cell_type": "code",
   "execution_count": 17,
   "id": "63863eee-5f8a-4d33-aa13-c43bc07497b8",
   "metadata": {},
   "outputs": [
    {
     "data": {
      "text/plain": [
       "['deepak']"
      ]
     },
     "execution_count": 17,
     "metadata": {},
     "output_type": "execute_result"
    }
   ],
   "source": [
    "a.pop()\n",
    "a"
   ]
  },
  {
   "cell_type": "code",
   "execution_count": 21,
   "id": "bef0d041-26ba-4f41-a8df-ecdb84380967",
   "metadata": {},
   "outputs": [
    {
     "data": {
      "text/plain": [
       "['deepak', 19, 'yash', 67.88]"
      ]
     },
     "execution_count": 21,
     "metadata": {},
     "output_type": "execute_result"
    }
   ],
   "source": [
    "# 7: remove() ===> it will remove the element\n",
    "\n",
    "a = ['deepak', 19, 45, 'yash', 67.88]\n",
    "a.remove(45)\n",
    "a"
   ]
  },
  {
   "cell_type": "markdown",
   "id": "dfb65872-e1ca-448c-9789-daf20eaff2a9",
   "metadata": {},
   "source": [
    "# How can we create a user defined list ?"
   ]
  },
  {
   "cell_type": "code",
   "execution_count": 23,
   "id": "a06717d0-b6af-4133-ad4d-1b3ea1a7cab4",
   "metadata": {},
   "outputs": [
    {
     "name": "stdout",
     "output_type": "stream",
     "text": [
      "enter the size  4\n",
      "enter the values  1\n",
      "enter the values  2\n",
      "enter the values  d\n",
      "enter the values  4\n"
     ]
    },
    {
     "name": "stdout",
     "output_type": "stream",
     "text": [
      "['1', '2', 'd', '4']\n"
     ]
    }
   ],
   "source": [
    "a = []\n",
    "\n",
    "size = int(input(\"enter the size \"))\n",
    "\n",
    "for i in range(size):\n",
    "    value  = input(\"enter the values \")\n",
    "    a.append(value)\n",
    "print(a)"
   ]
  },
  {
   "cell_type": "code",
   "execution_count": 27,
   "id": "550da516-16eb-415c-a60e-4f7c53948b98",
   "metadata": {},
   "outputs": [
    {
     "name": "stdout",
     "output_type": "stream",
     "text": [
      "enter the size  4\n",
      "enter the values  10\n",
      "enter the values  20\n",
      "enter the values  30\n",
      "enter the values  40\n"
     ]
    },
    {
     "name": "stdout",
     "output_type": "stream",
     "text": [
      "[10, 20, 30, 40]\n",
      "sum of a list 100\n"
     ]
    }
   ],
   "source": [
    "a = []\n",
    "\n",
    "size = int(input(\"enter the size \"))*\n",
    "\n",
    "for i in range(size):\n",
    "    value  = int(input(\"enter the values \"))\n",
    "    a.append(value)\n",
    "    \n",
    "print(a)\n",
    "sum = 0\n",
    "for i in range(len(a)):\n",
    "    sum = sum + a[i]\n",
    "print(\"sum of a list\",sum)"
   ]
  },
  {
   "cell_type": "code",
   "execution_count": null,
   "id": "e3b2f331-fce6-4bca-bd2a-da83c7ea8474",
   "metadata": {},
   "outputs": [],
   "source": []
  },
  {
   "cell_type": "code",
   "execution_count": null,
   "id": "d9d6866b-862d-4746-82fd-37bbd64482d7",
   "metadata": {},
   "outputs": [],
   "source": []
  }
 ],
 "metadata": {
  "kernelspec": {
   "display_name": "Python 3 (ipykernel)",
   "language": "python",
   "name": "python3"
  },
  "language_info": {
   "codemirror_mode": {
    "name": "ipython",
    "version": 3
   },
   "file_extension": ".py",
   "mimetype": "text/x-python",
   "name": "python",
   "nbconvert_exporter": "python",
   "pygments_lexer": "ipython3",
   "version": "3.12.4"
  }
 },
 "nbformat": 4,
 "nbformat_minor": 5
}
