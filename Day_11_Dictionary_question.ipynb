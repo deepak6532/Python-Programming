{
 "cells": [
  {
   "cell_type": "code",
   "execution_count": 1,
   "id": "92059107-bb1f-493b-b3d1-d6576e47a168",
   "metadata": {},
   "outputs": [
    {
     "name": "stdout",
     "output_type": "stream",
     "text": [
      "{'name': 'Deepak', 'age': 20, 'gender': 'Male'}\n"
     ]
    }
   ],
   "source": [
    "# Q 1 write a python program to create a dictionary from to list ,one for key and another for values\n",
    "\n",
    "def list_dict(keys,values):\n",
    "    return dict(zip(keys,values))\n",
    "\n",
    "keys = [\"name\",\"age\",\"gender\"]\n",
    "values = [\"Deepak\",20,\"Male\"]\n",
    "\n",
    "print(list_dict(keys,values))"
   ]
  },
  {
   "cell_type": "code",
   "execution_count": 5,
   "id": "da9804b4-cec3-4b00-8bec-cab90a3faac3",
   "metadata": {},
   "outputs": [
    {
     "name": "stdout",
     "output_type": "stream",
     "text": [
      "60\n"
     ]
    }
   ],
   "source": [
    "# Q 2  write a python function to find the sum of all numeric values in a dictionary \n",
    "\n",
    "def sum_value(d):\n",
    "    return sum(d.values())\n",
    "\n",
    "d = { \"a\":10,\"b\":20,\"c\" :30}\n",
    "\n",
    "print(sum_value(d))"
   ]
  },
  {
   "cell_type": "code",
   "execution_count": 7,
   "id": "963bda79-9514-433a-887b-205facf07db3",
   "metadata": {},
   "outputs": [
    {
     "name": "stdout",
     "output_type": "stream",
     "text": [
      "<zip object at 0x0000015838018440>\n",
      "{1: 'a', 2: 'b', 3: 'c'}\n"
     ]
    }
   ],
   "source": [
    "a = [1,2,3]\n",
    "b = [\"a\",\"b\",\"c\"]\n",
    "\n",
    "c= zip(a,b)\n",
    "print(c)\n",
    "\n",
    "print(dict(c))"
   ]
  },
  {
   "cell_type": "code",
   "execution_count": 9,
   "id": "cd1aa16d-1072-40c1-b831-c6b9dbda027f",
   "metadata": {},
   "outputs": [
    {
     "name": "stdout",
     "output_type": "stream",
     "text": [
      "{'x': 1, 'y': 2, 'z': 3, 'w': 4}\n"
     ]
    }
   ],
   "source": [
    "# kwargs by default ouput = dictionary\n",
    "# args by defualt output  = tuple\n",
    "\n",
    "# Q 3  write a python program to merge two dictionary into one\n",
    "\n",
    "def merge_dict(d1,d2):\n",
    "    return {**d1,**d2}\n",
    "\n",
    "dict1 = {\"x\" :1 ,\"y\" : 2}\n",
    "dict2 = {\"z\" :3 ,\"w\" :4}\n",
    "\n",
    "print(merge_dict(dict1,dict2))"
   ]
  },
  {
   "cell_type": "code",
   "execution_count": 13,
   "id": "9e556bff-8f3c-44c9-b286-726157f5026c",
   "metadata": {},
   "outputs": [
    {
     "name": "stdout",
     "output_type": "stream",
     "text": [
      "20\n",
      "None\n"
     ]
    }
   ],
   "source": [
    "# Q 4  write a python function to access the value of a given key in a dictionary \n",
    "# if the key is not present , return a default value \n",
    "\n",
    "def get_value(d,key,default_v = None):\n",
    "    return d.get(key,default_v)\n",
    "\n",
    "d = {\"name\" :\"Deepak\" ,\"age\" :20}\n",
    "\n",
    "print(get_value(d,'age'))\n",
    "\n",
    "print(get_value(d,\"work\"))"
   ]
  },
  {
   "cell_type": "code",
   "execution_count": 15,
   "id": "50299ae4-124d-486c-b897-5c2f909efb42",
   "metadata": {},
   "outputs": [
    {
     "name": "stdout",
     "output_type": "stream",
     "text": [
      "{'a': 1, 'b': 3, 'c': 4}\n"
     ]
    }
   ],
   "source": [
    "# Q 5  write a python porgram to update an existing dictionary with another\n",
    "# dictionary's key-value pairs\n",
    "\n",
    "def update_dict(d1,d2):\n",
    "    d1.update(d2)\n",
    "    return d1\n",
    "\n",
    "d1 = { \"a\" :1,\"b\":\"x\"}\n",
    "d2 = {\"b\" : 3,\"c\" :4}\n",
    "\n",
    "print(update_dict(d1,d2))"
   ]
  },
  {
   "cell_type": "code",
   "execution_count": 19,
   "id": "250d23f5-a0e0-446c-9cb8-3b6e535e2279",
   "metadata": {},
   "outputs": [
    {
     "name": "stdout",
     "output_type": "stream",
     "text": [
      "True\n"
     ]
    }
   ],
   "source": [
    "# Q 6 write a python function to check if a key exists in a dictionary \n",
    "\n",
    "def key_exists(d,key):\n",
    "    return key in d\n",
    "\n",
    "d = { \"a\" :1,\"b\":2,\"c\":3}\n",
    "\n",
    "print(key_exists(d,\"b\"))"
   ]
  },
  {
   "cell_type": "code",
   "execution_count": 20,
   "id": "51516f74-898c-4ae5-a3b3-7e3c361409cb",
   "metadata": {},
   "outputs": [
    {
     "name": "stdout",
     "output_type": "stream",
     "text": [
      "{'name': 'Deepak', 'Age': 20}\n"
     ]
    }
   ],
   "source": [
    "# Q 7 write a python porgram to delete a key-value pair from a dictionary by using the key \n",
    "\n",
    "def delete_key(d,key):\n",
    "    if key in d :\n",
    "        del d[key]\n",
    "    return d\n",
    "d= {\"name\":\"Deepak\",\"Age\" :20,\"Gender\" :\"male\"}\n",
    "\n",
    "print(delete_key(d,\"Gender\"))"
   ]
  },
  {
   "cell_type": "code",
   "execution_count": 22,
   "id": "d1946010-ae24-4801-9fbd-4e29b3ef3ed7",
   "metadata": {},
   "outputs": [
    {
     "name": "stdout",
     "output_type": "stream",
     "text": [
      "(30, 10)\n"
     ]
    }
   ],
   "source": [
    "# Q 8 write a python program to find the maximum and minimum value in a dictionary .\n",
    "def max_min(d):\n",
    "    return  max(d.values()),min(d.values())\n",
    "\n",
    "d ={\"a\":10,\"b\":30,\"c\":20}\n",
    "print(max_min(d))"
   ]
  },
  {
   "cell_type": "code",
   "execution_count": 23,
   "id": "3a0e53b1-f0fa-46ca-9f48-e087a4843e02",
   "metadata": {},
   "outputs": [
    {
     "name": "stdout",
     "output_type": "stream",
     "text": [
      "{'h': 1, 'e': 1, 'l': 3, 'o': 2, ' ': 1, 'w': 1, 'r': 1, 'd': 1}\n"
     ]
    }
   ],
   "source": [
    "# #  Q 9 write  a python function to count the frequency of each charcter in a string and store the result \n",
    "\n",
    "def char_frequency(s):\n",
    "    freq = { }\n",
    "    for char in s:\n",
    "        freq[char] = freq.get(char,0) + 1\n",
    "    return freq\n",
    "print(char_frequency(\"hello world\"))"
   ]
  },
  {
   "cell_type": "code",
   "execution_count": 28,
   "id": "a945e36b-fe38-416a-91d9-cf351a1f20e7",
   "metadata": {},
   "outputs": [
    {
     "name": "stdout",
     "output_type": "stream",
     "text": [
      "{'b': 1, 'a': 3, 'c': 4}\n"
     ]
    }
   ],
   "source": [
    "# Q 10 write a python function to sort a dictionary by its values in ascending order \n",
    "\n",
    "def sort_dict(d):\n",
    "    return dict(sorted(d.items(),key= lambda item: item[1]))\n",
    "\n",
    "d = {\"a\" :3 ,\"b\": 1,\"c\":4}\n",
    "print(sort_dict(d))"
   ]
  },
  {
   "cell_type": "code",
   "execution_count": 8,
   "id": "1661b48a-86c6-4c4d-9377-2d33ae840393",
   "metadata": {},
   "outputs": [
    {
     "name": "stdout",
     "output_type": "stream",
     "text": [
      "[77, 80, 85]\n",
      "[('java', 77), ('Python', 80), ('math', 85)]\n"
     ]
    }
   ],
   "source": [
    "# Sort dictionary basis of values\n",
    "\n",
    "marks= {\"math\":85,\"java\":77,\"Python\":80}          \n",
    "\n",
    "s = sorted(marks.values())\n",
    "print(s)\n",
    "\n",
    "sv = sorted(marks.items(),key = lambda x:x[1])\n",
    "print(sv)"
   ]
  },
  {
   "cell_type": "code",
   "execution_count": null,
   "id": "301e6820-1168-4fb4-93b8-4357b5019e27",
   "metadata": {},
   "outputs": [
    {
     "name": "stdout",
     "output_type": "stream",
     "text": [
      "{'D': 1, 'e': 2, 'p': 2, 'a': 2, 'k': 1, ' ': 1, 'G': 1, 'u': 1, 't': 1}\n"
     ]
    }
   ],
   "source": [
    "def frequency(list):                   #practice\n",
    "    freq= { }\n",
    "    for char in list:\n",
    "        freq[char]= freq.get(char,0) + 1\n",
    "    return freq\n",
    "\n",
    "list= \"Deepak Gupta\"\n",
    "print(frequency(list))"
   ]
  },
  {
   "cell_type": "code",
   "execution_count": null,
   "id": "54aee1b3-741d-4262-9f1a-6fd1dab69b8c",
   "metadata": {},
   "outputs": [],
   "source": []
  }
 ],
 "metadata": {
  "kernelspec": {
   "display_name": "Python 3 (ipykernel)",
   "language": "python",
   "name": "python3"
  },
  "language_info": {
   "codemirror_mode": {
    "name": "ipython",
    "version": 3
   },
   "file_extension": ".py",
   "mimetype": "text/x-python",
   "name": "python",
   "nbconvert_exporter": "python",
   "pygments_lexer": "ipython3",
   "version": "3.12.4"
  }
 },
 "nbformat": 4,
 "nbformat_minor": 5
}
