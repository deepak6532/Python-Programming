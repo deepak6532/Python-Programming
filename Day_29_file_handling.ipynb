{
 "cells": [
  {
   "cell_type": "code",
   "execution_count": 1,
   "id": "2a1e37c6-0b59-4ba8-8105-ea2c9a6326c1",
   "metadata": {},
   "outputs": [],
   "source": [
    "# open \n",
    "# read /write \n",
    "# close"
   ]
  },
  {
   "cell_type": "code",
   "execution_count": 6,
   "id": "773f9c11-dae9-4961-9eaa-db9801647715",
   "metadata": {},
   "outputs": [
    {
     "name": "stdout",
     "output_type": "stream",
     "text": [
      "hey regex software\n",
      "File content : hey regex software\n"
     ]
    }
   ],
   "source": [
    "f = open(\"deepak.txt\",\"r\")\n",
    "x = f.read()\n",
    "print(x)\n",
    "f.close()\n",
    "\n",
    "\n",
    "print(\"File content :\" ,x)"
   ]
  },
  {
   "cell_type": "code",
   "execution_count": 7,
   "id": "7ff605bc-40fb-495f-8236-0c2cf0a7dda8",
   "metadata": {},
   "outputs": [
    {
     "data": {
      "text/plain": [
       "'hey regex software'"
      ]
     },
     "execution_count": 7,
     "metadata": {},
     "output_type": "execute_result"
    }
   ],
   "source": [
    "x"
   ]
  },
  {
   "cell_type": "code",
   "execution_count": 8,
   "id": "4d13873b-746b-4cdf-ab2b-0d8ed79c3627",
   "metadata": {},
   "outputs": [],
   "source": [
    "f = open(\"deepak.txt\",\"w\")\n",
    "x = f.write(\"my name is deepak gupta \")\n",
    "\n",
    "f.close()\n"
   ]
  },
  {
   "cell_type": "code",
   "execution_count": 9,
   "id": "ca81c9d5-3dc8-4c8e-aa2c-f5fc682bd1c1",
   "metadata": {},
   "outputs": [
    {
     "name": "stdout",
     "output_type": "stream",
     "text": [
      "hey regex software \n"
     ]
    }
   ],
   "source": [
    "f = open(\"deepak.txt\",\"r+\")    # read and write both  not delete old content \n",
    "\n",
    "x = f.read()\n",
    "\n",
    "f.write(\"my name is deepak gupta \")\n",
    "\n",
    "f.close()\n",
    "\n",
    "\n",
    "print(x)"
   ]
  },
  {
   "cell_type": "code",
   "execution_count": 11,
   "id": "61ff8b13-0f52-42db-bcc0-98dc97ec52f4",
   "metadata": {},
   "outputs": [
    {
     "name": "stdout",
     "output_type": "stream",
     "text": [
      "\n"
     ]
    }
   ],
   "source": [
    "f = open(\"deepak.txt\",\"w+\")    # read and write both  not delete old content \n",
    "\n",
    "x = f.read()\n",
    "\n",
    "f.write(\"Regex\")\n",
    "\n",
    "f.close()\n",
    "\n",
    "\n",
    "print(x)"
   ]
  },
  {
   "cell_type": "code",
   "execution_count": 12,
   "id": "01936a84-a64e-4754-ae14-a3ec5a7db085",
   "metadata": {},
   "outputs": [
    {
     "name": "stdout",
     "output_type": "stream",
     "text": [
      "Regex\n"
     ]
    }
   ],
   "source": [
    "with open(\"deepak.txt\",\"r+\") as f:                   # new method to open a file not close s\n",
    "    x = f.read()\n",
    "\n",
    "print(x)"
   ]
  },
  {
   "cell_type": "code",
   "execution_count": 14,
   "id": "31f2401a-4a9e-4285-a5d3-56455b188f2b",
   "metadata": {},
   "outputs": [
    {
     "name": "stdout",
     "output_type": "stream",
     "text": [
      "Regex\n"
     ]
    }
   ],
   "source": [
    "with open(\"deepak.txt\",\"r+\") as f:                   # read a one line\n",
    "    print(f.readline())\n",
    "\n"
   ]
  },
  {
   "cell_type": "code",
   "execution_count": 19,
   "id": "34b56591-3561-4ffe-a1ce-78d37f0220af",
   "metadata": {},
   "outputs": [
    {
     "name": "stdout",
     "output_type": "stream",
     "text": [
      "Regex\n",
      "\n",
      "software \n",
      "\n",
      "service\n"
     ]
    }
   ],
   "source": [
    "with open(\"deepak.txt\",\"r+\") as f:   \n",
    "    for line in f :\n",
    "        print(line)\n",
    "\n"
   ]
  },
  {
   "cell_type": "code",
   "execution_count": 21,
   "id": "97bc4a4d-6704-4c28-be7a-ae3f3931c0d6",
   "metadata": {},
   "outputs": [
    {
     "name": "stdout",
     "output_type": "stream",
     "text": [
      "['Regex\\n', 'software \\n', 'service']\n"
     ]
    }
   ],
   "source": [
    "with open(\"deepak.txt\",\"r+\") as f:     # return all line in form of list \n",
    "    print(f.readlines())\n",
    "\n"
   ]
  },
  {
   "cell_type": "code",
   "execution_count": 23,
   "id": "af0deb9c-a19d-4582-a935-b1cd227061ed",
   "metadata": {},
   "outputs": [
    {
     "name": "stdout",
     "output_type": "stream",
     "text": [
      "0\n",
      "w 5\n",
      "\n"
     ]
    }
   ],
   "source": [
    "f = open(\"deepak.txt\",\"w+\")    # using tell() check the cursor position after read and write operation \n",
    "\n",
    "x = f.read()\n",
    "\n",
    "print(f.tell())\n",
    "\n",
    "f.write(\"Regex\")\n",
    "\n",
    "print(\"w\",f.tell())\n",
    "f.close()\n",
    "\n",
    "\n",
    "print(x)"
   ]
  },
  {
   "cell_type": "code",
   "execution_count": null,
   "id": "79bf3131-ea70-4756-9fc2-d8e3f12b0b54",
   "metadata": {},
   "outputs": [],
   "source": []
  }
 ],
 "metadata": {
  "kernelspec": {
   "display_name": "Python 3 (ipykernel)",
   "language": "python",
   "name": "python3"
  },
  "language_info": {
   "codemirror_mode": {
    "name": "ipython",
    "version": 3
   },
   "file_extension": ".py",
   "mimetype": "text/x-python",
   "name": "python",
   "nbconvert_exporter": "python",
   "pygments_lexer": "ipython3",
   "version": "3.12.4"
  }
 },
 "nbformat": 4,
 "nbformat_minor": 5
}
