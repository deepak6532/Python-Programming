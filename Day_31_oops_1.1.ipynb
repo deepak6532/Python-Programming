{
 "cells": [
  {
   "cell_type": "code",
   "execution_count": 1,
   "id": "08dfea73-909e-4839-8eda-0e00bfbf6d65",
   "metadata": {},
   "outputs": [
    {
     "name": "stdout",
     "output_type": "stream",
     "text": [
      "mahi salary is : 25000\n",
      "mahi company is : Ibm\n",
      "sam salary is : 30000\n"
     ]
    }
   ],
   "source": [
    "class Employee():\n",
    "    company  = \"capgamini\"\n",
    "    salary = 30000\n",
    "\n",
    "mahi =  Employee()\n",
    "sam = Employee()\n",
    "\n",
    "mahi.salary = 25000\n",
    "\n",
    "mahi.company = \"Ibm\"\n",
    "\n",
    "print(\"mahi salary is :\",mahi.salary)\n",
    "print(\"mahi company is :\",mahi.company)\n",
    "\n",
    "print(\"sam salary is :\",sam.salary)"
   ]
  },
  {
   "cell_type": "markdown",
   "id": "5b806202-6f54-4a1a-91be-a89ea0e3fff0",
   "metadata": {},
   "source": [
    "# Example"
   ]
  },
  {
   "cell_type": "code",
   "execution_count": 4,
   "id": "17603d94-570b-4d9e-aa80-1005b9e75f34",
   "metadata": {},
   "outputs": [
    {
     "name": "stdout",
     "output_type": "stream",
     "text": [
      "This is a red Toyota with 4 Wheels\n",
      "This is a Blure Honda with 4 Wheels\n"
     ]
    }
   ],
   "source": [
    "class car:\n",
    "    wheels  = 4\n",
    "\n",
    "    def __init__(self,brand,color):\n",
    "        self.brand = brand   # instance attribute\n",
    "        self.color  =color  # instance attribute\n",
    "\n",
    "    #method to describe the car \n",
    "    def describe(self):\n",
    "        return f\"This is a {self.color} {self.brand} with {self.wheels} Wheels\"\n",
    "\n",
    "\n",
    "# create object (instance ) of the class\n",
    "car1 = car(\"Toyota\",\"red\")\n",
    "car2 = car(\"Honda\",\"Blure\")\n",
    "\n",
    "print(car1.describe())\n",
    "print(car2.describe())"
   ]
  },
  {
   "cell_type": "markdown",
   "id": "9832044b-3311-4018-ad2b-8bad7f4be607",
   "metadata": {},
   "source": [
    "# Example"
   ]
  },
  {
   "cell_type": "code",
   "execution_count": 5,
   "id": "29fb0df4-6f44-44f8-81ec-7ca0d881b763",
   "metadata": {},
   "outputs": [
    {
     "name": "stdout",
     "output_type": "stream",
     "text": [
      "A color of car is : Black\n",
      "A brand of car is : Maruti\n"
     ]
    }
   ],
   "source": [
    "class car:\n",
    "    wheels  =4\n",
    "    brand= \"kia\"\n",
    "    color = \"white\"\n",
    "\n",
    "a = car()\n",
    "\n",
    "a.color = \"Black\"\n",
    "a.brand = \"Maruti\"\n",
    "\n",
    "print(\"A color of car is :\",a.color)\n",
    "\n",
    "print(\"A brand of car is :\",a.brand)"
   ]
  },
  {
   "cell_type": "markdown",
   "id": "b6ab410c-74ca-402f-98ac-98a9439bf694",
   "metadata": {},
   "source": [
    "# Example:"
   ]
  },
  {
   "cell_type": "code",
   "execution_count": 7,
   "id": "0d3dd266-0087-4083-a71b-c53accaf95d8",
   "metadata": {},
   "outputs": [
    {
     "name": "stdout",
     "output_type": "stream",
     "text": [
      "car brand is mahendra and color  is Green\n",
      "A color of car is : Green\n",
      "A brand of car is : mahendra\n"
     ]
    }
   ],
   "source": [
    "class car:\n",
    "    wheels  =4\n",
    "    brand= \"kia\"\n",
    "    color = \"white\"\n",
    "    def __init__(self,brand):\n",
    "        self.brand = brand\n",
    "\n",
    "    # def show(self,brand,color):\n",
    "    #     self.brand = brand\n",
    "    #     self.color = color\n",
    "    #     print(f\"car brand is {self.brand} and color  is {self.color}\")\n",
    "\n",
    "    def show(self,color):\n",
    "        self.color = color\n",
    "        print(f\"car brand is {self.brand} and color  is {self.color}\")\n",
    "\n",
    "    \n",
    "    \n",
    "\n",
    "a = car(\"mahendra\")\n",
    "\n",
    "# a.color = \"Black\"\n",
    "# a.brand = \"Maruti\"\n",
    "\n",
    "a.show(\"Green\")\n",
    "\n",
    "print(\"A color of car is :\",a.color)\n",
    "\n",
    "print(\"A brand of car is :\",a.brand)\n",
    "\n"
   ]
  },
  {
   "cell_type": "markdown",
   "id": "87b015e3-6e52-42d6-8ba3-df781b2e8570",
   "metadata": {},
   "source": [
    "# 2.The init method (constructor)\n",
    "\n",
    "The init method is called automatically when a new object is creaated . it's used to initialize the object's attributes"
   ]
  },
  {
   "cell_type": "code",
   "execution_count": 8,
   "id": "cb0f7edc-37fe-4e0e-b26b-d14503365881",
   "metadata": {},
   "outputs": [
    {
     "name": "stdout",
     "output_type": "stream",
     "text": [
      "my name is Deepak and i am 20 year old\n"
     ]
    }
   ],
   "source": [
    "class person:\n",
    "\n",
    "    def __init__(self,name,age):\n",
    "        self.name = name\n",
    "        self.age =age # inititalize name attribute\n",
    "\n",
    "    def introduce(self):\n",
    "        return f\"my name is {self.name} and i am {self.age} year old\"\n",
    "\n",
    "# creaate an object (instance) of the person class\n",
    "\n",
    "\n",
    "person1  =person(\"Deepak\",20)\n",
    "print(person1.introduce())"
   ]
  },
  {
   "cell_type": "markdown",
   "id": "70fcb028-26ad-4ea7-b696-b1d21d46e4ff",
   "metadata": {},
   "source": [
    "# Example setter and getter "
   ]
  },
  {
   "cell_type": "code",
   "execution_count": 1,
   "id": "bdcab64c-6df1-4720-be1a-c264731ea13c",
   "metadata": {},
   "outputs": [
    {
     "name": "stdout",
     "output_type": "stream",
     "text": [
      "name is Deepak and course is :python\n",
      "Yash\n",
      "name is Yash and course is :python\n"
     ]
    }
   ],
   "source": [
    "class demo:\n",
    "\n",
    "    name = \"Deepak\"\n",
    "    course = \"python\"\n",
    "\n",
    "    def s_name(self,name):                                  # s means setter \n",
    "        self.name = name\n",
    "        \n",
    "    def s_course(self,course):\n",
    "        self.course= course\n",
    "        \n",
    "        \n",
    "    def g_name(self):                                  # g means getter\n",
    "        return self.name\n",
    "        \n",
    "    def g_course(self):\n",
    "        return self.course\n",
    "        \n",
    "    def show(self):\n",
    "        print(f\"name is {self.name} and course is :{self.course}\")\n",
    "\n",
    "\n",
    "ob1 = demo()\n",
    "ob1.show()\n",
    "\n",
    "ob1.s_name(\"Yash\")\n",
    "\n",
    "print(ob1.name)\n",
    "ob1.show()\n",
    "\n"
   ]
  },
  {
   "cell_type": "code",
   "execution_count": null,
   "id": "38905f10-2b5e-4a39-8e53-d5d7fcf12932",
   "metadata": {},
   "outputs": [],
   "source": []
  }
 ],
 "metadata": {
  "kernelspec": {
   "display_name": "Python 3 (ipykernel)",
   "language": "python",
   "name": "python3"
  },
  "language_info": {
   "codemirror_mode": {
    "name": "ipython",
    "version": 3
   },
   "file_extension": ".py",
   "mimetype": "text/x-python",
   "name": "python",
   "nbconvert_exporter": "python",
   "pygments_lexer": "ipython3",
   "version": "3.12.4"
  }
 },
 "nbformat": 4,
 "nbformat_minor": 5
}
